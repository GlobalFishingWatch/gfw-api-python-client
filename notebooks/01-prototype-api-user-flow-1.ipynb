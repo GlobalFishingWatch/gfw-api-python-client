{
 "cells": [
  {
   "cell_type": "markdown",
   "id": "b7369d21-6d0d-4049-a4b3-ffe1686534ed",
   "metadata": {},
   "source": [
    "# [PROTOTYPE] - Analyze apparent fishing efforts in a region and get vessel details"
   ]
  },
  {
   "cell_type": "markdown",
   "id": "3d9e4f44-d238-4d28-b28f-5561ba1cf160",
   "metadata": {},
   "source": [
    "## Import libraries"
   ]
  },
  {
   "cell_type": "code",
   "execution_count": 1,
   "id": "06ee9b44-a783-471d-a296-e3dc85b8ddb1",
   "metadata": {},
   "outputs": [],
   "source": [
    "import datetime\n",
    "import os\n",
    "import logging\n",
    "\n",
    "import gfwapiclient as gfw"
   ]
  },
  {
   "cell_type": "markdown",
   "id": "93828e1f-f7e0-4293-8c61-858a4ff16a0d",
   "metadata": {},
   "source": [
    "## Instantiate GFW API client"
   ]
  },
  {
   "cell_type": "code",
   "execution_count": 2,
   "id": "cf7b816d-4a95-4edc-bbc8-64c0c002052c",
   "metadata": {},
   "outputs": [],
   "source": [
    "api_base_url = os.getenv(\"GFW_API_BASE_URL\")\n",
    "api_access_token = os.getenv(\"GFW_API_ACCESS_TOKEN\")\n",
    "\n",
    "client = gfw.Client(\n",
    "    api_base_url=api_base_url,\n",
    "    api_access_token=api_access_token\n",
    ")"
   ]
  },
  {
   "cell_type": "markdown",
   "id": "f05b3fb7-9b9a-43b0-b9e5-9a1831cd762d",
   "metadata": {},
   "source": [
    "## Retrieve Apparent Fishing Effort in Senegal's EEZ"
   ]
  },
  {
   "cell_type": "markdown",
   "id": "8f97f022-65d6-414f-9bd8-e6ac4819fd21",
   "metadata": {},
   "source": [
    "### Import"
   ]
  },
  {
   "cell_type": "code",
   "execution_count": 3,
   "id": "fc091832-bfc7-4d41-aaee-230ddc36565f",
   "metadata": {},
   "outputs": [],
   "source": [
    "from gfwapiclient.resources.fourwings.report.models.request import (\n",
    "    FourWingsReportDataset,\n",
    "    FourWingsReportGroupBy,\n",
    "    FourWingsReportRegion,\n",
    "    FourWingsReportSpatialResolution,\n",
    "    FourWingsReportTemporalResolution,\n",
    ")"
   ]
  },
  {
   "cell_type": "markdown",
   "id": "2210d5cb-f48f-404e-9c91-d50552d4cbc7",
   "metadata": {},
   "source": [
    "### Prepare request parameters"
   ]
  },
  {
   "cell_type": "code",
   "execution_count": 4,
   "id": "0dd01703-d39c-40c9-aa83-39324fef3e5e",
   "metadata": {},
   "outputs": [],
   "source": [
    "spatial_resolution = FourWingsReportSpatialResolution.HIGH\n",
    "group_by = FourWingsReportGroupBy.VESSEL_ID\n",
    "temporal_resolution = FourWingsReportTemporalResolution.MONTHLY\n",
    "datasets = [FourWingsReportDataset.FISHING_EFFORT_LATEST]\n",
    "filters = None\n",
    "# filters = [\"geartype in ('TRAWLERS')\"]\n",
    "date_range = \"2024-11-01,2025-01-31\"\n",
    "spatial_aggregation = None\n",
    "geojson = None\n",
    "region = FourWingsReportRegion(dataset=\"public-eez-areas\", id=\"8371\")"
   ]
  },
  {
   "cell_type": "markdown",
   "id": "7c0bee50-1599-480a-8443-f07afdea3914",
   "metadata": {},
   "source": [
    "### Fetch 4Wings Report"
   ]
  },
  {
   "cell_type": "code",
   "execution_count": 5,
   "id": "c465ac79-961c-4ac9-b2ea-c4174f5f3490",
   "metadata": {},
   "outputs": [],
   "source": [
    "wings_report = await client.fourwings.aget_report(\n",
    "    spatial_resolution=spatial_resolution,\n",
    "    group_by=group_by,\n",
    "    temporal_resolution=temporal_resolution,\n",
    "    datasets=datasets,\n",
    "    filters=filters,\n",
    "    date_range=date_range,\n",
    "    spatial_aggregation=spatial_aggregation,\n",
    "    geojson=geojson,\n",
    "    region=region,\n",
    ")"
   ]
  },
  {
   "cell_type": "code",
   "execution_count": 6,
   "id": "a13bf81b-32d5-4fc1-8a92-0ddeec2e50f4",
   "metadata": {},
   "outputs": [
    {
     "data": {
      "text/plain": [
       "<gfwapiclient.resources.fourwings.report.models.response.FourWingsReportResult at 0x10492a3c0>"
      ]
     },
     "execution_count": 6,
     "metadata": {},
     "output_type": "execute_result"
    }
   ],
   "source": [
    "wings_report"
   ]
  },
  {
   "cell_type": "code",
   "execution_count": 7,
   "id": "81acddae-33de-4433-921b-f102b2639967",
   "metadata": {},
   "outputs": [
    {
     "data": {
      "text/plain": [
       "23195"
      ]
     },
     "execution_count": 7,
     "metadata": {},
     "output_type": "execute_result"
    }
   ],
   "source": [
    "len(wings_report.data)"
   ]
  },
  {
   "cell_type": "code",
   "execution_count": 8,
   "id": "dc260bf8-de46-4ce7-9d40-9759fc6ded2c",
   "metadata": {},
   "outputs": [
    {
     "data": {
      "text/plain": [
       "{'date': '2024-11',\n",
       " 'detections': None,\n",
       " 'flag': 'SEN',\n",
       " 'gear_type': 'TRAWLERS',\n",
       " 'hours': 2.8513888888888888,\n",
       " 'vessel_ids': None,\n",
       " 'vessel_id': 'cee15c9d1-1057-e347-f773-8a64a32bc08a',\n",
       " 'vessel_type': 'FISHING',\n",
       " 'entry_timestamp': datetime.datetime(2024, 11, 5, 17, 0, tzinfo=TzInfo(UTC)),\n",
       " 'exit_timestamp': datetime.datetime(2025, 1, 30, 23, 0, tzinfo=TzInfo(UTC)),\n",
       " 'first_transmission_date': datetime.datetime(2024, 10, 3, 23, 5, 28, tzinfo=TzInfo(UTC)),\n",
       " 'last_transmission_date': datetime.datetime(2025, 3, 4, 23, 47, 39, tzinfo=TzInfo(UTC)),\n",
       " 'imo': '',\n",
       " 'mmsi': '663113000',\n",
       " 'call_sign': '6VUM',\n",
       " 'dataset': 'public-global-vessel-identity:v3.0',\n",
       " 'report_dataset': 'public-global-fishing-effort:v3.0',\n",
       " 'ship_name': 'SANTANA',\n",
       " 'lat': 15.6,\n",
       " 'lon': -16.829999923706055}"
      ]
     },
     "execution_count": 8,
     "metadata": {},
     "output_type": "execute_result"
    }
   ],
   "source": [
    "wings_report.data[-1].model_dump()"
   ]
  },
  {
   "cell_type": "code",
   "execution_count": 9,
   "id": "491d1766-fa95-4a84-b0bd-085d45338da2",
   "metadata": {},
   "outputs": [
    {
     "data": {
      "text/plain": [
       "{'date': '2025-01',\n",
       " 'detections': None,\n",
       " 'flag': 'SEN',\n",
       " 'gear_type': 'TRAWLERS',\n",
       " 'hours': 0.9930555555555556,\n",
       " 'vessel_ids': None,\n",
       " 'vessel_id': 'c6ca30d4c-cca8-92c9-b821-6620ee18940b',\n",
       " 'vessel_type': 'FISHING',\n",
       " 'entry_timestamp': datetime.datetime(2024, 11, 2, 18, 0, tzinfo=TzInfo(UTC)),\n",
       " 'exit_timestamp': datetime.datetime(2025, 1, 30, 23, 0, tzinfo=TzInfo(UTC)),\n",
       " 'first_transmission_date': datetime.datetime(2017, 3, 30, 15, 41, 45, tzinfo=TzInfo(UTC)),\n",
       " 'last_transmission_date': datetime.datetime(2025, 3, 4, 23, 59, 34, tzinfo=TzInfo(UTC)),\n",
       " 'imo': '',\n",
       " 'mmsi': '663176000',\n",
       " 'call_sign': '6WGH',\n",
       " 'dataset': 'public-global-vessel-identity:v3.0',\n",
       " 'report_dataset': 'public-global-fishing-effort:v3.0',\n",
       " 'ship_name': 'CARVISA DOS',\n",
       " 'lat': 12.92,\n",
       " 'lon': -17.229999542236328}"
      ]
     },
     "execution_count": 9,
     "metadata": {},
     "output_type": "execute_result"
    }
   ],
   "source": [
    "wings_report.data[-2].model_dump()"
   ]
  },
  {
   "cell_type": "markdown",
   "id": "4af00441-8fb2-410d-97b9-7c622d5f857e",
   "metadata": {},
   "source": [
    "## Retrieve Vessel Details Using the Vessels API"
   ]
  },
  {
   "cell_type": "markdown",
   "id": "0106fb5d-d497-4d34-9b79-ff98c262dd1c",
   "metadata": {},
   "source": [
    "### Import"
   ]
  },
  {
   "cell_type": "code",
   "execution_count": 10,
   "id": "65dd99ee-21bd-4752-a2e5-c0b356c4fe56",
   "metadata": {},
   "outputs": [],
   "source": [
    "from gfwapiclient.resources.vessels.base.enums import (\n",
    "    VesselDataset,\n",
    "    VesselInclude,\n",
    ")"
   ]
  },
  {
   "cell_type": "markdown",
   "id": "02186eb3-1a1e-4da5-a03a-5604d028eb5a",
   "metadata": {},
   "source": [
    "### Prepare request parameters"
   ]
  },
  {
   "cell_type": "code",
   "execution_count": 11,
   "id": "99f165a1-2eda-45ef-87dd-0111b94e2614",
   "metadata": {},
   "outputs": [],
   "source": [
    "datasets = [VesselDataset.VESSEL_IDENTITY_LATEST]\n",
    "includes = [VesselInclude.POTENTIAL_RELATED_SELF_REPORTED_INFO]\n",
    "ids = [wings_report.data[-1].vessel_id, wings_report.data[-2].vessel_id]"
   ]
  },
  {
   "cell_type": "code",
   "execution_count": 12,
   "id": "56557dda-ff96-4255-87c5-829f495e907e",
   "metadata": {},
   "outputs": [
    {
     "data": {
      "text/plain": [
       "['cee15c9d1-1057-e347-f773-8a64a32bc08a',\n",
       " 'c6ca30d4c-cca8-92c9-b821-6620ee18940b']"
      ]
     },
     "execution_count": 12,
     "metadata": {},
     "output_type": "execute_result"
    }
   ],
   "source": [
    "ids"
   ]
  },
  {
   "cell_type": "markdown",
   "id": "7ed09641-f2ad-4687-b5d3-151787bcfb21",
   "metadata": {},
   "source": [
    "### Fetch Vessels Details"
   ]
  },
  {
   "cell_type": "code",
   "execution_count": 13,
   "id": "c3be19f4-9252-4fc8-84c4-4af13bae409a",
   "metadata": {},
   "outputs": [],
   "source": [
    "vessels = await client.vessels.aget_vessels(\n",
    "    ids=ids,\n",
    "    datasets=datasets,\n",
    "    includes=includes\n",
    ")"
   ]
  },
  {
   "cell_type": "code",
   "execution_count": 14,
   "id": "31e1aa26-7d56-4fd8-b598-c6f7a89c06c6",
   "metadata": {},
   "outputs": [
    {
     "data": {
      "text/plain": [
       "<gfwapiclient.resources.vessels.list.models.response.VesselListResult at 0x105159340>"
      ]
     },
     "execution_count": 14,
     "metadata": {},
     "output_type": "execute_result"
    }
   ],
   "source": [
    "vessels"
   ]
  },
  {
   "cell_type": "code",
   "execution_count": 15,
   "id": "52f386e5-a406-4780-baca-1bfcd8a160a1",
   "metadata": {},
   "outputs": [
    {
     "data": {
      "text/plain": [
       "2"
      ]
     },
     "execution_count": 15,
     "metadata": {},
     "output_type": "execute_result"
    }
   ],
   "source": [
    "len(vessels.data)"
   ]
  },
  {
   "cell_type": "code",
   "execution_count": 16,
   "id": "e3ffc0d3-fa72-4086-b9a9-01906600bd73",
   "metadata": {},
   "outputs": [
    {
     "data": {
      "text/plain": [
       "{'dataset': 'public-global-vessel-identity:v3.0',\n",
       " 'registry_info_total_records': 1,\n",
       " 'registry_info': [{'id': 'b224b73fe3580c771dafe8393574e8db',\n",
       "   'source_code': ['TMT_OTHER'],\n",
       "   'ssvid': '663113000',\n",
       "   'flag': 'SEN',\n",
       "   'ship_name': 'SANTANA',\n",
       "   'n_ship_name': 'SANTANA',\n",
       "   'call_sign': '6VUM',\n",
       "   'imo': None,\n",
       "   'latest_vessel_info': True,\n",
       "   'transmission_date_from': datetime.datetime(2024, 10, 4, 15, 51, 33, tzinfo=TzInfo(UTC)),\n",
       "   'transmission_date_to': datetime.datetime(2025, 2, 20, 16, 3, 42, tzinfo=TzInfo(UTC)),\n",
       "   'gear_types': ['OTHER_FISHING', 'TRAWLERS'],\n",
       "   'length_m': 27.1,\n",
       "   'tonnage_gt': 153.1,\n",
       "   'vessel_info_reference': '42b59ec9ed000a86e29d4a42c6766bf8',\n",
       "   'extra_fields': [{'registry_source': 'TMT',\n",
       "     'iuu_status': None,\n",
       "     'has_compliance_info': None,\n",
       "     'images': [],\n",
       "     'operator': None,\n",
       "     'builtYear': {'value': None,\n",
       "      'dateFrom': None,\n",
       "      'dateFromMask': None,\n",
       "      'dateTo': None,\n",
       "      'dateToMask': None},\n",
       "     'depthM': {'value': None,\n",
       "      'dateFrom': None,\n",
       "      'dateFromMask': None,\n",
       "      'dateTo': None,\n",
       "      'dateToMask': None}}]}],\n",
       " 'registry_owners': [],\n",
       " 'registry_public_authorizations': [],\n",
       " 'combined_sources_info': [{'vessel_id': 'cee15c9d1-1057-e347-f773-8a64a32bc08a',\n",
       "   'gear_types': [{'name': 'TRAWLERS',\n",
       "     'source': 'COMBINATION_OF_REGISTRY_AND_AIS_INFERRED_NN_INFO',\n",
       "     'year_from': 2024,\n",
       "     'year_to': 2025}],\n",
       "   'ship_types': [{'name': 'FISHING',\n",
       "     'source': 'COMBINATION_OF_REGISTRY_AND_AIS_INFERRED_NN_INFO',\n",
       "     'year_from': 2024,\n",
       "     'year_to': 2025}]}],\n",
       " 'self_reported_info': [{'id': 'cee15c9d1-1057-e347-f773-8a64a32bc08a',\n",
       "   'ssvid': '663113000',\n",
       "   'ship_name': 'SANTANA',\n",
       "   'n_ship_name': 'SANTANA',\n",
       "   'flag': 'SEN',\n",
       "   'call_sign': '6VUM',\n",
       "   'imo': None,\n",
       "   'messages_counter': 33553,\n",
       "   'positions_counter': 15616,\n",
       "   'source_code': ['AIS'],\n",
       "   'match_fields': 'SEVERAL_FIELDS',\n",
       "   'transmission_date_from': datetime.datetime(2024, 10, 3, 23, 5, 28, tzinfo=TzInfo(UTC)),\n",
       "   'transmission_date_to': datetime.datetime(2025, 3, 4, 23, 47, 39, tzinfo=TzInfo(UTC))}]}"
      ]
     },
     "execution_count": 16,
     "metadata": {},
     "output_type": "execute_result"
    }
   ],
   "source": [
    "vessels.data[-1].model_dump()"
   ]
  },
  {
   "cell_type": "code",
   "execution_count": 17,
   "id": "9bcc50ff-fb5b-40a5-aa71-6c4ed1d7825d",
   "metadata": {},
   "outputs": [
    {
     "data": {
      "text/plain": [
       "{'dataset': 'public-global-vessel-identity:v3.0',\n",
       " 'registry_info_total_records': 0,\n",
       " 'registry_info': [],\n",
       " 'registry_owners': [],\n",
       " 'registry_public_authorizations': [],\n",
       " 'combined_sources_info': [{'vessel_id': 'dc68427d9-98c8-9ac6-30fb-856306d639ad',\n",
       "   'gear_types': [{'name': 'TRAWLERS',\n",
       "     'source': 'COMBINATION_OF_REGISTRY_AND_AIS_INFERRED_NN_INFO',\n",
       "     'year_from': 2017,\n",
       "     'year_to': 2017}],\n",
       "   'ship_types': [{'name': 'FISHING',\n",
       "     'source': 'COMBINATION_OF_REGISTRY_AND_AIS_INFERRED_NN_INFO',\n",
       "     'year_from': 2017,\n",
       "     'year_to': 2017}]},\n",
       "  {'vessel_id': 'ee41cd32a-a824-f7e8-4a37-539f7f21a539',\n",
       "   'gear_types': [{'name': 'TRAWLERS',\n",
       "     'source': 'COMBINATION_OF_REGISTRY_AND_AIS_INFERRED_NN_INFO',\n",
       "     'year_from': 2018,\n",
       "     'year_to': 2018}],\n",
       "   'ship_types': [{'name': 'FISHING',\n",
       "     'source': 'COMBINATION_OF_REGISTRY_AND_AIS_INFERRED_NN_INFO',\n",
       "     'year_from': 2018,\n",
       "     'year_to': 2018}]},\n",
       "  {'vessel_id': 'c6ca30d4c-cca8-92c9-b821-6620ee18940b',\n",
       "   'gear_types': [{'name': 'TRAWLERS',\n",
       "     'source': 'COMBINATION_OF_REGISTRY_AND_AIS_INFERRED_NN_INFO',\n",
       "     'year_from': 2017,\n",
       "     'year_to': 2025}],\n",
       "   'ship_types': [{'name': 'FISHING',\n",
       "     'source': 'COMBINATION_OF_REGISTRY_AND_AIS_INFERRED_NN_INFO',\n",
       "     'year_from': 2017,\n",
       "     'year_to': 2025}]},\n",
       "  {'vessel_id': '428a0e8d2-2486-f3ba-f960-266af944f103',\n",
       "   'gear_types': [{'name': 'TRAWLERS',\n",
       "     'source': 'COMBINATION_OF_REGISTRY_AND_AIS_INFERRED_NN_INFO',\n",
       "     'year_from': 2017,\n",
       "     'year_to': 2017}],\n",
       "   'ship_types': [{'name': 'FISHING',\n",
       "     'source': 'COMBINATION_OF_REGISTRY_AND_AIS_INFERRED_NN_INFO',\n",
       "     'year_from': 2017,\n",
       "     'year_to': 2017}]},\n",
       "  {'vessel_id': 'cc67260f8-8ae3-fffb-d7a7-e54397a25753',\n",
       "   'gear_types': [{'name': 'TRAWLERS',\n",
       "     'source': 'COMBINATION_OF_REGISTRY_AND_AIS_INFERRED_NN_INFO',\n",
       "     'year_from': 2022,\n",
       "     'year_to': 2022}],\n",
       "   'ship_types': [{'name': 'FISHING',\n",
       "     'source': 'COMBINATION_OF_REGISTRY_AND_AIS_INFERRED_NN_INFO',\n",
       "     'year_from': 2022,\n",
       "     'year_to': 2022}]}],\n",
       " 'self_reported_info': [{'id': 'c6ca30d4c-cca8-92c9-b821-6620ee18940b',\n",
       "   'ssvid': '663176000',\n",
       "   'ship_name': 'CARVISA DOS',\n",
       "   'n_ship_name': 'CARVISA2',\n",
       "   'flag': 'SEN',\n",
       "   'call_sign': '6WGH',\n",
       "   'imo': None,\n",
       "   'messages_counter': 3699126,\n",
       "   'positions_counter': 1941736,\n",
       "   'source_code': ['AIS'],\n",
       "   'match_fields': 'SEVERAL_FIELDS',\n",
       "   'transmission_date_from': datetime.datetime(2017, 3, 30, 15, 41, 45, tzinfo=TzInfo(UTC)),\n",
       "   'transmission_date_to': datetime.datetime(2025, 3, 4, 23, 59, 34, tzinfo=TzInfo(UTC))},\n",
       "  {'id': 'cc67260f8-8ae3-fffb-d7a7-e54397a25753',\n",
       "   'ssvid': '717160101',\n",
       "   'ship_name': 'CARVISA DOS',\n",
       "   'n_ship_name': 'CARVISA2',\n",
       "   'flag': None,\n",
       "   'call_sign': '6WGH',\n",
       "   'imo': None,\n",
       "   'messages_counter': 538264,\n",
       "   'positions_counter': 330533,\n",
       "   'source_code': ['AIS'],\n",
       "   'match_fields': 'SEVERAL_FIELDS',\n",
       "   'transmission_date_from': datetime.datetime(2022, 2, 3, 16, 21, 41, tzinfo=TzInfo(UTC)),\n",
       "   'transmission_date_to': datetime.datetime(2022, 11, 7, 17, 40, 9, tzinfo=TzInfo(UTC))},\n",
       "  {'id': 'ee41cd32a-a824-f7e8-4a37-539f7f21a539',\n",
       "   'ssvid': '663200000',\n",
       "   'ship_name': 'CARVISA DOS',\n",
       "   'n_ship_name': 'CARVISA2',\n",
       "   'flag': 'SEN',\n",
       "   'call_sign': '6WGH',\n",
       "   'imo': None,\n",
       "   'messages_counter': 305,\n",
       "   'positions_counter': 204,\n",
       "   'source_code': ['AIS'],\n",
       "   'match_fields': 'SEVERAL_FIELDS',\n",
       "   'transmission_date_from': datetime.datetime(2018, 1, 27, 8, 16, tzinfo=TzInfo(UTC)),\n",
       "   'transmission_date_to': datetime.datetime(2018, 1, 27, 15, 52, 22, tzinfo=TzInfo(UTC))},\n",
       "  {'id': '428a0e8d2-2486-f3ba-f960-266af944f103',\n",
       "   'ssvid': '663160000',\n",
       "   'ship_name': 'CARVISA DOS',\n",
       "   'n_ship_name': 'CARVISA2',\n",
       "   'flag': 'SEN',\n",
       "   'call_sign': '6WGH',\n",
       "   'imo': None,\n",
       "   'messages_counter': 9111,\n",
       "   'positions_counter': 4995,\n",
       "   'source_code': ['AIS'],\n",
       "   'match_fields': 'SEVERAL_FIELDS',\n",
       "   'transmission_date_from': datetime.datetime(2017, 12, 9, 14, 55, 2, tzinfo=TzInfo(UTC)),\n",
       "   'transmission_date_to': datetime.datetime(2017, 12, 19, 15, 0, 2, tzinfo=TzInfo(UTC))},\n",
       "  {'id': 'dc68427d9-98c8-9ac6-30fb-856306d639ad',\n",
       "   'ssvid': '663176000',\n",
       "   'ship_name': 'CARVISA;DOS',\n",
       "   'n_ship_name': 'CARVISADOS',\n",
       "   'flag': 'SEN',\n",
       "   'call_sign': '6WGH',\n",
       "   'imo': None,\n",
       "   'messages_counter': 41338,\n",
       "   'positions_counter': 18563,\n",
       "   'source_code': ['AIS'],\n",
       "   'match_fields': 'SEVERAL_FIELDS',\n",
       "   'transmission_date_from': datetime.datetime(2017, 4, 18, 22, 27, 47, tzinfo=TzInfo(UTC)),\n",
       "   'transmission_date_to': datetime.datetime(2017, 6, 6, 8, 50, 54, tzinfo=TzInfo(UTC))}]}"
      ]
     },
     "execution_count": 17,
     "metadata": {},
     "output_type": "execute_result"
    }
   ],
   "source": [
    "vessels.data[-2].model_dump()"
   ]
  }
 ],
 "metadata": {
  "kernelspec": {
   "display_name": "Python 3 (ipykernel)",
   "language": "python",
   "name": "python3"
  },
  "language_info": {
   "codemirror_mode": {
    "name": "ipython",
    "version": 3
   },
   "file_extension": ".py",
   "mimetype": "text/x-python",
   "name": "python",
   "nbconvert_exporter": "python",
   "pygments_lexer": "ipython3",
   "version": "3.12.8"
  }
 },
 "nbformat": 4,
 "nbformat_minor": 5
}
