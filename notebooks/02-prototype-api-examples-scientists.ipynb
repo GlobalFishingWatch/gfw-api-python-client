{
 "cells": [
  {
   "cell_type": "markdown",
   "id": "7718a1e4-d8d9-46fd-b8b2-e2c1e76ab1c8",
   "metadata": {},
   "source": [
    "# [PROTOTYPE] - API Examples for Python Scientists"
   ]
  },
  {
   "cell_type": "markdown",
   "id": "dc1eeb2d-860e-4c8c-b21c-fabf865957c3",
   "metadata": {},
   "source": [
    "## Introduction"
   ]
  },
  {
   "cell_type": "markdown",
   "id": "5e768cf1-ab24-40af-9624-4a6f73eea717",
   "metadata": {},
   "source": [
    "Welcome to the [Python package](https://github.com/GlobalFishingWatch/gfw-api-python-client) for accessing data from [Global Fishing Watch APIs](https://globalfishingwatch.org/our-apis/documentation#introduction). The [gfw-api-python-client](https://github.com/GlobalFishingWatch/gfw-api-python-client) is a simple wrapper for the Global Fishing Watch (GFW) APIs. It provides convenient functions to freely pull GFW data.\n",
    "\n",
    "Our APIs provide software instructions that enable automatic connection of our data and products to other systems so users can easily download and integrate our datasets, code, and models to power their own platforms. By providing streamlined access to information on apparent fishing vessel activity, identity and history, we are helping create solutions for a resilient, sustainable ocean.\n",
    "\n",
    "Global Fishing Watch APIs are available for noncommercial use only in accordance with the [CC BY-NC 4.0 license](https://creativecommons.org/licenses/by-nc/4.0/) including complying with the attribution requirements set forth in Section 3 below. To see more details, please visit our [Terms of Use](https://globalfishingwatch.org/our-apis/documentation#terms-of-use). They are used by researchers, governments, technology companies, etc.\n",
    "\n",
    "We combine tracking data from the publicly available automatic identification system (AIS) and integrate that with information acquired through vessel monitoring systems that are operated by governments and made available to us through partnerships that we secure. Both AIS and VMS combine global positioning with a transmitter to regularly broadcast vessel location."
   ]
  },
  {
   "cell_type": "markdown",
   "id": "67f4d9cb-8e8d-4876-a9b1-6f3b0d79e34c",
   "metadata": {},
   "source": [
    "## Import libraries"
   ]
  },
  {
   "cell_type": "code",
   "execution_count": 1,
   "id": "b4945821-81e7-47be-b219-86f5b52abf00",
   "metadata": {},
   "outputs": [],
   "source": [
    "import datetime\n",
    "import os\n",
    "import logging\n",
    "\n",
    "import gfwapiclient as gfw"
   ]
  },
  {
   "cell_type": "markdown",
   "id": "0133952e-3b2e-4294-91d0-b9cdbfa0d373",
   "metadata": {},
   "source": [
    "## Instantiate GFW API client"
   ]
  },
  {
   "cell_type": "code",
   "execution_count": 2,
   "id": "12c3c868-fe35-431b-8dd8-11bebe25c3ae",
   "metadata": {},
   "outputs": [],
   "source": [
    "api_base_url = os.getenv(\"GFW_API_BASE_URL\")\n",
    "api_access_token = os.getenv(\"GFW_API_ACCESS_TOKEN\")\n",
    "\n",
    "client = gfw.Client(\n",
    "    api_base_url=api_base_url,\n",
    "    api_access_token=api_access_token\n",
    ")"
   ]
  },
  {
   "cell_type": "markdown",
   "id": "0d79949c-dd5e-4f5e-b357-2dc8f1b41a1f",
   "metadata": {},
   "source": [
    "## Map Visualization - 4Wings API"
   ]
  },
  {
   "cell_type": "markdown",
   "id": "657669e6-adc4-4d16-8e7a-8f0898a19c0c",
   "metadata": {},
   "source": [
    "[4Wings API (aka Map Visualization)](https://globalfishingwatch.org/our-apis/documentation#map-visualization-4wings-api) allows you to get fast visualisation, navigation and analysis for gridded spatiotemporal datasets. You can:\n",
    "\n",
    "- visualize apparent fishing effort or SAR vessel detections in png or mvt format\n",
    "- generate a report for apparent fishing effort data and for SAR (Synthetic-aperture radar) vessel detections.\n"
   ]
  },
  {
   "cell_type": "markdown",
   "id": "e0aba285-b4de-4df6-bbbd-1977cab9db88",
   "metadata": {},
   "source": [
    "### Import necessary data types"
   ]
  },
  {
   "cell_type": "code",
   "execution_count": 3,
   "id": "6e787ee9-eb55-402c-ae52-0c96e6d921c6",
   "metadata": {},
   "outputs": [],
   "source": [
    "from gfwapiclient.resources.fourwings.report.models.request import (\n",
    "    FourWingsReportDataset,\n",
    "    FourWingsReportGroupBy,\n",
    "    FourWingsReportRegion,\n",
    "    FourWingsReportSpatialResolution,\n",
    "    FourWingsReportTemporalResolution,\n",
    ")"
   ]
  },
  {
   "cell_type": "markdown",
   "id": "8db7069b-3d12-4674-80cd-7bf69937206d",
   "metadata": {},
   "source": [
    "### Create a report of a specified region"
   ]
  },
  {
   "cell_type": "markdown",
   "id": "2ea52797-7a55-4ee7-bca1-f453b7f3a63f",
   "metadata": {},
   "source": [
    "Generate a report for apparent fishing effort data and for SAR (Synthetic-aperture radar) vessel detections."
   ]
  },
  {
   "cell_type": "markdown",
   "id": "144dd9e5-7bbc-4477-877a-de3281ba573b",
   "metadata": {},
   "source": [
    "#### Define request parameters"
   ]
  },
  {
   "cell_type": "code",
   "execution_count": 4,
   "id": "aaf4cac4-c426-4b5b-a0bc-80519de5b87f",
   "metadata": {},
   "outputs": [],
   "source": [
    "spatial_resolution = FourWingsReportSpatialResolution.HIGH\n",
    "group_by = FourWingsReportGroupBy.VESSEL_ID\n",
    "temporal_resolution = FourWingsReportTemporalResolution.DAILY\n",
    "datasets = [\n",
    "    FourWingsReportDataset.FISHING_EFFORT_LATEST,\n",
    "    FourWingsReportDataset.SAR_PRESENCE_LATEST,\n",
    "]\n",
    "filters = None\n",
    "date_range = \"2022-01-01,2022-01-15\"  # TODO: use start_date, end_date\n",
    "spatial_aggregation = None\n",
    "geojson = None\n",
    "region = FourWingsReportRegion(dataset=\"public-eez-areas\", id=\"8371\")"
   ]
  },
  {
   "cell_type": "markdown",
   "id": "033a27c4-505b-4cdd-9ee2-d2f788a29440",
   "metadata": {},
   "source": [
    "#### Generate report"
   ]
  },
  {
   "cell_type": "code",
   "execution_count": 5,
   "id": "37a4546b-1241-4d13-bff7-22b8701c7d01",
   "metadata": {},
   "outputs": [],
   "source": [
    "wings_report = await client.fourwings.aget_report(\n",
    "    spatial_resolution=spatial_resolution,\n",
    "    group_by=group_by,\n",
    "    temporal_resolution=temporal_resolution,\n",
    "    datasets=datasets,\n",
    "    filters=filters,\n",
    "    date_range=date_range,\n",
    "    spatial_aggregation=spatial_aggregation,\n",
    "    geojson=geojson,\n",
    "    region=region,\n",
    ")"
   ]
  },
  {
   "cell_type": "code",
   "execution_count": 6,
   "id": "be957b2b-5a97-4536-9f62-8b06d47a7589",
   "metadata": {},
   "outputs": [],
   "source": [
    "wings_report_df = wings_report.df()"
   ]
  },
  {
   "cell_type": "code",
   "execution_count": 7,
   "id": "f3cea72c-79f7-490f-841f-028bb201cc2d",
   "metadata": {},
   "outputs": [
    {
     "name": "stdout",
     "output_type": "stream",
     "text": [
      "<class 'pandas.core.frame.DataFrame'>\n",
      "RangeIndex: 5890 entries, 0 to 5889\n",
      "Data columns (total 20 columns):\n",
      " #   Column                   Non-Null Count  Dtype              \n",
      "---  ------                   --------------  -----              \n",
      " 0   date                     5890 non-null   object             \n",
      " 1   detections               161 non-null    float64            \n",
      " 2   flag                     5890 non-null   object             \n",
      " 3   gear_type                5890 non-null   object             \n",
      " 4   hours                    5729 non-null   float64            \n",
      " 5   vessel_ids               0 non-null      object             \n",
      " 6   vessel_id                5890 non-null   object             \n",
      " 7   vessel_type              5890 non-null   object             \n",
      " 8   entry_timestamp          5890 non-null   datetime64[ns, UTC]\n",
      " 9   exit_timestamp           5890 non-null   datetime64[ns, UTC]\n",
      " 10  first_transmission_date  5814 non-null   datetime64[ns, UTC]\n",
      " 11  last_transmission_date   5814 non-null   datetime64[ns, UTC]\n",
      " 12  imo                      5890 non-null   object             \n",
      " 13  mmsi                     5890 non-null   object             \n",
      " 14  call_sign                5890 non-null   object             \n",
      " 15  dataset                  5890 non-null   object             \n",
      " 16  report_dataset           5890 non-null   object             \n",
      " 17  ship_name                5890 non-null   object             \n",
      " 18  lat                      5890 non-null   float64            \n",
      " 19  lon                      5890 non-null   float64            \n",
      "dtypes: datetime64[ns, UTC](4), float64(4), object(12)\n",
      "memory usage: 920.4+ KB\n"
     ]
    }
   ],
   "source": [
    "wings_report_df.info()"
   ]
  },
  {
   "cell_type": "code",
   "execution_count": 8,
   "id": "eff13c92-a2a1-4f80-afe5-92c165f45285",
   "metadata": {},
   "outputs": [
    {
     "data": {
      "text/html": [
       "<div>\n",
       "<style scoped>\n",
       "    .dataframe tbody tr th:only-of-type {\n",
       "        vertical-align: middle;\n",
       "    }\n",
       "\n",
       "    .dataframe tbody tr th {\n",
       "        vertical-align: top;\n",
       "    }\n",
       "\n",
       "    .dataframe thead th {\n",
       "        text-align: right;\n",
       "    }\n",
       "</style>\n",
       "<table border=\"1\" class=\"dataframe\">\n",
       "  <thead>\n",
       "    <tr style=\"text-align: right;\">\n",
       "      <th></th>\n",
       "      <th>date</th>\n",
       "      <th>detections</th>\n",
       "      <th>flag</th>\n",
       "      <th>gear_type</th>\n",
       "      <th>hours</th>\n",
       "      <th>vessel_ids</th>\n",
       "      <th>vessel_id</th>\n",
       "      <th>vessel_type</th>\n",
       "      <th>entry_timestamp</th>\n",
       "      <th>exit_timestamp</th>\n",
       "      <th>first_transmission_date</th>\n",
       "      <th>last_transmission_date</th>\n",
       "      <th>imo</th>\n",
       "      <th>mmsi</th>\n",
       "      <th>call_sign</th>\n",
       "      <th>dataset</th>\n",
       "      <th>report_dataset</th>\n",
       "      <th>ship_name</th>\n",
       "      <th>lat</th>\n",
       "      <th>lon</th>\n",
       "    </tr>\n",
       "  </thead>\n",
       "  <tbody>\n",
       "    <tr>\n",
       "      <th>0</th>\n",
       "      <td>2022-01-02</td>\n",
       "      <td>NaN</td>\n",
       "      <td>SEN</td>\n",
       "      <td>TRAWLERS</td>\n",
       "      <td>0.976397</td>\n",
       "      <td>None</td>\n",
       "      <td>f665e55f9-9a12-dc04-170b-60b9df00432a</td>\n",
       "      <td>FISHING</td>\n",
       "      <td>2022-01-01 07:00:00+00:00</td>\n",
       "      <td>2022-01-14 23:00:00+00:00</td>\n",
       "      <td>2020-03-07 11:07:54+00:00</td>\n",
       "      <td>2022-11-13 14:16:18+00:00</td>\n",
       "      <td></td>\n",
       "      <td>663111111</td>\n",
       "      <td></td>\n",
       "      <td>public-global-vessel-identity:v3.0</td>\n",
       "      <td>public-global-fishing-effort:v3.0</td>\n",
       "      <td>LAGHEM 1</td>\n",
       "      <td>15.79</td>\n",
       "      <td>-16.969999</td>\n",
       "    </tr>\n",
       "    <tr>\n",
       "      <th>1</th>\n",
       "      <td>2022-01-02</td>\n",
       "      <td>NaN</td>\n",
       "      <td>SEN</td>\n",
       "      <td>TRAWLERS</td>\n",
       "      <td>2.040278</td>\n",
       "      <td>None</td>\n",
       "      <td>7bfa4e72a-aa54-4aae-0aa6-145fc83a25bb</td>\n",
       "      <td>FISHING</td>\n",
       "      <td>2022-01-01 00:00:00+00:00</td>\n",
       "      <td>2022-01-14 23:00:00+00:00</td>\n",
       "      <td>2017-03-31 09:03:45+00:00</td>\n",
       "      <td>2025-03-04 23:59:39+00:00</td>\n",
       "      <td></td>\n",
       "      <td>663180000</td>\n",
       "      <td>6WHX; :</td>\n",
       "      <td>public-global-vessel-identity:v3.0</td>\n",
       "      <td>public-global-fishing-effort:v3.0</td>\n",
       "      <td>F/V NATA</td>\n",
       "      <td>12.57</td>\n",
       "      <td>-17.459999</td>\n",
       "    </tr>\n",
       "    <tr>\n",
       "      <th>2</th>\n",
       "      <td>2022-01-10</td>\n",
       "      <td>NaN</td>\n",
       "      <td>SEN</td>\n",
       "      <td>TRAWLERS</td>\n",
       "      <td>0.951111</td>\n",
       "      <td>None</td>\n",
       "      <td>bb99899f2-2ca5-8d00-11e4-95b25552cd65</td>\n",
       "      <td>FISHING</td>\n",
       "      <td>2022-01-01 00:00:00+00:00</td>\n",
       "      <td>2022-01-14 23:00:00+00:00</td>\n",
       "      <td>2020-10-28 11:26:06+00:00</td>\n",
       "      <td>2025-03-04 23:59:12+00:00</td>\n",
       "      <td></td>\n",
       "      <td>663173000</td>\n",
       "      <td>6WLX</td>\n",
       "      <td>public-global-vessel-identity:v3.0</td>\n",
       "      <td>public-global-fishing-effort:v3.0</td>\n",
       "      <td>PERE YANNICK</td>\n",
       "      <td>14.01</td>\n",
       "      <td>-17.020000</td>\n",
       "    </tr>\n",
       "    <tr>\n",
       "      <th>3</th>\n",
       "      <td>2022-01-05</td>\n",
       "      <td>NaN</td>\n",
       "      <td>SEN</td>\n",
       "      <td>TRAWLERS</td>\n",
       "      <td>0.889042</td>\n",
       "      <td>None</td>\n",
       "      <td>36d3cd4c0-0901-e0f8-4f7b-f8c0e630c60d</td>\n",
       "      <td>FISHING</td>\n",
       "      <td>2022-01-01 06:00:00+00:00</td>\n",
       "      <td>2022-01-14 21:00:00+00:00</td>\n",
       "      <td>2018-09-08 17:24:26+00:00</td>\n",
       "      <td>2025-03-04 23:58:10+00:00</td>\n",
       "      <td></td>\n",
       "      <td>663138000</td>\n",
       "      <td>6WLE</td>\n",
       "      <td>public-global-vessel-identity:v3.0</td>\n",
       "      <td>public-global-fishing-effort:v3.0</td>\n",
       "      <td>SOFIA</td>\n",
       "      <td>15.90</td>\n",
       "      <td>-16.990000</td>\n",
       "    </tr>\n",
       "    <tr>\n",
       "      <th>4</th>\n",
       "      <td>2022-01-06</td>\n",
       "      <td>NaN</td>\n",
       "      <td>SEN</td>\n",
       "      <td>TRAWLERS</td>\n",
       "      <td>1.174375</td>\n",
       "      <td>None</td>\n",
       "      <td>0e0369b43-36c3-f0a8-adda-370f600ed334</td>\n",
       "      <td>FISHING</td>\n",
       "      <td>2022-01-01 00:00:00+00:00</td>\n",
       "      <td>2022-01-12 17:00:00+00:00</td>\n",
       "      <td>2016-02-04 15:32:18+00:00</td>\n",
       "      <td>2025-02-28 08:56:48+00:00</td>\n",
       "      <td></td>\n",
       "      <td>663146000</td>\n",
       "      <td>6WLM</td>\n",
       "      <td>public-global-vessel-identity:v3.0</td>\n",
       "      <td>public-global-fishing-effort:v3.0</td>\n",
       "      <td>F/V AUDREY-</td>\n",
       "      <td>12.49</td>\n",
       "      <td>-17.430000</td>\n",
       "    </tr>\n",
       "  </tbody>\n",
       "</table>\n",
       "</div>"
      ],
      "text/plain": [
       "         date  detections flag gear_type     hours vessel_ids  \\\n",
       "0  2022-01-02         NaN  SEN  TRAWLERS  0.976397       None   \n",
       "1  2022-01-02         NaN  SEN  TRAWLERS  2.040278       None   \n",
       "2  2022-01-10         NaN  SEN  TRAWLERS  0.951111       None   \n",
       "3  2022-01-05         NaN  SEN  TRAWLERS  0.889042       None   \n",
       "4  2022-01-06         NaN  SEN  TRAWLERS  1.174375       None   \n",
       "\n",
       "                               vessel_id vessel_type  \\\n",
       "0  f665e55f9-9a12-dc04-170b-60b9df00432a     FISHING   \n",
       "1  7bfa4e72a-aa54-4aae-0aa6-145fc83a25bb     FISHING   \n",
       "2  bb99899f2-2ca5-8d00-11e4-95b25552cd65     FISHING   \n",
       "3  36d3cd4c0-0901-e0f8-4f7b-f8c0e630c60d     FISHING   \n",
       "4  0e0369b43-36c3-f0a8-adda-370f600ed334     FISHING   \n",
       "\n",
       "            entry_timestamp            exit_timestamp  \\\n",
       "0 2022-01-01 07:00:00+00:00 2022-01-14 23:00:00+00:00   \n",
       "1 2022-01-01 00:00:00+00:00 2022-01-14 23:00:00+00:00   \n",
       "2 2022-01-01 00:00:00+00:00 2022-01-14 23:00:00+00:00   \n",
       "3 2022-01-01 06:00:00+00:00 2022-01-14 21:00:00+00:00   \n",
       "4 2022-01-01 00:00:00+00:00 2022-01-12 17:00:00+00:00   \n",
       "\n",
       "    first_transmission_date    last_transmission_date imo       mmsi  \\\n",
       "0 2020-03-07 11:07:54+00:00 2022-11-13 14:16:18+00:00      663111111   \n",
       "1 2017-03-31 09:03:45+00:00 2025-03-04 23:59:39+00:00      663180000   \n",
       "2 2020-10-28 11:26:06+00:00 2025-03-04 23:59:12+00:00      663173000   \n",
       "3 2018-09-08 17:24:26+00:00 2025-03-04 23:58:10+00:00      663138000   \n",
       "4 2016-02-04 15:32:18+00:00 2025-02-28 08:56:48+00:00      663146000   \n",
       "\n",
       "  call_sign                             dataset  \\\n",
       "0            public-global-vessel-identity:v3.0   \n",
       "1   6WHX; :  public-global-vessel-identity:v3.0   \n",
       "2      6WLX  public-global-vessel-identity:v3.0   \n",
       "3      6WLE  public-global-vessel-identity:v3.0   \n",
       "4      6WLM  public-global-vessel-identity:v3.0   \n",
       "\n",
       "                      report_dataset     ship_name    lat        lon  \n",
       "0  public-global-fishing-effort:v3.0      LAGHEM 1  15.79 -16.969999  \n",
       "1  public-global-fishing-effort:v3.0      F/V NATA  12.57 -17.459999  \n",
       "2  public-global-fishing-effort:v3.0  PERE YANNICK  14.01 -17.020000  \n",
       "3  public-global-fishing-effort:v3.0         SOFIA  15.90 -16.990000  \n",
       "4  public-global-fishing-effort:v3.0   F/V AUDREY-  12.49 -17.430000  "
      ]
     },
     "execution_count": 8,
     "metadata": {},
     "output_type": "execute_result"
    }
   ],
   "source": [
    "wings_report_df.head()"
   ]
  },
  {
   "cell_type": "markdown",
   "id": "e3e4ad34-aaff-4770-95cc-0a22c59473b6",
   "metadata": {},
   "source": [
    "## Vessels API"
   ]
  },
  {
   "cell_type": "markdown",
   "id": "87f82774-f573-4b5d-aa85-772accdc14f3",
   "metadata": {},
   "source": [
    "[Vessels API](https://globalfishingwatch.org/our-apis/documentation#vessels-api) allows you to search for vessels and get vessel identity details. This API combines Global Fishing Watch (GFW) core AIS identity data with GFW registry database to enable an improved understanding of vessel identity over time.\n",
    "\n",
    "You can:\n",
    "\n",
    "- Search for AIS and across over 40 public international, regional and national vessel registries. Check list of sources in the [reference data section](https://globalfishingwatch.org/our-apis/documentation#vessel-api-registry-codes-data-sources)\n",
    "- Get identity details based on AIS self reported data or public registries. Check more detail about data caveats [here](https://globalfishingwatch.org/our-apis/documentation#data-caveat).\n",
    "  "
   ]
  },
  {
   "cell_type": "markdown",
   "id": "4b72b1d4-63ba-4532-b447-6205419cc799",
   "metadata": {},
   "source": [
    "### Import necessary data types"
   ]
  },
  {
   "cell_type": "code",
   "execution_count": 9,
   "id": "81f8491a-10be-4096-bcc4-559d6a1942c7",
   "metadata": {},
   "outputs": [],
   "source": [
    "from gfwapiclient.resources.vessels.base.enums import VesselDataset"
   ]
  },
  {
   "cell_type": "markdown",
   "id": "d257b265-1655-428c-a5cc-7a8bec6c4bff",
   "metadata": {},
   "source": [
    "### Search vessels"
   ]
  },
  {
   "cell_type": "markdown",
   "id": "da883482-6204-41ff-9737-fd5b2f1cb986",
   "metadata": {},
   "source": [
    "#### Define request parameters"
   ]
  },
  {
   "cell_type": "code",
   "execution_count": 10,
   "id": "ee8161b7-f22d-4902-86fd-4260e05fe9fe",
   "metadata": {},
   "outputs": [],
   "source": [
    "datasets = [VesselDataset.VESSEL_IDENTITY_LATEST]\n",
    "query = \"775998121\"\n",
    "where = 'ssvid=\"775998121\" AND shipname=\"DON TITO\"'"
   ]
  },
  {
   "cell_type": "markdown",
   "id": "b66f2072-6944-4640-ba65-0b0b559c873a",
   "metadata": {},
   "source": [
    "#### Search vessels"
   ]
  },
  {
   "cell_type": "code",
   "execution_count": 11,
   "id": "33fbf4d4-f04f-4ced-8965-bd361f2bef55",
   "metadata": {},
   "outputs": [],
   "source": [
    "search_vessels = await client.vessels.asearch_vessels(query=query, datasets=datasets)"
   ]
  },
  {
   "cell_type": "code",
   "execution_count": 12,
   "id": "4defc684-ab8f-47e0-832b-58a5da3a95f5",
   "metadata": {},
   "outputs": [],
   "source": [
    "search_vessels_df = search_vessels.df()"
   ]
  },
  {
   "cell_type": "code",
   "execution_count": 13,
   "id": "bf4d4d40-dc42-412a-84d5-9cbfcb339f41",
   "metadata": {},
   "outputs": [
    {
     "name": "stdout",
     "output_type": "stream",
     "text": [
      "<class 'pandas.core.frame.DataFrame'>\n",
      "RangeIndex: 4 entries, 0 to 3\n",
      "Data columns (total 8 columns):\n",
      " #   Column                          Non-Null Count  Dtype \n",
      "---  ------                          --------------  ----- \n",
      " 0   dataset                         4 non-null      object\n",
      " 1   registry_info_total_records     4 non-null      int64 \n",
      " 2   registry_info                   4 non-null      object\n",
      " 3   registry_owners                 4 non-null      object\n",
      " 4   registry_public_authorizations  4 non-null      object\n",
      " 5   combined_sources_info           4 non-null      object\n",
      " 6   self_reported_info              4 non-null      object\n",
      " 7   matchCriteria                   4 non-null      object\n",
      "dtypes: int64(1), object(7)\n",
      "memory usage: 388.0+ bytes\n"
     ]
    }
   ],
   "source": [
    "search_vessels_df.info()"
   ]
  },
  {
   "cell_type": "code",
   "execution_count": 14,
   "id": "c4449b84-0383-4298-b020-e47b19a4f98a",
   "metadata": {},
   "outputs": [
    {
     "data": {
      "text/html": [
       "<div>\n",
       "<style scoped>\n",
       "    .dataframe tbody tr th:only-of-type {\n",
       "        vertical-align: middle;\n",
       "    }\n",
       "\n",
       "    .dataframe tbody tr th {\n",
       "        vertical-align: top;\n",
       "    }\n",
       "\n",
       "    .dataframe thead th {\n",
       "        text-align: right;\n",
       "    }\n",
       "</style>\n",
       "<table border=\"1\" class=\"dataframe\">\n",
       "  <thead>\n",
       "    <tr style=\"text-align: right;\">\n",
       "      <th></th>\n",
       "      <th>dataset</th>\n",
       "      <th>registry_info_total_records</th>\n",
       "      <th>registry_info</th>\n",
       "      <th>registry_owners</th>\n",
       "      <th>registry_public_authorizations</th>\n",
       "      <th>combined_sources_info</th>\n",
       "      <th>self_reported_info</th>\n",
       "      <th>matchCriteria</th>\n",
       "    </tr>\n",
       "  </thead>\n",
       "  <tbody>\n",
       "    <tr>\n",
       "      <th>0</th>\n",
       "      <td>public-global-vessel-identity:v3.0</td>\n",
       "      <td>0</td>\n",
       "      <td>[]</td>\n",
       "      <td>[]</td>\n",
       "      <td>[]</td>\n",
       "      <td>[{'vessel_id': 'c54923e64-46f3-9338-9dcb-ff097...</td>\n",
       "      <td>[{'id': 'c54923e64-46f3-9338-9dcb-ff09724077a3...</td>\n",
       "      <td>[{'reference': 'c54923e64-46f3-9338-9dcb-ff097...</td>\n",
       "    </tr>\n",
       "    <tr>\n",
       "      <th>1</th>\n",
       "      <td>public-global-vessel-identity:v3.0</td>\n",
       "      <td>0</td>\n",
       "      <td>[]</td>\n",
       "      <td>[]</td>\n",
       "      <td>[]</td>\n",
       "      <td>[{'vessel_id': 'bae8f325c-cf0a-01fe-6d1a-9a275...</td>\n",
       "      <td>[{'id': 'bae8f325c-cf0a-01fe-6d1a-9a275588d4ff...</td>\n",
       "      <td>[{'reference': 'bae8f325c-cf0a-01fe-6d1a-9a275...</td>\n",
       "    </tr>\n",
       "    <tr>\n",
       "      <th>2</th>\n",
       "      <td>public-global-vessel-identity:v3.0</td>\n",
       "      <td>0</td>\n",
       "      <td>[]</td>\n",
       "      <td>[]</td>\n",
       "      <td>[]</td>\n",
       "      <td>[{'vessel_id': 'df9e79a94-41ce-0e6b-282d-d0278...</td>\n",
       "      <td>[{'id': 'df9e79a94-41ce-0e6b-282d-d0278f43ef2c...</td>\n",
       "      <td>[{'reference': 'df9e79a94-41ce-0e6b-282d-d0278...</td>\n",
       "    </tr>\n",
       "    <tr>\n",
       "      <th>3</th>\n",
       "      <td>public-global-vessel-identity:v3.0</td>\n",
       "      <td>0</td>\n",
       "      <td>[]</td>\n",
       "      <td>[]</td>\n",
       "      <td>[]</td>\n",
       "      <td>[{'vessel_id': '6d613afcf-f9a2-e758-8ece-2dec5...</td>\n",
       "      <td>[{'id': '6d613afcf-f9a2-e758-8ece-2dec5b98012c...</td>\n",
       "      <td>[{'reference': '6d613afcf-f9a2-e758-8ece-2dec5...</td>\n",
       "    </tr>\n",
       "  </tbody>\n",
       "</table>\n",
       "</div>"
      ],
      "text/plain": [
       "                              dataset  registry_info_total_records  \\\n",
       "0  public-global-vessel-identity:v3.0                            0   \n",
       "1  public-global-vessel-identity:v3.0                            0   \n",
       "2  public-global-vessel-identity:v3.0                            0   \n",
       "3  public-global-vessel-identity:v3.0                            0   \n",
       "\n",
       "  registry_info registry_owners registry_public_authorizations  \\\n",
       "0            []              []                             []   \n",
       "1            []              []                             []   \n",
       "2            []              []                             []   \n",
       "3            []              []                             []   \n",
       "\n",
       "                               combined_sources_info  \\\n",
       "0  [{'vessel_id': 'c54923e64-46f3-9338-9dcb-ff097...   \n",
       "1  [{'vessel_id': 'bae8f325c-cf0a-01fe-6d1a-9a275...   \n",
       "2  [{'vessel_id': 'df9e79a94-41ce-0e6b-282d-d0278...   \n",
       "3  [{'vessel_id': '6d613afcf-f9a2-e758-8ece-2dec5...   \n",
       "\n",
       "                                  self_reported_info  \\\n",
       "0  [{'id': 'c54923e64-46f3-9338-9dcb-ff09724077a3...   \n",
       "1  [{'id': 'bae8f325c-cf0a-01fe-6d1a-9a275588d4ff...   \n",
       "2  [{'id': 'df9e79a94-41ce-0e6b-282d-d0278f43ef2c...   \n",
       "3  [{'id': '6d613afcf-f9a2-e758-8ece-2dec5b98012c...   \n",
       "\n",
       "                                       matchCriteria  \n",
       "0  [{'reference': 'c54923e64-46f3-9338-9dcb-ff097...  \n",
       "1  [{'reference': 'bae8f325c-cf0a-01fe-6d1a-9a275...  \n",
       "2  [{'reference': 'df9e79a94-41ce-0e6b-282d-d0278...  \n",
       "3  [{'reference': '6d613afcf-f9a2-e758-8ece-2dec5...  "
      ]
     },
     "execution_count": 14,
     "metadata": {},
     "output_type": "execute_result"
    }
   ],
   "source": [
    "search_vessels_df.head()"
   ]
  },
  {
   "cell_type": "markdown",
   "id": "4d633d3e-2867-4fd7-b5ef-45f97d64b72e",
   "metadata": {},
   "source": [
    "### Get list of vessels filtered by ids"
   ]
  },
  {
   "cell_type": "markdown",
   "id": "00ce2e5d-fd7d-4ba9-8fde-afc4847566f5",
   "metadata": {},
   "source": [
    "#### Define request parameters"
   ]
  },
  {
   "cell_type": "code",
   "execution_count": 15,
   "id": "60053433-d6f3-43fb-a3cd-6e700a33014e",
   "metadata": {},
   "outputs": [],
   "source": [
    "datasets = [VesselDataset.VESSEL_IDENTITY_LATEST]\n",
    "ids = [\"8c7304226-6c71-edbe-0b63-c246734b3c01\"]"
   ]
  },
  {
   "cell_type": "markdown",
   "id": "3d61a807-b103-4d6c-a2a0-1039bc469fd8",
   "metadata": {},
   "source": [
    "#### Get list of vessels by their ids"
   ]
  },
  {
   "cell_type": "code",
   "execution_count": 16,
   "id": "13b8b758-6216-45ec-9212-be68e8e4cfdf",
   "metadata": {},
   "outputs": [],
   "source": [
    "get_vessels = await client.vessels.aget_vessels(ids=ids, datasets=datasets)"
   ]
  },
  {
   "cell_type": "code",
   "execution_count": 17,
   "id": "50c4b635-1268-47d1-a3b6-74c35e037d5c",
   "metadata": {},
   "outputs": [],
   "source": [
    "get_vessels_df = get_vessels.df()"
   ]
  },
  {
   "cell_type": "code",
   "execution_count": 18,
   "id": "09f328a7-6379-448b-8061-89d46591b911",
   "metadata": {},
   "outputs": [
    {
     "name": "stdout",
     "output_type": "stream",
     "text": [
      "<class 'pandas.core.frame.DataFrame'>\n",
      "RangeIndex: 1 entries, 0 to 0\n",
      "Data columns (total 7 columns):\n",
      " #   Column                          Non-Null Count  Dtype \n",
      "---  ------                          --------------  ----- \n",
      " 0   dataset                         1 non-null      object\n",
      " 1   registry_info_total_records     1 non-null      int64 \n",
      " 2   registry_info                   1 non-null      object\n",
      " 3   registry_owners                 1 non-null      object\n",
      " 4   registry_public_authorizations  1 non-null      object\n",
      " 5   combined_sources_info           1 non-null      object\n",
      " 6   self_reported_info              1 non-null      object\n",
      "dtypes: int64(1), object(6)\n",
      "memory usage: 188.0+ bytes\n"
     ]
    }
   ],
   "source": [
    "get_vessels_df.info()"
   ]
  },
  {
   "cell_type": "code",
   "execution_count": 19,
   "id": "941f4d49-b6f9-4db3-8103-39c7ba553d91",
   "metadata": {},
   "outputs": [
    {
     "data": {
      "text/html": [
       "<div>\n",
       "<style scoped>\n",
       "    .dataframe tbody tr th:only-of-type {\n",
       "        vertical-align: middle;\n",
       "    }\n",
       "\n",
       "    .dataframe tbody tr th {\n",
       "        vertical-align: top;\n",
       "    }\n",
       "\n",
       "    .dataframe thead th {\n",
       "        text-align: right;\n",
       "    }\n",
       "</style>\n",
       "<table border=\"1\" class=\"dataframe\">\n",
       "  <thead>\n",
       "    <tr style=\"text-align: right;\">\n",
       "      <th></th>\n",
       "      <th>dataset</th>\n",
       "      <th>registry_info_total_records</th>\n",
       "      <th>registry_info</th>\n",
       "      <th>registry_owners</th>\n",
       "      <th>registry_public_authorizations</th>\n",
       "      <th>combined_sources_info</th>\n",
       "      <th>self_reported_info</th>\n",
       "    </tr>\n",
       "  </thead>\n",
       "  <tbody>\n",
       "    <tr>\n",
       "      <th>0</th>\n",
       "      <td>public-global-vessel-identity:v3.0</td>\n",
       "      <td>2</td>\n",
       "      <td>[{'id': 'a8d00ce54b37add7f85a35fcce8e7a1b', 's...</td>\n",
       "      <td>[]</td>\n",
       "      <td>[{'date_from': 2023-01-01 00:00:00+00:00, 'dat...</td>\n",
       "      <td>[{'vessel_id': 'da1cd7e1b-b8d0-539c-6581-2b3df...</td>\n",
       "      <td>[{'id': 'da1cd7e1b-b8d0-539c-6581-2b3df8d0a6af...</td>\n",
       "    </tr>\n",
       "  </tbody>\n",
       "</table>\n",
       "</div>"
      ],
      "text/plain": [
       "                              dataset  registry_info_total_records  \\\n",
       "0  public-global-vessel-identity:v3.0                            2   \n",
       "\n",
       "                                       registry_info registry_owners  \\\n",
       "0  [{'id': 'a8d00ce54b37add7f85a35fcce8e7a1b', 's...              []   \n",
       "\n",
       "                      registry_public_authorizations  \\\n",
       "0  [{'date_from': 2023-01-01 00:00:00+00:00, 'dat...   \n",
       "\n",
       "                               combined_sources_info  \\\n",
       "0  [{'vessel_id': 'da1cd7e1b-b8d0-539c-6581-2b3df...   \n",
       "\n",
       "                                  self_reported_info  \n",
       "0  [{'id': 'da1cd7e1b-b8d0-539c-6581-2b3df8d0a6af...  "
      ]
     },
     "execution_count": 19,
     "metadata": {},
     "output_type": "execute_result"
    }
   ],
   "source": [
    "get_vessels_df.head()"
   ]
  },
  {
   "cell_type": "markdown",
   "id": "a1399d74-ba48-4017-9a3e-e8a7e51ba825",
   "metadata": {},
   "source": [
    "### Get vessel by id"
   ]
  },
  {
   "cell_type": "markdown",
   "id": "609a4aec-65b2-46b4-92d4-8b2a47dd2291",
   "metadata": {},
   "source": [
    "#### Define request parameters"
   ]
  },
  {
   "cell_type": "code",
   "execution_count": 20,
   "id": "5d67339a-9f7c-4c69-a990-e87e177298da",
   "metadata": {},
   "outputs": [],
   "source": [
    "dataset = VesselDataset.VESSEL_IDENTITY_LATEST\n",
    "id = \"8c7304226-6c71-edbe-0b63-c246734b3c01\""
   ]
  },
  {
   "cell_type": "markdown",
   "id": "00b15e33-a954-4b1a-9b2e-3eccf635d609",
   "metadata": {},
   "source": [
    "#### Get a vessel by its id"
   ]
  },
  {
   "cell_type": "code",
   "execution_count": 21,
   "id": "d69a7c78-0aa7-4843-9aa0-4466cab4115d",
   "metadata": {},
   "outputs": [],
   "source": [
    "vessel = await client.vessels.aget_vessel(id=id, dataset=dataset)"
   ]
  },
  {
   "cell_type": "code",
   "execution_count": 22,
   "id": "f30512b6-77c8-4a4c-8bd2-716e0882ef71",
   "metadata": {},
   "outputs": [],
   "source": [
    "vessel_df = vessel.df()"
   ]
  },
  {
   "cell_type": "code",
   "execution_count": 23,
   "id": "022b39b8-8948-466e-976e-1bd1ae82bfe6",
   "metadata": {},
   "outputs": [
    {
     "name": "stdout",
     "output_type": "stream",
     "text": [
      "<class 'pandas.core.frame.DataFrame'>\n",
      "RangeIndex: 1 entries, 0 to 0\n",
      "Data columns (total 7 columns):\n",
      " #   Column                          Non-Null Count  Dtype \n",
      "---  ------                          --------------  ----- \n",
      " 0   dataset                         1 non-null      object\n",
      " 1   registry_info_total_records     1 non-null      int64 \n",
      " 2   registry_info                   1 non-null      object\n",
      " 3   registry_owners                 1 non-null      object\n",
      " 4   registry_public_authorizations  1 non-null      object\n",
      " 5   combined_sources_info           1 non-null      object\n",
      " 6   self_reported_info              1 non-null      object\n",
      "dtypes: int64(1), object(6)\n",
      "memory usage: 188.0+ bytes\n"
     ]
    }
   ],
   "source": [
    "vessel_df.info()"
   ]
  },
  {
   "cell_type": "code",
   "execution_count": 24,
   "id": "9262d063-2bd2-4158-b99a-84e42e6d3c96",
   "metadata": {},
   "outputs": [
    {
     "data": {
      "text/html": [
       "<div>\n",
       "<style scoped>\n",
       "    .dataframe tbody tr th:only-of-type {\n",
       "        vertical-align: middle;\n",
       "    }\n",
       "\n",
       "    .dataframe tbody tr th {\n",
       "        vertical-align: top;\n",
       "    }\n",
       "\n",
       "    .dataframe thead th {\n",
       "        text-align: right;\n",
       "    }\n",
       "</style>\n",
       "<table border=\"1\" class=\"dataframe\">\n",
       "  <thead>\n",
       "    <tr style=\"text-align: right;\">\n",
       "      <th></th>\n",
       "      <th>dataset</th>\n",
       "      <th>registry_info_total_records</th>\n",
       "      <th>registry_info</th>\n",
       "      <th>registry_owners</th>\n",
       "      <th>registry_public_authorizations</th>\n",
       "      <th>combined_sources_info</th>\n",
       "      <th>self_reported_info</th>\n",
       "    </tr>\n",
       "  </thead>\n",
       "  <tbody>\n",
       "    <tr>\n",
       "      <th>0</th>\n",
       "      <td>public-global-vessel-identity:v3.0</td>\n",
       "      <td>5</td>\n",
       "      <td>[{'id': 'a8d00ce54b37add7f85a35fcce8e7a1b', 's...</td>\n",
       "      <td>[]</td>\n",
       "      <td>[{'date_from': 2023-01-01 00:00:00+00:00, 'dat...</td>\n",
       "      <td>[{'vessel_id': 'da1cd7e1b-b8d0-539c-6581-2b3df...</td>\n",
       "      <td>[{'id': 'da1cd7e1b-b8d0-539c-6581-2b3df8d0a6af...</td>\n",
       "    </tr>\n",
       "  </tbody>\n",
       "</table>\n",
       "</div>"
      ],
      "text/plain": [
       "                              dataset  registry_info_total_records  \\\n",
       "0  public-global-vessel-identity:v3.0                            5   \n",
       "\n",
       "                                       registry_info registry_owners  \\\n",
       "0  [{'id': 'a8d00ce54b37add7f85a35fcce8e7a1b', 's...              []   \n",
       "\n",
       "                      registry_public_authorizations  \\\n",
       "0  [{'date_from': 2023-01-01 00:00:00+00:00, 'dat...   \n",
       "\n",
       "                               combined_sources_info  \\\n",
       "0  [{'vessel_id': 'da1cd7e1b-b8d0-539c-6581-2b3df...   \n",
       "\n",
       "                                  self_reported_info  \n",
       "0  [{'id': 'da1cd7e1b-b8d0-539c-6581-2b3df8d0a6af...  "
      ]
     },
     "execution_count": 24,
     "metadata": {},
     "output_type": "execute_result"
    }
   ],
   "source": [
    "vessel_df.head()"
   ]
  },
  {
   "cell_type": "markdown",
   "id": "081322f5-b9d0-4ef9-99fc-adfede940991",
   "metadata": {},
   "source": [
    "## Events API"
   ]
  },
  {
   "cell_type": "markdown",
   "id": "0015a02c-67a1-43e9-bf12-28bd7de18f64",
   "metadata": {},
   "source": [
    "[Events API](https://globalfishingwatch.org/our-apis/documentation#events-api) allows you to explore different activities of a vessel. You can analyze:\n",
    "\n",
    "- apparent fishing events\n",
    "- encounters between these vessel types: fishing-carrier, fishing-support, fishing-bunker, fishing-fishing, tanker-fishing, carrier-bunker and support-banker.\n",
    "- loitering for all vessel types\n",
    "- port visits for all vessel types\n",
    "- AIS off (aka GAPs) for all vessel types\n",
    "\n",
    "Check more detail about data caveats [here](https://globalfishingwatch.org/our-apis/documentation#data-caveat).\n"
   ]
  },
  {
   "cell_type": "markdown",
   "id": "b9566c19-d2d4-4ace-9cbe-d9b669819926",
   "metadata": {},
   "source": [
    "### Import necessary data types"
   ]
  },
  {
   "cell_type": "code",
   "execution_count": 25,
   "id": "a96b1a4b-6956-47cd-91d8-b9cbd201f046",
   "metadata": {},
   "outputs": [],
   "source": [
    "from gfwapiclient.resources.events.base.enums import EventDataset"
   ]
  },
  {
   "cell_type": "markdown",
   "id": "a68bf4eb-26ee-4f36-9d89-2a98bc252817",
   "metadata": {},
   "source": [
    "### Get All Events"
   ]
  },
  {
   "cell_type": "markdown",
   "id": "ff55290f-eaed-495d-bdc2-17444cd17476",
   "metadata": {},
   "source": [
    "#### Define request parameters"
   ]
  },
  {
   "cell_type": "code",
   "execution_count": 26,
   "id": "6b4c99b3-e60e-4f8b-a03c-486ab89ec567",
   "metadata": {},
   "outputs": [],
   "source": [
    "datasets = [EventDataset.FISHING_EVENTS_LATEST]\n",
    "start_date = datetime.date.fromisoformat(\"2017-01-01\")\n",
    "end_date = datetime.date.fromisoformat(\"2017-01-31\")\n",
    "limit = 1\n",
    "offset = 0"
   ]
  },
  {
   "cell_type": "markdown",
   "id": "5e37966b-7486-411e-a6c6-e3ba749147e3",
   "metadata": {},
   "source": [
    "#### Get all events"
   ]
  },
  {
   "cell_type": "code",
   "execution_count": 27,
   "id": "88a54cf9-c999-4c56-9913-c4b438bfbbef",
   "metadata": {},
   "outputs": [],
   "source": [
    "events = await client.events.aget_events(\n",
    "    datasets=datasets,\n",
    "    start_date=start_date,\n",
    "    end_date=end_date,\n",
    "    limit=limit,\n",
    "    offset=offset,\n",
    ")"
   ]
  },
  {
   "cell_type": "code",
   "execution_count": 28,
   "id": "97b108d1-957b-470b-8470-7887bb504e6a",
   "metadata": {},
   "outputs": [],
   "source": [
    "events_df = events.df()"
   ]
  },
  {
   "cell_type": "code",
   "execution_count": 29,
   "id": "2aa079f2-323c-4154-a9c5-d25d79d016d2",
   "metadata": {},
   "outputs": [
    {
     "name": "stdout",
     "output_type": "stream",
     "text": [
      "<class 'pandas.core.frame.DataFrame'>\n",
      "RangeIndex: 1 entries, 0 to 0\n",
      "Data columns (total 14 columns):\n",
      " #   Column        Non-Null Count  Dtype              \n",
      "---  ------        --------------  -----              \n",
      " 0   start         1 non-null      datetime64[ns, UTC]\n",
      " 1   end           1 non-null      datetime64[ns, UTC]\n",
      " 2   id            1 non-null      object             \n",
      " 3   type          1 non-null      object             \n",
      " 4   position      1 non-null      object             \n",
      " 5   regions       1 non-null      object             \n",
      " 6   bounding_box  1 non-null      object             \n",
      " 7   distances     1 non-null      object             \n",
      " 8   vessel        1 non-null      object             \n",
      " 9   encounter     0 non-null      object             \n",
      " 10  fishing       1 non-null      object             \n",
      " 11  gap           0 non-null      object             \n",
      " 12  loitering     0 non-null      object             \n",
      " 13  port_visit    0 non-null      object             \n",
      "dtypes: datetime64[ns, UTC](2), object(12)\n",
      "memory usage: 244.0+ bytes\n"
     ]
    }
   ],
   "source": [
    "events_df.info()"
   ]
  },
  {
   "cell_type": "code",
   "execution_count": 30,
   "id": "61cfca87-d57d-49ac-8ff8-f18910a14e71",
   "metadata": {},
   "outputs": [
    {
     "data": {
      "text/html": [
       "<div>\n",
       "<style scoped>\n",
       "    .dataframe tbody tr th:only-of-type {\n",
       "        vertical-align: middle;\n",
       "    }\n",
       "\n",
       "    .dataframe tbody tr th {\n",
       "        vertical-align: top;\n",
       "    }\n",
       "\n",
       "    .dataframe thead th {\n",
       "        text-align: right;\n",
       "    }\n",
       "</style>\n",
       "<table border=\"1\" class=\"dataframe\">\n",
       "  <thead>\n",
       "    <tr style=\"text-align: right;\">\n",
       "      <th></th>\n",
       "      <th>start</th>\n",
       "      <th>end</th>\n",
       "      <th>id</th>\n",
       "      <th>type</th>\n",
       "      <th>position</th>\n",
       "      <th>regions</th>\n",
       "      <th>bounding_box</th>\n",
       "      <th>distances</th>\n",
       "      <th>vessel</th>\n",
       "      <th>encounter</th>\n",
       "      <th>fishing</th>\n",
       "      <th>gap</th>\n",
       "      <th>loitering</th>\n",
       "      <th>port_visit</th>\n",
       "    </tr>\n",
       "  </thead>\n",
       "  <tbody>\n",
       "    <tr>\n",
       "      <th>0</th>\n",
       "      <td>2016-12-17 20:57:49+00:00</td>\n",
       "      <td>2017-01-04 17:27:01+00:00</td>\n",
       "      <td>3ca9b73aee21fbf278a636709e0f8f03</td>\n",
       "      <td>fishing</td>\n",
       "      <td>{'lat': 54.9204, 'lon': -5.5465}</td>\n",
       "      <td>{'mpa': ['555624876', '555786438', '555786428'...</td>\n",
       "      <td>[-5.3292866667, 54.775575, -5.943021666699991,...</td>\n",
       "      <td>{'start_distance_from_shore_km': 14.0, 'end_di...</td>\n",
       "      <td>{'id': '126570026-6217-2a10-f383-a42f66f78ea7'...</td>\n",
       "      <td>None</td>\n",
       "      <td>{'total_distance_km': 1442.4600248679237, 'ave...</td>\n",
       "      <td>None</td>\n",
       "      <td>None</td>\n",
       "      <td>None</td>\n",
       "    </tr>\n",
       "  </tbody>\n",
       "</table>\n",
       "</div>"
      ],
      "text/plain": [
       "                      start                       end  \\\n",
       "0 2016-12-17 20:57:49+00:00 2017-01-04 17:27:01+00:00   \n",
       "\n",
       "                                 id     type  \\\n",
       "0  3ca9b73aee21fbf278a636709e0f8f03  fishing   \n",
       "\n",
       "                           position  \\\n",
       "0  {'lat': 54.9204, 'lon': -5.5465}   \n",
       "\n",
       "                                             regions  \\\n",
       "0  {'mpa': ['555624876', '555786438', '555786428'...   \n",
       "\n",
       "                                        bounding_box  \\\n",
       "0  [-5.3292866667, 54.775575, -5.943021666699991,...   \n",
       "\n",
       "                                           distances  \\\n",
       "0  {'start_distance_from_shore_km': 14.0, 'end_di...   \n",
       "\n",
       "                                              vessel encounter  \\\n",
       "0  {'id': '126570026-6217-2a10-f383-a42f66f78ea7'...      None   \n",
       "\n",
       "                                             fishing   gap loitering  \\\n",
       "0  {'total_distance_km': 1442.4600248679237, 'ave...  None      None   \n",
       "\n",
       "  port_visit  \n",
       "0       None  "
      ]
     },
     "execution_count": 30,
     "metadata": {},
     "output_type": "execute_result"
    }
   ],
   "source": [
    "events_df.head()"
   ]
  },
  {
   "cell_type": "markdown",
   "id": "b993da08-a19d-4298-b514-3535b03c4242",
   "metadata": {},
   "source": [
    "### Get one by Event ID"
   ]
  },
  {
   "cell_type": "markdown",
   "id": "118f6137-a092-46b3-82b6-25b50ab76e60",
   "metadata": {},
   "source": [
    "#### Define request parameters"
   ]
  },
  {
   "cell_type": "code",
   "execution_count": 31,
   "id": "5675fce2-c95d-46ad-8ef3-7371cbf5b5a3",
   "metadata": {},
   "outputs": [],
   "source": [
    "id = \"3ca9b73aee21fbf278a636709e0f8f03\"\n",
    "dataset = EventDataset.FISHING_EVENTS_LATEST"
   ]
  },
  {
   "cell_type": "markdown",
   "id": "07167e31-9d6e-4634-b726-fedbe3e8f359",
   "metadata": {},
   "source": [
    "#### Get event by ID"
   ]
  },
  {
   "cell_type": "code",
   "execution_count": 32,
   "id": "3b9356fb-1708-4e15-9132-b9399775d3bf",
   "metadata": {},
   "outputs": [],
   "source": [
    "event = await client.events.aget_event(id=id, dataset=dataset)"
   ]
  },
  {
   "cell_type": "code",
   "execution_count": 33,
   "id": "ea059364-7666-45cc-931b-19dc7af1e091",
   "metadata": {},
   "outputs": [],
   "source": [
    "event_df = event.df()"
   ]
  },
  {
   "cell_type": "code",
   "execution_count": 34,
   "id": "3e57544f-bd72-4bda-a949-d6ee6908024c",
   "metadata": {},
   "outputs": [
    {
     "name": "stdout",
     "output_type": "stream",
     "text": [
      "<class 'pandas.core.frame.DataFrame'>\n",
      "RangeIndex: 1 entries, 0 to 0\n",
      "Data columns (total 14 columns):\n",
      " #   Column        Non-Null Count  Dtype              \n",
      "---  ------        --------------  -----              \n",
      " 0   start         1 non-null      datetime64[ns, UTC]\n",
      " 1   end           1 non-null      datetime64[ns, UTC]\n",
      " 2   id            1 non-null      object             \n",
      " 3   type          1 non-null      object             \n",
      " 4   position      1 non-null      object             \n",
      " 5   regions       1 non-null      object             \n",
      " 6   bounding_box  1 non-null      object             \n",
      " 7   distances     1 non-null      object             \n",
      " 8   vessel        1 non-null      object             \n",
      " 9   encounter     0 non-null      object             \n",
      " 10  fishing       1 non-null      object             \n",
      " 11  gap           0 non-null      object             \n",
      " 12  loitering     0 non-null      object             \n",
      " 13  port_visit    0 non-null      object             \n",
      "dtypes: datetime64[ns, UTC](2), object(12)\n",
      "memory usage: 244.0+ bytes\n"
     ]
    }
   ],
   "source": [
    "event_df.info()"
   ]
  },
  {
   "cell_type": "code",
   "execution_count": 35,
   "id": "ed8ed84b-c4eb-4495-8499-da747ef4ab8f",
   "metadata": {},
   "outputs": [
    {
     "data": {
      "text/html": [
       "<div>\n",
       "<style scoped>\n",
       "    .dataframe tbody tr th:only-of-type {\n",
       "        vertical-align: middle;\n",
       "    }\n",
       "\n",
       "    .dataframe tbody tr th {\n",
       "        vertical-align: top;\n",
       "    }\n",
       "\n",
       "    .dataframe thead th {\n",
       "        text-align: right;\n",
       "    }\n",
       "</style>\n",
       "<table border=\"1\" class=\"dataframe\">\n",
       "  <thead>\n",
       "    <tr style=\"text-align: right;\">\n",
       "      <th></th>\n",
       "      <th>start</th>\n",
       "      <th>end</th>\n",
       "      <th>id</th>\n",
       "      <th>type</th>\n",
       "      <th>position</th>\n",
       "      <th>regions</th>\n",
       "      <th>bounding_box</th>\n",
       "      <th>distances</th>\n",
       "      <th>vessel</th>\n",
       "      <th>encounter</th>\n",
       "      <th>fishing</th>\n",
       "      <th>gap</th>\n",
       "      <th>loitering</th>\n",
       "      <th>port_visit</th>\n",
       "    </tr>\n",
       "  </thead>\n",
       "  <tbody>\n",
       "    <tr>\n",
       "      <th>0</th>\n",
       "      <td>2016-12-17 20:57:49+00:00</td>\n",
       "      <td>2017-01-04 17:27:01+00:00</td>\n",
       "      <td>3ca9b73aee21fbf278a636709e0f8f03</td>\n",
       "      <td>fishing</td>\n",
       "      <td>{'lat': 54.9204, 'lon': -5.5465}</td>\n",
       "      <td>{'mpa': ['555624876', '555786438', '555786428'...</td>\n",
       "      <td>[-5.3292866667, 54.775575, -5.943021666699991,...</td>\n",
       "      <td>{'start_distance_from_shore_km': 14.0, 'end_di...</td>\n",
       "      <td>{'id': '126570026-6217-2a10-f383-a42f66f78ea7'...</td>\n",
       "      <td>None</td>\n",
       "      <td>{'total_distance_km': 1442.4600248679237, 'ave...</td>\n",
       "      <td>None</td>\n",
       "      <td>None</td>\n",
       "      <td>None</td>\n",
       "    </tr>\n",
       "  </tbody>\n",
       "</table>\n",
       "</div>"
      ],
      "text/plain": [
       "                      start                       end  \\\n",
       "0 2016-12-17 20:57:49+00:00 2017-01-04 17:27:01+00:00   \n",
       "\n",
       "                                 id     type  \\\n",
       "0  3ca9b73aee21fbf278a636709e0f8f03  fishing   \n",
       "\n",
       "                           position  \\\n",
       "0  {'lat': 54.9204, 'lon': -5.5465}   \n",
       "\n",
       "                                             regions  \\\n",
       "0  {'mpa': ['555624876', '555786438', '555786428'...   \n",
       "\n",
       "                                        bounding_box  \\\n",
       "0  [-5.3292866667, 54.775575, -5.943021666699991,...   \n",
       "\n",
       "                                           distances  \\\n",
       "0  {'start_distance_from_shore_km': 14.0, 'end_di...   \n",
       "\n",
       "                                              vessel encounter  \\\n",
       "0  {'id': '126570026-6217-2a10-f383-a42f66f78ea7'...      None   \n",
       "\n",
       "                                             fishing   gap loitering  \\\n",
       "0  {'total_distance_km': 1442.4600248679237, 'ave...  None      None   \n",
       "\n",
       "  port_visit  \n",
       "0       None  "
      ]
     },
     "execution_count": 35,
     "metadata": {},
     "output_type": "execute_result"
    }
   ],
   "source": [
    "event_df.head()"
   ]
  },
  {
   "cell_type": "markdown",
   "id": "41f1ff63-0e5b-44b2-b685-77dec7aa7cc4",
   "metadata": {},
   "source": [
    "### Statistics on events"
   ]
  },
  {
   "cell_type": "markdown",
   "id": "8b3fcbdb-8765-4d26-8bcc-34321be55a20",
   "metadata": {},
   "source": [
    "Get events statistics worldwide or for a specific region."
   ]
  },
  {
   "cell_type": "markdown",
   "id": "859aaefa-3ede-4173-b897-998f19ef0834",
   "metadata": {},
   "source": [
    "#### Define request parameters"
   ]
  },
  {
   "cell_type": "code",
   "execution_count": 36,
   "id": "20b6d76f-d9cd-4980-9966-6c546747b04c",
   "metadata": {},
   "outputs": [],
   "source": [
    "datasets = [EventDataset.FISHING_EVENTS_LATEST]\n",
    "start_date = datetime.date.fromisoformat(\"2018-01-01\")\n",
    "end_date = datetime.date.fromisoformat(\"2023-01-31\")"
   ]
  },
  {
   "cell_type": "markdown",
   "id": "8263dae3-32c2-4d9a-8b18-ee2b57fa88b6",
   "metadata": {},
   "source": [
    "#### Get event statistics"
   ]
  },
  {
   "cell_type": "code",
   "execution_count": 37,
   "id": "dd4a5e73-e377-4ef5-b822-5c68790dd732",
   "metadata": {},
   "outputs": [],
   "source": [
    "event_stats = await client.events.aget_event_stats(\n",
    "    datasets=datasets,\n",
    "    start_date=start_date,\n",
    "    end_date=end_date,\n",
    ")"
   ]
  },
  {
   "cell_type": "code",
   "execution_count": 38,
   "id": "7b554022-02a7-4a77-a2b4-194396bb2f36",
   "metadata": {},
   "outputs": [],
   "source": [
    "event_stats_df = event_stats.df(exclude={\"flags\"})"
   ]
  },
  {
   "cell_type": "code",
   "execution_count": 39,
   "id": "1129a970-b213-4135-b0cc-ec34c2932299",
   "metadata": {},
   "outputs": [
    {
     "name": "stdout",
     "output_type": "stream",
     "text": [
      "<class 'pandas.core.frame.DataFrame'>\n",
      "RangeIndex: 1 entries, 0 to 0\n",
      "Data columns (total 4 columns):\n",
      " #   Column       Non-Null Count  Dtype \n",
      "---  ------       --------------  ----- \n",
      " 0   num_events   1 non-null      int64 \n",
      " 1   num_flags    1 non-null      int64 \n",
      " 2   num_vessels  1 non-null      int64 \n",
      " 3   timeseries   1 non-null      object\n",
      "dtypes: int64(3), object(1)\n",
      "memory usage: 164.0+ bytes\n"
     ]
    }
   ],
   "source": [
    "event_stats_df.info()"
   ]
  },
  {
   "cell_type": "code",
   "execution_count": 40,
   "id": "1a63f3c4-b4cd-4c35-b163-519ccc14ea38",
   "metadata": {},
   "outputs": [
    {
     "data": {
      "text/html": [
       "<div>\n",
       "<style scoped>\n",
       "    .dataframe tbody tr th:only-of-type {\n",
       "        vertical-align: middle;\n",
       "    }\n",
       "\n",
       "    .dataframe tbody tr th {\n",
       "        vertical-align: top;\n",
       "    }\n",
       "\n",
       "    .dataframe thead th {\n",
       "        text-align: right;\n",
       "    }\n",
       "</style>\n",
       "<table border=\"1\" class=\"dataframe\">\n",
       "  <thead>\n",
       "    <tr style=\"text-align: right;\">\n",
       "      <th></th>\n",
       "      <th>num_events</th>\n",
       "      <th>num_flags</th>\n",
       "      <th>num_vessels</th>\n",
       "      <th>timeseries</th>\n",
       "    </tr>\n",
       "  </thead>\n",
       "  <tbody>\n",
       "    <tr>\n",
       "      <th>0</th>\n",
       "      <td>27628441</td>\n",
       "      <td>228</td>\n",
       "      <td>290857</td>\n",
       "      <td>[{'date': 2018-01-01 00:00:00+00:00, 'value': ...</td>\n",
       "    </tr>\n",
       "  </tbody>\n",
       "</table>\n",
       "</div>"
      ],
      "text/plain": [
       "   num_events  num_flags  num_vessels  \\\n",
       "0    27628441        228       290857   \n",
       "\n",
       "                                          timeseries  \n",
       "0  [{'date': 2018-01-01 00:00:00+00:00, 'value': ...  "
      ]
     },
     "execution_count": 40,
     "metadata": {},
     "output_type": "execute_result"
    }
   ],
   "source": [
    "event_stats_df.head()"
   ]
  },
  {
   "cell_type": "markdown",
   "id": "229901e1-53ad-440a-a3c0-58506756a875",
   "metadata": {},
   "source": [
    "## Insights API"
   ]
  },
  {
   "cell_type": "markdown",
   "id": "5f573c15-0404-420a-bc24-11d4cc87f967",
   "metadata": {},
   "source": [
    "The [Insights API](https://globalfishingwatch.org/our-apis/documentation#insights-api) is a set of indicators or `vessel insights` that bring together important information on a vessel's known activity (based on AIS), vessel identity information and public authorizations. The objective of the insights is to support risk-based decision-making, operational planning, and other due diligence activities by making it easier for a user to identify vessel characteristics that can indicate an increased potential or opportunity for a vessel to engage in IUU (Illegal, Unreported, or Unregulated) fishing.\n"
   ]
  },
  {
   "cell_type": "markdown",
   "id": "fa89dba2-ea1b-4df8-90b8-b93cef9c0233",
   "metadata": {},
   "source": [
    "### Insights by vessels"
   ]
  },
  {
   "cell_type": "markdown",
   "id": "f4b0ca41-a43a-497c-b977-3dbd9691debf",
   "metadata": {},
   "source": [
    "This endpoint allow to get vessel insights for one or several vessels"
   ]
  },
  {
   "cell_type": "markdown",
   "id": "bd531c7d-5d33-47ae-9409-fa0fc8091aab",
   "metadata": {},
   "source": [
    "#### Import necessary data types"
   ]
  },
  {
   "cell_type": "code",
   "execution_count": 41,
   "id": "b7f57309-2fc8-4485-b940-d99f56b9493b",
   "metadata": {},
   "outputs": [],
   "source": [
    "from gfwapiclient.resources.insights.models.request import (\n",
    "    VesselInsightIdBody,\n",
    "    VesselInsightInclude,\n",
    ")"
   ]
  },
  {
   "cell_type": "markdown",
   "id": "7d8c45ae-d55f-4f53-ae99-65240d8d5d07",
   "metadata": {},
   "source": [
    "#### Define request parameters"
   ]
  },
  {
   "cell_type": "code",
   "execution_count": 42,
   "id": "13cb0dd6-f75c-428a-a491-69019e230374",
   "metadata": {},
   "outputs": [],
   "source": [
    "start_date = datetime.date.fromisoformat(\"2020-01-01\")\n",
    "end_date = datetime.date.fromisoformat(\"2025-03-03\")\n",
    "\n",
    "vessels = [\n",
    "    VesselInsightIdBody(\n",
    "        dataset_id=\"public-global-vessel-identity:latest\",\n",
    "        vessel_id=\"2d26aa452-2d4f-4cae-2ec4-377f85e88dcb\",\n",
    "    ),\n",
    "]"
   ]
  },
  {
   "cell_type": "markdown",
   "id": "73f84969-6dca-4cb3-aeac-7d8d330b442d",
   "metadata": {},
   "source": [
    "#### Get any apparent fishing insights of vessels"
   ]
  },
  {
   "cell_type": "code",
   "execution_count": 43,
   "id": "f206a36c-f49d-4318-b0bb-8b6b21f58731",
   "metadata": {},
   "outputs": [],
   "source": [
    "includes = [\n",
    "    VesselInsightInclude.FISHING,\n",
    "]"
   ]
  },
  {
   "cell_type": "code",
   "execution_count": 44,
   "id": "649d7f90-e1b9-485d-8f4f-b459ce573d46",
   "metadata": {},
   "outputs": [],
   "source": [
    "fishing_insights = await client.insights.aget_vessel_insights(\n",
    "    includes=includes,\n",
    "    start_date=start_date,\n",
    "    end_date=end_date,\n",
    "    vessels=vessels,\n",
    ")"
   ]
  },
  {
   "cell_type": "code",
   "execution_count": 45,
   "id": "72224434-f8ab-411f-b1b5-09a421ce4e60",
   "metadata": {},
   "outputs": [],
   "source": [
    "fishing_insights_df = fishing_insights.df()"
   ]
  },
  {
   "cell_type": "code",
   "execution_count": 46,
   "id": "76fab5b1-d243-4ab7-8baf-f5c0dce8e631",
   "metadata": {},
   "outputs": [
    {
     "name": "stdout",
     "output_type": "stream",
     "text": [
      "<class 'pandas.core.frame.DataFrame'>\n",
      "RangeIndex: 1 entries, 0 to 0\n",
      "Data columns (total 6 columns):\n",
      " #   Column                       Non-Null Count  Dtype \n",
      "---  ------                       --------------  ----- \n",
      " 0   period                       1 non-null      object\n",
      " 1   vessel_ids_without_identity  0 non-null      object\n",
      " 2   gap                          0 non-null      object\n",
      " 3   coverage                     0 non-null      object\n",
      " 4   apparent_fishing             1 non-null      object\n",
      " 5   vessel_identity              0 non-null      object\n",
      "dtypes: object(6)\n",
      "memory usage: 180.0+ bytes\n"
     ]
    }
   ],
   "source": [
    "fishing_insights_df.info()"
   ]
  },
  {
   "cell_type": "code",
   "execution_count": 47,
   "id": "e3e47f34-aa07-48d3-8bc2-0277bb0a0883",
   "metadata": {},
   "outputs": [
    {
     "data": {
      "text/html": [
       "<div>\n",
       "<style scoped>\n",
       "    .dataframe tbody tr th:only-of-type {\n",
       "        vertical-align: middle;\n",
       "    }\n",
       "\n",
       "    .dataframe tbody tr th {\n",
       "        vertical-align: top;\n",
       "    }\n",
       "\n",
       "    .dataframe thead th {\n",
       "        text-align: right;\n",
       "    }\n",
       "</style>\n",
       "<table border=\"1\" class=\"dataframe\">\n",
       "  <thead>\n",
       "    <tr style=\"text-align: right;\">\n",
       "      <th></th>\n",
       "      <th>period</th>\n",
       "      <th>vessel_ids_without_identity</th>\n",
       "      <th>gap</th>\n",
       "      <th>coverage</th>\n",
       "      <th>apparent_fishing</th>\n",
       "      <th>vessel_identity</th>\n",
       "    </tr>\n",
       "  </thead>\n",
       "  <tbody>\n",
       "    <tr>\n",
       "      <th>0</th>\n",
       "      <td>{'start_date': 2020-01-01, 'end_date': 2025-03...</td>\n",
       "      <td>None</td>\n",
       "      <td>None</td>\n",
       "      <td>None</td>\n",
       "      <td>{'datasets': ['public-global-fishing-events:v3...</td>\n",
       "      <td>None</td>\n",
       "    </tr>\n",
       "  </tbody>\n",
       "</table>\n",
       "</div>"
      ],
      "text/plain": [
       "                                              period  \\\n",
       "0  {'start_date': 2020-01-01, 'end_date': 2025-03...   \n",
       "\n",
       "  vessel_ids_without_identity   gap coverage  \\\n",
       "0                        None  None     None   \n",
       "\n",
       "                                    apparent_fishing vessel_identity  \n",
       "0  {'datasets': ['public-global-fishing-events:v3...            None  "
      ]
     },
     "execution_count": 47,
     "metadata": {},
     "output_type": "execute_result"
    }
   ],
   "source": [
    "fishing_insights_df.head()"
   ]
  },
  {
   "cell_type": "markdown",
   "id": "461850e6-10a1-4dc5-bad8-1a2737df6491",
   "metadata": {},
   "source": [
    "#### Get being present on an RFMO IUU vessel list insights of vessels"
   ]
  },
  {
   "cell_type": "code",
   "execution_count": 48,
   "id": "8b86df3a-3b77-4c1b-af52-e676a8fa73e2",
   "metadata": {},
   "outputs": [],
   "source": [
    "includes = [\n",
    "    VesselInsightInclude.VESSEL_IDENTITY_IUU_VESSEL_LIST,\n",
    "]"
   ]
  },
  {
   "cell_type": "code",
   "execution_count": 49,
   "id": "19d4bfe2-8578-4ce2-bac0-5b27f8b21891",
   "metadata": {},
   "outputs": [],
   "source": [
    "iuu_insights = await client.insights.aget_vessel_insights(\n",
    "    includes=includes,\n",
    "    start_date=start_date,\n",
    "    end_date=end_date,\n",
    "    vessels=vessels,\n",
    ")"
   ]
  },
  {
   "cell_type": "code",
   "execution_count": 50,
   "id": "c9ec285a-d1c9-4d9a-a3d4-e7095b410e8f",
   "metadata": {},
   "outputs": [],
   "source": [
    "iuu_insights_df = iuu_insights.df()"
   ]
  },
  {
   "cell_type": "code",
   "execution_count": 51,
   "id": "ad9bd852-959d-4ab1-aa09-32d4195c9b76",
   "metadata": {},
   "outputs": [
    {
     "name": "stdout",
     "output_type": "stream",
     "text": [
      "<class 'pandas.core.frame.DataFrame'>\n",
      "RangeIndex: 1 entries, 0 to 0\n",
      "Data columns (total 6 columns):\n",
      " #   Column                       Non-Null Count  Dtype \n",
      "---  ------                       --------------  ----- \n",
      " 0   period                       1 non-null      object\n",
      " 1   vessel_ids_without_identity  0 non-null      object\n",
      " 2   gap                          0 non-null      object\n",
      " 3   coverage                     0 non-null      object\n",
      " 4   apparent_fishing             0 non-null      object\n",
      " 5   vessel_identity              1 non-null      object\n",
      "dtypes: object(6)\n",
      "memory usage: 180.0+ bytes\n"
     ]
    }
   ],
   "source": [
    "iuu_insights_df.info()"
   ]
  },
  {
   "cell_type": "code",
   "execution_count": 52,
   "id": "aaef1c7a-da07-4f87-a221-593e24f22b99",
   "metadata": {},
   "outputs": [
    {
     "data": {
      "text/html": [
       "<div>\n",
       "<style scoped>\n",
       "    .dataframe tbody tr th:only-of-type {\n",
       "        vertical-align: middle;\n",
       "    }\n",
       "\n",
       "    .dataframe tbody tr th {\n",
       "        vertical-align: top;\n",
       "    }\n",
       "\n",
       "    .dataframe thead th {\n",
       "        text-align: right;\n",
       "    }\n",
       "</style>\n",
       "<table border=\"1\" class=\"dataframe\">\n",
       "  <thead>\n",
       "    <tr style=\"text-align: right;\">\n",
       "      <th></th>\n",
       "      <th>period</th>\n",
       "      <th>vessel_ids_without_identity</th>\n",
       "      <th>gap</th>\n",
       "      <th>coverage</th>\n",
       "      <th>apparent_fishing</th>\n",
       "      <th>vessel_identity</th>\n",
       "    </tr>\n",
       "  </thead>\n",
       "  <tbody>\n",
       "    <tr>\n",
       "      <th>0</th>\n",
       "      <td>{'start_date': 2020-01-01, 'end_date': 2025-03...</td>\n",
       "      <td>None</td>\n",
       "      <td>None</td>\n",
       "      <td>None</td>\n",
       "      <td>None</td>\n",
       "      <td>{'datasets': ['public-global-vessel-identity:v...</td>\n",
       "    </tr>\n",
       "  </tbody>\n",
       "</table>\n",
       "</div>"
      ],
      "text/plain": [
       "                                              period  \\\n",
       "0  {'start_date': 2020-01-01, 'end_date': 2025-03...   \n",
       "\n",
       "  vessel_ids_without_identity   gap coverage apparent_fishing  \\\n",
       "0                        None  None     None             None   \n",
       "\n",
       "                                     vessel_identity  \n",
       "0  {'datasets': ['public-global-vessel-identity:v...  "
      ]
     },
     "execution_count": 52,
     "metadata": {},
     "output_type": "execute_result"
    }
   ],
   "source": [
    "iuu_insights_df.head()"
   ]
  },
  {
   "cell_type": "markdown",
   "id": "3d43b28b-4521-45bd-a63a-3d152062ff63",
   "metadata": {},
   "source": [
    "#### Get AIS off insights of vessels"
   ]
  },
  {
   "cell_type": "code",
   "execution_count": 53,
   "id": "ee45cba7-26e1-4753-8701-4228bfdd1a5c",
   "metadata": {},
   "outputs": [],
   "source": [
    "includes = [\n",
    "    VesselInsightInclude.GAP,\n",
    "]"
   ]
  },
  {
   "cell_type": "code",
   "execution_count": 54,
   "id": "0265012a-9650-44ef-bda9-4b84417b14c0",
   "metadata": {},
   "outputs": [],
   "source": [
    "gap_insights = await client.insights.aget_vessel_insights(\n",
    "    includes=includes,\n",
    "    start_date=start_date,\n",
    "    end_date=end_date,\n",
    "    vessels=vessels,\n",
    ")"
   ]
  },
  {
   "cell_type": "code",
   "execution_count": 55,
   "id": "0669e946-5e20-4ba2-b06a-2f936858b42e",
   "metadata": {},
   "outputs": [],
   "source": [
    "gap_insights_df = gap_insights.df()"
   ]
  },
  {
   "cell_type": "code",
   "execution_count": 56,
   "id": "8ea3a5b3-c30b-40ee-bbd7-8949b2f1839e",
   "metadata": {},
   "outputs": [
    {
     "name": "stdout",
     "output_type": "stream",
     "text": [
      "<class 'pandas.core.frame.DataFrame'>\n",
      "RangeIndex: 1 entries, 0 to 0\n",
      "Data columns (total 6 columns):\n",
      " #   Column                       Non-Null Count  Dtype \n",
      "---  ------                       --------------  ----- \n",
      " 0   period                       1 non-null      object\n",
      " 1   vessel_ids_without_identity  0 non-null      object\n",
      " 2   gap                          1 non-null      object\n",
      " 3   coverage                     0 non-null      object\n",
      " 4   apparent_fishing             0 non-null      object\n",
      " 5   vessel_identity              0 non-null      object\n",
      "dtypes: object(6)\n",
      "memory usage: 180.0+ bytes\n"
     ]
    }
   ],
   "source": [
    "gap_insights_df.info()"
   ]
  },
  {
   "cell_type": "code",
   "execution_count": 57,
   "id": "cfb2f60a-2876-469f-afe2-15a57e7d8ded",
   "metadata": {},
   "outputs": [
    {
     "data": {
      "text/html": [
       "<div>\n",
       "<style scoped>\n",
       "    .dataframe tbody tr th:only-of-type {\n",
       "        vertical-align: middle;\n",
       "    }\n",
       "\n",
       "    .dataframe tbody tr th {\n",
       "        vertical-align: top;\n",
       "    }\n",
       "\n",
       "    .dataframe thead th {\n",
       "        text-align: right;\n",
       "    }\n",
       "</style>\n",
       "<table border=\"1\" class=\"dataframe\">\n",
       "  <thead>\n",
       "    <tr style=\"text-align: right;\">\n",
       "      <th></th>\n",
       "      <th>period</th>\n",
       "      <th>vessel_ids_without_identity</th>\n",
       "      <th>gap</th>\n",
       "      <th>coverage</th>\n",
       "      <th>apparent_fishing</th>\n",
       "      <th>vessel_identity</th>\n",
       "    </tr>\n",
       "  </thead>\n",
       "  <tbody>\n",
       "    <tr>\n",
       "      <th>0</th>\n",
       "      <td>{'start_date': 2020-01-01, 'end_date': 2025-03...</td>\n",
       "      <td>None</td>\n",
       "      <td>{'datasets': ['public-global-gaps-events:v3.0'...</td>\n",
       "      <td>None</td>\n",
       "      <td>None</td>\n",
       "      <td>None</td>\n",
       "    </tr>\n",
       "  </tbody>\n",
       "</table>\n",
       "</div>"
      ],
      "text/plain": [
       "                                              period  \\\n",
       "0  {'start_date': 2020-01-01, 'end_date': 2025-03...   \n",
       "\n",
       "  vessel_ids_without_identity  \\\n",
       "0                        None   \n",
       "\n",
       "                                                 gap coverage  \\\n",
       "0  {'datasets': ['public-global-gaps-events:v3.0'...     None   \n",
       "\n",
       "  apparent_fishing vessel_identity  \n",
       "0             None            None  "
      ]
     },
     "execution_count": 57,
     "metadata": {},
     "output_type": "execute_result"
    }
   ],
   "source": [
    "gap_insights_df.head()"
   ]
  },
  {
   "cell_type": "markdown",
   "id": "55edd11d-4f99-401f-bf72-66522a1f81cb",
   "metadata": {},
   "source": [
    "#### Get AIS coverage metric insights of vessels"
   ]
  },
  {
   "cell_type": "code",
   "execution_count": 58,
   "id": "65569aab-016d-48e7-8cce-f4d0a41a1f28",
   "metadata": {},
   "outputs": [],
   "source": [
    "includes = [\n",
    "    VesselInsightInclude.COVERAGE,\n",
    "]"
   ]
  },
  {
   "cell_type": "code",
   "execution_count": 59,
   "id": "8d484720-45a9-4151-b698-17355dffa3e4",
   "metadata": {},
   "outputs": [],
   "source": [
    "coverage_insights = await client.insights.aget_vessel_insights(\n",
    "    includes=includes,\n",
    "    start_date=start_date,\n",
    "    end_date=end_date,\n",
    "    vessels=vessels,\n",
    ")"
   ]
  },
  {
   "cell_type": "code",
   "execution_count": 60,
   "id": "afb5ab86-8889-40f1-b5eb-88c34118bec1",
   "metadata": {},
   "outputs": [],
   "source": [
    "coverage_insights_df = coverage_insights.df()"
   ]
  },
  {
   "cell_type": "code",
   "execution_count": 61,
   "id": "3b509d22-48b9-4364-9ae2-64b6dcdd18a1",
   "metadata": {},
   "outputs": [
    {
     "name": "stdout",
     "output_type": "stream",
     "text": [
      "<class 'pandas.core.frame.DataFrame'>\n",
      "RangeIndex: 1 entries, 0 to 0\n",
      "Data columns (total 6 columns):\n",
      " #   Column                       Non-Null Count  Dtype \n",
      "---  ------                       --------------  ----- \n",
      " 0   period                       1 non-null      object\n",
      " 1   vessel_ids_without_identity  0 non-null      object\n",
      " 2   gap                          0 non-null      object\n",
      " 3   coverage                     1 non-null      object\n",
      " 4   apparent_fishing             0 non-null      object\n",
      " 5   vessel_identity              0 non-null      object\n",
      "dtypes: object(6)\n",
      "memory usage: 180.0+ bytes\n"
     ]
    }
   ],
   "source": [
    "coverage_insights_df.info()"
   ]
  },
  {
   "cell_type": "code",
   "execution_count": 62,
   "id": "c97757d8-0356-48be-895a-63b4e3364d54",
   "metadata": {},
   "outputs": [
    {
     "data": {
      "text/html": [
       "<div>\n",
       "<style scoped>\n",
       "    .dataframe tbody tr th:only-of-type {\n",
       "        vertical-align: middle;\n",
       "    }\n",
       "\n",
       "    .dataframe tbody tr th {\n",
       "        vertical-align: top;\n",
       "    }\n",
       "\n",
       "    .dataframe thead th {\n",
       "        text-align: right;\n",
       "    }\n",
       "</style>\n",
       "<table border=\"1\" class=\"dataframe\">\n",
       "  <thead>\n",
       "    <tr style=\"text-align: right;\">\n",
       "      <th></th>\n",
       "      <th>period</th>\n",
       "      <th>vessel_ids_without_identity</th>\n",
       "      <th>gap</th>\n",
       "      <th>coverage</th>\n",
       "      <th>apparent_fishing</th>\n",
       "      <th>vessel_identity</th>\n",
       "    </tr>\n",
       "  </thead>\n",
       "  <tbody>\n",
       "    <tr>\n",
       "      <th>0</th>\n",
       "      <td>{'start_date': 2020-01-01, 'end_date': 2025-03...</td>\n",
       "      <td>None</td>\n",
       "      <td>None</td>\n",
       "      <td>{'blocks': 4599, 'blocks_with_positions': 4044...</td>\n",
       "      <td>None</td>\n",
       "      <td>None</td>\n",
       "    </tr>\n",
       "  </tbody>\n",
       "</table>\n",
       "</div>"
      ],
      "text/plain": [
       "                                              period  \\\n",
       "0  {'start_date': 2020-01-01, 'end_date': 2025-03...   \n",
       "\n",
       "  vessel_ids_without_identity   gap  \\\n",
       "0                        None  None   \n",
       "\n",
       "                                            coverage apparent_fishing  \\\n",
       "0  {'blocks': 4599, 'blocks_with_positions': 4044...             None   \n",
       "\n",
       "  vessel_identity  \n",
       "0            None  "
      ]
     },
     "execution_count": 62,
     "metadata": {},
     "output_type": "execute_result"
    }
   ],
   "source": [
    "coverage_insights_df.head()"
   ]
  },
  {
   "cell_type": "markdown",
   "id": "66c29155-9a00-4d5a-ab81-2115656f5e42",
   "metadata": {},
   "source": [
    "#### Get all insights of vessels"
   ]
  },
  {
   "cell_type": "code",
   "execution_count": 63,
   "id": "9cf3921a-5b38-4d4f-97aa-e45bcfe7b280",
   "metadata": {},
   "outputs": [],
   "source": [
    "includes = [\n",
    "    VesselInsightInclude.GAP,\n",
    "    VesselInsightInclude.COVERAGE,\n",
    "    VesselInsightInclude.FISHING,\n",
    "    VesselInsightInclude.VESSEL_IDENTITY_IUU_VESSEL_LIST,\n",
    "]"
   ]
  },
  {
   "cell_type": "code",
   "execution_count": 64,
   "id": "7d863b6f-eece-4f99-8396-53f6d9d0bd45",
   "metadata": {},
   "outputs": [],
   "source": [
    "all_insights = await client.insights.aget_vessel_insights(\n",
    "    includes=includes,\n",
    "    start_date=start_date,\n",
    "    end_date=end_date,\n",
    "    vessels=vessels,\n",
    ")"
   ]
  },
  {
   "cell_type": "code",
   "execution_count": 65,
   "id": "7dab9ac7-12d3-4b2f-8c98-85e7962fc45d",
   "metadata": {},
   "outputs": [],
   "source": [
    "all_insights_df = all_insights.df()"
   ]
  },
  {
   "cell_type": "code",
   "execution_count": 66,
   "id": "bdec40d9-0d5b-4757-b466-f9323cfbea51",
   "metadata": {},
   "outputs": [
    {
     "name": "stdout",
     "output_type": "stream",
     "text": [
      "<class 'pandas.core.frame.DataFrame'>\n",
      "RangeIndex: 1 entries, 0 to 0\n",
      "Data columns (total 6 columns):\n",
      " #   Column                       Non-Null Count  Dtype \n",
      "---  ------                       --------------  ----- \n",
      " 0   period                       1 non-null      object\n",
      " 1   vessel_ids_without_identity  0 non-null      object\n",
      " 2   gap                          1 non-null      object\n",
      " 3   coverage                     1 non-null      object\n",
      " 4   apparent_fishing             1 non-null      object\n",
      " 5   vessel_identity              1 non-null      object\n",
      "dtypes: object(6)\n",
      "memory usage: 180.0+ bytes\n"
     ]
    }
   ],
   "source": [
    "all_insights_df.info()"
   ]
  },
  {
   "cell_type": "code",
   "execution_count": 67,
   "id": "a310db50-070f-4b5f-a436-410d7526965a",
   "metadata": {},
   "outputs": [
    {
     "data": {
      "text/html": [
       "<div>\n",
       "<style scoped>\n",
       "    .dataframe tbody tr th:only-of-type {\n",
       "        vertical-align: middle;\n",
       "    }\n",
       "\n",
       "    .dataframe tbody tr th {\n",
       "        vertical-align: top;\n",
       "    }\n",
       "\n",
       "    .dataframe thead th {\n",
       "        text-align: right;\n",
       "    }\n",
       "</style>\n",
       "<table border=\"1\" class=\"dataframe\">\n",
       "  <thead>\n",
       "    <tr style=\"text-align: right;\">\n",
       "      <th></th>\n",
       "      <th>period</th>\n",
       "      <th>vessel_ids_without_identity</th>\n",
       "      <th>gap</th>\n",
       "      <th>coverage</th>\n",
       "      <th>apparent_fishing</th>\n",
       "      <th>vessel_identity</th>\n",
       "    </tr>\n",
       "  </thead>\n",
       "  <tbody>\n",
       "    <tr>\n",
       "      <th>0</th>\n",
       "      <td>{'start_date': 2020-01-01, 'end_date': 2025-03...</td>\n",
       "      <td>None</td>\n",
       "      <td>{'datasets': ['public-global-gaps-events:v3.0'...</td>\n",
       "      <td>{'blocks': 4599, 'blocks_with_positions': 4044...</td>\n",
       "      <td>{'datasets': ['public-global-fishing-events:v3...</td>\n",
       "      <td>{'datasets': ['public-global-vessel-identity:v...</td>\n",
       "    </tr>\n",
       "  </tbody>\n",
       "</table>\n",
       "</div>"
      ],
      "text/plain": [
       "                                              period  \\\n",
       "0  {'start_date': 2020-01-01, 'end_date': 2025-03...   \n",
       "\n",
       "  vessel_ids_without_identity  \\\n",
       "0                        None   \n",
       "\n",
       "                                                 gap  \\\n",
       "0  {'datasets': ['public-global-gaps-events:v3.0'...   \n",
       "\n",
       "                                            coverage  \\\n",
       "0  {'blocks': 4599, 'blocks_with_positions': 4044...   \n",
       "\n",
       "                                    apparent_fishing  \\\n",
       "0  {'datasets': ['public-global-fishing-events:v3...   \n",
       "\n",
       "                                     vessel_identity  \n",
       "0  {'datasets': ['public-global-vessel-identity:v...  "
      ]
     },
     "execution_count": 67,
     "metadata": {},
     "output_type": "execute_result"
    }
   ],
   "source": [
    "all_insights_df.head()"
   ]
  },
  {
   "cell_type": "markdown",
   "id": "8652c4c4-7081-4f8f-a93d-09432b9fd5ab",
   "metadata": {},
   "source": [
    "## Reference Data API"
   ]
  },
  {
   "cell_type": "markdown",
   "id": "bf8ee3c0-688d-424f-9983-0ce58b68986e",
   "metadata": {},
   "source": [
    "### Regions"
   ]
  },
  {
   "cell_type": "markdown",
   "id": "54fe04a0-94b5-418d-b0ce-e4e2c26cd972",
   "metadata": {},
   "source": [
    "The `Events API` and `4Wings API - Report` uses regions ids. In order to get the details of those regions, call the endpoints described below."
   ]
  },
  {
   "cell_type": "markdown",
   "id": "995fb251-6875-4bed-8f21-233e178958f1",
   "metadata": {},
   "source": [
    "#### Get list of Exclusive economic zones (EEZs)"
   ]
  },
  {
   "cell_type": "code",
   "execution_count": 68,
   "id": "6135c7cb-f7b3-4795-a3bf-8038a08547a5",
   "metadata": {},
   "outputs": [],
   "source": [
    "eez_regions = await client.references.aget_eez_regions()"
   ]
  },
  {
   "cell_type": "code",
   "execution_count": 69,
   "id": "eef98e6a-672a-4fba-b64b-2804961a7872",
   "metadata": {},
   "outputs": [],
   "source": [
    "eez_regions_df = eez_regions.df()"
   ]
  },
  {
   "cell_type": "code",
   "execution_count": 70,
   "id": "21288d4a-d827-4ee9-bd37-4b46f6167b61",
   "metadata": {},
   "outputs": [
    {
     "name": "stdout",
     "output_type": "stream",
     "text": [
      "<class 'pandas.core.frame.DataFrame'>\n",
      "RangeIndex: 282 entries, 0 to 281\n",
      "Data columns (total 4 columns):\n",
      " #   Column   Non-Null Count  Dtype  \n",
      "---  ------   --------------  -----  \n",
      " 0   id       281 non-null    float64\n",
      " 1   label    282 non-null    object \n",
      " 2   iso3     282 non-null    object \n",
      " 3   dataset  282 non-null    object \n",
      "dtypes: float64(1), object(3)\n",
      "memory usage: 8.9+ KB\n"
     ]
    }
   ],
   "source": [
    "eez_regions_df.info()"
   ]
  },
  {
   "cell_type": "code",
   "execution_count": 71,
   "id": "3ed19b46-0aa7-4f04-9d4f-6349d68284ea",
   "metadata": {},
   "outputs": [
    {
     "data": {
      "text/html": [
       "<div>\n",
       "<style scoped>\n",
       "    .dataframe tbody tr th:only-of-type {\n",
       "        vertical-align: middle;\n",
       "    }\n",
       "\n",
       "    .dataframe tbody tr th {\n",
       "        vertical-align: top;\n",
       "    }\n",
       "\n",
       "    .dataframe thead th {\n",
       "        text-align: right;\n",
       "    }\n",
       "</style>\n",
       "<table border=\"1\" class=\"dataframe\">\n",
       "  <thead>\n",
       "    <tr style=\"text-align: right;\">\n",
       "      <th></th>\n",
       "      <th>id</th>\n",
       "      <th>label</th>\n",
       "      <th>iso3</th>\n",
       "      <th>dataset</th>\n",
       "    </tr>\n",
       "  </thead>\n",
       "  <tbody>\n",
       "    <tr>\n",
       "      <th>0</th>\n",
       "      <td>5675.0</td>\n",
       "      <td>Estonia</td>\n",
       "      <td>EST</td>\n",
       "      <td>public-eez-areas</td>\n",
       "    </tr>\n",
       "    <tr>\n",
       "      <th>1</th>\n",
       "      <td>48944.0</td>\n",
       "      <td>Mayotte</td>\n",
       "      <td>FRA</td>\n",
       "      <td>public-eez-areas</td>\n",
       "    </tr>\n",
       "    <tr>\n",
       "      <th>2</th>\n",
       "      <td>50170.0</td>\n",
       "      <td>Overlapping claim Qatar / Saudi Arabia / Unite...</td>\n",
       "      <td>QAT</td>\n",
       "      <td>public-eez-areas</td>\n",
       "    </tr>\n",
       "    <tr>\n",
       "      <th>3</th>\n",
       "      <td>8475.0</td>\n",
       "      <td>Cameroon</td>\n",
       "      <td>CMR</td>\n",
       "      <td>public-eez-areas</td>\n",
       "    </tr>\n",
       "    <tr>\n",
       "      <th>4</th>\n",
       "      <td>5676.0</td>\n",
       "      <td>Finland</td>\n",
       "      <td>FIN</td>\n",
       "      <td>public-eez-areas</td>\n",
       "    </tr>\n",
       "  </tbody>\n",
       "</table>\n",
       "</div>"
      ],
      "text/plain": [
       "        id                                              label iso3  \\\n",
       "0   5675.0                                            Estonia  EST   \n",
       "1  48944.0                                            Mayotte  FRA   \n",
       "2  50170.0  Overlapping claim Qatar / Saudi Arabia / Unite...  QAT   \n",
       "3   8475.0                                           Cameroon  CMR   \n",
       "4   5676.0                                            Finland  FIN   \n",
       "\n",
       "            dataset  \n",
       "0  public-eez-areas  \n",
       "1  public-eez-areas  \n",
       "2  public-eez-areas  \n",
       "3  public-eez-areas  \n",
       "4  public-eez-areas  "
      ]
     },
     "execution_count": 71,
     "metadata": {},
     "output_type": "execute_result"
    }
   ],
   "source": [
    "eez_regions_df.head()"
   ]
  },
  {
   "cell_type": "markdown",
   "id": "5b50762c-4927-4a20-baf4-84a346258c12",
   "metadata": {},
   "source": [
    "#### Get list of Marine protected areas (MPAs)"
   ]
  },
  {
   "cell_type": "code",
   "execution_count": 72,
   "id": "3ee2b745-cbcd-427d-8e62-b5333bd880d7",
   "metadata": {},
   "outputs": [],
   "source": [
    "mpa_regions = await client.references.aget_mpa_regions()"
   ]
  },
  {
   "cell_type": "code",
   "execution_count": 73,
   "id": "e85eeab9-a40b-4748-9ac5-23c7b2a787a5",
   "metadata": {},
   "outputs": [],
   "source": [
    "mpa_regions_df = mpa_regions.df()"
   ]
  },
  {
   "cell_type": "code",
   "execution_count": 74,
   "id": "14445a9f-227f-4e70-b727-280e3f1aa019",
   "metadata": {},
   "outputs": [
    {
     "name": "stdout",
     "output_type": "stream",
     "text": [
      "<class 'pandas.core.frame.DataFrame'>\n",
      "RangeIndex: 16611 entries, 0 to 16610\n",
      "Data columns (total 4 columns):\n",
      " #   Column   Non-Null Count  Dtype \n",
      "---  ------   --------------  ----- \n",
      " 0   id       16611 non-null  object\n",
      " 1   label    16611 non-null  object\n",
      " 2   name     16611 non-null  object\n",
      " 3   dataset  16611 non-null  object\n",
      "dtypes: object(4)\n",
      "memory usage: 519.2+ KB\n"
     ]
    }
   ],
   "source": [
    "mpa_regions_df.info()"
   ]
  },
  {
   "cell_type": "code",
   "execution_count": 75,
   "id": "4fb47254-7c45-4135-a9ae-25077f8f8c85",
   "metadata": {},
   "outputs": [
    {
     "data": {
      "text/html": [
       "<div>\n",
       "<style scoped>\n",
       "    .dataframe tbody tr th:only-of-type {\n",
       "        vertical-align: middle;\n",
       "    }\n",
       "\n",
       "    .dataframe tbody tr th {\n",
       "        vertical-align: top;\n",
       "    }\n",
       "\n",
       "    .dataframe thead th {\n",
       "        text-align: right;\n",
       "    }\n",
       "</style>\n",
       "<table border=\"1\" class=\"dataframe\">\n",
       "  <thead>\n",
       "    <tr style=\"text-align: right;\">\n",
       "      <th></th>\n",
       "      <th>id</th>\n",
       "      <th>label</th>\n",
       "      <th>name</th>\n",
       "      <th>dataset</th>\n",
       "    </tr>\n",
       "  </thead>\n",
       "  <tbody>\n",
       "    <tr>\n",
       "      <th>0</th>\n",
       "      <td>1</td>\n",
       "      <td>Diamond Reef and Salt Fish Tail Reef - Marine ...</td>\n",
       "      <td>Diamond Reef and Salt Fish Tail Reef</td>\n",
       "      <td>public-mpa-all</td>\n",
       "    </tr>\n",
       "    <tr>\n",
       "      <th>1</th>\n",
       "      <td>2</td>\n",
       "      <td>Palaster Reef - Marine Reserve</td>\n",
       "      <td>Palaster Reef</td>\n",
       "      <td>public-mpa-all</td>\n",
       "    </tr>\n",
       "    <tr>\n",
       "      <th>2</th>\n",
       "      <td>27</td>\n",
       "      <td>Folkstone - Marine Reserve</td>\n",
       "      <td>Folkstone</td>\n",
       "      <td>public-mpa-all</td>\n",
       "    </tr>\n",
       "    <tr>\n",
       "      <th>3</th>\n",
       "      <td>46</td>\n",
       "      <td>Reserva Biológica Atol Das Rocas - Reserva Bio...</td>\n",
       "      <td>Reserva Biológica Atol Das Rocas</td>\n",
       "      <td>public-mpa-all</td>\n",
       "    </tr>\n",
       "    <tr>\n",
       "      <th>4</th>\n",
       "      <td>57</td>\n",
       "      <td>Parque Nacional Do Cabo Orange - Parque</td>\n",
       "      <td>Parque Nacional Do Cabo Orange</td>\n",
       "      <td>public-mpa-all</td>\n",
       "    </tr>\n",
       "  </tbody>\n",
       "</table>\n",
       "</div>"
      ],
      "text/plain": [
       "   id                                              label  \\\n",
       "0   1  Diamond Reef and Salt Fish Tail Reef - Marine ...   \n",
       "1   2                     Palaster Reef - Marine Reserve   \n",
       "2  27                         Folkstone - Marine Reserve   \n",
       "3  46  Reserva Biológica Atol Das Rocas - Reserva Bio...   \n",
       "4  57            Parque Nacional Do Cabo Orange - Parque   \n",
       "\n",
       "                                   name         dataset  \n",
       "0  Diamond Reef and Salt Fish Tail Reef  public-mpa-all  \n",
       "1                         Palaster Reef  public-mpa-all  \n",
       "2                             Folkstone  public-mpa-all  \n",
       "3      Reserva Biológica Atol Das Rocas  public-mpa-all  \n",
       "4        Parque Nacional Do Cabo Orange  public-mpa-all  "
      ]
     },
     "execution_count": 75,
     "metadata": {},
     "output_type": "execute_result"
    }
   ],
   "source": [
    "mpa_regions_df.head()"
   ]
  },
  {
   "cell_type": "markdown",
   "id": "71bc0d11-deb2-4379-b199-5701677a1d8d",
   "metadata": {},
   "source": [
    "#### Get list of Regional fisheries management organization (RFMO)"
   ]
  },
  {
   "cell_type": "code",
   "execution_count": 76,
   "id": "5296213e-4e78-474f-b2aa-48cfabe9f5a2",
   "metadata": {},
   "outputs": [],
   "source": [
    "rfmo_regions = await client.references.aget_rfmo_regions()"
   ]
  },
  {
   "cell_type": "code",
   "execution_count": 77,
   "id": "65f398d5-d766-4e23-ae3e-36d1108ac57c",
   "metadata": {},
   "outputs": [],
   "source": [
    "rfmo_regions_df = rfmo_regions.df()"
   ]
  },
  {
   "cell_type": "code",
   "execution_count": 78,
   "id": "732a0fc3-9cce-48b5-910a-284f4d190175",
   "metadata": {},
   "outputs": [
    {
     "name": "stdout",
     "output_type": "stream",
     "text": [
      "<class 'pandas.core.frame.DataFrame'>\n",
      "RangeIndex: 42 entries, 0 to 41\n",
      "Data columns (total 4 columns):\n",
      " #   Column   Non-Null Count  Dtype \n",
      "---  ------   --------------  ----- \n",
      " 0   id       42 non-null     object\n",
      " 1   label    42 non-null     object\n",
      " 2   rfb      35 non-null     object\n",
      " 3   dataset  42 non-null     object\n",
      "dtypes: object(4)\n",
      "memory usage: 1.4+ KB\n"
     ]
    }
   ],
   "source": [
    "rfmo_regions_df.info()"
   ]
  },
  {
   "cell_type": "code",
   "execution_count": 79,
   "id": "b397baa6-072f-44b9-ae6f-30c071442b22",
   "metadata": {},
   "outputs": [
    {
     "data": {
      "text/html": [
       "<div>\n",
       "<style scoped>\n",
       "    .dataframe tbody tr th:only-of-type {\n",
       "        vertical-align: middle;\n",
       "    }\n",
       "\n",
       "    .dataframe tbody tr th {\n",
       "        vertical-align: top;\n",
       "    }\n",
       "\n",
       "    .dataframe thead th {\n",
       "        text-align: right;\n",
       "    }\n",
       "</style>\n",
       "<table border=\"1\" class=\"dataframe\">\n",
       "  <thead>\n",
       "    <tr style=\"text-align: right;\">\n",
       "      <th></th>\n",
       "      <th>id</th>\n",
       "      <th>label</th>\n",
       "      <th>rfb</th>\n",
       "      <th>dataset</th>\n",
       "    </tr>\n",
       "  </thead>\n",
       "  <tbody>\n",
       "    <tr>\n",
       "      <th>0</th>\n",
       "      <td>ACAP</td>\n",
       "      <td>ACAP</td>\n",
       "      <td>ACAP</td>\n",
       "      <td>public-rfmo</td>\n",
       "    </tr>\n",
       "    <tr>\n",
       "      <th>1</th>\n",
       "      <td>APFIC</td>\n",
       "      <td>APFIC</td>\n",
       "      <td>APFIC</td>\n",
       "      <td>public-rfmo</td>\n",
       "    </tr>\n",
       "    <tr>\n",
       "      <th>2</th>\n",
       "      <td>BOBP-IGO</td>\n",
       "      <td>BOBP-IGO</td>\n",
       "      <td>BOBP-IGO</td>\n",
       "      <td>public-rfmo</td>\n",
       "    </tr>\n",
       "    <tr>\n",
       "      <th>3</th>\n",
       "      <td>CACFISH</td>\n",
       "      <td>CACFISH</td>\n",
       "      <td>CACFISH</td>\n",
       "      <td>public-rfmo</td>\n",
       "    </tr>\n",
       "    <tr>\n",
       "      <th>4</th>\n",
       "      <td>CCAMLR</td>\n",
       "      <td>CCAMLR</td>\n",
       "      <td>CCAMLR</td>\n",
       "      <td>public-rfmo</td>\n",
       "    </tr>\n",
       "  </tbody>\n",
       "</table>\n",
       "</div>"
      ],
      "text/plain": [
       "         id     label       rfb      dataset\n",
       "0      ACAP      ACAP      ACAP  public-rfmo\n",
       "1     APFIC     APFIC     APFIC  public-rfmo\n",
       "2  BOBP-IGO  BOBP-IGO  BOBP-IGO  public-rfmo\n",
       "3   CACFISH   CACFISH   CACFISH  public-rfmo\n",
       "4    CCAMLR    CCAMLR    CCAMLR  public-rfmo"
      ]
     },
     "execution_count": 79,
     "metadata": {},
     "output_type": "execute_result"
    }
   ],
   "source": [
    "rfmo_regions_df.head()"
   ]
  }
 ],
 "metadata": {
  "kernelspec": {
   "display_name": "Python 3 (ipykernel)",
   "language": "python",
   "name": "python3"
  },
  "language_info": {
   "codemirror_mode": {
    "name": "ipython",
    "version": 3
   },
   "file_extension": ".py",
   "mimetype": "text/x-python",
   "name": "python",
   "nbconvert_exporter": "python",
   "pygments_lexer": "ipython3",
   "version": "3.12.8"
  }
 },
 "nbformat": 4,
 "nbformat_minor": 5
}
