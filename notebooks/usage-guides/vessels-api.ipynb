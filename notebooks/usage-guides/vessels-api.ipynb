{
 "cells": [
  {
   "cell_type": "markdown",
   "id": "be4068ea",
   "metadata": {
    "colab_type": "text",
    "id": "view-in-github"
   },
   "source": [
    "<a href=\"https://colab.research.google.com/github/GlobalFishingWatch/gfw-api-python-client/blob/develop/notebooks/usage-guides/vessels-api.ipynb\" target=\"_parent\"><img src=\"https://colab.research.google.com/assets/colab-badge.svg\" alt=\"Open In Colab\"/></a>"
   ]
  },
  {
   "cell_type": "markdown",
   "id": "493f86ff-cee9-4fb0-8e5f-b3a0903df39e",
   "metadata": {
    "id": "493f86ff-cee9-4fb0-8e5f-b3a0903df39e"
   },
   "source": [
    "# Vessels API"
   ]
  },
  {
   "cell_type": "markdown",
   "id": "e9ca2eda-18f1-4f9c-9717-fb1a06423958",
   "metadata": {
    "id": "e9ca2eda-18f1-4f9c-9717-fb1a06423958"
   },
   "source": [
    "This guide provides detailed instructions on how to use the  [gfw-api-python-client](https://github.com/GlobalFishingWatch/gfw-api-python-client) to access information about vessels."
   ]
  },
  {
   "cell_type": "markdown",
   "id": "fa8109d3-42f9-4ad2-a734-5c62ff41eb72",
   "metadata": {},
   "source": [
    "**Note:** See the [Data Caveats](https://globalfishingwatch.org/our-apis/documentation#data-caveat) and [Terms of Use](https://globalfishingwatch.org/our-apis/documentation#terms-of-use) pages in the [GFW API documentation](https://globalfishingwatch.org/our-apis/documentation#introduction) for details on GFW data, API licenses, and rate limits."
   ]
  },
  {
   "cell_type": "markdown",
   "id": "cb352526-90e2-45fd-8732-e34f0342f30f",
   "metadata": {
    "id": "cb352526-90e2-45fd-8732-e34f0342f30f"
   },
   "source": [
    "## Prerequisites"
   ]
  },
  {
   "cell_type": "markdown",
   "id": "57109889-5f3f-45b3-a594-2f82b94bcadb",
   "metadata": {
    "id": "57109889-5f3f-45b3-a594-2f82b94bcadb"
   },
   "source": [
    "Before using the `gfw-api-python-client`, you need to obtain an API access token from the [Global Fishing Watch API portal](https://globalfishingwatch.org/our-apis/tokens)"
   ]
  },
  {
   "cell_type": "markdown",
   "id": "3d1d4bf0-e6f7-4bda-9a79-4c6b6a42d1a1",
   "metadata": {
    "id": "3d1d4bf0-e6f7-4bda-9a79-4c6b6a42d1a1"
   },
   "source": [
    "## Installation"
   ]
  },
  {
   "cell_type": "markdown",
   "id": "e8ed8d6d-214c-4888-bbb9-3798adabe12b",
   "metadata": {
    "id": "e8ed8d6d-214c-4888-bbb9-3798adabe12b"
   },
   "source": [
    "The `gfw-api-python-client` can be easily installed using pip:"
   ]
  },
  {
   "cell_type": "code",
   "execution_count": 1,
   "id": "d863fe42-f9f6-4a6e-b736-f0adc82581fe",
   "metadata": {
    "id": "d863fe42-f9f6-4a6e-b736-f0adc82581fe"
   },
   "outputs": [],
   "source": [
    "# %pip install gfw-api-python-client"
   ]
  },
  {
   "cell_type": "markdown",
   "id": "9c023a54-4d23-4cc2-bd36-659d4d78789e",
   "metadata": {
    "id": "9c023a54-4d23-4cc2-bd36-659d4d78789e"
   },
   "source": [
    "## Usage"
   ]
  },
  {
   "cell_type": "code",
   "execution_count": 2,
   "id": "2420e772-c8c6-4eec-bbab-db0708733b50",
   "metadata": {
    "id": "2420e772-c8c6-4eec-bbab-db0708733b50"
   },
   "outputs": [],
   "source": [
    "import os\n",
    "import gfwapiclient as gfw"
   ]
  },
  {
   "cell_type": "code",
   "execution_count": 3,
   "id": "c1fae7c8-2806-4468-84f0-2ca90b4f5653",
   "metadata": {
    "id": "c1fae7c8-2806-4468-84f0-2ca90b4f5653"
   },
   "outputs": [],
   "source": [
    "try:\n",
    "    from google.colab import userdata\n",
    "\n",
    "    access_token = userdata.get(\"GFW_API_ACCESS_TOKEN\")\n",
    "except Exception as exc:\n",
    "    access_token = os.environ.get(\"GFW_API_ACCESS_TOKEN\")\n",
    "\n",
    "access_token = access_token or \"<PASTE_YOUR_GFW_API_ACCESS_TOKEN_HERE>\""
   ]
  },
  {
   "cell_type": "code",
   "execution_count": 4,
   "id": "08c9daef-552d-4906-ac21-eaedcea7b102",
   "metadata": {
    "id": "08c9daef-552d-4906-ac21-eaedcea7b102"
   },
   "outputs": [],
   "source": [
    "gfw_client = gfw.Client(\n",
    "    access_token=access_token,\n",
    ")"
   ]
  },
  {
   "cell_type": "markdown",
   "id": "db719492-c622-4250-aee1-85e1276ee3bc",
   "metadata": {
    "id": "db719492-c622-4250-aee1-85e1276ee3bc"
   },
   "source": [
    "## Searching for Vessels (`search_vessels`)"
   ]
  },
  {
   "cell_type": "code",
   "execution_count": 5,
   "id": "0d4cdc36-5b11-48c8-9e48-e3950fb87051",
   "metadata": {
    "id": "0d4cdc36-5b11-48c8-9e48-e3950fb87051"
   },
   "outputs": [],
   "source": [
    "vessel_search_result = await gfw_client.vessels.search_vessels(\n",
    "    where=\"ssvid='775998121' AND shipname='DON TITO'\",\n",
    "    datasets=[\"public-global-vessel-identity:latest\"],\n",
    "    includes=[\"MATCH_CRITERIA\", \"OWNERSHIP\"],\n",
    ")"
   ]
  },
  {
   "cell_type": "markdown",
   "id": "d3278b94-d057-474d-bf9d-de3905ba90a0",
   "metadata": {
    "id": "d3278b94-d057-474d-bf9d-de3905ba90a0"
   },
   "source": [
    "### Access the list of vessel as Pydantic models"
   ]
  },
  {
   "cell_type": "code",
   "execution_count": 6,
   "id": "6a23b5a1-747d-489a-b861-a2dd8001a60c",
   "metadata": {
    "id": "6a23b5a1-747d-489a-b861-a2dd8001a60c"
   },
   "outputs": [],
   "source": [
    "vessel_search_data = vessel_search_result.data()"
   ]
  },
  {
   "cell_type": "code",
   "execution_count": 7,
   "id": "2773afc5-dddc-436b-8e3b-483b88a1f7f5",
   "metadata": {
    "id": "2773afc5-dddc-436b-8e3b-483b88a1f7f5"
   },
   "outputs": [],
   "source": [
    "vessel = vessel_search_data[-1]"
   ]
  },
  {
   "cell_type": "code",
   "execution_count": 8,
   "id": "fa2c1585-582b-478c-8e10-a249a09c4884",
   "metadata": {
    "colab": {
     "base_uri": "https://localhost:8080/"
    },
    "id": "fa2c1585-582b-478c-8e10-a249a09c4884",
    "outputId": "d1285b32-8fd0-4209-ca36-198fd66231e4"
   },
   "outputs": [
    {
     "data": {
      "text/plain": [
       "('public-global-vessel-identity:v3.0', 'bae8f325c-cf0a-01fe-6d1a-9a275588d4ff')"
      ]
     },
     "execution_count": 8,
     "metadata": {},
     "output_type": "execute_result"
    }
   ],
   "source": [
    "vessel.dataset, vessel.self_reported_info[-1].id"
   ]
  },
  {
   "cell_type": "markdown",
   "id": "e872ba0c-9bc8-4802-927a-2c4de6a3fb77",
   "metadata": {
    "id": "e872ba0c-9bc8-4802-927a-2c4de6a3fb77"
   },
   "source": [
    "### Access the vessels as a DataFrame"
   ]
  },
  {
   "cell_type": "code",
   "execution_count": 9,
   "id": "5a005a8d-7c50-42c6-8c5d-de31f06c270f",
   "metadata": {
    "id": "5a005a8d-7c50-42c6-8c5d-de31f06c270f"
   },
   "outputs": [],
   "source": [
    "vessel_search_df = vessel_search_result.df()"
   ]
  },
  {
   "cell_type": "code",
   "execution_count": 10,
   "id": "9f7237f0-1de2-4a21-834b-b692cf4452b5",
   "metadata": {
    "colab": {
     "base_uri": "https://localhost:8080/",
     "height": 236
    },
    "id": "9f7237f0-1de2-4a21-834b-b692cf4452b5",
    "outputId": "dfe15274-d958-4318-e80c-bb0bb2aad332"
   },
   "outputs": [
    {
     "data": {
      "text/html": [
       "<div>\n",
       "<style scoped>\n",
       "    .dataframe tbody tr th:only-of-type {\n",
       "        vertical-align: middle;\n",
       "    }\n",
       "\n",
       "    .dataframe tbody tr th {\n",
       "        vertical-align: top;\n",
       "    }\n",
       "\n",
       "    .dataframe thead th {\n",
       "        text-align: right;\n",
       "    }\n",
       "</style>\n",
       "<table border=\"1\" class=\"dataframe\">\n",
       "  <thead>\n",
       "    <tr style=\"text-align: right;\">\n",
       "      <th></th>\n",
       "      <th>dataset</th>\n",
       "      <th>registry_info_total_records</th>\n",
       "      <th>registry_info</th>\n",
       "      <th>registry_owners</th>\n",
       "      <th>registry_public_authorizations</th>\n",
       "      <th>combined_sources_info</th>\n",
       "      <th>self_reported_info</th>\n",
       "      <th>matchCriteria</th>\n",
       "    </tr>\n",
       "  </thead>\n",
       "  <tbody>\n",
       "    <tr>\n",
       "      <th>0</th>\n",
       "      <td>public-global-vessel-identity:v3.0</td>\n",
       "      <td>0</td>\n",
       "      <td>[]</td>\n",
       "      <td>[]</td>\n",
       "      <td>None</td>\n",
       "      <td>[{'vessel_id': 'c54923e64-46f3-9338-9dcb-ff097...</td>\n",
       "      <td>[{'id': 'c54923e64-46f3-9338-9dcb-ff09724077a3...</td>\n",
       "      <td>[{'reference': 'c54923e64-46f3-9338-9dcb-ff097...</td>\n",
       "    </tr>\n",
       "    <tr>\n",
       "      <th>1</th>\n",
       "      <td>public-global-vessel-identity:v3.0</td>\n",
       "      <td>0</td>\n",
       "      <td>[]</td>\n",
       "      <td>[]</td>\n",
       "      <td>None</td>\n",
       "      <td>[{'vessel_id': 'bae8f325c-cf0a-01fe-6d1a-9a275...</td>\n",
       "      <td>[{'id': 'bae8f325c-cf0a-01fe-6d1a-9a275588d4ff...</td>\n",
       "      <td>[{'reference': 'bae8f325c-cf0a-01fe-6d1a-9a275...</td>\n",
       "    </tr>\n",
       "  </tbody>\n",
       "</table>\n",
       "</div>"
      ],
      "text/plain": [
       "                              dataset  registry_info_total_records  \\\n",
       "0  public-global-vessel-identity:v3.0                            0   \n",
       "1  public-global-vessel-identity:v3.0                            0   \n",
       "\n",
       "  registry_info registry_owners registry_public_authorizations  \\\n",
       "0            []              []                           None   \n",
       "1            []              []                           None   \n",
       "\n",
       "                               combined_sources_info  \\\n",
       "0  [{'vessel_id': 'c54923e64-46f3-9338-9dcb-ff097...   \n",
       "1  [{'vessel_id': 'bae8f325c-cf0a-01fe-6d1a-9a275...   \n",
       "\n",
       "                                  self_reported_info  \\\n",
       "0  [{'id': 'c54923e64-46f3-9338-9dcb-ff09724077a3...   \n",
       "1  [{'id': 'bae8f325c-cf0a-01fe-6d1a-9a275588d4ff...   \n",
       "\n",
       "                                       matchCriteria  \n",
       "0  [{'reference': 'c54923e64-46f3-9338-9dcb-ff097...  \n",
       "1  [{'reference': 'bae8f325c-cf0a-01fe-6d1a-9a275...  "
      ]
     },
     "execution_count": 10,
     "metadata": {},
     "output_type": "execute_result"
    }
   ],
   "source": [
    "vessel_search_df.head()"
   ]
  },
  {
   "cell_type": "markdown",
   "id": "614874ad-39c5-40ef-8edf-b4c7a663bbb9",
   "metadata": {
    "id": "614874ad-39c5-40ef-8edf-b4c7a663bbb9"
   },
   "source": [
    "## Getting a List of Vessels by IDs (`get_vessels_by_ids`)"
   ]
  },
  {
   "cell_type": "code",
   "execution_count": 11,
   "id": "03dbbff9-1768-4e0a-bcea-130ed46f96a0",
   "metadata": {
    "id": "03dbbff9-1768-4e0a-bcea-130ed46f96a0"
   },
   "outputs": [],
   "source": [
    "vessels_result = await gfw_client.vessels.get_vessels_by_ids(\n",
    "    ids=[\n",
    "        \"8c7304226-6c71-edbe-0b63-c246734b3c01\",\n",
    "        \"6583c51e3-3626-5638-866a-f47c3bc7ef7c\",\n",
    "        \"71e7da672-2451-17da-b239-857831602eca\",\n",
    "    ],\n",
    "    datasets=[\"public-global-vessel-identity:latest\"],\n",
    ")"
   ]
  },
  {
   "cell_type": "markdown",
   "id": "7427c7be-7dea-4097-a542-2db0e37a709a",
   "metadata": {
    "id": "7427c7be-7dea-4097-a542-2db0e37a709a"
   },
   "source": [
    "### Access the list of vessel as Pydantic models"
   ]
  },
  {
   "cell_type": "code",
   "execution_count": 12,
   "id": "a549433e-53ac-4b7c-969a-d6f20af18668",
   "metadata": {
    "id": "a549433e-53ac-4b7c-969a-d6f20af18668"
   },
   "outputs": [],
   "source": [
    "vessels_data = vessels_result.data()"
   ]
  },
  {
   "cell_type": "code",
   "execution_count": 13,
   "id": "3778b513-3cfe-49b5-9107-731d2f10d82e",
   "metadata": {
    "id": "3778b513-3cfe-49b5-9107-731d2f10d82e"
   },
   "outputs": [],
   "source": [
    "vessel = vessels_data[-1]"
   ]
  },
  {
   "cell_type": "code",
   "execution_count": 14,
   "id": "8c107871-c3eb-4544-bb6c-87188fa68675",
   "metadata": {
    "colab": {
     "base_uri": "https://localhost:8080/"
    },
    "id": "8c107871-c3eb-4544-bb6c-87188fa68675",
    "outputId": "55f5aba3-1bb7-4db2-b7d3-41ca2a5ee0a5"
   },
   "outputs": [
    {
     "data": {
      "text/plain": [
       "('public-global-vessel-identity:v3.0', 'aca119c29-95dd-f5c4-2057-ee45268dcd6f')"
      ]
     },
     "execution_count": 14,
     "metadata": {},
     "output_type": "execute_result"
    }
   ],
   "source": [
    "vessel.dataset, vessel.self_reported_info[-1].id"
   ]
  },
  {
   "cell_type": "markdown",
   "id": "fe40e1f6-b7da-48d2-ad9d-5a643553d05d",
   "metadata": {
    "id": "fe40e1f6-b7da-48d2-ad9d-5a643553d05d"
   },
   "source": [
    "### Access the vessels as a DataFrame"
   ]
  },
  {
   "cell_type": "code",
   "execution_count": 15,
   "id": "d792efd2-c741-41e1-91df-f3822cd7ce46",
   "metadata": {
    "id": "d792efd2-c741-41e1-91df-f3822cd7ce46"
   },
   "outputs": [],
   "source": [
    "vessel_search_df = vessels_result.df()"
   ]
  },
  {
   "cell_type": "code",
   "execution_count": 16,
   "id": "3da7dec8-4f2b-4db9-aed0-38163d591af0",
   "metadata": {
    "colab": {
     "base_uri": "https://localhost:8080/",
     "height": 320
    },
    "id": "3da7dec8-4f2b-4db9-aed0-38163d591af0",
    "outputId": "e6d5cebf-c780-4187-f437-cf1da6e4c0b7"
   },
   "outputs": [
    {
     "data": {
      "text/html": [
       "<div>\n",
       "<style scoped>\n",
       "    .dataframe tbody tr th:only-of-type {\n",
       "        vertical-align: middle;\n",
       "    }\n",
       "\n",
       "    .dataframe tbody tr th {\n",
       "        vertical-align: top;\n",
       "    }\n",
       "\n",
       "    .dataframe thead th {\n",
       "        text-align: right;\n",
       "    }\n",
       "</style>\n",
       "<table border=\"1\" class=\"dataframe\">\n",
       "  <thead>\n",
       "    <tr style=\"text-align: right;\">\n",
       "      <th></th>\n",
       "      <th>dataset</th>\n",
       "      <th>registry_info_total_records</th>\n",
       "      <th>registry_info</th>\n",
       "      <th>registry_owners</th>\n",
       "      <th>registry_public_authorizations</th>\n",
       "      <th>combined_sources_info</th>\n",
       "      <th>self_reported_info</th>\n",
       "    </tr>\n",
       "  </thead>\n",
       "  <tbody>\n",
       "    <tr>\n",
       "      <th>0</th>\n",
       "      <td>public-global-vessel-identity:v3.0</td>\n",
       "      <td>1</td>\n",
       "      <td>[{'id': '685862e0626f6234c844919bc738a83a', 's...</td>\n",
       "      <td>[]</td>\n",
       "      <td>[{'date_from': 2012-01-01 00:00:00+00:00, 'dat...</td>\n",
       "      <td>[{'vessel_id': '55889aefb-bef9-224c-d2db-58ecd...</td>\n",
       "      <td>[{'id': '71e7da672-2451-17da-b239-857831602eca...</td>\n",
       "    </tr>\n",
       "    <tr>\n",
       "      <th>1</th>\n",
       "      <td>public-global-vessel-identity:v3.0</td>\n",
       "      <td>2</td>\n",
       "      <td>[{'id': 'a8d00ce54b37add7f85a35fcce8e7a1b', 's...</td>\n",
       "      <td>[]</td>\n",
       "      <td>[{'date_from': 2023-01-01 00:00:00+00:00, 'dat...</td>\n",
       "      <td>[{'vessel_id': '3c81a942b-bf0a-f476-ea72-75c02...</td>\n",
       "      <td>[{'id': 'da1cd7e1b-b8d0-539c-6581-2b3df8d0a6af...</td>\n",
       "    </tr>\n",
       "    <tr>\n",
       "      <th>2</th>\n",
       "      <td>public-global-vessel-identity:v3.0</td>\n",
       "      <td>2</td>\n",
       "      <td>[{'id': 'b82d02e5c2c11e5fe5367c91194fc3ba', 's...</td>\n",
       "      <td>[]</td>\n",
       "      <td>[{'date_from': 2015-10-08 00:00:00+00:00, 'dat...</td>\n",
       "      <td>[{'vessel_id': 'aca119c29-95dd-f5c4-2057-ee452...</td>\n",
       "      <td>[{'id': '6583c51e3-3626-5638-866a-f47c3bc7ef7c...</td>\n",
       "    </tr>\n",
       "  </tbody>\n",
       "</table>\n",
       "</div>"
      ],
      "text/plain": [
       "                              dataset  registry_info_total_records  \\\n",
       "0  public-global-vessel-identity:v3.0                            1   \n",
       "1  public-global-vessel-identity:v3.0                            2   \n",
       "2  public-global-vessel-identity:v3.0                            2   \n",
       "\n",
       "                                       registry_info registry_owners  \\\n",
       "0  [{'id': '685862e0626f6234c844919bc738a83a', 's...              []   \n",
       "1  [{'id': 'a8d00ce54b37add7f85a35fcce8e7a1b', 's...              []   \n",
       "2  [{'id': 'b82d02e5c2c11e5fe5367c91194fc3ba', 's...              []   \n",
       "\n",
       "                      registry_public_authorizations  \\\n",
       "0  [{'date_from': 2012-01-01 00:00:00+00:00, 'dat...   \n",
       "1  [{'date_from': 2023-01-01 00:00:00+00:00, 'dat...   \n",
       "2  [{'date_from': 2015-10-08 00:00:00+00:00, 'dat...   \n",
       "\n",
       "                               combined_sources_info  \\\n",
       "0  [{'vessel_id': '55889aefb-bef9-224c-d2db-58ecd...   \n",
       "1  [{'vessel_id': '3c81a942b-bf0a-f476-ea72-75c02...   \n",
       "2  [{'vessel_id': 'aca119c29-95dd-f5c4-2057-ee452...   \n",
       "\n",
       "                                  self_reported_info  \n",
       "0  [{'id': '71e7da672-2451-17da-b239-857831602eca...  \n",
       "1  [{'id': 'da1cd7e1b-b8d0-539c-6581-2b3df8d0a6af...  \n",
       "2  [{'id': '6583c51e3-3626-5638-866a-f47c3bc7ef7c...  "
      ]
     },
     "execution_count": 16,
     "metadata": {},
     "output_type": "execute_result"
    }
   ],
   "source": [
    "vessel_search_df.head()"
   ]
  },
  {
   "cell_type": "markdown",
   "id": "7f327096-5294-4e9f-b398-940202bff3dc",
   "metadata": {
    "id": "7f327096-5294-4e9f-b398-940202bff3dc"
   },
   "source": [
    "## Getting a Vessel by ID (`get_vessel_by_id`)"
   ]
  },
  {
   "cell_type": "code",
   "execution_count": 17,
   "id": "5b12f20c-9c0e-40f6-ac13-31ad7e0144ab",
   "metadata": {
    "id": "5b12f20c-9c0e-40f6-ac13-31ad7e0144ab"
   },
   "outputs": [],
   "source": [
    "vessel_result = await gfw_client.vessels.get_vessel_by_id(\n",
    "    id=\"c54923e64-46f3-9338-9dcb-ff09724077a3\",\n",
    "    dataset=\"public-global-vessel-identity:latest\",\n",
    ")"
   ]
  },
  {
   "cell_type": "markdown",
   "id": "988bb525-09c9-4f69-876d-8cf08b9f26e8",
   "metadata": {
    "id": "988bb525-09c9-4f69-876d-8cf08b9f26e8"
   },
   "source": [
    "### Access the vessel as Pydantic model"
   ]
  },
  {
   "cell_type": "code",
   "execution_count": 18,
   "id": "ba62e001-a8e9-4dac-9674-461f9cff191f",
   "metadata": {
    "id": "ba62e001-a8e9-4dac-9674-461f9cff191f"
   },
   "outputs": [],
   "source": [
    "vessel = vessel_result.data()"
   ]
  },
  {
   "cell_type": "code",
   "execution_count": 19,
   "id": "4bf8c038-2aab-49d9-acfc-86949d265dfb",
   "metadata": {
    "colab": {
     "base_uri": "https://localhost:8080/"
    },
    "id": "4bf8c038-2aab-49d9-acfc-86949d265dfb",
    "outputId": "60831d0a-5e0f-46f3-e8a1-d8182c37ce4a"
   },
   "outputs": [
    {
     "data": {
      "text/plain": [
       "('public-global-vessel-identity:v3.0', 'c54923e64-46f3-9338-9dcb-ff09724077a3')"
      ]
     },
     "execution_count": 19,
     "metadata": {},
     "output_type": "execute_result"
    }
   ],
   "source": [
    "vessel.dataset, vessel.self_reported_info[-1].id"
   ]
  },
  {
   "cell_type": "markdown",
   "id": "61b08ecd-5d99-41cc-8498-bcd74d244008",
   "metadata": {
    "id": "61b08ecd-5d99-41cc-8498-bcd74d244008"
   },
   "source": [
    "### Access the vessel as a DataFrame"
   ]
  },
  {
   "cell_type": "code",
   "execution_count": 20,
   "id": "6f146ff6-f669-466a-b3fc-810a30f14a4d",
   "metadata": {
    "id": "6f146ff6-f669-466a-b3fc-810a30f14a4d"
   },
   "outputs": [],
   "source": [
    "vessel_df = vessel_result.df()"
   ]
  },
  {
   "cell_type": "code",
   "execution_count": 21,
   "id": "f2b2b97d-bc5b-4dba-a17a-40eb9ada75ab",
   "metadata": {
    "colab": {
     "base_uri": "https://localhost:8080/",
     "height": 115
    },
    "id": "f2b2b97d-bc5b-4dba-a17a-40eb9ada75ab",
    "outputId": "b61eed71-6e33-41bd-9e4c-f5ba658afd3c"
   },
   "outputs": [
    {
     "data": {
      "text/html": [
       "<div>\n",
       "<style scoped>\n",
       "    .dataframe tbody tr th:only-of-type {\n",
       "        vertical-align: middle;\n",
       "    }\n",
       "\n",
       "    .dataframe tbody tr th {\n",
       "        vertical-align: top;\n",
       "    }\n",
       "\n",
       "    .dataframe thead th {\n",
       "        text-align: right;\n",
       "    }\n",
       "</style>\n",
       "<table border=\"1\" class=\"dataframe\">\n",
       "  <thead>\n",
       "    <tr style=\"text-align: right;\">\n",
       "      <th></th>\n",
       "      <th>dataset</th>\n",
       "      <th>registry_info_total_records</th>\n",
       "      <th>registry_info</th>\n",
       "      <th>registry_owners</th>\n",
       "      <th>registry_public_authorizations</th>\n",
       "      <th>combined_sources_info</th>\n",
       "      <th>self_reported_info</th>\n",
       "    </tr>\n",
       "  </thead>\n",
       "  <tbody>\n",
       "    <tr>\n",
       "      <th>0</th>\n",
       "      <td>public-global-vessel-identity:v3.0</td>\n",
       "      <td>0</td>\n",
       "      <td>[]</td>\n",
       "      <td>[]</td>\n",
       "      <td>[]</td>\n",
       "      <td>[{'vessel_id': 'c54923e64-46f3-9338-9dcb-ff097...</td>\n",
       "      <td>[{'id': 'c54923e64-46f3-9338-9dcb-ff09724077a3...</td>\n",
       "    </tr>\n",
       "  </tbody>\n",
       "</table>\n",
       "</div>"
      ],
      "text/plain": [
       "                              dataset  registry_info_total_records  \\\n",
       "0  public-global-vessel-identity:v3.0                            0   \n",
       "\n",
       "  registry_info registry_owners registry_public_authorizations  \\\n",
       "0            []              []                             []   \n",
       "\n",
       "                               combined_sources_info  \\\n",
       "0  [{'vessel_id': 'c54923e64-46f3-9338-9dcb-ff097...   \n",
       "\n",
       "                                  self_reported_info  \n",
       "0  [{'id': 'c54923e64-46f3-9338-9dcb-ff09724077a3...  "
      ]
     },
     "execution_count": 21,
     "metadata": {},
     "output_type": "execute_result"
    }
   ],
   "source": [
    "vessel_df.head()"
   ]
  }
 ],
 "metadata": {
  "colab": {
   "include_colab_link": true,
   "provenance": []
  },
  "kernelspec": {
   "display_name": "Python 3 (ipykernel)",
   "language": "python",
   "name": "python3"
  },
  "language_info": {
   "codemirror_mode": {
    "name": "ipython",
    "version": 3
   },
   "file_extension": ".py",
   "mimetype": "text/x-python",
   "name": "python",
   "nbconvert_exporter": "python",
   "pygments_lexer": "ipython3",
   "version": "3.11.11"
  }
 },
 "nbformat": 4,
 "nbformat_minor": 5
}
