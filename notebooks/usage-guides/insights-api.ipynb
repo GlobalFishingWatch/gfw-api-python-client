{
 "cells": [
  {
   "cell_type": "markdown",
   "id": "493f86ff-cee9-4fb0-8e5f-b3a0903df39e",
   "metadata": {},
   "source": [
    "# Insights API"
   ]
  },
  {
   "cell_type": "markdown",
   "id": "e9ca2eda-18f1-4f9c-9717-fb1a06423958",
   "metadata": {},
   "source": [
    "This guide provides detailed instructions on how to use the [gfw-api-python-client](https://github.com/GlobalFishingWatch/gfw-api-python-client) to access aggregated insights about vessel activities."
   ]
  },
  {
   "cell_type": "markdown",
   "id": "cb352526-90e2-45fd-8732-e34f0342f30f",
   "metadata": {},
   "source": [
    "## Prerequisites"
   ]
  },
  {
   "cell_type": "markdown",
   "id": "57109889-5f3f-45b3-a594-2f82b94bcadb",
   "metadata": {},
   "source": [
    "Before using the `gfw-api-python-client`, you need to obtain an API access token from the [Global Fishing Watch API portal](https://globalfishingwatch.org/our-apis/tokens)"
   ]
  },
  {
   "cell_type": "markdown",
   "id": "3d1d4bf0-e6f7-4bda-9a79-4c6b6a42d1a1",
   "metadata": {},
   "source": [
    "## Installation"
   ]
  },
  {
   "cell_type": "markdown",
   "id": "e8ed8d6d-214c-4888-bbb9-3798adabe12b",
   "metadata": {},
   "source": [
    "The `gfw-api-python-client` can be easily installed using pip:"
   ]
  },
  {
   "cell_type": "code",
   "execution_count": 1,
   "id": "d863fe42-f9f6-4a6e-b736-f0adc82581fe",
   "metadata": {},
   "outputs": [],
   "source": [
    "# %pip install gfw-api-python-client"
   ]
  },
  {
   "cell_type": "markdown",
   "id": "9c023a54-4d23-4cc2-bd36-659d4d78789e",
   "metadata": {},
   "source": [
    "## Usage"
   ]
  },
  {
   "cell_type": "code",
   "execution_count": 2,
   "id": "2420e772-c8c6-4eec-bbab-db0708733b50",
   "metadata": {},
   "outputs": [],
   "source": [
    "import os\n",
    "import gfwapiclient as gfw"
   ]
  },
  {
   "cell_type": "code",
   "execution_count": 3,
   "id": "c1fae7c8-2806-4468-84f0-2ca90b4f5653",
   "metadata": {},
   "outputs": [],
   "source": [
    "access_token = os.environ.get(\n",
    "    \"GFW_API_ACCESS_TOKEN\",\n",
    "    \"<OR_PASTE_YOUR_GFW_API_ACCESS_TOKEN_HERE>\",\n",
    ")"
   ]
  },
  {
   "cell_type": "code",
   "execution_count": 4,
   "id": "08c9daef-552d-4906-ac21-eaedcea7b102",
   "metadata": {},
   "outputs": [],
   "source": [
    "gfw_client = gfw.Client(\n",
    "    access_token=access_token,\n",
    ")"
   ]
  },
  {
   "cell_type": "markdown",
   "id": "7d385aaf-907c-455a-9b2f-2a7370b24f77",
   "metadata": {},
   "source": [
    "## Getting Insights by Vessel (`get_vessel_insights`)"
   ]
  },
  {
   "cell_type": "code",
   "execution_count": 5,
   "id": "36533164-800e-4096-8710-274a08022924",
   "metadata": {},
   "outputs": [],
   "source": [
    "insights_result = await gfw_client.insights.get_vessel_insights(\n",
    "    includes=[\"FISHING\"],\n",
    "    start_date=\"2020-01-01\",\n",
    "    end_date=\"2025-03-03\",\n",
    "    vessels=[\n",
    "        {\n",
    "            \"dataset_id\": \"public-global-vessel-identity:latest\",\n",
    "            \"vessel_id\": \"785101812-2127-e5d2-e8bf-7152c5259f5f\",\n",
    "        }\n",
    "    ],\n",
    ")"
   ]
  },
  {
   "cell_type": "markdown",
   "id": "3e080eee-b3cc-4366-a9aa-0f05c5e212bd",
   "metadata": {},
   "source": [
    "### Access the insights data as Pydantic model"
   ]
  },
  {
   "cell_type": "code",
   "execution_count": 6,
   "id": "07750228-c091-46a0-8db7-08bde05dea95",
   "metadata": {},
   "outputs": [],
   "source": [
    "insights = insights_result.data()"
   ]
  },
  {
   "cell_type": "code",
   "execution_count": 7,
   "id": "673f16c5-8219-4758-a2ee-06a10fae10d3",
   "metadata": {},
   "outputs": [
    {
     "data": {
      "text/plain": [
       "(datetime.date(2020, 1, 1), datetime.date(2025, 3, 3), 2829)"
      ]
     },
     "execution_count": 7,
     "metadata": {},
     "output_type": "execute_result"
    }
   ],
   "source": [
    "(\n",
    "    insights.period.start_date,\n",
    "    insights.period.end_date,\n",
    "    insights.apparent_fishing.period_selected_counters.events,\n",
    ")"
   ]
  },
  {
   "cell_type": "markdown",
   "id": "5a236b84-1f2b-4ae0-b455-4d013c7229c9",
   "metadata": {},
   "source": [
    "### Access the insights data as a DataFrame"
   ]
  },
  {
   "cell_type": "code",
   "execution_count": 8,
   "id": "43ea83ac-d558-4ea7-bd1a-84c4df4ff16a",
   "metadata": {},
   "outputs": [],
   "source": [
    "insights_df = insights_result.df()"
   ]
  },
  {
   "cell_type": "code",
   "execution_count": 9,
   "id": "5dce404d-4318-44da-8811-c4bbc5fefb77",
   "metadata": {},
   "outputs": [
    {
     "data": {
      "text/html": [
       "<div>\n",
       "<style scoped>\n",
       "    .dataframe tbody tr th:only-of-type {\n",
       "        vertical-align: middle;\n",
       "    }\n",
       "\n",
       "    .dataframe tbody tr th {\n",
       "        vertical-align: top;\n",
       "    }\n",
       "\n",
       "    .dataframe thead th {\n",
       "        text-align: right;\n",
       "    }\n",
       "</style>\n",
       "<table border=\"1\" class=\"dataframe\">\n",
       "  <thead>\n",
       "    <tr style=\"text-align: right;\">\n",
       "      <th></th>\n",
       "      <th>period</th>\n",
       "      <th>vessel_ids_without_identity</th>\n",
       "      <th>gap</th>\n",
       "      <th>coverage</th>\n",
       "      <th>apparent_fishing</th>\n",
       "      <th>vessel_identity</th>\n",
       "    </tr>\n",
       "  </thead>\n",
       "  <tbody>\n",
       "    <tr>\n",
       "      <th>0</th>\n",
       "      <td>{'start_date': 2020-01-01, 'end_date': 2025-03...</td>\n",
       "      <td>None</td>\n",
       "      <td>None</td>\n",
       "      <td>None</td>\n",
       "      <td>{'datasets': ['public-global-fishing-events:v3...</td>\n",
       "      <td>None</td>\n",
       "    </tr>\n",
       "  </tbody>\n",
       "</table>\n",
       "</div>"
      ],
      "text/plain": [
       "                                              period  \\\n",
       "0  {'start_date': 2020-01-01, 'end_date': 2025-03...   \n",
       "\n",
       "  vessel_ids_without_identity   gap coverage  \\\n",
       "0                        None  None     None   \n",
       "\n",
       "                                    apparent_fishing vessel_identity  \n",
       "0  {'datasets': ['public-global-fishing-events:v3...            None  "
      ]
     },
     "execution_count": 9,
     "metadata": {},
     "output_type": "execute_result"
    }
   ],
   "source": [
    "insights_df.head()"
   ]
  }
 ],
 "metadata": {
  "kernelspec": {
   "display_name": "Python 3 (ipykernel)",
   "language": "python",
   "name": "python3"
  },
  "language_info": {
   "codemirror_mode": {
    "name": "ipython",
    "version": 3
   },
   "file_extension": ".py",
   "mimetype": "text/x-python",
   "name": "python",
   "nbconvert_exporter": "python",
   "pygments_lexer": "ipython3",
   "version": "3.12.8"
  }
 },
 "nbformat": 4,
 "nbformat_minor": 5
}
