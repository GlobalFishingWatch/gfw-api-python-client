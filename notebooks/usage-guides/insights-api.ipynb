{
 "cells": [
  {
   "cell_type": "markdown",
   "id": "9f9e334a",
   "metadata": {
    "colab_type": "text",
    "id": "view-in-github"
   },
   "source": [
    "<a href=\"https://colab.research.google.com/github/GlobalFishingWatch/gfw-api-python-client/blob/develop/notebooks/usage-guides/insights-api.ipynb\" target=\"_parent\"><img src=\"https://colab.research.google.com/assets/colab-badge.svg\" alt=\"Open In Colab\"/></a>"
   ]
  },
  {
   "cell_type": "markdown",
   "id": "493f86ff-cee9-4fb0-8e5f-b3a0903df39e",
   "metadata": {
    "id": "493f86ff-cee9-4fb0-8e5f-b3a0903df39e"
   },
   "source": [
    "# Insights API"
   ]
  },
  {
   "cell_type": "markdown",
   "id": "e9ca2eda-18f1-4f9c-9717-fb1a06423958",
   "metadata": {
    "id": "e9ca2eda-18f1-4f9c-9717-fb1a06423958"
   },
   "source": [
    "This guide provides detailed instructions on how to use the [gfw-api-python-client](https://github.com/GlobalFishingWatch/gfw-api-python-client) to access aggregated insights about vessel activities."
   ]
  },
  {
   "cell_type": "markdown",
   "id": "cb352526-90e2-45fd-8732-e34f0342f30f",
   "metadata": {
    "id": "cb352526-90e2-45fd-8732-e34f0342f30f"
   },
   "source": [
    "## Prerequisites"
   ]
  },
  {
   "cell_type": "markdown",
   "id": "57109889-5f3f-45b3-a594-2f82b94bcadb",
   "metadata": {
    "id": "57109889-5f3f-45b3-a594-2f82b94bcadb"
   },
   "source": [
    "Before using the `gfw-api-python-client`, you need to obtain an API access token from the [Global Fishing Watch API portal](https://globalfishingwatch.org/our-apis/tokens)"
   ]
  },
  {
   "cell_type": "markdown",
   "id": "3d1d4bf0-e6f7-4bda-9a79-4c6b6a42d1a1",
   "metadata": {
    "id": "3d1d4bf0-e6f7-4bda-9a79-4c6b6a42d1a1"
   },
   "source": [
    "## Installation"
   ]
  },
  {
   "cell_type": "markdown",
   "id": "e8ed8d6d-214c-4888-bbb9-3798adabe12b",
   "metadata": {
    "id": "e8ed8d6d-214c-4888-bbb9-3798adabe12b"
   },
   "source": [
    "The `gfw-api-python-client` can be easily installed using pip:"
   ]
  },
  {
   "cell_type": "code",
   "execution_count": 1,
   "id": "d863fe42-f9f6-4a6e-b736-f0adc82581fe",
   "metadata": {
    "id": "d863fe42-f9f6-4a6e-b736-f0adc82581fe"
   },
   "outputs": [],
   "source": [
    "# %pip install gfw-api-python-client"
   ]
  },
  {
   "cell_type": "markdown",
   "id": "9c023a54-4d23-4cc2-bd36-659d4d78789e",
   "metadata": {
    "id": "9c023a54-4d23-4cc2-bd36-659d4d78789e"
   },
   "source": [
    "## Usage"
   ]
  },
  {
   "cell_type": "code",
   "execution_count": 2,
   "id": "2420e772-c8c6-4eec-bbab-db0708733b50",
   "metadata": {
    "id": "2420e772-c8c6-4eec-bbab-db0708733b50"
   },
   "outputs": [],
   "source": [
    "import os\n",
    "import gfwapiclient as gfw"
   ]
  },
  {
   "cell_type": "code",
   "execution_count": 3,
   "id": "c1fae7c8-2806-4468-84f0-2ca90b4f5653",
   "metadata": {
    "id": "c1fae7c8-2806-4468-84f0-2ca90b4f5653"
   },
   "outputs": [],
   "source": [
    "try:\n",
    "    from google.colab import userdata\n",
    "\n",
    "    access_token = userdata.get(\"GFW_API_ACCESS_TOKEN\")\n",
    "except Exception as exc:\n",
    "    access_token = os.environ.get(\"GFW_API_ACCESS_TOKEN\")\n",
    "\n",
    "access_token = access_token or \"<PASTE_YOUR_GFW_API_ACCESS_TOKEN_HERE>\""
   ]
  },
  {
   "cell_type": "code",
   "execution_count": 4,
   "id": "08c9daef-552d-4906-ac21-eaedcea7b102",
   "metadata": {
    "id": "08c9daef-552d-4906-ac21-eaedcea7b102"
   },
   "outputs": [],
   "source": [
    "gfw_client = gfw.Client(\n",
    "    access_token=access_token,\n",
    ")"
   ]
  },
  {
   "cell_type": "markdown",
   "id": "7d385aaf-907c-455a-9b2f-2a7370b24f77",
   "metadata": {
    "id": "7d385aaf-907c-455a-9b2f-2a7370b24f77"
   },
   "source": [
    "## Getting Insights by Vessel (`get_vessel_insights`)"
   ]
  },
  {
   "cell_type": "code",
   "execution_count": 5,
   "id": "36533164-800e-4096-8710-274a08022924",
   "metadata": {
    "id": "36533164-800e-4096-8710-274a08022924"
   },
   "outputs": [],
   "source": [
    "insights_result = await gfw_client.insights.get_vessel_insights(\n",
    "    includes=[\"FISHING\"],\n",
    "    start_date=\"2020-01-01\",\n",
    "    end_date=\"2025-03-03\",\n",
    "    vessels=[\n",
    "        {\n",
    "            \"dataset_id\": \"public-global-vessel-identity:latest\",\n",
    "            \"vessel_id\": \"785101812-2127-e5d2-e8bf-7152c5259f5f\",\n",
    "        }\n",
    "    ],\n",
    ")"
   ]
  },
  {
   "cell_type": "markdown",
   "id": "3e080eee-b3cc-4366-a9aa-0f05c5e212bd",
   "metadata": {
    "id": "3e080eee-b3cc-4366-a9aa-0f05c5e212bd"
   },
   "source": [
    "### Access the insights data as Pydantic model"
   ]
  },
  {
   "cell_type": "code",
   "execution_count": 6,
   "id": "07750228-c091-46a0-8db7-08bde05dea95",
   "metadata": {
    "id": "07750228-c091-46a0-8db7-08bde05dea95"
   },
   "outputs": [],
   "source": [
    "insights = insights_result.data()"
   ]
  },
  {
   "cell_type": "code",
   "execution_count": 7,
   "id": "673f16c5-8219-4758-a2ee-06a10fae10d3",
   "metadata": {
    "colab": {
     "base_uri": "https://localhost:8080/"
    },
    "id": "673f16c5-8219-4758-a2ee-06a10fae10d3",
    "outputId": "b8a22619-c86c-4e90-8bdb-8dd894f344be"
   },
   "outputs": [
    {
     "data": {
      "text/plain": [
       "(datetime.date(2020, 1, 1), datetime.date(2025, 3, 3), 2829)"
      ]
     },
     "execution_count": 7,
     "metadata": {},
     "output_type": "execute_result"
    }
   ],
   "source": [
    "(\n",
    "    insights.period.start_date,\n",
    "    insights.period.end_date,\n",
    "    insights.apparent_fishing.period_selected_counters.events,\n",
    ")"
   ]
  },
  {
   "cell_type": "markdown",
   "id": "5a236b84-1f2b-4ae0-b455-4d013c7229c9",
   "metadata": {
    "id": "5a236b84-1f2b-4ae0-b455-4d013c7229c9"
   },
   "source": [
    "### Access the insights data as a DataFrame"
   ]
  },
  {
   "cell_type": "code",
   "execution_count": 8,
   "id": "43ea83ac-d558-4ea7-bd1a-84c4df4ff16a",
   "metadata": {
    "id": "43ea83ac-d558-4ea7-bd1a-84c4df4ff16a"
   },
   "outputs": [],
   "source": [
    "insights_df = insights_result.df()"
   ]
  },
  {
   "cell_type": "code",
   "execution_count": 9,
   "id": "5dce404d-4318-44da-8811-c4bbc5fefb77",
   "metadata": {
    "colab": {
     "base_uri": "https://localhost:8080/",
     "height": 81
    },
    "id": "5dce404d-4318-44da-8811-c4bbc5fefb77",
    "outputId": "2fecdf98-4753-4a5e-c826-21a3448fe2d0"
   },
   "outputs": [
    {
     "data": {
      "application/vnd.google.colaboratory.intrinsic+json": {
       "repr_error": "Out of range float values are not JSON compliant: nan",
       "type": "dataframe",
       "variable_name": "insights_df"
      },
      "text/html": [
       "\n",
       "  <div id=\"df-dbd18348-0ef1-464d-afc7-e442ce847c9f\" class=\"colab-df-container\">\n",
       "    <div>\n",
       "<style scoped>\n",
       "    .dataframe tbody tr th:only-of-type {\n",
       "        vertical-align: middle;\n",
       "    }\n",
       "\n",
       "    .dataframe tbody tr th {\n",
       "        vertical-align: top;\n",
       "    }\n",
       "\n",
       "    .dataframe thead th {\n",
       "        text-align: right;\n",
       "    }\n",
       "</style>\n",
       "<table border=\"1\" class=\"dataframe\">\n",
       "  <thead>\n",
       "    <tr style=\"text-align: right;\">\n",
       "      <th></th>\n",
       "      <th>period</th>\n",
       "      <th>vessel_ids_without_identity</th>\n",
       "      <th>gap</th>\n",
       "      <th>coverage</th>\n",
       "      <th>apparent_fishing</th>\n",
       "      <th>vessel_identity</th>\n",
       "    </tr>\n",
       "  </thead>\n",
       "  <tbody>\n",
       "    <tr>\n",
       "      <th>0</th>\n",
       "      <td>{'start_date': 2020-01-01, 'end_date': 2025-03...</td>\n",
       "      <td>None</td>\n",
       "      <td>None</td>\n",
       "      <td>None</td>\n",
       "      <td>{'datasets': ['public-global-fishing-events:v3...</td>\n",
       "      <td>None</td>\n",
       "    </tr>\n",
       "  </tbody>\n",
       "</table>\n",
       "</div>\n",
       "    <div class=\"colab-df-buttons\">\n",
       "\n",
       "  <div class=\"colab-df-container\">\n",
       "    <button class=\"colab-df-convert\" onclick=\"convertToInteractive('df-dbd18348-0ef1-464d-afc7-e442ce847c9f')\"\n",
       "            title=\"Convert this dataframe to an interactive table.\"\n",
       "            style=\"display:none;\">\n",
       "\n",
       "  <svg xmlns=\"http://www.w3.org/2000/svg\" height=\"24px\" viewBox=\"0 -960 960 960\">\n",
       "    <path d=\"M120-120v-720h720v720H120Zm60-500h600v-160H180v160Zm220 220h160v-160H400v160Zm0 220h160v-160H400v160ZM180-400h160v-160H180v160Zm440 0h160v-160H620v160ZM180-180h160v-160H180v160Zm440 0h160v-160H620v160Z\"/>\n",
       "  </svg>\n",
       "    </button>\n",
       "\n",
       "  <style>\n",
       "    .colab-df-container {\n",
       "      display:flex;\n",
       "      gap: 12px;\n",
       "    }\n",
       "\n",
       "    .colab-df-convert {\n",
       "      background-color: #E8F0FE;\n",
       "      border: none;\n",
       "      border-radius: 50%;\n",
       "      cursor: pointer;\n",
       "      display: none;\n",
       "      fill: #1967D2;\n",
       "      height: 32px;\n",
       "      padding: 0 0 0 0;\n",
       "      width: 32px;\n",
       "    }\n",
       "\n",
       "    .colab-df-convert:hover {\n",
       "      background-color: #E2EBFA;\n",
       "      box-shadow: 0px 1px 2px rgba(60, 64, 67, 0.3), 0px 1px 3px 1px rgba(60, 64, 67, 0.15);\n",
       "      fill: #174EA6;\n",
       "    }\n",
       "\n",
       "    .colab-df-buttons div {\n",
       "      margin-bottom: 4px;\n",
       "    }\n",
       "\n",
       "    [theme=dark] .colab-df-convert {\n",
       "      background-color: #3B4455;\n",
       "      fill: #D2E3FC;\n",
       "    }\n",
       "\n",
       "    [theme=dark] .colab-df-convert:hover {\n",
       "      background-color: #434B5C;\n",
       "      box-shadow: 0px 1px 3px 1px rgba(0, 0, 0, 0.15);\n",
       "      filter: drop-shadow(0px 1px 2px rgba(0, 0, 0, 0.3));\n",
       "      fill: #FFFFFF;\n",
       "    }\n",
       "  </style>\n",
       "\n",
       "    <script>\n",
       "      const buttonEl =\n",
       "        document.querySelector('#df-dbd18348-0ef1-464d-afc7-e442ce847c9f button.colab-df-convert');\n",
       "      buttonEl.style.display =\n",
       "        google.colab.kernel.accessAllowed ? 'block' : 'none';\n",
       "\n",
       "      async function convertToInteractive(key) {\n",
       "        const element = document.querySelector('#df-dbd18348-0ef1-464d-afc7-e442ce847c9f');\n",
       "        const dataTable =\n",
       "          await google.colab.kernel.invokeFunction('convertToInteractive',\n",
       "                                                    [key], {});\n",
       "        if (!dataTable) return;\n",
       "\n",
       "        const docLinkHtml = 'Like what you see? Visit the ' +\n",
       "          '<a target=\"_blank\" href=https://colab.research.google.com/notebooks/data_table.ipynb>data table notebook</a>'\n",
       "          + ' to learn more about interactive tables.';\n",
       "        element.innerHTML = '';\n",
       "        dataTable['output_type'] = 'display_data';\n",
       "        await google.colab.output.renderOutput(dataTable, element);\n",
       "        const docLink = document.createElement('div');\n",
       "        docLink.innerHTML = docLinkHtml;\n",
       "        element.appendChild(docLink);\n",
       "      }\n",
       "    </script>\n",
       "  </div>\n",
       "\n",
       "\n",
       "    </div>\n",
       "  </div>\n"
      ],
      "text/plain": [
       "                                              period  \\\n",
       "0  {'start_date': 2020-01-01, 'end_date': 2025-03...   \n",
       "\n",
       "  vessel_ids_without_identity   gap coverage  \\\n",
       "0                        None  None     None   \n",
       "\n",
       "                                    apparent_fishing vessel_identity  \n",
       "0  {'datasets': ['public-global-fishing-events:v3...            None  "
      ]
     },
     "execution_count": 9,
     "metadata": {},
     "output_type": "execute_result"
    }
   ],
   "source": [
    "insights_df.head()"
   ]
  }
 ],
 "metadata": {
  "colab": {
   "include_colab_link": true,
   "provenance": []
  },
  "kernelspec": {
   "display_name": "Python 3 (ipykernel)",
   "language": "python",
   "name": "python3"
  },
  "language_info": {
   "codemirror_mode": {
    "name": "ipython",
    "version": 3
   },
   "file_extension": ".py",
   "mimetype": "text/x-python",
   "name": "python",
   "nbconvert_exporter": "python",
   "pygments_lexer": "ipython3",
   "version": "3.11.11"
  }
 },
 "nbformat": 4,
 "nbformat_minor": 5
}
