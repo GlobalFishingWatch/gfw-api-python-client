{
 "cells": [
  {
   "cell_type": "markdown",
   "id": "130b761f",
   "metadata": {
    "colab_type": "text",
    "id": "view-in-github"
   },
   "source": [
    "<a href=\"https://colab.research.google.com/github/GlobalFishingWatch/gfw-api-python-client/blob/develop/notebooks/usage-guides/datasets-api.ipynb\" target=\"_parent\"><img src=\"https://colab.research.google.com/assets/colab-badge.svg\" alt=\"Open In Colab\"/></a>"
   ]
  },
  {
   "cell_type": "markdown",
   "id": "86e189ca-2c68-4c25-9129-ad866b7519db",
   "metadata": {
    "id": "86e189ca-2c68-4c25-9129-ad866b7519db"
   },
   "source": [
    "# Datasets API"
   ]
  },
  {
   "cell_type": "markdown",
   "id": "41006fe2-f552-4dfc-b6d0-4b6b46aadf27",
   "metadata": {
    "id": "41006fe2-f552-4dfc-b6d0-4b6b46aadf27"
   },
   "source": [
    "This guide provides detailed instructions on how to use the [gfw-api-python-client](https://github.com/GlobalFishingWatch/gfw-api-python-client) to access various datasets available through the Global Fishing Watch API. Currently, it focuses on retrieving SAR (Synthetic Aperture Radar) fixed infrastructure data."
   ]
  },
  {
   "cell_type": "markdown",
   "id": "0805b620-fb90-4f78-b4eb-79fb3bf5d878",
   "metadata": {},
   "source": [
    "See the [SAR (Synthetic-Aperture Radar) Data Caveats](https://globalfishingwatch.org/our-apis/documentation#sar-fixed-infrastructure-data-caveats) and [Terms of Use](https://globalfishingwatch.org/our-apis/documentation#terms-of-use) pages in the [GFW API documentation](https://globalfishingwatch.org/our-apis/documentation#introduction) for details on GFW data, API licenses, and rate limits."
   ]
  },
  {
   "cell_type": "markdown",
   "id": "09685886-0b58-4b3c-827b-c46dc39c9dac",
   "metadata": {
    "id": "09685886-0b58-4b3c-827b-c46dc39c9dac"
   },
   "source": [
    "## Prerequisites"
   ]
  },
  {
   "cell_type": "markdown",
   "id": "a5b0d532-a373-4082-b860-3ad9ebc90a45",
   "metadata": {
    "id": "a5b0d532-a373-4082-b860-3ad9ebc90a45"
   },
   "source": [
    "Before using the `gfw-api-python-client`, you need to obtain an API access token from the [Global Fishing Watch API portal](https://globalfishingwatch.org/our-apis/tokens)"
   ]
  },
  {
   "cell_type": "markdown",
   "id": "959b0a26-9344-4a3a-8236-10fa43584db3",
   "metadata": {
    "id": "959b0a26-9344-4a3a-8236-10fa43584db3"
   },
   "source": [
    "## Installation"
   ]
  },
  {
   "cell_type": "markdown",
   "id": "522b8216-70a5-4a4c-ba2c-00181c82dfff",
   "metadata": {
    "id": "522b8216-70a5-4a4c-ba2c-00181c82dfff"
   },
   "source": [
    "The `gfw-api-python-client` can be easily installed using pip:"
   ]
  },
  {
   "cell_type": "code",
   "execution_count": 1,
   "id": "6651ddb1-26aa-4498-94b4-87f57bc2ee57",
   "metadata": {
    "id": "6651ddb1-26aa-4498-94b4-87f57bc2ee57"
   },
   "outputs": [],
   "source": [
    "# %pip install gfw-api-python-client"
   ]
  },
  {
   "cell_type": "markdown",
   "id": "c8d2ec35-c87b-456e-aecc-35e3e1dfa98d",
   "metadata": {
    "id": "c8d2ec35-c87b-456e-aecc-35e3e1dfa98d"
   },
   "source": [
    "## Usage"
   ]
  },
  {
   "cell_type": "code",
   "execution_count": 2,
   "id": "06969379-ed9c-43e0-bb67-ca72edf901b9",
   "metadata": {
    "id": "06969379-ed9c-43e0-bb67-ca72edf901b9"
   },
   "outputs": [],
   "source": [
    "import os\n",
    "import gfwapiclient as gfw"
   ]
  },
  {
   "cell_type": "code",
   "execution_count": 3,
   "id": "f3294bbc-f258-4c15-bf18-5b3b73705fff",
   "metadata": {
    "id": "f3294bbc-f258-4c15-bf18-5b3b73705fff"
   },
   "outputs": [],
   "source": [
    "try:\n",
    "    from google.colab import userdata\n",
    "\n",
    "    access_token = userdata.get(\"GFW_API_ACCESS_TOKEN\")\n",
    "except Exception as exc:\n",
    "    access_token = os.environ.get(\"GFW_API_ACCESS_TOKEN\")\n",
    "\n",
    "access_token = access_token or \"<PASTE_YOUR_GFW_API_ACCESS_TOKEN_HERE>\""
   ]
  },
  {
   "cell_type": "code",
   "execution_count": 4,
   "id": "958550f7-7302-47be-a538-8490f512ad0b",
   "metadata": {
    "id": "958550f7-7302-47be-a538-8490f512ad0b"
   },
   "outputs": [],
   "source": [
    "gfw_client = gfw.Client(\n",
    "    access_token=access_token,\n",
    ")"
   ]
  },
  {
   "cell_type": "markdown",
   "id": "4f2cb359-ad5c-416d-93ac-556041a36b85",
   "metadata": {
    "id": "4f2cb359-ad5c-416d-93ac-556041a36b85"
   },
   "source": [
    "## Retrieving SAR Fixed Infrastructure Data by Tile Coordinates (`get_sar_fixed_infrastructure` with z, x, y)"
   ]
  },
  {
   "cell_type": "code",
   "execution_count": 5,
   "id": "b56320c4-53c0-4a8c-8f6f-6ce0dcef92f7",
   "metadata": {
    "id": "b56320c4-53c0-4a8c-8f6f-6ce0dcef92f7"
   },
   "outputs": [],
   "source": [
    "z = 1\n",
    "x = 0\n",
    "y = 1"
   ]
  },
  {
   "cell_type": "code",
   "execution_count": 6,
   "id": "00deab13-5264-449e-8313-10c045b1eafa",
   "metadata": {
    "id": "00deab13-5264-449e-8313-10c045b1eafa"
   },
   "outputs": [],
   "source": [
    "sar_infrastructure_result = await gfw_client.datasets.get_sar_fixed_infrastructure(\n",
    "    z=z, x=x, y=y\n",
    ")"
   ]
  },
  {
   "cell_type": "markdown",
   "id": "3eb9eb9a-5f58-4d60-97bd-7e6dc0ac8c36",
   "metadata": {
    "id": "3eb9eb9a-5f58-4d60-97bd-7e6dc0ac8c36"
   },
   "source": [
    "### Access the list of SAR fixed infrastructure items as Pydantic models"
   ]
  },
  {
   "cell_type": "code",
   "execution_count": 7,
   "id": "c40b46c2-cad2-4edd-92d0-27f9abd1d320",
   "metadata": {
    "id": "c40b46c2-cad2-4edd-92d0-27f9abd1d320"
   },
   "outputs": [],
   "source": [
    "sar_infrastructure_data = sar_infrastructure_result.data()"
   ]
  },
  {
   "cell_type": "code",
   "execution_count": 8,
   "id": "d866864a-27e2-48d5-8186-2103575bcfce",
   "metadata": {
    "id": "d866864a-27e2-48d5-8186-2103575bcfce"
   },
   "outputs": [],
   "source": [
    "sar_infrastructure = sar_infrastructure_data[-1]"
   ]
  },
  {
   "cell_type": "code",
   "execution_count": 9,
   "id": "543f5995-ae81-4c62-bf74-0814c0e3f1d6",
   "metadata": {
    "colab": {
     "base_uri": "https://localhost:8080/"
    },
    "id": "543f5995-ae81-4c62-bf74-0814c0e3f1d6",
    "outputId": "223c7d49-0428-40bc-9c97-34a2eb4bdd50"
   },
   "outputs": [
    {
     "data": {
      "text/plain": [
       "(646348, 'oil', -39.15082587013905, 177.96658840984458)"
      ]
     },
     "execution_count": 9,
     "metadata": {},
     "output_type": "execute_result"
    }
   ],
   "source": [
    "(\n",
    "    sar_infrastructure.structure_id,\n",
    "    sar_infrastructure.label,\n",
    "    sar_infrastructure.lat,\n",
    "    sar_infrastructure.lon,\n",
    ")"
   ]
  },
  {
   "cell_type": "markdown",
   "id": "d9343c15-5436-47d1-8f14-8296441ee1e6",
   "metadata": {
    "id": "d9343c15-5436-47d1-8f14-8296441ee1e6"
   },
   "source": [
    "### Access the SAR fixed infrastructure items as a DataFrame"
   ]
  },
  {
   "cell_type": "code",
   "execution_count": 10,
   "id": "2023b9f3-04a8-42b3-848e-d5b0932b1cfe",
   "metadata": {
    "id": "2023b9f3-04a8-42b3-848e-d5b0932b1cfe"
   },
   "outputs": [],
   "source": [
    "sar_infrastructure_df = sar_infrastructure_result.df()"
   ]
  },
  {
   "cell_type": "code",
   "execution_count": 11,
   "id": "5350bf55-3a37-4fa9-a1d9-0642e9ece7ef",
   "metadata": {
    "colab": {
     "base_uri": "https://localhost:8080/",
     "height": 206
    },
    "id": "5350bf55-3a37-4fa9-a1d9-0642e9ece7ef",
    "outputId": "3f1fc237-51ed-4a84-c6d3-53f5f1d40644"
   },
   "outputs": [
    {
     "data": {
      "text/html": [
       "<div>\n",
       "<style scoped>\n",
       "    .dataframe tbody tr th:only-of-type {\n",
       "        vertical-align: middle;\n",
       "    }\n",
       "\n",
       "    .dataframe tbody tr th {\n",
       "        vertical-align: top;\n",
       "    }\n",
       "\n",
       "    .dataframe thead th {\n",
       "        text-align: right;\n",
       "    }\n",
       "</style>\n",
       "<table border=\"1\" class=\"dataframe\">\n",
       "  <thead>\n",
       "    <tr style=\"text-align: right;\">\n",
       "      <th></th>\n",
       "      <th>structure_id</th>\n",
       "      <th>lat</th>\n",
       "      <th>lon</th>\n",
       "      <th>label</th>\n",
       "      <th>structure_start_date</th>\n",
       "      <th>structure_end_date</th>\n",
       "      <th>label_confidence</th>\n",
       "    </tr>\n",
       "  </thead>\n",
       "  <tbody>\n",
       "    <tr>\n",
       "      <th>0</th>\n",
       "      <td>170796</td>\n",
       "      <td>1.509645</td>\n",
       "      <td>-78.888106</td>\n",
       "      <td>unknown</td>\n",
       "      <td>2021-11-01 00:00:00+00:00</td>\n",
       "      <td>2021-12-01 00:00:00+00:00</td>\n",
       "      <td>high</td>\n",
       "    </tr>\n",
       "    <tr>\n",
       "      <th>1</th>\n",
       "      <td>254126</td>\n",
       "      <td>1.029763</td>\n",
       "      <td>-79.745796</td>\n",
       "      <td>oil</td>\n",
       "      <td>2017-01-01 00:00:00+00:00</td>\n",
       "      <td>NaT</td>\n",
       "      <td>high</td>\n",
       "    </tr>\n",
       "    <tr>\n",
       "      <th>2</th>\n",
       "      <td>360586</td>\n",
       "      <td>1.021449</td>\n",
       "      <td>-79.733240</td>\n",
       "      <td>oil</td>\n",
       "      <td>2017-01-01 00:00:00+00:00</td>\n",
       "      <td>NaT</td>\n",
       "      <td>high</td>\n",
       "    </tr>\n",
       "    <tr>\n",
       "      <th>3</th>\n",
       "      <td>237733</td>\n",
       "      <td>1.030971</td>\n",
       "      <td>-79.717878</td>\n",
       "      <td>oil</td>\n",
       "      <td>2017-01-01 00:00:00+00:00</td>\n",
       "      <td>NaT</td>\n",
       "      <td>high</td>\n",
       "    </tr>\n",
       "    <tr>\n",
       "      <th>4</th>\n",
       "      <td>450717</td>\n",
       "      <td>1.033458</td>\n",
       "      <td>-79.699540</td>\n",
       "      <td>oil</td>\n",
       "      <td>2017-01-01 00:00:00+00:00</td>\n",
       "      <td>NaT</td>\n",
       "      <td>high</td>\n",
       "    </tr>\n",
       "  </tbody>\n",
       "</table>\n",
       "</div>"
      ],
      "text/plain": [
       "   structure_id       lat        lon    label      structure_start_date  \\\n",
       "0        170796  1.509645 -78.888106  unknown 2021-11-01 00:00:00+00:00   \n",
       "1        254126  1.029763 -79.745796      oil 2017-01-01 00:00:00+00:00   \n",
       "2        360586  1.021449 -79.733240      oil 2017-01-01 00:00:00+00:00   \n",
       "3        237733  1.030971 -79.717878      oil 2017-01-01 00:00:00+00:00   \n",
       "4        450717  1.033458 -79.699540      oil 2017-01-01 00:00:00+00:00   \n",
       "\n",
       "         structure_end_date label_confidence  \n",
       "0 2021-12-01 00:00:00+00:00             high  \n",
       "1                       NaT             high  \n",
       "2                       NaT             high  \n",
       "3                       NaT             high  \n",
       "4                       NaT             high  "
      ]
     },
     "execution_count": 11,
     "metadata": {},
     "output_type": "execute_result"
    }
   ],
   "source": [
    "sar_infrastructure_df.head()"
   ]
  },
  {
   "cell_type": "markdown",
   "id": "a9cc64a1-1d1d-42ad-ad4f-a08819047bb5",
   "metadata": {
    "id": "a9cc64a1-1d1d-42ad-ad4f-a08819047bb5"
   },
   "source": [
    "## Retrieving SAR Fixed Infrastructure Data by Geometry (`get_sar_fixed_infrastructure` with geometry)"
   ]
  },
  {
   "cell_type": "code",
   "execution_count": 12,
   "id": "7b12622e-db12-4adb-9721-717070e026f8",
   "metadata": {
    "id": "7b12622e-db12-4adb-9721-717070e026f8"
   },
   "outputs": [],
   "source": [
    "geometry = {\n",
    "    \"type\": \"Polygon\",\n",
    "    \"coordinates\": [\n",
    "        [\n",
    "            [-180.0, -85.0511287798066],\n",
    "            [-180.0, 0.0],\n",
    "            [0.0, 0.0],\n",
    "            [0.0, -85.0511287798066],\n",
    "            [-180.0, -85.0511287798066],\n",
    "        ]\n",
    "    ],\n",
    "}"
   ]
  },
  {
   "cell_type": "code",
   "execution_count": 13,
   "id": "02c19ae9-fb43-4f95-a9c2-e0e5b97a7089",
   "metadata": {
    "id": "02c19ae9-fb43-4f95-a9c2-e0e5b97a7089"
   },
   "outputs": [],
   "source": [
    "sar_infrastructure_result = await gfw_client.datasets.get_sar_fixed_infrastructure(\n",
    "    geometry=geometry\n",
    ")"
   ]
  },
  {
   "cell_type": "code",
   "execution_count": 14,
   "id": "4ca75748-9258-4352-8286-ff3f2dacf2b0",
   "metadata": {
    "id": "4ca75748-9258-4352-8286-ff3f2dacf2b0"
   },
   "outputs": [],
   "source": [
    "sar_infrastructure_data = sar_infrastructure_result.data()"
   ]
  },
  {
   "cell_type": "code",
   "execution_count": 15,
   "id": "276c553b-df26-43cc-a1f3-6319417552e9",
   "metadata": {
    "id": "276c553b-df26-43cc-a1f3-6319417552e9"
   },
   "outputs": [],
   "source": [
    "sar_infrastructure = sar_infrastructure_data[-1]"
   ]
  },
  {
   "cell_type": "code",
   "execution_count": 16,
   "id": "30f82972-50dc-4c60-a901-21c2acc17255",
   "metadata": {
    "colab": {
     "base_uri": "https://localhost:8080/"
    },
    "id": "30f82972-50dc-4c60-a901-21c2acc17255",
    "outputId": "402e2995-2a17-4ab3-aab4-537f92766ba2"
   },
   "outputs": [
    {
     "data": {
      "text/plain": [
       "(646348, 'oil', -39.15082587013905, 177.96658840984458)"
      ]
     },
     "execution_count": 16,
     "metadata": {},
     "output_type": "execute_result"
    }
   ],
   "source": [
    "(\n",
    "    sar_infrastructure.structure_id,\n",
    "    sar_infrastructure.label,\n",
    "    sar_infrastructure.lat,\n",
    "    sar_infrastructure.lon,\n",
    ")"
   ]
  },
  {
   "cell_type": "markdown",
   "id": "64ebfcd4-e9b8-418c-919d-5a5a25e78968",
   "metadata": {
    "id": "64ebfcd4-e9b8-418c-919d-5a5a25e78968"
   },
   "source": [
    "### Access the SAR fixed infrastructure items as a DataFrame"
   ]
  },
  {
   "cell_type": "code",
   "execution_count": 17,
   "id": "d29b4044-5ba2-44bf-a00f-f1b01cb35ab6",
   "metadata": {
    "id": "d29b4044-5ba2-44bf-a00f-f1b01cb35ab6"
   },
   "outputs": [],
   "source": [
    "sar_infrastructure_df = sar_infrastructure_result.df()"
   ]
  },
  {
   "cell_type": "code",
   "execution_count": 18,
   "id": "7ca536d1-dfa2-4ba7-b20a-72e739c66775",
   "metadata": {
    "colab": {
     "base_uri": "https://localhost:8080/",
     "height": 206
    },
    "id": "7ca536d1-dfa2-4ba7-b20a-72e739c66775",
    "outputId": "afc85085-bc73-4809-a346-7e26256d13ce"
   },
   "outputs": [
    {
     "data": {
      "text/html": [
       "<div>\n",
       "<style scoped>\n",
       "    .dataframe tbody tr th:only-of-type {\n",
       "        vertical-align: middle;\n",
       "    }\n",
       "\n",
       "    .dataframe tbody tr th {\n",
       "        vertical-align: top;\n",
       "    }\n",
       "\n",
       "    .dataframe thead th {\n",
       "        text-align: right;\n",
       "    }\n",
       "</style>\n",
       "<table border=\"1\" class=\"dataframe\">\n",
       "  <thead>\n",
       "    <tr style=\"text-align: right;\">\n",
       "      <th></th>\n",
       "      <th>structure_id</th>\n",
       "      <th>lat</th>\n",
       "      <th>lon</th>\n",
       "      <th>label</th>\n",
       "      <th>structure_start_date</th>\n",
       "      <th>structure_end_date</th>\n",
       "      <th>label_confidence</th>\n",
       "    </tr>\n",
       "  </thead>\n",
       "  <tbody>\n",
       "    <tr>\n",
       "      <th>0</th>\n",
       "      <td>170796</td>\n",
       "      <td>1.509645</td>\n",
       "      <td>-78.888106</td>\n",
       "      <td>unknown</td>\n",
       "      <td>2021-11-01 00:00:00+00:00</td>\n",
       "      <td>2021-12-01 00:00:00+00:00</td>\n",
       "      <td>high</td>\n",
       "    </tr>\n",
       "    <tr>\n",
       "      <th>1</th>\n",
       "      <td>254126</td>\n",
       "      <td>1.029763</td>\n",
       "      <td>-79.745796</td>\n",
       "      <td>oil</td>\n",
       "      <td>2017-01-01 00:00:00+00:00</td>\n",
       "      <td>NaT</td>\n",
       "      <td>high</td>\n",
       "    </tr>\n",
       "    <tr>\n",
       "      <th>2</th>\n",
       "      <td>360586</td>\n",
       "      <td>1.021449</td>\n",
       "      <td>-79.733240</td>\n",
       "      <td>oil</td>\n",
       "      <td>2017-01-01 00:00:00+00:00</td>\n",
       "      <td>NaT</td>\n",
       "      <td>high</td>\n",
       "    </tr>\n",
       "    <tr>\n",
       "      <th>3</th>\n",
       "      <td>237733</td>\n",
       "      <td>1.030971</td>\n",
       "      <td>-79.717878</td>\n",
       "      <td>oil</td>\n",
       "      <td>2017-01-01 00:00:00+00:00</td>\n",
       "      <td>NaT</td>\n",
       "      <td>high</td>\n",
       "    </tr>\n",
       "    <tr>\n",
       "      <th>4</th>\n",
       "      <td>450717</td>\n",
       "      <td>1.033458</td>\n",
       "      <td>-79.699540</td>\n",
       "      <td>oil</td>\n",
       "      <td>2017-01-01 00:00:00+00:00</td>\n",
       "      <td>NaT</td>\n",
       "      <td>high</td>\n",
       "    </tr>\n",
       "  </tbody>\n",
       "</table>\n",
       "</div>"
      ],
      "text/plain": [
       "   structure_id       lat        lon    label      structure_start_date  \\\n",
       "0        170796  1.509645 -78.888106  unknown 2021-11-01 00:00:00+00:00   \n",
       "1        254126  1.029763 -79.745796      oil 2017-01-01 00:00:00+00:00   \n",
       "2        360586  1.021449 -79.733240      oil 2017-01-01 00:00:00+00:00   \n",
       "3        237733  1.030971 -79.717878      oil 2017-01-01 00:00:00+00:00   \n",
       "4        450717  1.033458 -79.699540      oil 2017-01-01 00:00:00+00:00   \n",
       "\n",
       "         structure_end_date label_confidence  \n",
       "0 2021-12-01 00:00:00+00:00             high  \n",
       "1                       NaT             high  \n",
       "2                       NaT             high  \n",
       "3                       NaT             high  \n",
       "4                       NaT             high  "
      ]
     },
     "execution_count": 18,
     "metadata": {},
     "output_type": "execute_result"
    }
   ],
   "source": [
    "sar_infrastructure_df.head()"
   ]
  }
 ],
 "metadata": {
  "colab": {
   "include_colab_link": true,
   "provenance": []
  },
  "kernelspec": {
   "display_name": "Python 3 (ipykernel)",
   "language": "python",
   "name": "python3"
  },
  "language_info": {
   "codemirror_mode": {
    "name": "ipython",
    "version": 3
   },
   "file_extension": ".py",
   "mimetype": "text/x-python",
   "name": "python",
   "nbconvert_exporter": "python",
   "pygments_lexer": "ipython3",
   "version": "3.11.11"
  }
 },
 "nbformat": 4,
 "nbformat_minor": 5
}
