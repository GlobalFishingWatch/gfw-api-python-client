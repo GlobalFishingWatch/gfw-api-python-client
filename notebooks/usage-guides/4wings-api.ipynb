{
 "cells": [
  {
   "cell_type": "markdown",
   "id": "7f3b7119",
   "metadata": {
    "colab_type": "text",
    "id": "view-in-github"
   },
   "source": [
    "<a href=\"https://colab.research.google.com/github/GlobalFishingWatch/gfw-api-python-client/blob/develop/notebooks/usage-guides/4wings-api.ipynb\" target=\"_parent\"><img src=\"https://colab.research.google.com/assets/colab-badge.svg\" alt=\"Open In Colab\"/></a>"
   ]
  },
  {
   "cell_type": "markdown",
   "id": "493f86ff-cee9-4fb0-8e5f-b3a0903df39e",
   "metadata": {
    "id": "493f86ff-cee9-4fb0-8e5f-b3a0903df39e"
   },
   "source": [
    "# 4Wings API"
   ]
  },
  {
   "cell_type": "markdown",
   "id": "e9ca2eda-18f1-4f9c-9717-fb1a06423958",
   "metadata": {
    "id": "e9ca2eda-18f1-4f9c-9717-fb1a06423958"
   },
   "source": [
    "This guide provides detailed instructions on how to use the [gfw-api-python-client](https://github.com/GlobalFishingWatch/gfw-api-python-client) to access the 4Wings API, which is designed for generating reports and statistics on activities within specified regions."
   ]
  },
  {
   "cell_type": "markdown",
   "id": "cb352526-90e2-45fd-8732-e34f0342f30f",
   "metadata": {
    "id": "cb352526-90e2-45fd-8732-e34f0342f30f"
   },
   "source": [
    "## Prerequisites"
   ]
  },
  {
   "cell_type": "markdown",
   "id": "57109889-5f3f-45b3-a594-2f82b94bcadb",
   "metadata": {
    "id": "57109889-5f3f-45b3-a594-2f82b94bcadb"
   },
   "source": [
    "Before using the `gfw-api-python-client`, you need to obtain an API access token from the [Global Fishing Watch API portal](https://globalfishingwatch.org/our-apis/tokens)"
   ]
  },
  {
   "cell_type": "markdown",
   "id": "3d1d4bf0-e6f7-4bda-9a79-4c6b6a42d1a1",
   "metadata": {
    "id": "3d1d4bf0-e6f7-4bda-9a79-4c6b6a42d1a1"
   },
   "source": [
    "## Installation"
   ]
  },
  {
   "cell_type": "markdown",
   "id": "e8ed8d6d-214c-4888-bbb9-3798adabe12b",
   "metadata": {
    "id": "e8ed8d6d-214c-4888-bbb9-3798adabe12b"
   },
   "source": [
    "The `gfw-api-python-client` can be easily installed using pip:"
   ]
  },
  {
   "cell_type": "code",
   "execution_count": 1,
   "id": "d863fe42-f9f6-4a6e-b736-f0adc82581fe",
   "metadata": {
    "id": "d863fe42-f9f6-4a6e-b736-f0adc82581fe"
   },
   "outputs": [],
   "source": [
    "# %pip install gfw-api-python-client"
   ]
  },
  {
   "cell_type": "markdown",
   "id": "9c023a54-4d23-4cc2-bd36-659d4d78789e",
   "metadata": {
    "id": "9c023a54-4d23-4cc2-bd36-659d4d78789e"
   },
   "source": [
    "## Usage"
   ]
  },
  {
   "cell_type": "code",
   "execution_count": 2,
   "id": "2420e772-c8c6-4eec-bbab-db0708733b50",
   "metadata": {
    "id": "2420e772-c8c6-4eec-bbab-db0708733b50"
   },
   "outputs": [],
   "source": [
    "import os\n",
    "import gfwapiclient as gfw"
   ]
  },
  {
   "cell_type": "code",
   "execution_count": 3,
   "id": "c1fae7c8-2806-4468-84f0-2ca90b4f5653",
   "metadata": {
    "id": "c1fae7c8-2806-4468-84f0-2ca90b4f5653"
   },
   "outputs": [],
   "source": [
    "try:\n",
    "    from google.colab import userdata\n",
    "\n",
    "    access_token = userdata.get(\"GFW_API_ACCESS_TOKEN\")\n",
    "except Exception as exc:\n",
    "    access_token = os.environ.get(\"GFW_API_ACCESS_TOKEN\")\n",
    "\n",
    "access_token = access_token or \"<PASTE_YOUR_GFW_API_ACCESS_TOKEN_HERE>\""
   ]
  },
  {
   "cell_type": "code",
   "execution_count": 4,
   "id": "08c9daef-552d-4906-ac21-eaedcea7b102",
   "metadata": {
    "id": "08c9daef-552d-4906-ac21-eaedcea7b102"
   },
   "outputs": [],
   "source": [
    "gfw_client = gfw.Client(\n",
    "    access_token=access_token,\n",
    ")"
   ]
  },
  {
   "cell_type": "markdown",
   "id": "c30c9de1-8fcc-45cc-91ad-339d1e1944ee",
   "metadata": {},
   "source": [
    "## Creating a Fishing Effort Report (`create_fishing_effort_report`)"
   ]
  },
  {
   "cell_type": "markdown",
   "id": "d5f9e8ad-f137-446b-a38f-9caa4f233925",
   "metadata": {},
   "source": [
    "Generates **AIS (Automatic Identification System) apparent fishing effort** reports to visualize fishing activity. [Please check the data caveats here](https://globalfishingwatch.org/our-apis/documentation#data-caveat)."
   ]
  },
  {
   "cell_type": "code",
   "execution_count": 5,
   "id": "338223ff-9c23-47f6-bf33-2aaaefc35081",
   "metadata": {},
   "outputs": [],
   "source": [
    "fishing_effort_report_result = await gfw_client.fourwings.create_fishing_effort_report(\n",
    "    spatial_resolution=\"LOW\",\n",
    "    temporal_resolution=\"MONTHLY\",\n",
    "    group_by=\"GEARTYPE\",\n",
    "    start_date=\"2022-01-01\",\n",
    "    end_date=\"2022-05-01\",\n",
    "    region={\n",
    "        \"dataset\": \"public-eez-areas\",\n",
    "        \"id\": \"5690\",\n",
    "    },\n",
    ")"
   ]
  },
  {
   "cell_type": "markdown",
   "id": "86738d44-fed7-4dd9-8014-d72ae3c22ae7",
   "metadata": {},
   "source": [
    "### Access the report data as Pydantic models"
   ]
  },
  {
   "cell_type": "code",
   "execution_count": 6,
   "id": "3bff3854-9b54-44c9-a7f8-3ef2bf1b7719",
   "metadata": {},
   "outputs": [],
   "source": [
    "fishing_effort_report_data = fishing_effort_report_result.data()"
   ]
  },
  {
   "cell_type": "code",
   "execution_count": 7,
   "id": "21e8b553-20dd-43bb-92c3-0e7f5f6f29c3",
   "metadata": {},
   "outputs": [],
   "source": [
    "fishing_effort_report_item = fishing_effort_report_data[-1]"
   ]
  },
  {
   "cell_type": "code",
   "execution_count": 8,
   "id": "29bd8b84-1f22-4a11-9861-548237926012",
   "metadata": {},
   "outputs": [
    {
     "data": {
      "text/plain": [
       "('2022-04', 'fishing', 2.705, 1, 52.0, 155.2)"
      ]
     },
     "execution_count": 8,
     "metadata": {},
     "output_type": "execute_result"
    }
   ],
   "source": [
    "(\n",
    "    fishing_effort_report_item.date,\n",
    "    fishing_effort_report_item.gear_type,\n",
    "    fishing_effort_report_item.hours,\n",
    "    fishing_effort_report_item.vessel_ids,\n",
    "    fishing_effort_report_item.lat,\n",
    "    fishing_effort_report_item.lon,\n",
    ")"
   ]
  },
  {
   "cell_type": "markdown",
   "id": "f1294498-7b8c-4054-85b3-a24ecee90340",
   "metadata": {},
   "source": [
    "### Access the report data as a DataFrame"
   ]
  },
  {
   "cell_type": "code",
   "execution_count": 9,
   "id": "a778ef19-f68d-4e0b-8b37-539db79868cb",
   "metadata": {},
   "outputs": [],
   "source": [
    "fishing_effort_report_df = fishing_effort_report_result.df()"
   ]
  },
  {
   "cell_type": "code",
   "execution_count": 10,
   "id": "5145b645-c0fe-4780-b94f-261b534b7f04",
   "metadata": {},
   "outputs": [
    {
     "data": {
      "text/html": [
       "<div>\n",
       "<style scoped>\n",
       "    .dataframe tbody tr th:only-of-type {\n",
       "        vertical-align: middle;\n",
       "    }\n",
       "\n",
       "    .dataframe tbody tr th {\n",
       "        vertical-align: top;\n",
       "    }\n",
       "\n",
       "    .dataframe thead th {\n",
       "        text-align: right;\n",
       "    }\n",
       "</style>\n",
       "<table border=\"1\" class=\"dataframe\">\n",
       "  <thead>\n",
       "    <tr style=\"text-align: right;\">\n",
       "      <th></th>\n",
       "      <th>date</th>\n",
       "      <th>detections</th>\n",
       "      <th>flag</th>\n",
       "      <th>gear_type</th>\n",
       "      <th>hours</th>\n",
       "      <th>vessel_ids</th>\n",
       "      <th>vessel_id</th>\n",
       "      <th>vessel_type</th>\n",
       "      <th>entry_timestamp</th>\n",
       "      <th>exit_timestamp</th>\n",
       "      <th>first_transmission_date</th>\n",
       "      <th>last_transmission_date</th>\n",
       "      <th>imo</th>\n",
       "      <th>mmsi</th>\n",
       "      <th>call_sign</th>\n",
       "      <th>dataset</th>\n",
       "      <th>report_dataset</th>\n",
       "      <th>ship_name</th>\n",
       "      <th>lat</th>\n",
       "      <th>lon</th>\n",
       "    </tr>\n",
       "  </thead>\n",
       "  <tbody>\n",
       "    <tr>\n",
       "      <th>0</th>\n",
       "      <td>2022-01</td>\n",
       "      <td>None</td>\n",
       "      <td>None</td>\n",
       "      <td>trawlers</td>\n",
       "      <td>2.848333</td>\n",
       "      <td>1</td>\n",
       "      <td>None</td>\n",
       "      <td>None</td>\n",
       "      <td>None</td>\n",
       "      <td>None</td>\n",
       "      <td>None</td>\n",
       "      <td>None</td>\n",
       "      <td>None</td>\n",
       "      <td>None</td>\n",
       "      <td>None</td>\n",
       "      <td>None</td>\n",
       "      <td>public-global-fishing-effort:v3.0</td>\n",
       "      <td>None</td>\n",
       "      <td>58.5</td>\n",
       "      <td>149.2</td>\n",
       "    </tr>\n",
       "    <tr>\n",
       "      <th>1</th>\n",
       "      <td>2022-03</td>\n",
       "      <td>None</td>\n",
       "      <td>None</td>\n",
       "      <td>fishing</td>\n",
       "      <td>1.305710</td>\n",
       "      <td>1</td>\n",
       "      <td>None</td>\n",
       "      <td>None</td>\n",
       "      <td>None</td>\n",
       "      <td>None</td>\n",
       "      <td>None</td>\n",
       "      <td>None</td>\n",
       "      <td>None</td>\n",
       "      <td>None</td>\n",
       "      <td>None</td>\n",
       "      <td>None</td>\n",
       "      <td>public-global-fishing-effort:v3.0</td>\n",
       "      <td>None</td>\n",
       "      <td>55.6</td>\n",
       "      <td>153.8</td>\n",
       "    </tr>\n",
       "    <tr>\n",
       "      <th>2</th>\n",
       "      <td>2022-02</td>\n",
       "      <td>None</td>\n",
       "      <td>None</td>\n",
       "      <td>trawlers</td>\n",
       "      <td>20.537500</td>\n",
       "      <td>13</td>\n",
       "      <td>None</td>\n",
       "      <td>None</td>\n",
       "      <td>None</td>\n",
       "      <td>None</td>\n",
       "      <td>None</td>\n",
       "      <td>None</td>\n",
       "      <td>None</td>\n",
       "      <td>None</td>\n",
       "      <td>None</td>\n",
       "      <td>None</td>\n",
       "      <td>public-global-fishing-effort:v3.0</td>\n",
       "      <td>None</td>\n",
       "      <td>54.9</td>\n",
       "      <td>152.7</td>\n",
       "    </tr>\n",
       "    <tr>\n",
       "      <th>3</th>\n",
       "      <td>2022-02</td>\n",
       "      <td>None</td>\n",
       "      <td>None</td>\n",
       "      <td>trawlers</td>\n",
       "      <td>5.952222</td>\n",
       "      <td>3</td>\n",
       "      <td>None</td>\n",
       "      <td>None</td>\n",
       "      <td>None</td>\n",
       "      <td>None</td>\n",
       "      <td>None</td>\n",
       "      <td>None</td>\n",
       "      <td>None</td>\n",
       "      <td>None</td>\n",
       "      <td>None</td>\n",
       "      <td>None</td>\n",
       "      <td>public-global-fishing-effort:v3.0</td>\n",
       "      <td>None</td>\n",
       "      <td>56.1</td>\n",
       "      <td>144.4</td>\n",
       "    </tr>\n",
       "    <tr>\n",
       "      <th>4</th>\n",
       "      <td>2022-01</td>\n",
       "      <td>None</td>\n",
       "      <td>None</td>\n",
       "      <td>trawlers</td>\n",
       "      <td>1.951944</td>\n",
       "      <td>1</td>\n",
       "      <td>None</td>\n",
       "      <td>None</td>\n",
       "      <td>None</td>\n",
       "      <td>None</td>\n",
       "      <td>None</td>\n",
       "      <td>None</td>\n",
       "      <td>None</td>\n",
       "      <td>None</td>\n",
       "      <td>None</td>\n",
       "      <td>None</td>\n",
       "      <td>public-global-fishing-effort:v3.0</td>\n",
       "      <td>None</td>\n",
       "      <td>51.7</td>\n",
       "      <td>154.1</td>\n",
       "    </tr>\n",
       "  </tbody>\n",
       "</table>\n",
       "</div>"
      ],
      "text/plain": [
       "      date detections  flag gear_type      hours  vessel_ids vessel_id  \\\n",
       "0  2022-01       None  None  trawlers   2.848333           1      None   \n",
       "1  2022-03       None  None   fishing   1.305710           1      None   \n",
       "2  2022-02       None  None  trawlers  20.537500          13      None   \n",
       "3  2022-02       None  None  trawlers   5.952222           3      None   \n",
       "4  2022-01       None  None  trawlers   1.951944           1      None   \n",
       "\n",
       "  vessel_type entry_timestamp exit_timestamp first_transmission_date  \\\n",
       "0        None            None           None                    None   \n",
       "1        None            None           None                    None   \n",
       "2        None            None           None                    None   \n",
       "3        None            None           None                    None   \n",
       "4        None            None           None                    None   \n",
       "\n",
       "  last_transmission_date   imo  mmsi call_sign dataset  \\\n",
       "0                   None  None  None      None    None   \n",
       "1                   None  None  None      None    None   \n",
       "2                   None  None  None      None    None   \n",
       "3                   None  None  None      None    None   \n",
       "4                   None  None  None      None    None   \n",
       "\n",
       "                      report_dataset ship_name   lat    lon  \n",
       "0  public-global-fishing-effort:v3.0      None  58.5  149.2  \n",
       "1  public-global-fishing-effort:v3.0      None  55.6  153.8  \n",
       "2  public-global-fishing-effort:v3.0      None  54.9  152.7  \n",
       "3  public-global-fishing-effort:v3.0      None  56.1  144.4  \n",
       "4  public-global-fishing-effort:v3.0      None  51.7  154.1  "
      ]
     },
     "execution_count": 10,
     "metadata": {},
     "output_type": "execute_result"
    }
   ],
   "source": [
    "fishing_effort_report_df.head()"
   ]
  },
  {
   "cell_type": "markdown",
   "id": "e52637e9-47fd-47a1-9f38-a97fef3e8881",
   "metadata": {},
   "source": [
    "## Creating an AIS Presence Report (`create_ais_presence_report`)"
   ]
  },
  {
   "cell_type": "markdown",
   "id": "c0a1a577-fd6c-447d-b661-74f77aabb317",
   "metadata": {},
   "source": [
    "Generates **AIS (Automatic Identification System) vessel presence** reports to visualize movement patterns of any vessel type. [Please check the data caveats here](https://globalfishingwatch.org/our-apis/documentation#data-caveat)."
   ]
  },
  {
   "cell_type": "code",
   "execution_count": 11,
   "id": "0946a5ab-5090-4920-94dd-88c733528f5b",
   "metadata": {},
   "outputs": [],
   "source": [
    "ais_presence_report_result = await gfw_client.fourwings.create_ais_presence_report(\n",
    "    spatial_resolution=\"LOW\",\n",
    "    temporal_resolution=\"MONTHLY\",\n",
    "    group_by=\"GEARTYPE\",\n",
    "    start_date=\"2022-01-01\",\n",
    "    end_date=\"2022-05-01\",\n",
    "    region={\n",
    "        \"dataset\": \"public-eez-areas\",\n",
    "        \"id\": \"5690\",\n",
    "    },\n",
    ")"
   ]
  },
  {
   "cell_type": "markdown",
   "id": "6b4fd3a3-f233-4e64-9b1b-ecdd9aa1a4ce",
   "metadata": {},
   "source": [
    "### Access the report data as Pydantic models"
   ]
  },
  {
   "cell_type": "code",
   "execution_count": 12,
   "id": "5a5d349d-f60f-4fd3-997e-f74c82d2d4f9",
   "metadata": {},
   "outputs": [],
   "source": [
    "ais_presence_report_data = ais_presence_report_result.data()"
   ]
  },
  {
   "cell_type": "code",
   "execution_count": 13,
   "id": "f4435324-5b39-40dd-897e-6a7ef7620a93",
   "metadata": {},
   "outputs": [],
   "source": [
    "ais_presence_report_item = ais_presence_report_data[-1]"
   ]
  },
  {
   "cell_type": "code",
   "execution_count": 14,
   "id": "b2990454-d924-4288-8e4f-90e4ab60015b",
   "metadata": {},
   "outputs": [
    {
     "data": {
      "text/plain": [
       "('2022-04', 9.0, 8, 50.4, 160.7)"
      ]
     },
     "execution_count": 14,
     "metadata": {},
     "output_type": "execute_result"
    }
   ],
   "source": [
    "(\n",
    "    ais_presence_report_item.date,\n",
    "    ais_presence_report_item.hours,\n",
    "    ais_presence_report_item.vessel_ids,\n",
    "    ais_presence_report_item.lat,\n",
    "    ais_presence_report_item.lon,\n",
    ")"
   ]
  },
  {
   "cell_type": "markdown",
   "id": "e531ce87-16e0-4d78-a97f-ba79bf126cd9",
   "metadata": {},
   "source": [
    "### Access the report data as a DataFrame"
   ]
  },
  {
   "cell_type": "code",
   "execution_count": 15,
   "id": "4ad188a4-fbaf-41ee-ab4b-6aeda56e0e57",
   "metadata": {},
   "outputs": [],
   "source": [
    "ais_presence_report_df = ais_presence_report_result.df()"
   ]
  },
  {
   "cell_type": "code",
   "execution_count": 16,
   "id": "b8c04941-74fc-4a46-bc00-9e66afc59e10",
   "metadata": {},
   "outputs": [
    {
     "data": {
      "text/html": [
       "<div>\n",
       "<style scoped>\n",
       "    .dataframe tbody tr th:only-of-type {\n",
       "        vertical-align: middle;\n",
       "    }\n",
       "\n",
       "    .dataframe tbody tr th {\n",
       "        vertical-align: top;\n",
       "    }\n",
       "\n",
       "    .dataframe thead th {\n",
       "        text-align: right;\n",
       "    }\n",
       "</style>\n",
       "<table border=\"1\" class=\"dataframe\">\n",
       "  <thead>\n",
       "    <tr style=\"text-align: right;\">\n",
       "      <th></th>\n",
       "      <th>date</th>\n",
       "      <th>detections</th>\n",
       "      <th>flag</th>\n",
       "      <th>gear_type</th>\n",
       "      <th>hours</th>\n",
       "      <th>vessel_ids</th>\n",
       "      <th>vessel_id</th>\n",
       "      <th>vessel_type</th>\n",
       "      <th>entry_timestamp</th>\n",
       "      <th>exit_timestamp</th>\n",
       "      <th>first_transmission_date</th>\n",
       "      <th>last_transmission_date</th>\n",
       "      <th>imo</th>\n",
       "      <th>mmsi</th>\n",
       "      <th>call_sign</th>\n",
       "      <th>dataset</th>\n",
       "      <th>report_dataset</th>\n",
       "      <th>ship_name</th>\n",
       "      <th>lat</th>\n",
       "      <th>lon</th>\n",
       "    </tr>\n",
       "  </thead>\n",
       "  <tbody>\n",
       "    <tr>\n",
       "      <th>0</th>\n",
       "      <td>2022-01</td>\n",
       "      <td>None</td>\n",
       "      <td>None</td>\n",
       "      <td></td>\n",
       "      <td>2.0</td>\n",
       "      <td>2</td>\n",
       "      <td>None</td>\n",
       "      <td>None</td>\n",
       "      <td>None</td>\n",
       "      <td>None</td>\n",
       "      <td>None</td>\n",
       "      <td>None</td>\n",
       "      <td>None</td>\n",
       "      <td>None</td>\n",
       "      <td>None</td>\n",
       "      <td>None</td>\n",
       "      <td>public-global-presence:v3.0</td>\n",
       "      <td>None</td>\n",
       "      <td>73.8</td>\n",
       "      <td>73.0</td>\n",
       "    </tr>\n",
       "    <tr>\n",
       "      <th>1</th>\n",
       "      <td>2022-01</td>\n",
       "      <td>None</td>\n",
       "      <td>None</td>\n",
       "      <td></td>\n",
       "      <td>1.0</td>\n",
       "      <td>1</td>\n",
       "      <td>None</td>\n",
       "      <td>None</td>\n",
       "      <td>None</td>\n",
       "      <td>None</td>\n",
       "      <td>None</td>\n",
       "      <td>None</td>\n",
       "      <td>None</td>\n",
       "      <td>None</td>\n",
       "      <td>None</td>\n",
       "      <td>None</td>\n",
       "      <td>public-global-presence:v3.0</td>\n",
       "      <td>None</td>\n",
       "      <td>73.5</td>\n",
       "      <td>44.9</td>\n",
       "    </tr>\n",
       "    <tr>\n",
       "      <th>2</th>\n",
       "      <td>2022-03</td>\n",
       "      <td>None</td>\n",
       "      <td>None</td>\n",
       "      <td></td>\n",
       "      <td>1.0</td>\n",
       "      <td>1</td>\n",
       "      <td>None</td>\n",
       "      <td>None</td>\n",
       "      <td>None</td>\n",
       "      <td>None</td>\n",
       "      <td>None</td>\n",
       "      <td>None</td>\n",
       "      <td>None</td>\n",
       "      <td>None</td>\n",
       "      <td>None</td>\n",
       "      <td>None</td>\n",
       "      <td>public-global-presence:v3.0</td>\n",
       "      <td>None</td>\n",
       "      <td>50.2</td>\n",
       "      <td>147.2</td>\n",
       "    </tr>\n",
       "    <tr>\n",
       "      <th>3</th>\n",
       "      <td>2022-03</td>\n",
       "      <td>None</td>\n",
       "      <td>None</td>\n",
       "      <td></td>\n",
       "      <td>11.0</td>\n",
       "      <td>8</td>\n",
       "      <td>None</td>\n",
       "      <td>None</td>\n",
       "      <td>None</td>\n",
       "      <td>None</td>\n",
       "      <td>None</td>\n",
       "      <td>None</td>\n",
       "      <td>None</td>\n",
       "      <td>None</td>\n",
       "      <td>None</td>\n",
       "      <td>None</td>\n",
       "      <td>public-global-presence:v3.0</td>\n",
       "      <td>None</td>\n",
       "      <td>43.2</td>\n",
       "      <td>37.3</td>\n",
       "    </tr>\n",
       "    <tr>\n",
       "      <th>4</th>\n",
       "      <td>2022-04</td>\n",
       "      <td>None</td>\n",
       "      <td>None</td>\n",
       "      <td></td>\n",
       "      <td>3.0</td>\n",
       "      <td>3</td>\n",
       "      <td>None</td>\n",
       "      <td>None</td>\n",
       "      <td>None</td>\n",
       "      <td>None</td>\n",
       "      <td>None</td>\n",
       "      <td>None</td>\n",
       "      <td>None</td>\n",
       "      <td>None</td>\n",
       "      <td>None</td>\n",
       "      <td>None</td>\n",
       "      <td>public-global-presence:v3.0</td>\n",
       "      <td>None</td>\n",
       "      <td>69.4</td>\n",
       "      <td>40.2</td>\n",
       "    </tr>\n",
       "  </tbody>\n",
       "</table>\n",
       "</div>"
      ],
      "text/plain": [
       "      date detections  flag gear_type  hours  vessel_ids vessel_id  \\\n",
       "0  2022-01       None  None              2.0           2      None   \n",
       "1  2022-01       None  None              1.0           1      None   \n",
       "2  2022-03       None  None              1.0           1      None   \n",
       "3  2022-03       None  None             11.0           8      None   \n",
       "4  2022-04       None  None              3.0           3      None   \n",
       "\n",
       "  vessel_type entry_timestamp exit_timestamp first_transmission_date  \\\n",
       "0        None            None           None                    None   \n",
       "1        None            None           None                    None   \n",
       "2        None            None           None                    None   \n",
       "3        None            None           None                    None   \n",
       "4        None            None           None                    None   \n",
       "\n",
       "  last_transmission_date   imo  mmsi call_sign dataset  \\\n",
       "0                   None  None  None      None    None   \n",
       "1                   None  None  None      None    None   \n",
       "2                   None  None  None      None    None   \n",
       "3                   None  None  None      None    None   \n",
       "4                   None  None  None      None    None   \n",
       "\n",
       "                report_dataset ship_name   lat    lon  \n",
       "0  public-global-presence:v3.0      None  73.8   73.0  \n",
       "1  public-global-presence:v3.0      None  73.5   44.9  \n",
       "2  public-global-presence:v3.0      None  50.2  147.2  \n",
       "3  public-global-presence:v3.0      None  43.2   37.3  \n",
       "4  public-global-presence:v3.0      None  69.4   40.2  "
      ]
     },
     "execution_count": 16,
     "metadata": {},
     "output_type": "execute_result"
    }
   ],
   "source": [
    "ais_presence_report_df.head()"
   ]
  },
  {
   "cell_type": "markdown",
   "id": "221693a6-66dd-4f2b-a7ac-e7fb79cd6e1e",
   "metadata": {},
   "source": [
    "## Creating a SAR Presence Report (`create_sar_presence_report`)"
   ]
  },
  {
   "cell_type": "markdown",
   "id": "be214b01-e4f9-45b0-8d54-c993d0d04d05",
   "metadata": {},
   "source": [
    "Generates **SAR (Synthetic-Aperture Radar) vessel detections** reports to identify vessels detected via radar, including non-broadcasting (`\"dark\"`) vessels. [Please check the data caveats here](https://globalfishingwatch.org/our-apis/documentation#sar-vessel-detections-data-caveats)."
   ]
  },
  {
   "cell_type": "code",
   "execution_count": 17,
   "id": "45789061-c4e1-4938-b061-79122adb25da",
   "metadata": {},
   "outputs": [],
   "source": [
    "sar_presence_report_result = await gfw_client.fourwings.create_sar_presence_report(\n",
    "    spatial_resolution=\"LOW\",\n",
    "    temporal_resolution=\"MONTHLY\",\n",
    "    group_by=\"GEARTYPE\",\n",
    "    start_date=\"2022-01-01\",\n",
    "    end_date=\"2022-05-01\",\n",
    "    region={\n",
    "        \"dataset\": \"public-eez-areas\",\n",
    "        \"id\": \"5690\",\n",
    "    },\n",
    ")"
   ]
  },
  {
   "cell_type": "markdown",
   "id": "3c2a9dce-ff3c-45e6-afc6-1a9762b7cd80",
   "metadata": {},
   "source": [
    "### Access the report data as Pydantic models"
   ]
  },
  {
   "cell_type": "code",
   "execution_count": 18,
   "id": "c8f3894f-9d4a-4b2a-8f18-751c8155fddb",
   "metadata": {},
   "outputs": [],
   "source": [
    "sar_presence_report_data = sar_presence_report_result.data()"
   ]
  },
  {
   "cell_type": "code",
   "execution_count": 19,
   "id": "c138eca3-4921-4056-8b68-6d658901fd17",
   "metadata": {},
   "outputs": [],
   "source": [
    "sar_presence_report_item = sar_presence_report_data[-1]"
   ]
  },
  {
   "cell_type": "code",
   "execution_count": 20,
   "id": "50d60501-e2c2-4b41-a341-845440c8cc8f",
   "metadata": {},
   "outputs": [
    {
     "data": {
      "text/plain": [
       "('2022-04', 1, 1, 46.6, 142.6)"
      ]
     },
     "execution_count": 20,
     "metadata": {},
     "output_type": "execute_result"
    }
   ],
   "source": [
    "(\n",
    "    sar_presence_report_item.date,\n",
    "    sar_presence_report_item.detections,\n",
    "    sar_presence_report_item.vessel_ids,\n",
    "    sar_presence_report_item.lat,\n",
    "    sar_presence_report_item.lon,\n",
    ")"
   ]
  },
  {
   "cell_type": "markdown",
   "id": "d19484dc-f31d-4212-9cc9-58f47b38601e",
   "metadata": {},
   "source": [
    "### Access the report data as a DataFrame"
   ]
  },
  {
   "cell_type": "code",
   "execution_count": 21,
   "id": "05179b03-f391-45c7-86ce-c26e3f27eef0",
   "metadata": {},
   "outputs": [],
   "source": [
    "sar_presence_report_df = sar_presence_report_result.df()"
   ]
  },
  {
   "cell_type": "code",
   "execution_count": 22,
   "id": "6b1fee79-c5ab-42f6-98fe-7c0be9312b1e",
   "metadata": {},
   "outputs": [
    {
     "data": {
      "text/html": [
       "<div>\n",
       "<style scoped>\n",
       "    .dataframe tbody tr th:only-of-type {\n",
       "        vertical-align: middle;\n",
       "    }\n",
       "\n",
       "    .dataframe tbody tr th {\n",
       "        vertical-align: top;\n",
       "    }\n",
       "\n",
       "    .dataframe thead th {\n",
       "        text-align: right;\n",
       "    }\n",
       "</style>\n",
       "<table border=\"1\" class=\"dataframe\">\n",
       "  <thead>\n",
       "    <tr style=\"text-align: right;\">\n",
       "      <th></th>\n",
       "      <th>date</th>\n",
       "      <th>detections</th>\n",
       "      <th>flag</th>\n",
       "      <th>gear_type</th>\n",
       "      <th>hours</th>\n",
       "      <th>vessel_ids</th>\n",
       "      <th>vessel_id</th>\n",
       "      <th>vessel_type</th>\n",
       "      <th>entry_timestamp</th>\n",
       "      <th>exit_timestamp</th>\n",
       "      <th>first_transmission_date</th>\n",
       "      <th>last_transmission_date</th>\n",
       "      <th>imo</th>\n",
       "      <th>mmsi</th>\n",
       "      <th>call_sign</th>\n",
       "      <th>dataset</th>\n",
       "      <th>report_dataset</th>\n",
       "      <th>ship_name</th>\n",
       "      <th>lat</th>\n",
       "      <th>lon</th>\n",
       "    </tr>\n",
       "  </thead>\n",
       "  <tbody>\n",
       "    <tr>\n",
       "      <th>0</th>\n",
       "      <td>2022-01</td>\n",
       "      <td>1</td>\n",
       "      <td>None</td>\n",
       "      <td>trawlers</td>\n",
       "      <td>None</td>\n",
       "      <td>1</td>\n",
       "      <td>None</td>\n",
       "      <td>None</td>\n",
       "      <td>None</td>\n",
       "      <td>None</td>\n",
       "      <td>None</td>\n",
       "      <td>None</td>\n",
       "      <td>None</td>\n",
       "      <td>None</td>\n",
       "      <td>None</td>\n",
       "      <td>None</td>\n",
       "      <td>public-global-sar-presence:v3.0</td>\n",
       "      <td>None</td>\n",
       "      <td>47.3</td>\n",
       "      <td>139.7</td>\n",
       "    </tr>\n",
       "    <tr>\n",
       "      <th>1</th>\n",
       "      <td>2022-03</td>\n",
       "      <td>1</td>\n",
       "      <td>None</td>\n",
       "      <td></td>\n",
       "      <td>None</td>\n",
       "      <td>1</td>\n",
       "      <td>None</td>\n",
       "      <td>None</td>\n",
       "      <td>None</td>\n",
       "      <td>None</td>\n",
       "      <td>None</td>\n",
       "      <td>None</td>\n",
       "      <td>None</td>\n",
       "      <td>None</td>\n",
       "      <td>None</td>\n",
       "      <td>None</td>\n",
       "      <td>public-global-sar-presence:v3.0</td>\n",
       "      <td>None</td>\n",
       "      <td>55.4</td>\n",
       "      <td>20.1</td>\n",
       "    </tr>\n",
       "    <tr>\n",
       "      <th>2</th>\n",
       "      <td>2022-01</td>\n",
       "      <td>2</td>\n",
       "      <td>None</td>\n",
       "      <td>cargo</td>\n",
       "      <td>None</td>\n",
       "      <td>2</td>\n",
       "      <td>None</td>\n",
       "      <td>None</td>\n",
       "      <td>None</td>\n",
       "      <td>None</td>\n",
       "      <td>None</td>\n",
       "      <td>None</td>\n",
       "      <td>None</td>\n",
       "      <td>None</td>\n",
       "      <td>None</td>\n",
       "      <td>None</td>\n",
       "      <td>public-global-sar-presence:v3.0</td>\n",
       "      <td>None</td>\n",
       "      <td>44.3</td>\n",
       "      <td>37.4</td>\n",
       "    </tr>\n",
       "    <tr>\n",
       "      <th>3</th>\n",
       "      <td>2022-02</td>\n",
       "      <td>1</td>\n",
       "      <td>None</td>\n",
       "      <td></td>\n",
       "      <td>None</td>\n",
       "      <td>1</td>\n",
       "      <td>None</td>\n",
       "      <td>None</td>\n",
       "      <td>None</td>\n",
       "      <td>None</td>\n",
       "      <td>None</td>\n",
       "      <td>None</td>\n",
       "      <td>None</td>\n",
       "      <td>None</td>\n",
       "      <td>None</td>\n",
       "      <td>None</td>\n",
       "      <td>public-global-sar-presence:v3.0</td>\n",
       "      <td>None</td>\n",
       "      <td>43.4</td>\n",
       "      <td>37.4</td>\n",
       "    </tr>\n",
       "    <tr>\n",
       "      <th>4</th>\n",
       "      <td>2022-03</td>\n",
       "      <td>2</td>\n",
       "      <td>None</td>\n",
       "      <td>cargo</td>\n",
       "      <td>None</td>\n",
       "      <td>2</td>\n",
       "      <td>None</td>\n",
       "      <td>None</td>\n",
       "      <td>None</td>\n",
       "      <td>None</td>\n",
       "      <td>None</td>\n",
       "      <td>None</td>\n",
       "      <td>None</td>\n",
       "      <td>None</td>\n",
       "      <td>None</td>\n",
       "      <td>None</td>\n",
       "      <td>public-global-sar-presence:v3.0</td>\n",
       "      <td>None</td>\n",
       "      <td>48.8</td>\n",
       "      <td>140.6</td>\n",
       "    </tr>\n",
       "  </tbody>\n",
       "</table>\n",
       "</div>"
      ],
      "text/plain": [
       "      date  detections  flag gear_type hours  vessel_ids vessel_id  \\\n",
       "0  2022-01           1  None  trawlers  None           1      None   \n",
       "1  2022-03           1  None            None           1      None   \n",
       "2  2022-01           2  None     cargo  None           2      None   \n",
       "3  2022-02           1  None            None           1      None   \n",
       "4  2022-03           2  None     cargo  None           2      None   \n",
       "\n",
       "  vessel_type entry_timestamp exit_timestamp first_transmission_date  \\\n",
       "0        None            None           None                    None   \n",
       "1        None            None           None                    None   \n",
       "2        None            None           None                    None   \n",
       "3        None            None           None                    None   \n",
       "4        None            None           None                    None   \n",
       "\n",
       "  last_transmission_date   imo  mmsi call_sign dataset  \\\n",
       "0                   None  None  None      None    None   \n",
       "1                   None  None  None      None    None   \n",
       "2                   None  None  None      None    None   \n",
       "3                   None  None  None      None    None   \n",
       "4                   None  None  None      None    None   \n",
       "\n",
       "                    report_dataset ship_name   lat    lon  \n",
       "0  public-global-sar-presence:v3.0      None  47.3  139.7  \n",
       "1  public-global-sar-presence:v3.0      None  55.4   20.1  \n",
       "2  public-global-sar-presence:v3.0      None  44.3   37.4  \n",
       "3  public-global-sar-presence:v3.0      None  43.4   37.4  \n",
       "4  public-global-sar-presence:v3.0      None  48.8  140.6  "
      ]
     },
     "execution_count": 22,
     "metadata": {},
     "output_type": "execute_result"
    }
   ],
   "source": [
    "sar_presence_report_df.head()"
   ]
  },
  {
   "cell_type": "markdown",
   "id": "33fcd10f-c3dc-49e4-b35c-07c24765e27b",
   "metadata": {
    "id": "33fcd10f-c3dc-49e4-b35c-07c24765e27b"
   },
   "source": [
    "## Creating a Generic Report (`create_report`)"
   ]
  },
  {
   "cell_type": "markdown",
   "id": "b079c413-e20e-431d-9338-aad415636992",
   "metadata": {},
   "source": [
    "Generates a report for any [supported datasets](https://globalfishingwatch.org/our-apis/documentation#supported-datasets), using fully customizable parameters. [Please check the data caveats here](https://globalfishingwatch.org/our-apis/documentation#data-caveat)."
   ]
  },
  {
   "cell_type": "code",
   "execution_count": 23,
   "id": "d446f679-746a-4942-a5e0-ef1ca1324d65",
   "metadata": {
    "id": "d446f679-746a-4942-a5e0-ef1ca1324d65"
   },
   "outputs": [],
   "source": [
    "report_result = await gfw_client.fourwings.create_report(\n",
    "    spatial_resolution=\"LOW\",\n",
    "    temporal_resolution=\"MONTHLY\",\n",
    "    group_by=\"GEARTYPE\",\n",
    "    datasets=[\"public-global-fishing-effort:latest\"],\n",
    "    start_date=\"2022-01-01\",\n",
    "    end_date=\"2022-05-01\",\n",
    "    region={\n",
    "        \"dataset\": \"public-eez-areas\",\n",
    "        \"id\": \"5690\",\n",
    "    },\n",
    ")"
   ]
  },
  {
   "cell_type": "markdown",
   "id": "75fd8e29-d3de-4962-9cfd-403427f0ba8f",
   "metadata": {
    "id": "75fd8e29-d3de-4962-9cfd-403427f0ba8f"
   },
   "source": [
    "### Access the report data as Pydantic models"
   ]
  },
  {
   "cell_type": "code",
   "execution_count": 24,
   "id": "cc7947e2-d2cb-45b1-b47b-818bf4bebc95",
   "metadata": {
    "id": "cc7947e2-d2cb-45b1-b47b-818bf4bebc95"
   },
   "outputs": [],
   "source": [
    "report_data = report_result.data()"
   ]
  },
  {
   "cell_type": "code",
   "execution_count": 25,
   "id": "198ad2ee-a199-4d9e-8e76-0deb8395461f",
   "metadata": {
    "id": "198ad2ee-a199-4d9e-8e76-0deb8395461f"
   },
   "outputs": [],
   "source": [
    "report_item = report_data[-1]"
   ]
  },
  {
   "cell_type": "code",
   "execution_count": 26,
   "id": "2ba5f27b-f881-40a2-a75b-f00a139f1d34",
   "metadata": {
    "colab": {
     "base_uri": "https://localhost:8080/"
    },
    "id": "2ba5f27b-f881-40a2-a75b-f00a139f1d34",
    "outputId": "4f98e8d4-03a3-4e5a-a090-1f34718c8765"
   },
   "outputs": [
    {
     "data": {
      "text/plain": [
       "('2022-04', 'fishing', 2.705, 1, 52.0, 155.2)"
      ]
     },
     "execution_count": 26,
     "metadata": {},
     "output_type": "execute_result"
    }
   ],
   "source": [
    "(\n",
    "    report_item.date,\n",
    "    report_item.gear_type,\n",
    "    report_item.hours,\n",
    "    report_item.vessel_ids,\n",
    "    report_item.lat,\n",
    "    report_item.lon,\n",
    ")"
   ]
  },
  {
   "cell_type": "markdown",
   "id": "57b5ee1b-60f0-40b8-a1e1-0f09586c8971",
   "metadata": {
    "id": "57b5ee1b-60f0-40b8-a1e1-0f09586c8971"
   },
   "source": [
    "### Access the report data as a DataFrame"
   ]
  },
  {
   "cell_type": "code",
   "execution_count": 27,
   "id": "3720799b-192f-4b77-9ca2-a3614942d2d7",
   "metadata": {
    "id": "3720799b-192f-4b77-9ca2-a3614942d2d7"
   },
   "outputs": [],
   "source": [
    "report_df = report_result.df()"
   ]
  },
  {
   "cell_type": "code",
   "execution_count": 28,
   "id": "8cce33de-675d-42c6-8eac-36974a9e7f48",
   "metadata": {
    "colab": {
     "base_uri": "https://localhost:8080/",
     "height": 313
    },
    "id": "8cce33de-675d-42c6-8eac-36974a9e7f48",
    "outputId": "3d7bab70-6dc6-47af-970c-5bdad28f6b83"
   },
   "outputs": [
    {
     "data": {
      "text/html": [
       "<div>\n",
       "<style scoped>\n",
       "    .dataframe tbody tr th:only-of-type {\n",
       "        vertical-align: middle;\n",
       "    }\n",
       "\n",
       "    .dataframe tbody tr th {\n",
       "        vertical-align: top;\n",
       "    }\n",
       "\n",
       "    .dataframe thead th {\n",
       "        text-align: right;\n",
       "    }\n",
       "</style>\n",
       "<table border=\"1\" class=\"dataframe\">\n",
       "  <thead>\n",
       "    <tr style=\"text-align: right;\">\n",
       "      <th></th>\n",
       "      <th>date</th>\n",
       "      <th>detections</th>\n",
       "      <th>flag</th>\n",
       "      <th>gear_type</th>\n",
       "      <th>hours</th>\n",
       "      <th>vessel_ids</th>\n",
       "      <th>vessel_id</th>\n",
       "      <th>vessel_type</th>\n",
       "      <th>entry_timestamp</th>\n",
       "      <th>exit_timestamp</th>\n",
       "      <th>first_transmission_date</th>\n",
       "      <th>last_transmission_date</th>\n",
       "      <th>imo</th>\n",
       "      <th>mmsi</th>\n",
       "      <th>call_sign</th>\n",
       "      <th>dataset</th>\n",
       "      <th>report_dataset</th>\n",
       "      <th>ship_name</th>\n",
       "      <th>lat</th>\n",
       "      <th>lon</th>\n",
       "    </tr>\n",
       "  </thead>\n",
       "  <tbody>\n",
       "    <tr>\n",
       "      <th>0</th>\n",
       "      <td>2022-01</td>\n",
       "      <td>None</td>\n",
       "      <td>None</td>\n",
       "      <td>trawlers</td>\n",
       "      <td>2.848333</td>\n",
       "      <td>1</td>\n",
       "      <td>None</td>\n",
       "      <td>None</td>\n",
       "      <td>None</td>\n",
       "      <td>None</td>\n",
       "      <td>None</td>\n",
       "      <td>None</td>\n",
       "      <td>None</td>\n",
       "      <td>None</td>\n",
       "      <td>None</td>\n",
       "      <td>None</td>\n",
       "      <td>public-global-fishing-effort:v3.0</td>\n",
       "      <td>None</td>\n",
       "      <td>58.5</td>\n",
       "      <td>149.2</td>\n",
       "    </tr>\n",
       "    <tr>\n",
       "      <th>1</th>\n",
       "      <td>2022-03</td>\n",
       "      <td>None</td>\n",
       "      <td>None</td>\n",
       "      <td>fishing</td>\n",
       "      <td>1.305710</td>\n",
       "      <td>1</td>\n",
       "      <td>None</td>\n",
       "      <td>None</td>\n",
       "      <td>None</td>\n",
       "      <td>None</td>\n",
       "      <td>None</td>\n",
       "      <td>None</td>\n",
       "      <td>None</td>\n",
       "      <td>None</td>\n",
       "      <td>None</td>\n",
       "      <td>None</td>\n",
       "      <td>public-global-fishing-effort:v3.0</td>\n",
       "      <td>None</td>\n",
       "      <td>55.6</td>\n",
       "      <td>153.8</td>\n",
       "    </tr>\n",
       "    <tr>\n",
       "      <th>2</th>\n",
       "      <td>2022-02</td>\n",
       "      <td>None</td>\n",
       "      <td>None</td>\n",
       "      <td>trawlers</td>\n",
       "      <td>20.537500</td>\n",
       "      <td>13</td>\n",
       "      <td>None</td>\n",
       "      <td>None</td>\n",
       "      <td>None</td>\n",
       "      <td>None</td>\n",
       "      <td>None</td>\n",
       "      <td>None</td>\n",
       "      <td>None</td>\n",
       "      <td>None</td>\n",
       "      <td>None</td>\n",
       "      <td>None</td>\n",
       "      <td>public-global-fishing-effort:v3.0</td>\n",
       "      <td>None</td>\n",
       "      <td>54.9</td>\n",
       "      <td>152.7</td>\n",
       "    </tr>\n",
       "    <tr>\n",
       "      <th>3</th>\n",
       "      <td>2022-02</td>\n",
       "      <td>None</td>\n",
       "      <td>None</td>\n",
       "      <td>trawlers</td>\n",
       "      <td>5.952222</td>\n",
       "      <td>3</td>\n",
       "      <td>None</td>\n",
       "      <td>None</td>\n",
       "      <td>None</td>\n",
       "      <td>None</td>\n",
       "      <td>None</td>\n",
       "      <td>None</td>\n",
       "      <td>None</td>\n",
       "      <td>None</td>\n",
       "      <td>None</td>\n",
       "      <td>None</td>\n",
       "      <td>public-global-fishing-effort:v3.0</td>\n",
       "      <td>None</td>\n",
       "      <td>56.1</td>\n",
       "      <td>144.4</td>\n",
       "    </tr>\n",
       "    <tr>\n",
       "      <th>4</th>\n",
       "      <td>2022-01</td>\n",
       "      <td>None</td>\n",
       "      <td>None</td>\n",
       "      <td>trawlers</td>\n",
       "      <td>1.951944</td>\n",
       "      <td>1</td>\n",
       "      <td>None</td>\n",
       "      <td>None</td>\n",
       "      <td>None</td>\n",
       "      <td>None</td>\n",
       "      <td>None</td>\n",
       "      <td>None</td>\n",
       "      <td>None</td>\n",
       "      <td>None</td>\n",
       "      <td>None</td>\n",
       "      <td>None</td>\n",
       "      <td>public-global-fishing-effort:v3.0</td>\n",
       "      <td>None</td>\n",
       "      <td>51.7</td>\n",
       "      <td>154.1</td>\n",
       "    </tr>\n",
       "  </tbody>\n",
       "</table>\n",
       "</div>"
      ],
      "text/plain": [
       "      date detections  flag gear_type      hours  vessel_ids vessel_id  \\\n",
       "0  2022-01       None  None  trawlers   2.848333           1      None   \n",
       "1  2022-03       None  None   fishing   1.305710           1      None   \n",
       "2  2022-02       None  None  trawlers  20.537500          13      None   \n",
       "3  2022-02       None  None  trawlers   5.952222           3      None   \n",
       "4  2022-01       None  None  trawlers   1.951944           1      None   \n",
       "\n",
       "  vessel_type entry_timestamp exit_timestamp first_transmission_date  \\\n",
       "0        None            None           None                    None   \n",
       "1        None            None           None                    None   \n",
       "2        None            None           None                    None   \n",
       "3        None            None           None                    None   \n",
       "4        None            None           None                    None   \n",
       "\n",
       "  last_transmission_date   imo  mmsi call_sign dataset  \\\n",
       "0                   None  None  None      None    None   \n",
       "1                   None  None  None      None    None   \n",
       "2                   None  None  None      None    None   \n",
       "3                   None  None  None      None    None   \n",
       "4                   None  None  None      None    None   \n",
       "\n",
       "                      report_dataset ship_name   lat    lon  \n",
       "0  public-global-fishing-effort:v3.0      None  58.5  149.2  \n",
       "1  public-global-fishing-effort:v3.0      None  55.6  153.8  \n",
       "2  public-global-fishing-effort:v3.0      None  54.9  152.7  \n",
       "3  public-global-fishing-effort:v3.0      None  56.1  144.4  \n",
       "4  public-global-fishing-effort:v3.0      None  51.7  154.1  "
      ]
     },
     "execution_count": 28,
     "metadata": {},
     "output_type": "execute_result"
    }
   ],
   "source": [
    "report_df.head()"
   ]
  }
 ],
 "metadata": {
  "colab": {
   "include_colab_link": true,
   "provenance": []
  },
  "kernelspec": {
   "display_name": "Python 3 (ipykernel)",
   "language": "python",
   "name": "python3"
  },
  "language_info": {
   "codemirror_mode": {
    "name": "ipython",
    "version": 3
   },
   "file_extension": ".py",
   "mimetype": "text/x-python",
   "name": "python",
   "nbconvert_exporter": "python",
   "pygments_lexer": "ipython3",
   "version": "3.11.11"
  }
 },
 "nbformat": 4,
 "nbformat_minor": 5
}
