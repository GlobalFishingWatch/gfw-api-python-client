{
  "cells": [
    {
      "cell_type": "markdown",
      "metadata": {
        "id": "view-in-github",
        "colab_type": "text"
      },
      "source": [
        "<a href=\"https://colab.research.google.com/github/GlobalFishingWatch/gfw-api-python-client/blob/feature%2Fdocs/notebooks/usage-guides/4wings-api.ipynb\" target=\"_parent\"><img src=\"https://colab.research.google.com/assets/colab-badge.svg\" alt=\"Open In Colab\"/></a>"
      ]
    },
    {
      "cell_type": "markdown",
      "id": "493f86ff-cee9-4fb0-8e5f-b3a0903df39e",
      "metadata": {
        "id": "493f86ff-cee9-4fb0-8e5f-b3a0903df39e"
      },
      "source": [
        "# 4Wings API"
      ]
    },
    {
      "cell_type": "markdown",
      "id": "e9ca2eda-18f1-4f9c-9717-fb1a06423958",
      "metadata": {
        "id": "e9ca2eda-18f1-4f9c-9717-fb1a06423958"
      },
      "source": [
        "This guide provides detailed instructions on how to use the [gfw-api-python-client](https://github.com/GlobalFishingWatch/gfw-api-python-client) to access the 4Wings API, which is designed for generating reports and statistics on activities within specified regions."
      ]
    },
    {
      "cell_type": "markdown",
      "id": "cb352526-90e2-45fd-8732-e34f0342f30f",
      "metadata": {
        "id": "cb352526-90e2-45fd-8732-e34f0342f30f"
      },
      "source": [
        "## Prerequisites"
      ]
    },
    {
      "cell_type": "markdown",
      "id": "57109889-5f3f-45b3-a594-2f82b94bcadb",
      "metadata": {
        "id": "57109889-5f3f-45b3-a594-2f82b94bcadb"
      },
      "source": [
        "Before using the `gfw-api-python-client`, you need to obtain an API access token from the [Global Fishing Watch API portal](https://globalfishingwatch.org/our-apis/tokens)"
      ]
    },
    {
      "cell_type": "markdown",
      "id": "3d1d4bf0-e6f7-4bda-9a79-4c6b6a42d1a1",
      "metadata": {
        "id": "3d1d4bf0-e6f7-4bda-9a79-4c6b6a42d1a1"
      },
      "source": [
        "## Installation"
      ]
    },
    {
      "cell_type": "markdown",
      "id": "e8ed8d6d-214c-4888-bbb9-3798adabe12b",
      "metadata": {
        "id": "e8ed8d6d-214c-4888-bbb9-3798adabe12b"
      },
      "source": [
        "The `gfw-api-python-client` can be easily installed using pip:"
      ]
    },
    {
      "cell_type": "code",
      "execution_count": 1,
      "id": "d863fe42-f9f6-4a6e-b736-f0adc82581fe",
      "metadata": {
        "id": "d863fe42-f9f6-4a6e-b736-f0adc82581fe"
      },
      "outputs": [],
      "source": [
        "# %pip install gfw-api-python-client"
      ]
    },
    {
      "cell_type": "markdown",
      "id": "9c023a54-4d23-4cc2-bd36-659d4d78789e",
      "metadata": {
        "id": "9c023a54-4d23-4cc2-bd36-659d4d78789e"
      },
      "source": [
        "## Usage"
      ]
    },
    {
      "cell_type": "code",
      "execution_count": 2,
      "id": "2420e772-c8c6-4eec-bbab-db0708733b50",
      "metadata": {
        "id": "2420e772-c8c6-4eec-bbab-db0708733b50"
      },
      "outputs": [],
      "source": [
        "import os\n",
        "import gfwapiclient as gfw"
      ]
    },
    {
      "cell_type": "code",
      "execution_count": 3,
      "id": "c1fae7c8-2806-4468-84f0-2ca90b4f5653",
      "metadata": {
        "id": "c1fae7c8-2806-4468-84f0-2ca90b4f5653"
      },
      "outputs": [],
      "source": [
        "try:\n",
        "    from google.colab import userdata\n",
        "\n",
        "    access_token = userdata.get(\"GFW_API_ACCESS_TOKEN\")\n",
        "except Exception as exc:\n",
        "    access_token = os.environ.get(\"GFW_API_ACCESS_TOKEN\")\n",
        "\n",
        "access_token = access_token or \"<PASTE_YOUR_GFW_API_ACCESS_TOKEN_HERE>\""
      ]
    },
    {
      "cell_type": "code",
      "execution_count": 4,
      "id": "08c9daef-552d-4906-ac21-eaedcea7b102",
      "metadata": {
        "id": "08c9daef-552d-4906-ac21-eaedcea7b102"
      },
      "outputs": [],
      "source": [
        "gfw_client = gfw.Client(\n",
        "    access_token=access_token,\n",
        ")"
      ]
    },
    {
      "cell_type": "markdown",
      "id": "33fcd10f-c3dc-49e4-b35c-07c24765e27b",
      "metadata": {
        "id": "33fcd10f-c3dc-49e4-b35c-07c24765e27b"
      },
      "source": [
        "## Creating a Report (`create_report`)"
      ]
    },
    {
      "cell_type": "code",
      "execution_count": 5,
      "id": "d446f679-746a-4942-a5e0-ef1ca1324d65",
      "metadata": {
        "id": "d446f679-746a-4942-a5e0-ef1ca1324d65"
      },
      "outputs": [],
      "source": [
        "report_result = await gfw_client.fourwings.create_report(\n",
        "    spatial_resolution=\"LOW\",\n",
        "    temporal_resolution=\"MONTHLY\",\n",
        "    group_by=\"GEARTYPE\",\n",
        "    datasets=[\"public-global-fishing-effort:latest\"],\n",
        "    start_date=\"2022-01-01\",\n",
        "    end_date=\"2022-05-01\",\n",
        "    region={\n",
        "        \"dataset\": \"public-eez-areas\",\n",
        "        \"id\": \"5690\",\n",
        "    },\n",
        ")"
      ]
    },
    {
      "cell_type": "markdown",
      "id": "75fd8e29-d3de-4962-9cfd-403427f0ba8f",
      "metadata": {
        "id": "75fd8e29-d3de-4962-9cfd-403427f0ba8f"
      },
      "source": [
        "### Access the report data as Pydantic models"
      ]
    },
    {
      "cell_type": "code",
      "execution_count": 6,
      "id": "cc7947e2-d2cb-45b1-b47b-818bf4bebc95",
      "metadata": {
        "id": "cc7947e2-d2cb-45b1-b47b-818bf4bebc95"
      },
      "outputs": [],
      "source": [
        "report_data = report_result.data()"
      ]
    },
    {
      "cell_type": "code",
      "execution_count": 7,
      "id": "198ad2ee-a199-4d9e-8e76-0deb8395461f",
      "metadata": {
        "id": "198ad2ee-a199-4d9e-8e76-0deb8395461f"
      },
      "outputs": [],
      "source": [
        "report = report_data[-1]"
      ]
    },
    {
      "cell_type": "code",
      "execution_count": 8,
      "id": "2ba5f27b-f881-40a2-a75b-f00a139f1d34",
      "metadata": {
        "id": "2ba5f27b-f881-40a2-a75b-f00a139f1d34",
        "outputId": "4f98e8d4-03a3-4e5a-a090-1f34718c8765",
        "colab": {
          "base_uri": "https://localhost:8080/"
        }
      },
      "outputs": [
        {
          "output_type": "execute_result",
          "data": {
            "text/plain": [
              "('2022-04', 2.7050000000000005, 52.0, 155.2)"
            ]
          },
          "metadata": {},
          "execution_count": 8
        }
      ],
      "source": [
        "report.date, report.hours, report.lat, report.lon"
      ]
    },
    {
      "cell_type": "markdown",
      "id": "57b5ee1b-60f0-40b8-a1e1-0f09586c8971",
      "metadata": {
        "id": "57b5ee1b-60f0-40b8-a1e1-0f09586c8971"
      },
      "source": [
        "### Access the report data as a DataFrame"
      ]
    },
    {
      "cell_type": "code",
      "execution_count": 9,
      "id": "3720799b-192f-4b77-9ca2-a3614942d2d7",
      "metadata": {
        "id": "3720799b-192f-4b77-9ca2-a3614942d2d7"
      },
      "outputs": [],
      "source": [
        "report_df = report_result.df()"
      ]
    },
    {
      "cell_type": "code",
      "execution_count": 10,
      "id": "8cce33de-675d-42c6-8eac-36974a9e7f48",
      "metadata": {
        "id": "8cce33de-675d-42c6-8eac-36974a9e7f48",
        "outputId": "3d7bab70-6dc6-47af-970c-5bdad28f6b83",
        "colab": {
          "base_uri": "https://localhost:8080/",
          "height": 313
        }
      },
      "outputs": [
        {
          "output_type": "execute_result",
          "data": {
            "text/plain": [
              "      date detections  flag      gear_type      hours  vessel_ids vessel_id  \\\n",
              "0  2022-01       None  None     fixed_gear   0.716389           1      None   \n",
              "1  2022-02       None  None       trawlers  61.652500          29      None   \n",
              "2  2022-01       None  None  set_longlines   6.199444           2      None   \n",
              "3  2022-04       None  None       trawlers   1.635833           3      None   \n",
              "4  2022-02       None  None        fishing   3.608056           1      None   \n",
              "\n",
              "  vessel_type entry_timestamp exit_timestamp first_transmission_date  \\\n",
              "0        None            None           None                    None   \n",
              "1        None            None           None                    None   \n",
              "2        None            None           None                    None   \n",
              "3        None            None           None                    None   \n",
              "4        None            None           None                    None   \n",
              "\n",
              "  last_transmission_date   imo  mmsi call_sign dataset  \\\n",
              "0                   None  None  None      None    None   \n",
              "1                   None  None  None      None    None   \n",
              "2                   None  None  None      None    None   \n",
              "3                   None  None  None      None    None   \n",
              "4                   None  None  None      None    None   \n",
              "\n",
              "                      report_dataset ship_name   lat    lon  \n",
              "0  public-global-fishing-effort:v3.0      None  60.4  171.3  \n",
              "1  public-global-fishing-effort:v3.0      None  54.7  153.3  \n",
              "2  public-global-fishing-effort:v3.0      None  75.5   49.7  \n",
              "3  public-global-fishing-effort:v3.0      None  76.1   46.0  \n",
              "4  public-global-fishing-effort:v3.0      None  45.6  138.2  "
            ],
            "text/html": [
              "\n",
              "  <div id=\"df-abceb760-f860-4285-9230-67bf45adf0ab\" class=\"colab-df-container\">\n",
              "    <div>\n",
              "<style scoped>\n",
              "    .dataframe tbody tr th:only-of-type {\n",
              "        vertical-align: middle;\n",
              "    }\n",
              "\n",
              "    .dataframe tbody tr th {\n",
              "        vertical-align: top;\n",
              "    }\n",
              "\n",
              "    .dataframe thead th {\n",
              "        text-align: right;\n",
              "    }\n",
              "</style>\n",
              "<table border=\"1\" class=\"dataframe\">\n",
              "  <thead>\n",
              "    <tr style=\"text-align: right;\">\n",
              "      <th></th>\n",
              "      <th>date</th>\n",
              "      <th>detections</th>\n",
              "      <th>flag</th>\n",
              "      <th>gear_type</th>\n",
              "      <th>hours</th>\n",
              "      <th>vessel_ids</th>\n",
              "      <th>vessel_id</th>\n",
              "      <th>vessel_type</th>\n",
              "      <th>entry_timestamp</th>\n",
              "      <th>exit_timestamp</th>\n",
              "      <th>first_transmission_date</th>\n",
              "      <th>last_transmission_date</th>\n",
              "      <th>imo</th>\n",
              "      <th>mmsi</th>\n",
              "      <th>call_sign</th>\n",
              "      <th>dataset</th>\n",
              "      <th>report_dataset</th>\n",
              "      <th>ship_name</th>\n",
              "      <th>lat</th>\n",
              "      <th>lon</th>\n",
              "    </tr>\n",
              "  </thead>\n",
              "  <tbody>\n",
              "    <tr>\n",
              "      <th>0</th>\n",
              "      <td>2022-01</td>\n",
              "      <td>None</td>\n",
              "      <td>None</td>\n",
              "      <td>fixed_gear</td>\n",
              "      <td>0.716389</td>\n",
              "      <td>1</td>\n",
              "      <td>None</td>\n",
              "      <td>None</td>\n",
              "      <td>None</td>\n",
              "      <td>None</td>\n",
              "      <td>None</td>\n",
              "      <td>None</td>\n",
              "      <td>None</td>\n",
              "      <td>None</td>\n",
              "      <td>None</td>\n",
              "      <td>None</td>\n",
              "      <td>public-global-fishing-effort:v3.0</td>\n",
              "      <td>None</td>\n",
              "      <td>60.4</td>\n",
              "      <td>171.3</td>\n",
              "    </tr>\n",
              "    <tr>\n",
              "      <th>1</th>\n",
              "      <td>2022-02</td>\n",
              "      <td>None</td>\n",
              "      <td>None</td>\n",
              "      <td>trawlers</td>\n",
              "      <td>61.652500</td>\n",
              "      <td>29</td>\n",
              "      <td>None</td>\n",
              "      <td>None</td>\n",
              "      <td>None</td>\n",
              "      <td>None</td>\n",
              "      <td>None</td>\n",
              "      <td>None</td>\n",
              "      <td>None</td>\n",
              "      <td>None</td>\n",
              "      <td>None</td>\n",
              "      <td>None</td>\n",
              "      <td>public-global-fishing-effort:v3.0</td>\n",
              "      <td>None</td>\n",
              "      <td>54.7</td>\n",
              "      <td>153.3</td>\n",
              "    </tr>\n",
              "    <tr>\n",
              "      <th>2</th>\n",
              "      <td>2022-01</td>\n",
              "      <td>None</td>\n",
              "      <td>None</td>\n",
              "      <td>set_longlines</td>\n",
              "      <td>6.199444</td>\n",
              "      <td>2</td>\n",
              "      <td>None</td>\n",
              "      <td>None</td>\n",
              "      <td>None</td>\n",
              "      <td>None</td>\n",
              "      <td>None</td>\n",
              "      <td>None</td>\n",
              "      <td>None</td>\n",
              "      <td>None</td>\n",
              "      <td>None</td>\n",
              "      <td>None</td>\n",
              "      <td>public-global-fishing-effort:v3.0</td>\n",
              "      <td>None</td>\n",
              "      <td>75.5</td>\n",
              "      <td>49.7</td>\n",
              "    </tr>\n",
              "    <tr>\n",
              "      <th>3</th>\n",
              "      <td>2022-04</td>\n",
              "      <td>None</td>\n",
              "      <td>None</td>\n",
              "      <td>trawlers</td>\n",
              "      <td>1.635833</td>\n",
              "      <td>3</td>\n",
              "      <td>None</td>\n",
              "      <td>None</td>\n",
              "      <td>None</td>\n",
              "      <td>None</td>\n",
              "      <td>None</td>\n",
              "      <td>None</td>\n",
              "      <td>None</td>\n",
              "      <td>None</td>\n",
              "      <td>None</td>\n",
              "      <td>None</td>\n",
              "      <td>public-global-fishing-effort:v3.0</td>\n",
              "      <td>None</td>\n",
              "      <td>76.1</td>\n",
              "      <td>46.0</td>\n",
              "    </tr>\n",
              "    <tr>\n",
              "      <th>4</th>\n",
              "      <td>2022-02</td>\n",
              "      <td>None</td>\n",
              "      <td>None</td>\n",
              "      <td>fishing</td>\n",
              "      <td>3.608056</td>\n",
              "      <td>1</td>\n",
              "      <td>None</td>\n",
              "      <td>None</td>\n",
              "      <td>None</td>\n",
              "      <td>None</td>\n",
              "      <td>None</td>\n",
              "      <td>None</td>\n",
              "      <td>None</td>\n",
              "      <td>None</td>\n",
              "      <td>None</td>\n",
              "      <td>None</td>\n",
              "      <td>public-global-fishing-effort:v3.0</td>\n",
              "      <td>None</td>\n",
              "      <td>45.6</td>\n",
              "      <td>138.2</td>\n",
              "    </tr>\n",
              "  </tbody>\n",
              "</table>\n",
              "</div>\n",
              "    <div class=\"colab-df-buttons\">\n",
              "\n",
              "  <div class=\"colab-df-container\">\n",
              "    <button class=\"colab-df-convert\" onclick=\"convertToInteractive('df-abceb760-f860-4285-9230-67bf45adf0ab')\"\n",
              "            title=\"Convert this dataframe to an interactive table.\"\n",
              "            style=\"display:none;\">\n",
              "\n",
              "  <svg xmlns=\"http://www.w3.org/2000/svg\" height=\"24px\" viewBox=\"0 -960 960 960\">\n",
              "    <path d=\"M120-120v-720h720v720H120Zm60-500h600v-160H180v160Zm220 220h160v-160H400v160Zm0 220h160v-160H400v160ZM180-400h160v-160H180v160Zm440 0h160v-160H620v160ZM180-180h160v-160H180v160Zm440 0h160v-160H620v160Z\"/>\n",
              "  </svg>\n",
              "    </button>\n",
              "\n",
              "  <style>\n",
              "    .colab-df-container {\n",
              "      display:flex;\n",
              "      gap: 12px;\n",
              "    }\n",
              "\n",
              "    .colab-df-convert {\n",
              "      background-color: #E8F0FE;\n",
              "      border: none;\n",
              "      border-radius: 50%;\n",
              "      cursor: pointer;\n",
              "      display: none;\n",
              "      fill: #1967D2;\n",
              "      height: 32px;\n",
              "      padding: 0 0 0 0;\n",
              "      width: 32px;\n",
              "    }\n",
              "\n",
              "    .colab-df-convert:hover {\n",
              "      background-color: #E2EBFA;\n",
              "      box-shadow: 0px 1px 2px rgba(60, 64, 67, 0.3), 0px 1px 3px 1px rgba(60, 64, 67, 0.15);\n",
              "      fill: #174EA6;\n",
              "    }\n",
              "\n",
              "    .colab-df-buttons div {\n",
              "      margin-bottom: 4px;\n",
              "    }\n",
              "\n",
              "    [theme=dark] .colab-df-convert {\n",
              "      background-color: #3B4455;\n",
              "      fill: #D2E3FC;\n",
              "    }\n",
              "\n",
              "    [theme=dark] .colab-df-convert:hover {\n",
              "      background-color: #434B5C;\n",
              "      box-shadow: 0px 1px 3px 1px rgba(0, 0, 0, 0.15);\n",
              "      filter: drop-shadow(0px 1px 2px rgba(0, 0, 0, 0.3));\n",
              "      fill: #FFFFFF;\n",
              "    }\n",
              "  </style>\n",
              "\n",
              "    <script>\n",
              "      const buttonEl =\n",
              "        document.querySelector('#df-abceb760-f860-4285-9230-67bf45adf0ab button.colab-df-convert');\n",
              "      buttonEl.style.display =\n",
              "        google.colab.kernel.accessAllowed ? 'block' : 'none';\n",
              "\n",
              "      async function convertToInteractive(key) {\n",
              "        const element = document.querySelector('#df-abceb760-f860-4285-9230-67bf45adf0ab');\n",
              "        const dataTable =\n",
              "          await google.colab.kernel.invokeFunction('convertToInteractive',\n",
              "                                                    [key], {});\n",
              "        if (!dataTable) return;\n",
              "\n",
              "        const docLinkHtml = 'Like what you see? Visit the ' +\n",
              "          '<a target=\"_blank\" href=https://colab.research.google.com/notebooks/data_table.ipynb>data table notebook</a>'\n",
              "          + ' to learn more about interactive tables.';\n",
              "        element.innerHTML = '';\n",
              "        dataTable['output_type'] = 'display_data';\n",
              "        await google.colab.output.renderOutput(dataTable, element);\n",
              "        const docLink = document.createElement('div');\n",
              "        docLink.innerHTML = docLinkHtml;\n",
              "        element.appendChild(docLink);\n",
              "      }\n",
              "    </script>\n",
              "  </div>\n",
              "\n",
              "\n",
              "    <div id=\"df-2c149bb7-1835-45b0-bff9-5ffb41d01501\">\n",
              "      <button class=\"colab-df-quickchart\" onclick=\"quickchart('df-2c149bb7-1835-45b0-bff9-5ffb41d01501')\"\n",
              "                title=\"Suggest charts\"\n",
              "                style=\"display:none;\">\n",
              "\n",
              "<svg xmlns=\"http://www.w3.org/2000/svg\" height=\"24px\"viewBox=\"0 0 24 24\"\n",
              "     width=\"24px\">\n",
              "    <g>\n",
              "        <path d=\"M19 3H5c-1.1 0-2 .9-2 2v14c0 1.1.9 2 2 2h14c1.1 0 2-.9 2-2V5c0-1.1-.9-2-2-2zM9 17H7v-7h2v7zm4 0h-2V7h2v10zm4 0h-2v-4h2v4z\"/>\n",
              "    </g>\n",
              "</svg>\n",
              "      </button>\n",
              "\n",
              "<style>\n",
              "  .colab-df-quickchart {\n",
              "      --bg-color: #E8F0FE;\n",
              "      --fill-color: #1967D2;\n",
              "      --hover-bg-color: #E2EBFA;\n",
              "      --hover-fill-color: #174EA6;\n",
              "      --disabled-fill-color: #AAA;\n",
              "      --disabled-bg-color: #DDD;\n",
              "  }\n",
              "\n",
              "  [theme=dark] .colab-df-quickchart {\n",
              "      --bg-color: #3B4455;\n",
              "      --fill-color: #D2E3FC;\n",
              "      --hover-bg-color: #434B5C;\n",
              "      --hover-fill-color: #FFFFFF;\n",
              "      --disabled-bg-color: #3B4455;\n",
              "      --disabled-fill-color: #666;\n",
              "  }\n",
              "\n",
              "  .colab-df-quickchart {\n",
              "    background-color: var(--bg-color);\n",
              "    border: none;\n",
              "    border-radius: 50%;\n",
              "    cursor: pointer;\n",
              "    display: none;\n",
              "    fill: var(--fill-color);\n",
              "    height: 32px;\n",
              "    padding: 0;\n",
              "    width: 32px;\n",
              "  }\n",
              "\n",
              "  .colab-df-quickchart:hover {\n",
              "    background-color: var(--hover-bg-color);\n",
              "    box-shadow: 0 1px 2px rgba(60, 64, 67, 0.3), 0 1px 3px 1px rgba(60, 64, 67, 0.15);\n",
              "    fill: var(--button-hover-fill-color);\n",
              "  }\n",
              "\n",
              "  .colab-df-quickchart-complete:disabled,\n",
              "  .colab-df-quickchart-complete:disabled:hover {\n",
              "    background-color: var(--disabled-bg-color);\n",
              "    fill: var(--disabled-fill-color);\n",
              "    box-shadow: none;\n",
              "  }\n",
              "\n",
              "  .colab-df-spinner {\n",
              "    border: 2px solid var(--fill-color);\n",
              "    border-color: transparent;\n",
              "    border-bottom-color: var(--fill-color);\n",
              "    animation:\n",
              "      spin 1s steps(1) infinite;\n",
              "  }\n",
              "\n",
              "  @keyframes spin {\n",
              "    0% {\n",
              "      border-color: transparent;\n",
              "      border-bottom-color: var(--fill-color);\n",
              "      border-left-color: var(--fill-color);\n",
              "    }\n",
              "    20% {\n",
              "      border-color: transparent;\n",
              "      border-left-color: var(--fill-color);\n",
              "      border-top-color: var(--fill-color);\n",
              "    }\n",
              "    30% {\n",
              "      border-color: transparent;\n",
              "      border-left-color: var(--fill-color);\n",
              "      border-top-color: var(--fill-color);\n",
              "      border-right-color: var(--fill-color);\n",
              "    }\n",
              "    40% {\n",
              "      border-color: transparent;\n",
              "      border-right-color: var(--fill-color);\n",
              "      border-top-color: var(--fill-color);\n",
              "    }\n",
              "    60% {\n",
              "      border-color: transparent;\n",
              "      border-right-color: var(--fill-color);\n",
              "    }\n",
              "    80% {\n",
              "      border-color: transparent;\n",
              "      border-right-color: var(--fill-color);\n",
              "      border-bottom-color: var(--fill-color);\n",
              "    }\n",
              "    90% {\n",
              "      border-color: transparent;\n",
              "      border-bottom-color: var(--fill-color);\n",
              "    }\n",
              "  }\n",
              "</style>\n",
              "\n",
              "      <script>\n",
              "        async function quickchart(key) {\n",
              "          const quickchartButtonEl =\n",
              "            document.querySelector('#' + key + ' button');\n",
              "          quickchartButtonEl.disabled = true;  // To prevent multiple clicks.\n",
              "          quickchartButtonEl.classList.add('colab-df-spinner');\n",
              "          try {\n",
              "            const charts = await google.colab.kernel.invokeFunction(\n",
              "                'suggestCharts', [key], {});\n",
              "          } catch (error) {\n",
              "            console.error('Error during call to suggestCharts:', error);\n",
              "          }\n",
              "          quickchartButtonEl.classList.remove('colab-df-spinner');\n",
              "          quickchartButtonEl.classList.add('colab-df-quickchart-complete');\n",
              "        }\n",
              "        (() => {\n",
              "          let quickchartButtonEl =\n",
              "            document.querySelector('#df-2c149bb7-1835-45b0-bff9-5ffb41d01501 button');\n",
              "          quickchartButtonEl.style.display =\n",
              "            google.colab.kernel.accessAllowed ? 'block' : 'none';\n",
              "        })();\n",
              "      </script>\n",
              "    </div>\n",
              "\n",
              "    </div>\n",
              "  </div>\n"
            ],
            "application/vnd.google.colaboratory.intrinsic+json": {
              "type": "dataframe",
              "variable_name": "report_df",
              "repr_error": "Out of range float values are not JSON compliant: nan"
            }
          },
          "metadata": {},
          "execution_count": 10
        }
      ],
      "source": [
        "report_df.head()"
      ]
    }
  ],
  "metadata": {
    "kernelspec": {
      "display_name": "Python 3 (ipykernel)",
      "language": "python",
      "name": "python3"
    },
    "language_info": {
      "codemirror_mode": {
        "name": "ipython",
        "version": 3
      },
      "file_extension": ".py",
      "mimetype": "text/x-python",
      "name": "python",
      "nbconvert_exporter": "python",
      "pygments_lexer": "ipython3",
      "version": "3.12.8"
    },
    "colab": {
      "provenance": [],
      "include_colab_link": true
    }
  },
  "nbformat": 4,
  "nbformat_minor": 5
}