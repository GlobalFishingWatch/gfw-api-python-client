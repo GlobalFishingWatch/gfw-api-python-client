{
 "cells": [
  {
   "cell_type": "markdown",
   "id": "493f86ff-cee9-4fb0-8e5f-b3a0903df39e",
   "metadata": {},
   "source": [
    "# 4Wings API"
   ]
  },
  {
   "cell_type": "markdown",
   "id": "e9ca2eda-18f1-4f9c-9717-fb1a06423958",
   "metadata": {},
   "source": [
    "This guide provides detailed instructions on how to use the [gfw-api-python-client](https://github.com/GlobalFishingWatch/gfw-api-python-client) to access the 4Wings API, which is designed for generating reports and statistics on activities within specified regions."
   ]
  },
  {
   "cell_type": "markdown",
   "id": "cb352526-90e2-45fd-8732-e34f0342f30f",
   "metadata": {},
   "source": [
    "## Prerequisites"
   ]
  },
  {
   "cell_type": "markdown",
   "id": "57109889-5f3f-45b3-a594-2f82b94bcadb",
   "metadata": {},
   "source": [
    "Before using the `gfw-api-python-client`, you need to obtain an API access token from the [Global Fishing Watch API portal](https://globalfishingwatch.org/our-apis/tokens)"
   ]
  },
  {
   "cell_type": "markdown",
   "id": "3d1d4bf0-e6f7-4bda-9a79-4c6b6a42d1a1",
   "metadata": {},
   "source": [
    "## Installation"
   ]
  },
  {
   "cell_type": "markdown",
   "id": "e8ed8d6d-214c-4888-bbb9-3798adabe12b",
   "metadata": {},
   "source": [
    "The `gfw-api-python-client` can be easily installed using pip:"
   ]
  },
  {
   "cell_type": "code",
   "execution_count": 1,
   "id": "d863fe42-f9f6-4a6e-b736-f0adc82581fe",
   "metadata": {},
   "outputs": [],
   "source": [
    "# %pip install gfw-api-python-client"
   ]
  },
  {
   "cell_type": "markdown",
   "id": "9c023a54-4d23-4cc2-bd36-659d4d78789e",
   "metadata": {},
   "source": [
    "## Usage"
   ]
  },
  {
   "cell_type": "code",
   "execution_count": 2,
   "id": "2420e772-c8c6-4eec-bbab-db0708733b50",
   "metadata": {},
   "outputs": [],
   "source": [
    "import os\n",
    "import gfwapiclient as gfw"
   ]
  },
  {
   "cell_type": "code",
   "execution_count": 3,
   "id": "c1fae7c8-2806-4468-84f0-2ca90b4f5653",
   "metadata": {},
   "outputs": [],
   "source": [
    "access_token = os.environ.get(\n",
    "    \"GFW_API_ACCESS_TOKEN\",\n",
    "    \"<OR_PASTE_YOUR_GFW_API_ACCESS_TOKEN_HERE>\",\n",
    ")"
   ]
  },
  {
   "cell_type": "code",
   "execution_count": 4,
   "id": "08c9daef-552d-4906-ac21-eaedcea7b102",
   "metadata": {},
   "outputs": [],
   "source": [
    "gfw_client = gfw.Client(\n",
    "    access_token=access_token,\n",
    ")"
   ]
  },
  {
   "cell_type": "markdown",
   "id": "33fcd10f-c3dc-49e4-b35c-07c24765e27b",
   "metadata": {},
   "source": [
    "## Creating a Report (`get_report`)"
   ]
  },
  {
   "cell_type": "code",
   "execution_count": 5,
   "id": "d446f679-746a-4942-a5e0-ef1ca1324d65",
   "metadata": {},
   "outputs": [],
   "source": [
    "report_result = await gfw_client.fourwings.get_report(\n",
    "    spatial_resolution=\"LOW\",\n",
    "    temporal_resolution=\"MONTHLY\",\n",
    "    group_by=\"GEARTYPE\",\n",
    "    datasets=[\"public-global-fishing-effort:latest\"],\n",
    "    start_date=\"2022-01-01\",\n",
    "    end_date=\"2022-05-01\",\n",
    "    region={\n",
    "        \"dataset\": \"public-eez-areas\",\n",
    "        \"id\": \"5690\",\n",
    "    },\n",
    ")"
   ]
  },
  {
   "cell_type": "markdown",
   "id": "75fd8e29-d3de-4962-9cfd-403427f0ba8f",
   "metadata": {},
   "source": [
    "### Access the report data as Pydantic models"
   ]
  },
  {
   "cell_type": "code",
   "execution_count": 6,
   "id": "cc7947e2-d2cb-45b1-b47b-818bf4bebc95",
   "metadata": {},
   "outputs": [],
   "source": [
    "report_data = report_result.data()"
   ]
  },
  {
   "cell_type": "code",
   "execution_count": 7,
   "id": "198ad2ee-a199-4d9e-8e76-0deb8395461f",
   "metadata": {},
   "outputs": [],
   "source": [
    "report = report_data[-1]"
   ]
  },
  {
   "cell_type": "code",
   "execution_count": 8,
   "id": "2ba5f27b-f881-40a2-a75b-f00a139f1d34",
   "metadata": {},
   "outputs": [
    {
     "data": {
      "text/plain": [
       "('2022-04', 3.126388888888889, 52.0, 155.2)"
      ]
     },
     "execution_count": 8,
     "metadata": {},
     "output_type": "execute_result"
    }
   ],
   "source": [
    "report.date, report.hours, report.lat, report.lon"
   ]
  },
  {
   "cell_type": "markdown",
   "id": "57b5ee1b-60f0-40b8-a1e1-0f09586c8971",
   "metadata": {},
   "source": [
    "### Access the report data as a DataFrame"
   ]
  },
  {
   "cell_type": "code",
   "execution_count": 9,
   "id": "3720799b-192f-4b77-9ca2-a3614942d2d7",
   "metadata": {},
   "outputs": [],
   "source": [
    "report_df = report_result.df()"
   ]
  },
  {
   "cell_type": "code",
   "execution_count": 10,
   "id": "8cce33de-675d-42c6-8eac-36974a9e7f48",
   "metadata": {},
   "outputs": [
    {
     "data": {
      "text/html": [
       "<div>\n",
       "<style scoped>\n",
       "    .dataframe tbody tr th:only-of-type {\n",
       "        vertical-align: middle;\n",
       "    }\n",
       "\n",
       "    .dataframe tbody tr th {\n",
       "        vertical-align: top;\n",
       "    }\n",
       "\n",
       "    .dataframe thead th {\n",
       "        text-align: right;\n",
       "    }\n",
       "</style>\n",
       "<table border=\"1\" class=\"dataframe\">\n",
       "  <thead>\n",
       "    <tr style=\"text-align: right;\">\n",
       "      <th></th>\n",
       "      <th>date</th>\n",
       "      <th>detections</th>\n",
       "      <th>flag</th>\n",
       "      <th>gear_type</th>\n",
       "      <th>hours</th>\n",
       "      <th>vessel_ids</th>\n",
       "      <th>vessel_id</th>\n",
       "      <th>vessel_type</th>\n",
       "      <th>entry_timestamp</th>\n",
       "      <th>exit_timestamp</th>\n",
       "      <th>first_transmission_date</th>\n",
       "      <th>last_transmission_date</th>\n",
       "      <th>imo</th>\n",
       "      <th>mmsi</th>\n",
       "      <th>call_sign</th>\n",
       "      <th>dataset</th>\n",
       "      <th>report_dataset</th>\n",
       "      <th>ship_name</th>\n",
       "      <th>lat</th>\n",
       "      <th>lon</th>\n",
       "    </tr>\n",
       "  </thead>\n",
       "  <tbody>\n",
       "    <tr>\n",
       "      <th>0</th>\n",
       "      <td>2022-01</td>\n",
       "      <td>None</td>\n",
       "      <td>None</td>\n",
       "      <td>trawlers</td>\n",
       "      <td>2.848333</td>\n",
       "      <td>1</td>\n",
       "      <td>None</td>\n",
       "      <td>None</td>\n",
       "      <td>None</td>\n",
       "      <td>None</td>\n",
       "      <td>None</td>\n",
       "      <td>None</td>\n",
       "      <td>None</td>\n",
       "      <td>None</td>\n",
       "      <td>None</td>\n",
       "      <td>None</td>\n",
       "      <td>public-global-fishing-effort:v3.0</td>\n",
       "      <td>None</td>\n",
       "      <td>58.5</td>\n",
       "      <td>149.2</td>\n",
       "    </tr>\n",
       "    <tr>\n",
       "      <th>1</th>\n",
       "      <td>2022-02</td>\n",
       "      <td>None</td>\n",
       "      <td>None</td>\n",
       "      <td>trawlers</td>\n",
       "      <td>20.079722</td>\n",
       "      <td>12</td>\n",
       "      <td>None</td>\n",
       "      <td>None</td>\n",
       "      <td>None</td>\n",
       "      <td>None</td>\n",
       "      <td>None</td>\n",
       "      <td>None</td>\n",
       "      <td>None</td>\n",
       "      <td>None</td>\n",
       "      <td>None</td>\n",
       "      <td>None</td>\n",
       "      <td>public-global-fishing-effort:v3.0</td>\n",
       "      <td>None</td>\n",
       "      <td>54.9</td>\n",
       "      <td>152.7</td>\n",
       "    </tr>\n",
       "    <tr>\n",
       "      <th>2</th>\n",
       "      <td>2022-02</td>\n",
       "      <td>None</td>\n",
       "      <td>None</td>\n",
       "      <td>trawlers</td>\n",
       "      <td>6.544167</td>\n",
       "      <td>3</td>\n",
       "      <td>None</td>\n",
       "      <td>None</td>\n",
       "      <td>None</td>\n",
       "      <td>None</td>\n",
       "      <td>None</td>\n",
       "      <td>None</td>\n",
       "      <td>None</td>\n",
       "      <td>None</td>\n",
       "      <td>None</td>\n",
       "      <td>None</td>\n",
       "      <td>public-global-fishing-effort:v3.0</td>\n",
       "      <td>None</td>\n",
       "      <td>56.1</td>\n",
       "      <td>144.4</td>\n",
       "    </tr>\n",
       "    <tr>\n",
       "      <th>3</th>\n",
       "      <td>2022-01</td>\n",
       "      <td>None</td>\n",
       "      <td>None</td>\n",
       "      <td>trawlers</td>\n",
       "      <td>1.951944</td>\n",
       "      <td>1</td>\n",
       "      <td>None</td>\n",
       "      <td>None</td>\n",
       "      <td>None</td>\n",
       "      <td>None</td>\n",
       "      <td>None</td>\n",
       "      <td>None</td>\n",
       "      <td>None</td>\n",
       "      <td>None</td>\n",
       "      <td>None</td>\n",
       "      <td>None</td>\n",
       "      <td>public-global-fishing-effort:v3.0</td>\n",
       "      <td>None</td>\n",
       "      <td>51.7</td>\n",
       "      <td>154.1</td>\n",
       "    </tr>\n",
       "    <tr>\n",
       "      <th>4</th>\n",
       "      <td>2022-04</td>\n",
       "      <td>None</td>\n",
       "      <td>None</td>\n",
       "      <td>trawlers</td>\n",
       "      <td>61.737778</td>\n",
       "      <td>7</td>\n",
       "      <td>None</td>\n",
       "      <td>None</td>\n",
       "      <td>None</td>\n",
       "      <td>None</td>\n",
       "      <td>None</td>\n",
       "      <td>None</td>\n",
       "      <td>None</td>\n",
       "      <td>None</td>\n",
       "      <td>None</td>\n",
       "      <td>None</td>\n",
       "      <td>public-global-fishing-effort:v3.0</td>\n",
       "      <td>None</td>\n",
       "      <td>56.2</td>\n",
       "      <td>163.6</td>\n",
       "    </tr>\n",
       "  </tbody>\n",
       "</table>\n",
       "</div>"
      ],
      "text/plain": [
       "      date detections  flag gear_type      hours  vessel_ids vessel_id  \\\n",
       "0  2022-01       None  None  trawlers   2.848333           1      None   \n",
       "1  2022-02       None  None  trawlers  20.079722          12      None   \n",
       "2  2022-02       None  None  trawlers   6.544167           3      None   \n",
       "3  2022-01       None  None  trawlers   1.951944           1      None   \n",
       "4  2022-04       None  None  trawlers  61.737778           7      None   \n",
       "\n",
       "  vessel_type entry_timestamp exit_timestamp first_transmission_date  \\\n",
       "0        None            None           None                    None   \n",
       "1        None            None           None                    None   \n",
       "2        None            None           None                    None   \n",
       "3        None            None           None                    None   \n",
       "4        None            None           None                    None   \n",
       "\n",
       "  last_transmission_date   imo  mmsi call_sign dataset  \\\n",
       "0                   None  None  None      None    None   \n",
       "1                   None  None  None      None    None   \n",
       "2                   None  None  None      None    None   \n",
       "3                   None  None  None      None    None   \n",
       "4                   None  None  None      None    None   \n",
       "\n",
       "                      report_dataset ship_name   lat    lon  \n",
       "0  public-global-fishing-effort:v3.0      None  58.5  149.2  \n",
       "1  public-global-fishing-effort:v3.0      None  54.9  152.7  \n",
       "2  public-global-fishing-effort:v3.0      None  56.1  144.4  \n",
       "3  public-global-fishing-effort:v3.0      None  51.7  154.1  \n",
       "4  public-global-fishing-effort:v3.0      None  56.2  163.6  "
      ]
     },
     "execution_count": 10,
     "metadata": {},
     "output_type": "execute_result"
    }
   ],
   "source": [
    "report_df.head()"
   ]
  }
 ],
 "metadata": {
  "kernelspec": {
   "display_name": "Python 3 (ipykernel)",
   "language": "python",
   "name": "python3"
  },
  "language_info": {
   "codemirror_mode": {
    "name": "ipython",
    "version": 3
   },
   "file_extension": ".py",
   "mimetype": "text/x-python",
   "name": "python",
   "nbconvert_exporter": "python",
   "pygments_lexer": "ipython3",
   "version": "3.12.8"
  }
 },
 "nbformat": 4,
 "nbformat_minor": 5
}
