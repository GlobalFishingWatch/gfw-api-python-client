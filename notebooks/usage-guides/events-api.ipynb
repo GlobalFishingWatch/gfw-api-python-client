{
 "cells": [
  {
   "cell_type": "markdown",
   "id": "f609ffd2",
   "metadata": {
    "colab_type": "text",
    "id": "view-in-github"
   },
   "source": [
    "<a href=\"https://colab.research.google.com/github/GlobalFishingWatch/gfw-api-python-client/blob/develop/notebooks/usage-guides/events-api.ipynb\" target=\"_parent\"><img src=\"https://colab.research.google.com/assets/colab-badge.svg\" alt=\"Open In Colab\"/></a>"
   ]
  },
  {
   "cell_type": "markdown",
   "id": "493f86ff-cee9-4fb0-8e5f-b3a0903df39e",
   "metadata": {
    "id": "493f86ff-cee9-4fb0-8e5f-b3a0903df39e"
   },
   "source": [
    "# Events API"
   ]
  },
  {
   "cell_type": "markdown",
   "id": "e9ca2eda-18f1-4f9c-9717-fb1a06423958",
   "metadata": {
    "id": "e9ca2eda-18f1-4f9c-9717-fb1a06423958"
   },
   "source": [
    "This guide provides detailed instructions on how to use the [gfw-api-python-client](https://github.com/GlobalFishingWatch/gfw-api-python-client) to access information about various activities of a vessel, including fishing activity, encounters, port visits, loitering, and gaps in AIS reporting."
   ]
  },
  {
   "cell_type": "markdown",
   "id": "cb352526-90e2-45fd-8732-e34f0342f30f",
   "metadata": {
    "id": "cb352526-90e2-45fd-8732-e34f0342f30f"
   },
   "source": [
    "## Prerequisites"
   ]
  },
  {
   "cell_type": "markdown",
   "id": "57109889-5f3f-45b3-a594-2f82b94bcadb",
   "metadata": {
    "id": "57109889-5f3f-45b3-a594-2f82b94bcadb"
   },
   "source": [
    "Before using the `gfw-api-python-client`, you need to obtain an API access token from the [Global Fishing Watch API portal](https://globalfishingwatch.org/our-apis/tokens)"
   ]
  },
  {
   "cell_type": "markdown",
   "id": "3d1d4bf0-e6f7-4bda-9a79-4c6b6a42d1a1",
   "metadata": {
    "id": "3d1d4bf0-e6f7-4bda-9a79-4c6b6a42d1a1"
   },
   "source": [
    "## Installation"
   ]
  },
  {
   "cell_type": "markdown",
   "id": "e8ed8d6d-214c-4888-bbb9-3798adabe12b",
   "metadata": {
    "id": "e8ed8d6d-214c-4888-bbb9-3798adabe12b"
   },
   "source": [
    "The `gfw-api-python-client` can be easily installed using pip:"
   ]
  },
  {
   "cell_type": "code",
   "execution_count": 1,
   "id": "d863fe42-f9f6-4a6e-b736-f0adc82581fe",
   "metadata": {
    "id": "d863fe42-f9f6-4a6e-b736-f0adc82581fe"
   },
   "outputs": [],
   "source": [
    "# %pip install gfw-api-python-client"
   ]
  },
  {
   "cell_type": "markdown",
   "id": "9c023a54-4d23-4cc2-bd36-659d4d78789e",
   "metadata": {
    "id": "9c023a54-4d23-4cc2-bd36-659d4d78789e"
   },
   "source": [
    "## Usage"
   ]
  },
  {
   "cell_type": "code",
   "execution_count": 2,
   "id": "2420e772-c8c6-4eec-bbab-db0708733b50",
   "metadata": {
    "id": "2420e772-c8c6-4eec-bbab-db0708733b50"
   },
   "outputs": [],
   "source": [
    "import os\n",
    "import gfwapiclient as gfw"
   ]
  },
  {
   "cell_type": "code",
   "execution_count": 3,
   "id": "c1fae7c8-2806-4468-84f0-2ca90b4f5653",
   "metadata": {
    "id": "c1fae7c8-2806-4468-84f0-2ca90b4f5653"
   },
   "outputs": [],
   "source": [
    "try:\n",
    "    from google.colab import userdata\n",
    "\n",
    "    access_token = userdata.get(\"GFW_API_ACCESS_TOKEN\")\n",
    "except Exception as exc:\n",
    "    access_token = os.environ.get(\"GFW_API_ACCESS_TOKEN\")\n",
    "\n",
    "access_token = access_token or \"<PASTE_YOUR_GFW_API_ACCESS_TOKEN_HERE>\""
   ]
  },
  {
   "cell_type": "code",
   "execution_count": 4,
   "id": "08c9daef-552d-4906-ac21-eaedcea7b102",
   "metadata": {
    "id": "08c9daef-552d-4906-ac21-eaedcea7b102"
   },
   "outputs": [],
   "source": [
    "gfw_client = gfw.Client(\n",
    "    access_token=access_token,\n",
    ")"
   ]
  },
  {
   "cell_type": "markdown",
   "id": "f3329f1a-ba64-4cbc-b20d-d27a6e4fa41e",
   "metadata": {
    "id": "f3329f1a-ba64-4cbc-b20d-d27a6e4fa41e"
   },
   "source": [
    "## Retrieving All Events (`get_all_events`)"
   ]
  },
  {
   "cell_type": "code",
   "execution_count": 5,
   "id": "4312a999-d852-4d66-97d0-12f25e35d6fe",
   "metadata": {
    "id": "4312a999-d852-4d66-97d0-12f25e35d6fe"
   },
   "outputs": [],
   "source": [
    "events_result = await gfw_client.events.get_all_events(\n",
    "    datasets=[\"public-global-fishing-events:latest\"],\n",
    "    start_date=\"2020-10-01\",\n",
    "    end_date=\"2020-12-31\",\n",
    "    region={\n",
    "        \"dataset\": \"public-eez-areas\",\n",
    "        \"id\": \"8371\",\n",
    "    },\n",
    "    limit=5,\n",
    ")"
   ]
  },
  {
   "cell_type": "markdown",
   "id": "7b632014-a3f7-47a6-9410-96c2dbfe9358",
   "metadata": {
    "id": "7b632014-a3f7-47a6-9410-96c2dbfe9358"
   },
   "source": [
    "### Access the list of event as Pydantic models"
   ]
  },
  {
   "cell_type": "code",
   "execution_count": 6,
   "id": "ae264f6f-c7b6-4f48-918b-97b665b065cb",
   "metadata": {
    "id": "ae264f6f-c7b6-4f48-918b-97b665b065cb"
   },
   "outputs": [],
   "source": [
    "events_data = events_result.data()"
   ]
  },
  {
   "cell_type": "code",
   "execution_count": 7,
   "id": "8254e481-c277-48b9-a5f6-88c785345b75",
   "metadata": {
    "id": "8254e481-c277-48b9-a5f6-88c785345b75"
   },
   "outputs": [],
   "source": [
    "event = events_data[-1]"
   ]
  },
  {
   "cell_type": "code",
   "execution_count": 8,
   "id": "61bd0002-c092-4a5b-bb31-10562cf2a2e1",
   "metadata": {
    "colab": {
     "base_uri": "https://localhost:8080/"
    },
    "id": "61bd0002-c092-4a5b-bb31-10562cf2a2e1",
    "outputId": "1587cdbc-7cb7-473f-b87a-0e316d8b49cb"
   },
   "outputs": [
    {
     "data": {
      "text/plain": [
       "('bbbf5d0cfa9639e5eac0130fc2b742e9',\n",
       " 'fishing',\n",
       " '7374d1988-87f8-6037-66b4-59854a026efb')"
      ]
     },
     "execution_count": 8,
     "metadata": {},
     "output_type": "execute_result"
    }
   ],
   "source": [
    "event.id, event.type, event.vessel.id"
   ]
  },
  {
   "cell_type": "markdown",
   "id": "4c43e1bf-f5e2-4e7e-ae0e-544af45b2fac",
   "metadata": {
    "id": "4c43e1bf-f5e2-4e7e-ae0e-544af45b2fac"
   },
   "source": [
    "### Access the events as a DataFrame"
   ]
  },
  {
   "cell_type": "code",
   "execution_count": 9,
   "id": "fb1d9156-c869-400a-aa09-328ec43cd4ff",
   "metadata": {
    "id": "fb1d9156-c869-400a-aa09-328ec43cd4ff"
   },
   "outputs": [],
   "source": [
    "events_df = events_result.df()"
   ]
  },
  {
   "cell_type": "code",
   "execution_count": 10,
   "id": "33328ed3-e2c0-456c-89d2-e13df6cb6911",
   "metadata": {
    "colab": {
     "base_uri": "https://localhost:8080/",
     "height": 487
    },
    "id": "33328ed3-e2c0-456c-89d2-e13df6cb6911",
    "outputId": "e32579bc-e25b-4a33-dce9-01948e21a795"
   },
   "outputs": [
    {
     "data": {
      "application/vnd.google.colaboratory.intrinsic+json": {
       "repr_error": "Out of range float values are not JSON compliant: nan",
       "type": "dataframe",
       "variable_name": "events_df"
      },
      "text/html": [
       "\n",
       "  <div id=\"df-0d9ee036-24bc-4bfa-9b92-9abd84114649\" class=\"colab-df-container\">\n",
       "    <div>\n",
       "<style scoped>\n",
       "    .dataframe tbody tr th:only-of-type {\n",
       "        vertical-align: middle;\n",
       "    }\n",
       "\n",
       "    .dataframe tbody tr th {\n",
       "        vertical-align: top;\n",
       "    }\n",
       "\n",
       "    .dataframe thead th {\n",
       "        text-align: right;\n",
       "    }\n",
       "</style>\n",
       "<table border=\"1\" class=\"dataframe\">\n",
       "  <thead>\n",
       "    <tr style=\"text-align: right;\">\n",
       "      <th></th>\n",
       "      <th>start</th>\n",
       "      <th>end</th>\n",
       "      <th>id</th>\n",
       "      <th>type</th>\n",
       "      <th>position</th>\n",
       "      <th>regions</th>\n",
       "      <th>bounding_box</th>\n",
       "      <th>distances</th>\n",
       "      <th>vessel</th>\n",
       "      <th>encounter</th>\n",
       "      <th>fishing</th>\n",
       "      <th>gap</th>\n",
       "      <th>loitering</th>\n",
       "      <th>port_visit</th>\n",
       "    </tr>\n",
       "  </thead>\n",
       "  <tbody>\n",
       "    <tr>\n",
       "      <th>0</th>\n",
       "      <td>2020-09-29 01:36:43+00:00</td>\n",
       "      <td>2020-10-01 06:21:11+00:00</td>\n",
       "      <td>a0f5848d1a83b7f0b4b8cda6873699ba</td>\n",
       "      <td>fishing</td>\n",
       "      <td>{'lat': 14.6865, 'lon': -17.4115}</td>\n",
       "      <td>{'mpa': ['555705172'], 'eez': ['8371'], 'rfmo'...</td>\n",
       "      <td>[-17.4119, 14.686378333333334, -17.41116833333...</td>\n",
       "      <td>{'start_distance_from_shore_km': 2.0, 'end_dis...</td>\n",
       "      <td>{'id': '9e01144bf-f383-e634-3178-ca7e34477f34'...</td>\n",
       "      <td>None</td>\n",
       "      <td>{'total_distance_km': 3.4650098660546638, 'ave...</td>\n",
       "      <td>None</td>\n",
       "      <td>None</td>\n",
       "      <td>None</td>\n",
       "    </tr>\n",
       "    <tr>\n",
       "      <th>1</th>\n",
       "      <td>2020-09-29 10:27:14+00:00</td>\n",
       "      <td>2020-10-01 06:16:35+00:00</td>\n",
       "      <td>670e2c0d5e1423f7d63821200a140d6f</td>\n",
       "      <td>fishing</td>\n",
       "      <td>{'lat': 13.7439, 'lon': -17.0539}</td>\n",
       "      <td>{'mpa': ['555651502'], 'eez': ['8371'], 'rfmo'...</td>\n",
       "      <td>[-16.967778333333342, 13.59392, -17.25, 13.910...</td>\n",
       "      <td>{'start_distance_from_shore_km': 29.0, 'end_di...</td>\n",
       "      <td>{'id': '56797171d-dc16-997d-5765-61029b1e0244'...</td>\n",
       "      <td>None</td>\n",
       "      <td>{'total_distance_km': 294.3073276985627, 'aver...</td>\n",
       "      <td>None</td>\n",
       "      <td>None</td>\n",
       "      <td>None</td>\n",
       "    </tr>\n",
       "    <tr>\n",
       "      <th>2</th>\n",
       "      <td>2020-09-30 07:13:23+00:00</td>\n",
       "      <td>2020-10-01 05:15:51+00:00</td>\n",
       "      <td>d1d52b881f7c22df0dc289534679d647</td>\n",
       "      <td>fishing</td>\n",
       "      <td>{'lat': 14.3766, 'lon': -17.2489}</td>\n",
       "      <td>{'mpa': ['555705172'], 'eez': ['8371'], 'rfmo'...</td>\n",
       "      <td>[-17.331973333333334, 14.21384, -17.1248533333...</td>\n",
       "      <td>{'start_distance_from_shore_km': 40.0, 'end_di...</td>\n",
       "      <td>{'id': 'd29f3a946-6ece-2c04-7c5f-43dcc3515707'...</td>\n",
       "      <td>None</td>\n",
       "      <td>{'total_distance_km': 130.6216027333083, 'aver...</td>\n",
       "      <td>None</td>\n",
       "      <td>None</td>\n",
       "      <td>None</td>\n",
       "    </tr>\n",
       "    <tr>\n",
       "      <th>3</th>\n",
       "      <td>2020-09-30 12:35:44+00:00</td>\n",
       "      <td>2020-10-01 07:11:05+00:00</td>\n",
       "      <td>cebc86436ee6fb3e792a49ced7840ea4</td>\n",
       "      <td>fishing</td>\n",
       "      <td>{'lat': 15.501, 'lon': -17.2188}</td>\n",
       "      <td>{'mpa': [], 'eez': ['8371'], 'rfmo': ['NAMMCO'...</td>\n",
       "      <td>[-17.1261683333, 15.2266266667, -17.3346466666...</td>\n",
       "      <td>{'start_distance_from_shore_km': 20.0, 'end_di...</td>\n",
       "      <td>{'id': '14fdac9e8-8a83-0d3b-0483-94e520ceaf80'...</td>\n",
       "      <td>None</td>\n",
       "      <td>{'total_distance_km': 111.11378725724042, 'ave...</td>\n",
       "      <td>None</td>\n",
       "      <td>None</td>\n",
       "      <td>None</td>\n",
       "    </tr>\n",
       "    <tr>\n",
       "      <th>4</th>\n",
       "      <td>2020-09-30 13:18:27+00:00</td>\n",
       "      <td>2020-10-01 07:33:45+00:00</td>\n",
       "      <td>bbbf5d0cfa9639e5eac0130fc2b742e9</td>\n",
       "      <td>fishing</td>\n",
       "      <td>{'lat': 14.9647, 'lon': -17.6039}</td>\n",
       "      <td>{'mpa': [], 'eez': ['8371'], 'rfmo': ['SRFC', ...</td>\n",
       "      <td>[-17.480231666700007, 14.8685916667, -17.67519...</td>\n",
       "      <td>{'start_distance_from_shore_km': 11.0, 'end_di...</td>\n",
       "      <td>{'id': '7374d1988-87f8-6037-66b4-59854a026efb'...</td>\n",
       "      <td>None</td>\n",
       "      <td>{'total_distance_km': 93.2534926758473, 'avera...</td>\n",
       "      <td>None</td>\n",
       "      <td>None</td>\n",
       "      <td>None</td>\n",
       "    </tr>\n",
       "  </tbody>\n",
       "</table>\n",
       "</div>\n",
       "    <div class=\"colab-df-buttons\">\n",
       "\n",
       "  <div class=\"colab-df-container\">\n",
       "    <button class=\"colab-df-convert\" onclick=\"convertToInteractive('df-0d9ee036-24bc-4bfa-9b92-9abd84114649')\"\n",
       "            title=\"Convert this dataframe to an interactive table.\"\n",
       "            style=\"display:none;\">\n",
       "\n",
       "  <svg xmlns=\"http://www.w3.org/2000/svg\" height=\"24px\" viewBox=\"0 -960 960 960\">\n",
       "    <path d=\"M120-120v-720h720v720H120Zm60-500h600v-160H180v160Zm220 220h160v-160H400v160Zm0 220h160v-160H400v160ZM180-400h160v-160H180v160Zm440 0h160v-160H620v160ZM180-180h160v-160H180v160Zm440 0h160v-160H620v160Z\"/>\n",
       "  </svg>\n",
       "    </button>\n",
       "\n",
       "  <style>\n",
       "    .colab-df-container {\n",
       "      display:flex;\n",
       "      gap: 12px;\n",
       "    }\n",
       "\n",
       "    .colab-df-convert {\n",
       "      background-color: #E8F0FE;\n",
       "      border: none;\n",
       "      border-radius: 50%;\n",
       "      cursor: pointer;\n",
       "      display: none;\n",
       "      fill: #1967D2;\n",
       "      height: 32px;\n",
       "      padding: 0 0 0 0;\n",
       "      width: 32px;\n",
       "    }\n",
       "\n",
       "    .colab-df-convert:hover {\n",
       "      background-color: #E2EBFA;\n",
       "      box-shadow: 0px 1px 2px rgba(60, 64, 67, 0.3), 0px 1px 3px 1px rgba(60, 64, 67, 0.15);\n",
       "      fill: #174EA6;\n",
       "    }\n",
       "\n",
       "    .colab-df-buttons div {\n",
       "      margin-bottom: 4px;\n",
       "    }\n",
       "\n",
       "    [theme=dark] .colab-df-convert {\n",
       "      background-color: #3B4455;\n",
       "      fill: #D2E3FC;\n",
       "    }\n",
       "\n",
       "    [theme=dark] .colab-df-convert:hover {\n",
       "      background-color: #434B5C;\n",
       "      box-shadow: 0px 1px 3px 1px rgba(0, 0, 0, 0.15);\n",
       "      filter: drop-shadow(0px 1px 2px rgba(0, 0, 0, 0.3));\n",
       "      fill: #FFFFFF;\n",
       "    }\n",
       "  </style>\n",
       "\n",
       "    <script>\n",
       "      const buttonEl =\n",
       "        document.querySelector('#df-0d9ee036-24bc-4bfa-9b92-9abd84114649 button.colab-df-convert');\n",
       "      buttonEl.style.display =\n",
       "        google.colab.kernel.accessAllowed ? 'block' : 'none';\n",
       "\n",
       "      async function convertToInteractive(key) {\n",
       "        const element = document.querySelector('#df-0d9ee036-24bc-4bfa-9b92-9abd84114649');\n",
       "        const dataTable =\n",
       "          await google.colab.kernel.invokeFunction('convertToInteractive',\n",
       "                                                    [key], {});\n",
       "        if (!dataTable) return;\n",
       "\n",
       "        const docLinkHtml = 'Like what you see? Visit the ' +\n",
       "          '<a target=\"_blank\" href=https://colab.research.google.com/notebooks/data_table.ipynb>data table notebook</a>'\n",
       "          + ' to learn more about interactive tables.';\n",
       "        element.innerHTML = '';\n",
       "        dataTable['output_type'] = 'display_data';\n",
       "        await google.colab.output.renderOutput(dataTable, element);\n",
       "        const docLink = document.createElement('div');\n",
       "        docLink.innerHTML = docLinkHtml;\n",
       "        element.appendChild(docLink);\n",
       "      }\n",
       "    </script>\n",
       "  </div>\n",
       "\n",
       "\n",
       "    <div id=\"df-2e6383f3-f065-4305-8e8b-8434009d6f4a\">\n",
       "      <button class=\"colab-df-quickchart\" onclick=\"quickchart('df-2e6383f3-f065-4305-8e8b-8434009d6f4a')\"\n",
       "                title=\"Suggest charts\"\n",
       "                style=\"display:none;\">\n",
       "\n",
       "<svg xmlns=\"http://www.w3.org/2000/svg\" height=\"24px\"viewBox=\"0 0 24 24\"\n",
       "     width=\"24px\">\n",
       "    <g>\n",
       "        <path d=\"M19 3H5c-1.1 0-2 .9-2 2v14c0 1.1.9 2 2 2h14c1.1 0 2-.9 2-2V5c0-1.1-.9-2-2-2zM9 17H7v-7h2v7zm4 0h-2V7h2v10zm4 0h-2v-4h2v4z\"/>\n",
       "    </g>\n",
       "</svg>\n",
       "      </button>\n",
       "\n",
       "<style>\n",
       "  .colab-df-quickchart {\n",
       "      --bg-color: #E8F0FE;\n",
       "      --fill-color: #1967D2;\n",
       "      --hover-bg-color: #E2EBFA;\n",
       "      --hover-fill-color: #174EA6;\n",
       "      --disabled-fill-color: #AAA;\n",
       "      --disabled-bg-color: #DDD;\n",
       "  }\n",
       "\n",
       "  [theme=dark] .colab-df-quickchart {\n",
       "      --bg-color: #3B4455;\n",
       "      --fill-color: #D2E3FC;\n",
       "      --hover-bg-color: #434B5C;\n",
       "      --hover-fill-color: #FFFFFF;\n",
       "      --disabled-bg-color: #3B4455;\n",
       "      --disabled-fill-color: #666;\n",
       "  }\n",
       "\n",
       "  .colab-df-quickchart {\n",
       "    background-color: var(--bg-color);\n",
       "    border: none;\n",
       "    border-radius: 50%;\n",
       "    cursor: pointer;\n",
       "    display: none;\n",
       "    fill: var(--fill-color);\n",
       "    height: 32px;\n",
       "    padding: 0;\n",
       "    width: 32px;\n",
       "  }\n",
       "\n",
       "  .colab-df-quickchart:hover {\n",
       "    background-color: var(--hover-bg-color);\n",
       "    box-shadow: 0 1px 2px rgba(60, 64, 67, 0.3), 0 1px 3px 1px rgba(60, 64, 67, 0.15);\n",
       "    fill: var(--button-hover-fill-color);\n",
       "  }\n",
       "\n",
       "  .colab-df-quickchart-complete:disabled,\n",
       "  .colab-df-quickchart-complete:disabled:hover {\n",
       "    background-color: var(--disabled-bg-color);\n",
       "    fill: var(--disabled-fill-color);\n",
       "    box-shadow: none;\n",
       "  }\n",
       "\n",
       "  .colab-df-spinner {\n",
       "    border: 2px solid var(--fill-color);\n",
       "    border-color: transparent;\n",
       "    border-bottom-color: var(--fill-color);\n",
       "    animation:\n",
       "      spin 1s steps(1) infinite;\n",
       "  }\n",
       "\n",
       "  @keyframes spin {\n",
       "    0% {\n",
       "      border-color: transparent;\n",
       "      border-bottom-color: var(--fill-color);\n",
       "      border-left-color: var(--fill-color);\n",
       "    }\n",
       "    20% {\n",
       "      border-color: transparent;\n",
       "      border-left-color: var(--fill-color);\n",
       "      border-top-color: var(--fill-color);\n",
       "    }\n",
       "    30% {\n",
       "      border-color: transparent;\n",
       "      border-left-color: var(--fill-color);\n",
       "      border-top-color: var(--fill-color);\n",
       "      border-right-color: var(--fill-color);\n",
       "    }\n",
       "    40% {\n",
       "      border-color: transparent;\n",
       "      border-right-color: var(--fill-color);\n",
       "      border-top-color: var(--fill-color);\n",
       "    }\n",
       "    60% {\n",
       "      border-color: transparent;\n",
       "      border-right-color: var(--fill-color);\n",
       "    }\n",
       "    80% {\n",
       "      border-color: transparent;\n",
       "      border-right-color: var(--fill-color);\n",
       "      border-bottom-color: var(--fill-color);\n",
       "    }\n",
       "    90% {\n",
       "      border-color: transparent;\n",
       "      border-bottom-color: var(--fill-color);\n",
       "    }\n",
       "  }\n",
       "</style>\n",
       "\n",
       "      <script>\n",
       "        async function quickchart(key) {\n",
       "          const quickchartButtonEl =\n",
       "            document.querySelector('#' + key + ' button');\n",
       "          quickchartButtonEl.disabled = true;  // To prevent multiple clicks.\n",
       "          quickchartButtonEl.classList.add('colab-df-spinner');\n",
       "          try {\n",
       "            const charts = await google.colab.kernel.invokeFunction(\n",
       "                'suggestCharts', [key], {});\n",
       "          } catch (error) {\n",
       "            console.error('Error during call to suggestCharts:', error);\n",
       "          }\n",
       "          quickchartButtonEl.classList.remove('colab-df-spinner');\n",
       "          quickchartButtonEl.classList.add('colab-df-quickchart-complete');\n",
       "        }\n",
       "        (() => {\n",
       "          let quickchartButtonEl =\n",
       "            document.querySelector('#df-2e6383f3-f065-4305-8e8b-8434009d6f4a button');\n",
       "          quickchartButtonEl.style.display =\n",
       "            google.colab.kernel.accessAllowed ? 'block' : 'none';\n",
       "        })();\n",
       "      </script>\n",
       "    </div>\n",
       "\n",
       "    </div>\n",
       "  </div>\n"
      ],
      "text/plain": [
       "                      start                       end  \\\n",
       "0 2020-09-29 01:36:43+00:00 2020-10-01 06:21:11+00:00   \n",
       "1 2020-09-29 10:27:14+00:00 2020-10-01 06:16:35+00:00   \n",
       "2 2020-09-30 07:13:23+00:00 2020-10-01 05:15:51+00:00   \n",
       "3 2020-09-30 12:35:44+00:00 2020-10-01 07:11:05+00:00   \n",
       "4 2020-09-30 13:18:27+00:00 2020-10-01 07:33:45+00:00   \n",
       "\n",
       "                                 id     type  \\\n",
       "0  a0f5848d1a83b7f0b4b8cda6873699ba  fishing   \n",
       "1  670e2c0d5e1423f7d63821200a140d6f  fishing   \n",
       "2  d1d52b881f7c22df0dc289534679d647  fishing   \n",
       "3  cebc86436ee6fb3e792a49ced7840ea4  fishing   \n",
       "4  bbbf5d0cfa9639e5eac0130fc2b742e9  fishing   \n",
       "\n",
       "                            position  \\\n",
       "0  {'lat': 14.6865, 'lon': -17.4115}   \n",
       "1  {'lat': 13.7439, 'lon': -17.0539}   \n",
       "2  {'lat': 14.3766, 'lon': -17.2489}   \n",
       "3   {'lat': 15.501, 'lon': -17.2188}   \n",
       "4  {'lat': 14.9647, 'lon': -17.6039}   \n",
       "\n",
       "                                             regions  \\\n",
       "0  {'mpa': ['555705172'], 'eez': ['8371'], 'rfmo'...   \n",
       "1  {'mpa': ['555651502'], 'eez': ['8371'], 'rfmo'...   \n",
       "2  {'mpa': ['555705172'], 'eez': ['8371'], 'rfmo'...   \n",
       "3  {'mpa': [], 'eez': ['8371'], 'rfmo': ['NAMMCO'...   \n",
       "4  {'mpa': [], 'eez': ['8371'], 'rfmo': ['SRFC', ...   \n",
       "\n",
       "                                        bounding_box  \\\n",
       "0  [-17.4119, 14.686378333333334, -17.41116833333...   \n",
       "1  [-16.967778333333342, 13.59392, -17.25, 13.910...   \n",
       "2  [-17.331973333333334, 14.21384, -17.1248533333...   \n",
       "3  [-17.1261683333, 15.2266266667, -17.3346466666...   \n",
       "4  [-17.480231666700007, 14.8685916667, -17.67519...   \n",
       "\n",
       "                                           distances  \\\n",
       "0  {'start_distance_from_shore_km': 2.0, 'end_dis...   \n",
       "1  {'start_distance_from_shore_km': 29.0, 'end_di...   \n",
       "2  {'start_distance_from_shore_km': 40.0, 'end_di...   \n",
       "3  {'start_distance_from_shore_km': 20.0, 'end_di...   \n",
       "4  {'start_distance_from_shore_km': 11.0, 'end_di...   \n",
       "\n",
       "                                              vessel encounter  \\\n",
       "0  {'id': '9e01144bf-f383-e634-3178-ca7e34477f34'...      None   \n",
       "1  {'id': '56797171d-dc16-997d-5765-61029b1e0244'...      None   \n",
       "2  {'id': 'd29f3a946-6ece-2c04-7c5f-43dcc3515707'...      None   \n",
       "3  {'id': '14fdac9e8-8a83-0d3b-0483-94e520ceaf80'...      None   \n",
       "4  {'id': '7374d1988-87f8-6037-66b4-59854a026efb'...      None   \n",
       "\n",
       "                                             fishing   gap loitering  \\\n",
       "0  {'total_distance_km': 3.4650098660546638, 'ave...  None      None   \n",
       "1  {'total_distance_km': 294.3073276985627, 'aver...  None      None   \n",
       "2  {'total_distance_km': 130.6216027333083, 'aver...  None      None   \n",
       "3  {'total_distance_km': 111.11378725724042, 'ave...  None      None   \n",
       "4  {'total_distance_km': 93.2534926758473, 'avera...  None      None   \n",
       "\n",
       "  port_visit  \n",
       "0       None  \n",
       "1       None  \n",
       "2       None  \n",
       "3       None  \n",
       "4       None  "
      ]
     },
     "execution_count": 10,
     "metadata": {},
     "output_type": "execute_result"
    }
   ],
   "source": [
    "events_df.head()"
   ]
  },
  {
   "cell_type": "markdown",
   "id": "2b8b1aaf-d84b-4d32-9c32-8efaa582279a",
   "metadata": {
    "id": "2b8b1aaf-d84b-4d32-9c32-8efaa582279a"
   },
   "source": [
    "## Retrieving a Single Event by ID (`get_event_by_id`)"
   ]
  },
  {
   "cell_type": "code",
   "execution_count": 11,
   "id": "7153066a-abe9-4b1a-9751-378f5486ed61",
   "metadata": {
    "id": "7153066a-abe9-4b1a-9751-378f5486ed61"
   },
   "outputs": [],
   "source": [
    "event_result = await gfw_client.events.get_event_by_id(\n",
    "    id=\"c2f0967e061f99a01793edac065de003\",\n",
    "    dataset=\"public-global-port-visits-events:latest\",\n",
    ")"
   ]
  },
  {
   "cell_type": "markdown",
   "id": "afec0170-02f9-4a8d-b307-d9d14c989e78",
   "metadata": {
    "id": "afec0170-02f9-4a8d-b307-d9d14c989e78"
   },
   "source": [
    "### Access the event model as Pydantic model"
   ]
  },
  {
   "cell_type": "code",
   "execution_count": 12,
   "id": "07f3cec3-752b-494e-be95-f96ff7cda93a",
   "metadata": {
    "id": "07f3cec3-752b-494e-be95-f96ff7cda93a"
   },
   "outputs": [],
   "source": [
    "event = event_result.data()"
   ]
  },
  {
   "cell_type": "code",
   "execution_count": 13,
   "id": "1598ba96-1e0e-40ce-ade8-c2ccd721cad7",
   "metadata": {
    "colab": {
     "base_uri": "https://localhost:8080/"
    },
    "id": "1598ba96-1e0e-40ce-ade8-c2ccd721cad7",
    "outputId": "abedfe38-e1a1-4686-eb1e-b614e4a253e7"
   },
   "outputs": [
    {
     "data": {
      "text/plain": [
       "('c2f0967e061f99a01793edac065de003',\n",
       " 'port_visit',\n",
       " '8c7304226-6c71-edbe-0b63-c246734b3c01')"
      ]
     },
     "execution_count": 13,
     "metadata": {},
     "output_type": "execute_result"
    }
   ],
   "source": [
    "event.id, event.type, event.vessel.id"
   ]
  },
  {
   "cell_type": "markdown",
   "id": "46620eff-1618-4db2-b79c-bd0092e1d6a6",
   "metadata": {
    "id": "46620eff-1618-4db2-b79c-bd0092e1d6a6"
   },
   "source": [
    "### Access the event as a DataFrame"
   ]
  },
  {
   "cell_type": "code",
   "execution_count": 14,
   "id": "5924b8c6-da8e-42a9-94ee-9b67ebdb1e7e",
   "metadata": {
    "id": "5924b8c6-da8e-42a9-94ee-9b67ebdb1e7e"
   },
   "outputs": [],
   "source": [
    "event_df = event_result.df()"
   ]
  },
  {
   "cell_type": "code",
   "execution_count": 15,
   "id": "9e6befd3-f970-4a05-b2d0-63ddd4adcfe0",
   "metadata": {
    "colab": {
     "base_uri": "https://localhost:8080/",
     "height": 153
    },
    "id": "9e6befd3-f970-4a05-b2d0-63ddd4adcfe0",
    "outputId": "7a28167b-20af-4202-ed15-68d1293304b9"
   },
   "outputs": [
    {
     "data": {
      "application/vnd.google.colaboratory.intrinsic+json": {
       "repr_error": "Out of range float values are not JSON compliant: nan",
       "type": "dataframe",
       "variable_name": "event_df"
      },
      "text/html": [
       "\n",
       "  <div id=\"df-80aff41e-da17-4b2a-bde8-1e48bae7d9cb\" class=\"colab-df-container\">\n",
       "    <div>\n",
       "<style scoped>\n",
       "    .dataframe tbody tr th:only-of-type {\n",
       "        vertical-align: middle;\n",
       "    }\n",
       "\n",
       "    .dataframe tbody tr th {\n",
       "        vertical-align: top;\n",
       "    }\n",
       "\n",
       "    .dataframe thead th {\n",
       "        text-align: right;\n",
       "    }\n",
       "</style>\n",
       "<table border=\"1\" class=\"dataframe\">\n",
       "  <thead>\n",
       "    <tr style=\"text-align: right;\">\n",
       "      <th></th>\n",
       "      <th>start</th>\n",
       "      <th>end</th>\n",
       "      <th>id</th>\n",
       "      <th>type</th>\n",
       "      <th>position</th>\n",
       "      <th>regions</th>\n",
       "      <th>bounding_box</th>\n",
       "      <th>distances</th>\n",
       "      <th>vessel</th>\n",
       "      <th>encounter</th>\n",
       "      <th>fishing</th>\n",
       "      <th>gap</th>\n",
       "      <th>loitering</th>\n",
       "      <th>port_visit</th>\n",
       "    </tr>\n",
       "  </thead>\n",
       "  <tbody>\n",
       "    <tr>\n",
       "      <th>0</th>\n",
       "      <td>2020-01-26 05:52:47+00:00</td>\n",
       "      <td>2020-01-29 14:39:33+00:00</td>\n",
       "      <td>c2f0967e061f99a01793edac065de003</td>\n",
       "      <td>port_visit</td>\n",
       "      <td>{'lat': 20.7288, 'lon': -17.0148}</td>\n",
       "      <td>{'mpa': [], 'eez': ['8369'], 'rfmo': ['NAMMCO'...</td>\n",
       "      <td>[-17.014774393446658, 20.72879719687954, -17.0...</td>\n",
       "      <td>{'start_distance_from_shore_km': 7.0, 'end_dis...</td>\n",
       "      <td>{'id': '8c7304226-6c71-edbe-0b63-c246734b3c01'...</td>\n",
       "      <td>None</td>\n",
       "      <td>None</td>\n",
       "      <td>None</td>\n",
       "      <td>None</td>\n",
       "      <td>{'visit_id': '38affb3e7bdc67e9c0c2e7e8f3b08da2...</td>\n",
       "    </tr>\n",
       "  </tbody>\n",
       "</table>\n",
       "</div>\n",
       "    <div class=\"colab-df-buttons\">\n",
       "\n",
       "  <div class=\"colab-df-container\">\n",
       "    <button class=\"colab-df-convert\" onclick=\"convertToInteractive('df-80aff41e-da17-4b2a-bde8-1e48bae7d9cb')\"\n",
       "            title=\"Convert this dataframe to an interactive table.\"\n",
       "            style=\"display:none;\">\n",
       "\n",
       "  <svg xmlns=\"http://www.w3.org/2000/svg\" height=\"24px\" viewBox=\"0 -960 960 960\">\n",
       "    <path d=\"M120-120v-720h720v720H120Zm60-500h600v-160H180v160Zm220 220h160v-160H400v160Zm0 220h160v-160H400v160ZM180-400h160v-160H180v160Zm440 0h160v-160H620v160ZM180-180h160v-160H180v160Zm440 0h160v-160H620v160Z\"/>\n",
       "  </svg>\n",
       "    </button>\n",
       "\n",
       "  <style>\n",
       "    .colab-df-container {\n",
       "      display:flex;\n",
       "      gap: 12px;\n",
       "    }\n",
       "\n",
       "    .colab-df-convert {\n",
       "      background-color: #E8F0FE;\n",
       "      border: none;\n",
       "      border-radius: 50%;\n",
       "      cursor: pointer;\n",
       "      display: none;\n",
       "      fill: #1967D2;\n",
       "      height: 32px;\n",
       "      padding: 0 0 0 0;\n",
       "      width: 32px;\n",
       "    }\n",
       "\n",
       "    .colab-df-convert:hover {\n",
       "      background-color: #E2EBFA;\n",
       "      box-shadow: 0px 1px 2px rgba(60, 64, 67, 0.3), 0px 1px 3px 1px rgba(60, 64, 67, 0.15);\n",
       "      fill: #174EA6;\n",
       "    }\n",
       "\n",
       "    .colab-df-buttons div {\n",
       "      margin-bottom: 4px;\n",
       "    }\n",
       "\n",
       "    [theme=dark] .colab-df-convert {\n",
       "      background-color: #3B4455;\n",
       "      fill: #D2E3FC;\n",
       "    }\n",
       "\n",
       "    [theme=dark] .colab-df-convert:hover {\n",
       "      background-color: #434B5C;\n",
       "      box-shadow: 0px 1px 3px 1px rgba(0, 0, 0, 0.15);\n",
       "      filter: drop-shadow(0px 1px 2px rgba(0, 0, 0, 0.3));\n",
       "      fill: #FFFFFF;\n",
       "    }\n",
       "  </style>\n",
       "\n",
       "    <script>\n",
       "      const buttonEl =\n",
       "        document.querySelector('#df-80aff41e-da17-4b2a-bde8-1e48bae7d9cb button.colab-df-convert');\n",
       "      buttonEl.style.display =\n",
       "        google.colab.kernel.accessAllowed ? 'block' : 'none';\n",
       "\n",
       "      async function convertToInteractive(key) {\n",
       "        const element = document.querySelector('#df-80aff41e-da17-4b2a-bde8-1e48bae7d9cb');\n",
       "        const dataTable =\n",
       "          await google.colab.kernel.invokeFunction('convertToInteractive',\n",
       "                                                    [key], {});\n",
       "        if (!dataTable) return;\n",
       "\n",
       "        const docLinkHtml = 'Like what you see? Visit the ' +\n",
       "          '<a target=\"_blank\" href=https://colab.research.google.com/notebooks/data_table.ipynb>data table notebook</a>'\n",
       "          + ' to learn more about interactive tables.';\n",
       "        element.innerHTML = '';\n",
       "        dataTable['output_type'] = 'display_data';\n",
       "        await google.colab.output.renderOutput(dataTable, element);\n",
       "        const docLink = document.createElement('div');\n",
       "        docLink.innerHTML = docLinkHtml;\n",
       "        element.appendChild(docLink);\n",
       "      }\n",
       "    </script>\n",
       "  </div>\n",
       "\n",
       "\n",
       "    </div>\n",
       "  </div>\n"
      ],
      "text/plain": [
       "                      start                       end  \\\n",
       "0 2020-01-26 05:52:47+00:00 2020-01-29 14:39:33+00:00   \n",
       "\n",
       "                                 id        type  \\\n",
       "0  c2f0967e061f99a01793edac065de003  port_visit   \n",
       "\n",
       "                            position  \\\n",
       "0  {'lat': 20.7288, 'lon': -17.0148}   \n",
       "\n",
       "                                             regions  \\\n",
       "0  {'mpa': [], 'eez': ['8369'], 'rfmo': ['NAMMCO'...   \n",
       "\n",
       "                                        bounding_box  \\\n",
       "0  [-17.014774393446658, 20.72879719687954, -17.0...   \n",
       "\n",
       "                                           distances  \\\n",
       "0  {'start_distance_from_shore_km': 7.0, 'end_dis...   \n",
       "\n",
       "                                              vessel encounter fishing   gap  \\\n",
       "0  {'id': '8c7304226-6c71-edbe-0b63-c246734b3c01'...      None    None  None   \n",
       "\n",
       "  loitering                                         port_visit  \n",
       "0      None  {'visit_id': '38affb3e7bdc67e9c0c2e7e8f3b08da2...  "
      ]
     },
     "execution_count": 15,
     "metadata": {},
     "output_type": "execute_result"
    }
   ],
   "source": [
    "event_df.head()"
   ]
  },
  {
   "cell_type": "markdown",
   "id": "907896fe-0855-44e3-ae38-bc93a4b9bc44",
   "metadata": {
    "id": "907896fe-0855-44e3-ae38-bc93a4b9bc44"
   },
   "source": [
    "## Getting Event Statistics (`get_events_stats`)"
   ]
  },
  {
   "cell_type": "code",
   "execution_count": 16,
   "id": "aacbe1ad-9806-4f83-8d4c-e37d318e1a08",
   "metadata": {
    "id": "aacbe1ad-9806-4f83-8d4c-e37d318e1a08"
   },
   "outputs": [],
   "source": [
    "event_stats_result = await gfw_client.events.get_events_stats(\n",
    "    datasets=[\"public-global-encounters-events:latest\"],\n",
    "    encounter_types=[\"CARRIER-FISHING\", \"FISHING-CARRIER\"],\n",
    "    vessel_types=[\"CARRIER\"],\n",
    "    start_date=\"2018-01-01\",\n",
    "    end_date=\"2023-01-31\",\n",
    "    timeseries_interval=\"YEAR\",\n",
    "    flags=[\"RUS\"],\n",
    "    duration=60,\n",
    ")"
   ]
  },
  {
   "cell_type": "markdown",
   "id": "d6c1d968-ef00-406f-bb91-8db449024caa",
   "metadata": {
    "id": "d6c1d968-ef00-406f-bb91-8db449024caa"
   },
   "source": [
    "### Access the statistics as Pydantic models"
   ]
  },
  {
   "cell_type": "code",
   "execution_count": 17,
   "id": "20bbb945-6c45-4ae9-98c6-029a833f0aeb",
   "metadata": {
    "id": "20bbb945-6c45-4ae9-98c6-029a833f0aeb"
   },
   "outputs": [],
   "source": [
    "event_stat = event_stats_result.data()"
   ]
  },
  {
   "cell_type": "code",
   "execution_count": 18,
   "id": "24742d8a-d55f-4f1d-8d97-556fb2ec6572",
   "metadata": {
    "colab": {
     "base_uri": "https://localhost:8080/"
    },
    "id": "24742d8a-d55f-4f1d-8d97-556fb2ec6572",
    "outputId": "62f9bb55-2442-4b97-a628-38eaebeaa070"
   },
   "outputs": [
    {
     "data": {
      "text/plain": [
       "(24831, 1, 194)"
      ]
     },
     "execution_count": 18,
     "metadata": {},
     "output_type": "execute_result"
    }
   ],
   "source": [
    "event_stat.num_events, event_stat.num_flags, event_stat.num_vessels"
   ]
  },
  {
   "cell_type": "markdown",
   "id": "d5f1c0ba-1d1e-4c3d-9b94-248fa734c6eb",
   "metadata": {
    "id": "d5f1c0ba-1d1e-4c3d-9b94-248fa734c6eb"
   },
   "source": [
    "### Access the statistics as a DataFrame"
   ]
  },
  {
   "cell_type": "code",
   "execution_count": 19,
   "id": "bcdf7d04-695c-4bd6-8cbe-6e522339ad58",
   "metadata": {
    "id": "bcdf7d04-695c-4bd6-8cbe-6e522339ad58"
   },
   "outputs": [],
   "source": [
    "event_stat_df = event_stats_result.df()"
   ]
  },
  {
   "cell_type": "code",
   "execution_count": 20,
   "id": "0496f743-190f-497c-9433-a4981446c786",
   "metadata": {
    "colab": {
     "base_uri": "https://localhost:8080/",
     "height": 89
    },
    "id": "0496f743-190f-497c-9433-a4981446c786",
    "outputId": "11e7e3eb-72a8-4078-f970-27fe1567a95e"
   },
   "outputs": [
    {
     "data": {
      "application/vnd.google.colaboratory.intrinsic+json": {
       "summary": "{\n  \"name\": \"event_stat_df\",\n  \"rows\": 1,\n  \"fields\": [\n    {\n      \"column\": \"num_events\",\n      \"properties\": {\n        \"dtype\": \"number\",\n        \"std\": null,\n        \"min\": 24831,\n        \"max\": 24831,\n        \"num_unique_values\": 1,\n        \"samples\": [\n          24831\n        ],\n        \"semantic_type\": \"\",\n        \"description\": \"\"\n      }\n    },\n    {\n      \"column\": \"num_flags\",\n      \"properties\": {\n        \"dtype\": \"number\",\n        \"std\": null,\n        \"min\": 1,\n        \"max\": 1,\n        \"num_unique_values\": 1,\n        \"samples\": [\n          1\n        ],\n        \"semantic_type\": \"\",\n        \"description\": \"\"\n      }\n    },\n    {\n      \"column\": \"num_vessels\",\n      \"properties\": {\n        \"dtype\": \"number\",\n        \"std\": null,\n        \"min\": 194,\n        \"max\": 194,\n        \"num_unique_values\": 1,\n        \"samples\": [\n          194\n        ],\n        \"semantic_type\": \"\",\n        \"description\": \"\"\n      }\n    },\n    {\n      \"column\": \"flags\",\n      \"properties\": {\n        \"dtype\": \"object\",\n        \"semantic_type\": \"\",\n        \"description\": \"\"\n      }\n    },\n    {\n      \"column\": \"timeseries\",\n      \"properties\": {\n        \"dtype\": \"object\",\n        \"semantic_type\": \"\",\n        \"description\": \"\"\n      }\n    }\n  ]\n}",
       "type": "dataframe",
       "variable_name": "event_stat_df"
      },
      "text/html": [
       "\n",
       "  <div id=\"df-e3364f99-d20d-4d3e-a834-1b57c42ddf26\" class=\"colab-df-container\">\n",
       "    <div>\n",
       "<style scoped>\n",
       "    .dataframe tbody tr th:only-of-type {\n",
       "        vertical-align: middle;\n",
       "    }\n",
       "\n",
       "    .dataframe tbody tr th {\n",
       "        vertical-align: top;\n",
       "    }\n",
       "\n",
       "    .dataframe thead th {\n",
       "        text-align: right;\n",
       "    }\n",
       "</style>\n",
       "<table border=\"1\" class=\"dataframe\">\n",
       "  <thead>\n",
       "    <tr style=\"text-align: right;\">\n",
       "      <th></th>\n",
       "      <th>num_events</th>\n",
       "      <th>num_flags</th>\n",
       "      <th>num_vessels</th>\n",
       "      <th>flags</th>\n",
       "      <th>timeseries</th>\n",
       "    </tr>\n",
       "  </thead>\n",
       "  <tbody>\n",
       "    <tr>\n",
       "      <th>0</th>\n",
       "      <td>24831</td>\n",
       "      <td>1</td>\n",
       "      <td>194</td>\n",
       "      <td>[RUS]</td>\n",
       "      <td>[{'date': 2018-01-01 00:00:00+00:00, 'value': ...</td>\n",
       "    </tr>\n",
       "  </tbody>\n",
       "</table>\n",
       "</div>\n",
       "    <div class=\"colab-df-buttons\">\n",
       "\n",
       "  <div class=\"colab-df-container\">\n",
       "    <button class=\"colab-df-convert\" onclick=\"convertToInteractive('df-e3364f99-d20d-4d3e-a834-1b57c42ddf26')\"\n",
       "            title=\"Convert this dataframe to an interactive table.\"\n",
       "            style=\"display:none;\">\n",
       "\n",
       "  <svg xmlns=\"http://www.w3.org/2000/svg\" height=\"24px\" viewBox=\"0 -960 960 960\">\n",
       "    <path d=\"M120-120v-720h720v720H120Zm60-500h600v-160H180v160Zm220 220h160v-160H400v160Zm0 220h160v-160H400v160ZM180-400h160v-160H180v160Zm440 0h160v-160H620v160ZM180-180h160v-160H180v160Zm440 0h160v-160H620v160Z\"/>\n",
       "  </svg>\n",
       "    </button>\n",
       "\n",
       "  <style>\n",
       "    .colab-df-container {\n",
       "      display:flex;\n",
       "      gap: 12px;\n",
       "    }\n",
       "\n",
       "    .colab-df-convert {\n",
       "      background-color: #E8F0FE;\n",
       "      border: none;\n",
       "      border-radius: 50%;\n",
       "      cursor: pointer;\n",
       "      display: none;\n",
       "      fill: #1967D2;\n",
       "      height: 32px;\n",
       "      padding: 0 0 0 0;\n",
       "      width: 32px;\n",
       "    }\n",
       "\n",
       "    .colab-df-convert:hover {\n",
       "      background-color: #E2EBFA;\n",
       "      box-shadow: 0px 1px 2px rgba(60, 64, 67, 0.3), 0px 1px 3px 1px rgba(60, 64, 67, 0.15);\n",
       "      fill: #174EA6;\n",
       "    }\n",
       "\n",
       "    .colab-df-buttons div {\n",
       "      margin-bottom: 4px;\n",
       "    }\n",
       "\n",
       "    [theme=dark] .colab-df-convert {\n",
       "      background-color: #3B4455;\n",
       "      fill: #D2E3FC;\n",
       "    }\n",
       "\n",
       "    [theme=dark] .colab-df-convert:hover {\n",
       "      background-color: #434B5C;\n",
       "      box-shadow: 0px 1px 3px 1px rgba(0, 0, 0, 0.15);\n",
       "      filter: drop-shadow(0px 1px 2px rgba(0, 0, 0, 0.3));\n",
       "      fill: #FFFFFF;\n",
       "    }\n",
       "  </style>\n",
       "\n",
       "    <script>\n",
       "      const buttonEl =\n",
       "        document.querySelector('#df-e3364f99-d20d-4d3e-a834-1b57c42ddf26 button.colab-df-convert');\n",
       "      buttonEl.style.display =\n",
       "        google.colab.kernel.accessAllowed ? 'block' : 'none';\n",
       "\n",
       "      async function convertToInteractive(key) {\n",
       "        const element = document.querySelector('#df-e3364f99-d20d-4d3e-a834-1b57c42ddf26');\n",
       "        const dataTable =\n",
       "          await google.colab.kernel.invokeFunction('convertToInteractive',\n",
       "                                                    [key], {});\n",
       "        if (!dataTable) return;\n",
       "\n",
       "        const docLinkHtml = 'Like what you see? Visit the ' +\n",
       "          '<a target=\"_blank\" href=https://colab.research.google.com/notebooks/data_table.ipynb>data table notebook</a>'\n",
       "          + ' to learn more about interactive tables.';\n",
       "        element.innerHTML = '';\n",
       "        dataTable['output_type'] = 'display_data';\n",
       "        await google.colab.output.renderOutput(dataTable, element);\n",
       "        const docLink = document.createElement('div');\n",
       "        docLink.innerHTML = docLinkHtml;\n",
       "        element.appendChild(docLink);\n",
       "      }\n",
       "    </script>\n",
       "  </div>\n",
       "\n",
       "\n",
       "  <div id=\"id_8ee810db-2385-4398-ad42-b3228300667a\">\n",
       "    <style>\n",
       "      .colab-df-generate {\n",
       "        background-color: #E8F0FE;\n",
       "        border: none;\n",
       "        border-radius: 50%;\n",
       "        cursor: pointer;\n",
       "        display: none;\n",
       "        fill: #1967D2;\n",
       "        height: 32px;\n",
       "        padding: 0 0 0 0;\n",
       "        width: 32px;\n",
       "      }\n",
       "\n",
       "      .colab-df-generate:hover {\n",
       "        background-color: #E2EBFA;\n",
       "        box-shadow: 0px 1px 2px rgba(60, 64, 67, 0.3), 0px 1px 3px 1px rgba(60, 64, 67, 0.15);\n",
       "        fill: #174EA6;\n",
       "      }\n",
       "\n",
       "      [theme=dark] .colab-df-generate {\n",
       "        background-color: #3B4455;\n",
       "        fill: #D2E3FC;\n",
       "      }\n",
       "\n",
       "      [theme=dark] .colab-df-generate:hover {\n",
       "        background-color: #434B5C;\n",
       "        box-shadow: 0px 1px 3px 1px rgba(0, 0, 0, 0.15);\n",
       "        filter: drop-shadow(0px 1px 2px rgba(0, 0, 0, 0.3));\n",
       "        fill: #FFFFFF;\n",
       "      }\n",
       "    </style>\n",
       "    <button class=\"colab-df-generate\" onclick=\"generateWithVariable('event_stat_df')\"\n",
       "            title=\"Generate code using this dataframe.\"\n",
       "            style=\"display:none;\">\n",
       "\n",
       "  <svg xmlns=\"http://www.w3.org/2000/svg\" height=\"24px\"viewBox=\"0 0 24 24\"\n",
       "       width=\"24px\">\n",
       "    <path d=\"M7,19H8.4L18.45,9,17,7.55,7,17.6ZM5,21V16.75L18.45,3.32a2,2,0,0,1,2.83,0l1.4,1.43a1.91,1.91,0,0,1,.58,1.4,1.91,1.91,0,0,1-.58,1.4L9.25,21ZM18.45,9,17,7.55Zm-12,3A5.31,5.31,0,0,0,4.9,8.1,5.31,5.31,0,0,0,1,6.5,5.31,5.31,0,0,0,4.9,4.9,5.31,5.31,0,0,0,6.5,1,5.31,5.31,0,0,0,8.1,4.9,5.31,5.31,0,0,0,12,6.5,5.46,5.46,0,0,0,6.5,12Z\"/>\n",
       "  </svg>\n",
       "    </button>\n",
       "    <script>\n",
       "      (() => {\n",
       "      const buttonEl =\n",
       "        document.querySelector('#id_8ee810db-2385-4398-ad42-b3228300667a button.colab-df-generate');\n",
       "      buttonEl.style.display =\n",
       "        google.colab.kernel.accessAllowed ? 'block' : 'none';\n",
       "\n",
       "      buttonEl.onclick = () => {\n",
       "        google.colab.notebook.generateWithVariable('event_stat_df');\n",
       "      }\n",
       "      })();\n",
       "    </script>\n",
       "  </div>\n",
       "\n",
       "    </div>\n",
       "  </div>\n"
      ],
      "text/plain": [
       "   num_events  num_flags  num_vessels  flags  \\\n",
       "0       24831          1          194  [RUS]   \n",
       "\n",
       "                                          timeseries  \n",
       "0  [{'date': 2018-01-01 00:00:00+00:00, 'value': ...  "
      ]
     },
     "execution_count": 20,
     "metadata": {},
     "output_type": "execute_result"
    }
   ],
   "source": [
    "event_stat_df"
   ]
  }
 ],
 "metadata": {
  "colab": {
   "include_colab_link": true,
   "provenance": []
  },
  "kernelspec": {
   "display_name": "Python 3 (ipykernel)",
   "language": "python",
   "name": "python3"
  },
  "language_info": {
   "codemirror_mode": {
    "name": "ipython",
    "version": 3
   },
   "file_extension": ".py",
   "mimetype": "text/x-python",
   "name": "python",
   "nbconvert_exporter": "python",
   "pygments_lexer": "ipython3",
   "version": "3.11.11"
  }
 },
 "nbformat": 4,
 "nbformat_minor": 5
}
