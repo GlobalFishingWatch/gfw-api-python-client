{
 "cells": [
  {
   "cell_type": "markdown",
   "id": "1045e650",
   "metadata": {
    "colab_type": "text",
    "id": "view-in-github"
   },
   "source": [
    "<a href=\"https://colab.research.google.com/github/GlobalFishingWatch/gfw-api-python-client/blob/develop/notebooks/usage-guides/references-data-api.ipynb\" target=\"_parent\"><img src=\"https://colab.research.google.com/assets/colab-badge.svg\" alt=\"Open In Colab\"/></a>"
   ]
  },
  {
   "cell_type": "markdown",
   "id": "a016a41f-0625-4287-85d0-4a6646aa0ace",
   "metadata": {
    "id": "a016a41f-0625-4287-85d0-4a6646aa0ace"
   },
   "source": [
    "# Reference Data API"
   ]
  },
  {
   "cell_type": "markdown",
   "id": "5d8e4401-2090-47a0-b3e1-be4d3ba5cc00",
   "metadata": {
    "id": "5d8e4401-2090-47a0-b3e1-be4d3ba5cc00"
   },
   "source": [
    "This guide provides detailed instructions on how to use the [gfw-api-python-client](https://github.com/GlobalFishingWatch/gfw-api-python-client) to access reference data, specifically geographic regions."
   ]
  },
  {
   "cell_type": "markdown",
   "id": "a3a1d08f-5c9a-4a7d-a8ad-3f8477b8633f",
   "metadata": {
    "id": "a3a1d08f-5c9a-4a7d-a8ad-3f8477b8633f"
   },
   "source": [
    "## Prerequisites"
   ]
  },
  {
   "cell_type": "markdown",
   "id": "cda8a081-5851-4926-adc4-fe09a82b6221",
   "metadata": {
    "id": "cda8a081-5851-4926-adc4-fe09a82b6221"
   },
   "source": [
    "Before using the `gfw-api-python-client`, you need to obtain an API access token from the [Global Fishing Watch API portal](https://globalfishingwatch.org/our-apis/tokens)"
   ]
  },
  {
   "cell_type": "markdown",
   "id": "1c2c332a-f0ad-4f3a-a1e7-464676118133",
   "metadata": {
    "id": "1c2c332a-f0ad-4f3a-a1e7-464676118133"
   },
   "source": [
    "## Installation"
   ]
  },
  {
   "cell_type": "markdown",
   "id": "0b5ca4e9-9577-4b47-9c40-3ac44c80b3c0",
   "metadata": {
    "id": "0b5ca4e9-9577-4b47-9c40-3ac44c80b3c0"
   },
   "source": [
    "The `gfw-api-python-client` can be easily installed using pip:"
   ]
  },
  {
   "cell_type": "code",
   "execution_count": 1,
   "id": "9649c042-848c-45e3-9e32-91716ee7c35b",
   "metadata": {
    "id": "9649c042-848c-45e3-9e32-91716ee7c35b"
   },
   "outputs": [],
   "source": [
    "# %pip install gfw-api-python-client"
   ]
  },
  {
   "cell_type": "markdown",
   "id": "1a2c04fd-1741-49c5-a5b4-28330338066c",
   "metadata": {
    "id": "1a2c04fd-1741-49c5-a5b4-28330338066c"
   },
   "source": [
    "## Usage"
   ]
  },
  {
   "cell_type": "code",
   "execution_count": 2,
   "id": "2f5cfab3-bc98-43ef-a764-573002012108",
   "metadata": {
    "id": "2f5cfab3-bc98-43ef-a764-573002012108"
   },
   "outputs": [],
   "source": [
    "import os\n",
    "import gfwapiclient as gfw"
   ]
  },
  {
   "cell_type": "code",
   "execution_count": 3,
   "id": "6ddc43fe-5159-4d91-9bd5-38d45d5c0700",
   "metadata": {
    "id": "6ddc43fe-5159-4d91-9bd5-38d45d5c0700"
   },
   "outputs": [],
   "source": [
    "try:\n",
    "    from google.colab import userdata\n",
    "\n",
    "    access_token = userdata.get(\"GFW_API_ACCESS_TOKEN\")\n",
    "except Exception as exc:\n",
    "    access_token = os.environ.get(\"GFW_API_ACCESS_TOKEN\")\n",
    "\n",
    "access_token = access_token or \"<PASTE_YOUR_GFW_API_ACCESS_TOKEN_HERE>\""
   ]
  },
  {
   "cell_type": "code",
   "execution_count": 4,
   "id": "eb023fb5-3458-4ec2-969d-c590e8df2e99",
   "metadata": {
    "id": "eb023fb5-3458-4ec2-969d-c590e8df2e99"
   },
   "outputs": [],
   "source": [
    "gfw_client = gfw.Client(\n",
    "    access_token=access_token,\n",
    ")"
   ]
  },
  {
   "cell_type": "markdown",
   "id": "40e01c84-9a16-4129-9436-1e8fb332f56a",
   "metadata": {
    "id": "40e01c84-9a16-4129-9436-1e8fb332f56a"
   },
   "source": [
    "## Retrieving Exclusive Economic Zones (EEZs)"
   ]
  },
  {
   "cell_type": "code",
   "execution_count": 5,
   "id": "8cb9ba85-12a5-470f-a5f1-cf747004b02f",
   "metadata": {
    "id": "8cb9ba85-12a5-470f-a5f1-cf747004b02f"
   },
   "outputs": [],
   "source": [
    "eez_regions_result = await gfw_client.references.get_eez_regions()"
   ]
  },
  {
   "cell_type": "markdown",
   "id": "abb804a6-d3c9-49e3-8c40-2d5ca5bde7d1",
   "metadata": {
    "id": "abb804a6-d3c9-49e3-8c40-2d5ca5bde7d1"
   },
   "source": [
    "### Access the list of EEZ region as Pydantic models"
   ]
  },
  {
   "cell_type": "code",
   "execution_count": 6,
   "id": "4aec8cfe-02fa-4794-8c34-c203846ad511",
   "metadata": {
    "id": "4aec8cfe-02fa-4794-8c34-c203846ad511"
   },
   "outputs": [],
   "source": [
    "eez_regions_data = eez_regions_result.data()"
   ]
  },
  {
   "cell_type": "code",
   "execution_count": 7,
   "id": "b472b515-ed14-4e44-a3e2-d034b02bfb9d",
   "metadata": {
    "id": "b472b515-ed14-4e44-a3e2-d034b02bfb9d"
   },
   "outputs": [],
   "source": [
    "eez_region = eez_regions_data[-1]"
   ]
  },
  {
   "cell_type": "code",
   "execution_count": 8,
   "id": "9f3561b3-2bae-4a62-8099-7ec3f88409b5",
   "metadata": {
    "colab": {
     "base_uri": "https://localhost:8080/"
    },
    "id": "9f3561b3-2bae-4a62-8099-7ec3f88409b5",
    "outputId": "bf777351-b340-4c2a-f2ae-73fdd1cc7530"
   },
   "outputs": [
    {
     "data": {
      "text/plain": [
       "(48999, 'public-eez-areas', 'ESP')"
      ]
     },
     "execution_count": 8,
     "metadata": {},
     "output_type": "execute_result"
    }
   ],
   "source": [
    "eez_region.id, eez_region.dataset, eez_region.iso3"
   ]
  },
  {
   "cell_type": "markdown",
   "id": "7a24cee1-3799-4361-82b0-392b93109313",
   "metadata": {
    "id": "7a24cee1-3799-4361-82b0-392b93109313"
   },
   "source": [
    "### Access the EEZ regions as a DataFrame"
   ]
  },
  {
   "cell_type": "code",
   "execution_count": 9,
   "id": "bf357025-dc46-4b61-aafb-9097aacdacf6",
   "metadata": {
    "id": "bf357025-dc46-4b61-aafb-9097aacdacf6"
   },
   "outputs": [],
   "source": [
    "eez_regions_df = eez_regions_result.df()"
   ]
  },
  {
   "cell_type": "code",
   "execution_count": 10,
   "id": "3d2963b3-6ea1-489c-abdb-aad327ed4875",
   "metadata": {
    "colab": {
     "base_uri": "https://localhost:8080/",
     "height": 206
    },
    "id": "3d2963b3-6ea1-489c-abdb-aad327ed4875",
    "outputId": "2550406b-cda6-4cb1-871e-c6a71c01a3a1"
   },
   "outputs": [
    {
     "data": {
      "application/vnd.google.colaboratory.intrinsic+json": {
       "summary": "{\n  \"name\": \"eez_regions_df[[\\\"id\\\", \\\"label\\\", \\\"iso3\\\", \\\"dataset\\\"]]\",\n  \"rows\": 5,\n  \"fields\": [\n    {\n      \"column\": \"id\",\n      \"properties\": {\n        \"dtype\": \"number\",\n        \"std\": 18467,\n        \"min\": 5683,\n        \"max\": 48950,\n        \"num_unique_values\": 5,\n        \"samples\": [\n          8467,\n          8327,\n          5683\n        ],\n        \"semantic_type\": \"\",\n        \"description\": \"\"\n      }\n    },\n    {\n      \"column\": \"label\",\n      \"properties\": {\n        \"dtype\": \"string\",\n        \"num_unique_values\": 5,\n        \"samples\": [\n          \"Uruguayan Exclusive Economic Zone\",\n          \"South Korean Exclusive Economic Zone\",\n          \"Latvian Exclusive Economic Zone\"\n        ],\n        \"semantic_type\": \"\",\n        \"description\": \"\"\n      }\n    },\n    {\n      \"column\": \"iso3\",\n      \"properties\": {\n        \"dtype\": \"string\",\n        \"num_unique_values\": 5,\n        \"samples\": [\n          \"URY\",\n          \"KOR\",\n          \"LVA\"\n        ],\n        \"semantic_type\": \"\",\n        \"description\": \"\"\n      }\n    },\n    {\n      \"column\": \"dataset\",\n      \"properties\": {\n        \"dtype\": \"category\",\n        \"num_unique_values\": 1,\n        \"samples\": [\n          \"public-eez-areas\"\n        ],\n        \"semantic_type\": \"\",\n        \"description\": \"\"\n      }\n    }\n  ]\n}",
       "type": "dataframe"
      },
      "text/html": [
       "\n",
       "  <div id=\"df-f388a702-b969-4682-8286-7b935597c671\" class=\"colab-df-container\">\n",
       "    <div>\n",
       "<style scoped>\n",
       "    .dataframe tbody tr th:only-of-type {\n",
       "        vertical-align: middle;\n",
       "    }\n",
       "\n",
       "    .dataframe tbody tr th {\n",
       "        vertical-align: top;\n",
       "    }\n",
       "\n",
       "    .dataframe thead th {\n",
       "        text-align: right;\n",
       "    }\n",
       "</style>\n",
       "<table border=\"1\" class=\"dataframe\">\n",
       "  <thead>\n",
       "    <tr style=\"text-align: right;\">\n",
       "      <th></th>\n",
       "      <th>id</th>\n",
       "      <th>label</th>\n",
       "      <th>iso3</th>\n",
       "      <th>dataset</th>\n",
       "    </tr>\n",
       "  </thead>\n",
       "  <tbody>\n",
       "    <tr>\n",
       "      <th>0</th>\n",
       "      <td>8491</td>\n",
       "      <td>Jordanian Exclusive Economic Zone</td>\n",
       "      <td>JOR</td>\n",
       "      <td>public-eez-areas</td>\n",
       "    </tr>\n",
       "    <tr>\n",
       "      <th>1</th>\n",
       "      <td>8467</td>\n",
       "      <td>Uruguayan Exclusive Economic Zone</td>\n",
       "      <td>URY</td>\n",
       "      <td>public-eez-areas</td>\n",
       "    </tr>\n",
       "    <tr>\n",
       "      <th>2</th>\n",
       "      <td>5683</td>\n",
       "      <td>Latvian Exclusive Economic Zone</td>\n",
       "      <td>LVA</td>\n",
       "      <td>public-eez-areas</td>\n",
       "    </tr>\n",
       "    <tr>\n",
       "      <th>3</th>\n",
       "      <td>48950</td>\n",
       "      <td>Overlapping claim Kuril Islands: Japan / Russia</td>\n",
       "      <td>JPN</td>\n",
       "      <td>public-eez-areas</td>\n",
       "    </tr>\n",
       "    <tr>\n",
       "      <th>4</th>\n",
       "      <td>8327</td>\n",
       "      <td>South Korean Exclusive Economic Zone</td>\n",
       "      <td>KOR</td>\n",
       "      <td>public-eez-areas</td>\n",
       "    </tr>\n",
       "  </tbody>\n",
       "</table>\n",
       "</div>\n",
       "    <div class=\"colab-df-buttons\">\n",
       "\n",
       "  <div class=\"colab-df-container\">\n",
       "    <button class=\"colab-df-convert\" onclick=\"convertToInteractive('df-f388a702-b969-4682-8286-7b935597c671')\"\n",
       "            title=\"Convert this dataframe to an interactive table.\"\n",
       "            style=\"display:none;\">\n",
       "\n",
       "  <svg xmlns=\"http://www.w3.org/2000/svg\" height=\"24px\" viewBox=\"0 -960 960 960\">\n",
       "    <path d=\"M120-120v-720h720v720H120Zm60-500h600v-160H180v160Zm220 220h160v-160H400v160Zm0 220h160v-160H400v160ZM180-400h160v-160H180v160Zm440 0h160v-160H620v160ZM180-180h160v-160H180v160Zm440 0h160v-160H620v160Z\"/>\n",
       "  </svg>\n",
       "    </button>\n",
       "\n",
       "  <style>\n",
       "    .colab-df-container {\n",
       "      display:flex;\n",
       "      gap: 12px;\n",
       "    }\n",
       "\n",
       "    .colab-df-convert {\n",
       "      background-color: #E8F0FE;\n",
       "      border: none;\n",
       "      border-radius: 50%;\n",
       "      cursor: pointer;\n",
       "      display: none;\n",
       "      fill: #1967D2;\n",
       "      height: 32px;\n",
       "      padding: 0 0 0 0;\n",
       "      width: 32px;\n",
       "    }\n",
       "\n",
       "    .colab-df-convert:hover {\n",
       "      background-color: #E2EBFA;\n",
       "      box-shadow: 0px 1px 2px rgba(60, 64, 67, 0.3), 0px 1px 3px 1px rgba(60, 64, 67, 0.15);\n",
       "      fill: #174EA6;\n",
       "    }\n",
       "\n",
       "    .colab-df-buttons div {\n",
       "      margin-bottom: 4px;\n",
       "    }\n",
       "\n",
       "    [theme=dark] .colab-df-convert {\n",
       "      background-color: #3B4455;\n",
       "      fill: #D2E3FC;\n",
       "    }\n",
       "\n",
       "    [theme=dark] .colab-df-convert:hover {\n",
       "      background-color: #434B5C;\n",
       "      box-shadow: 0px 1px 3px 1px rgba(0, 0, 0, 0.15);\n",
       "      filter: drop-shadow(0px 1px 2px rgba(0, 0, 0, 0.3));\n",
       "      fill: #FFFFFF;\n",
       "    }\n",
       "  </style>\n",
       "\n",
       "    <script>\n",
       "      const buttonEl =\n",
       "        document.querySelector('#df-f388a702-b969-4682-8286-7b935597c671 button.colab-df-convert');\n",
       "      buttonEl.style.display =\n",
       "        google.colab.kernel.accessAllowed ? 'block' : 'none';\n",
       "\n",
       "      async function convertToInteractive(key) {\n",
       "        const element = document.querySelector('#df-f388a702-b969-4682-8286-7b935597c671');\n",
       "        const dataTable =\n",
       "          await google.colab.kernel.invokeFunction('convertToInteractive',\n",
       "                                                    [key], {});\n",
       "        if (!dataTable) return;\n",
       "\n",
       "        const docLinkHtml = 'Like what you see? Visit the ' +\n",
       "          '<a target=\"_blank\" href=https://colab.research.google.com/notebooks/data_table.ipynb>data table notebook</a>'\n",
       "          + ' to learn more about interactive tables.';\n",
       "        element.innerHTML = '';\n",
       "        dataTable['output_type'] = 'display_data';\n",
       "        await google.colab.output.renderOutput(dataTable, element);\n",
       "        const docLink = document.createElement('div');\n",
       "        docLink.innerHTML = docLinkHtml;\n",
       "        element.appendChild(docLink);\n",
       "      }\n",
       "    </script>\n",
       "  </div>\n",
       "\n",
       "\n",
       "    <div id=\"df-7a2e8005-5bf9-4905-a029-46c4656060c1\">\n",
       "      <button class=\"colab-df-quickchart\" onclick=\"quickchart('df-7a2e8005-5bf9-4905-a029-46c4656060c1')\"\n",
       "                title=\"Suggest charts\"\n",
       "                style=\"display:none;\">\n",
       "\n",
       "<svg xmlns=\"http://www.w3.org/2000/svg\" height=\"24px\"viewBox=\"0 0 24 24\"\n",
       "     width=\"24px\">\n",
       "    <g>\n",
       "        <path d=\"M19 3H5c-1.1 0-2 .9-2 2v14c0 1.1.9 2 2 2h14c1.1 0 2-.9 2-2V5c0-1.1-.9-2-2-2zM9 17H7v-7h2v7zm4 0h-2V7h2v10zm4 0h-2v-4h2v4z\"/>\n",
       "    </g>\n",
       "</svg>\n",
       "      </button>\n",
       "\n",
       "<style>\n",
       "  .colab-df-quickchart {\n",
       "      --bg-color: #E8F0FE;\n",
       "      --fill-color: #1967D2;\n",
       "      --hover-bg-color: #E2EBFA;\n",
       "      --hover-fill-color: #174EA6;\n",
       "      --disabled-fill-color: #AAA;\n",
       "      --disabled-bg-color: #DDD;\n",
       "  }\n",
       "\n",
       "  [theme=dark] .colab-df-quickchart {\n",
       "      --bg-color: #3B4455;\n",
       "      --fill-color: #D2E3FC;\n",
       "      --hover-bg-color: #434B5C;\n",
       "      --hover-fill-color: #FFFFFF;\n",
       "      --disabled-bg-color: #3B4455;\n",
       "      --disabled-fill-color: #666;\n",
       "  }\n",
       "\n",
       "  .colab-df-quickchart {\n",
       "    background-color: var(--bg-color);\n",
       "    border: none;\n",
       "    border-radius: 50%;\n",
       "    cursor: pointer;\n",
       "    display: none;\n",
       "    fill: var(--fill-color);\n",
       "    height: 32px;\n",
       "    padding: 0;\n",
       "    width: 32px;\n",
       "  }\n",
       "\n",
       "  .colab-df-quickchart:hover {\n",
       "    background-color: var(--hover-bg-color);\n",
       "    box-shadow: 0 1px 2px rgba(60, 64, 67, 0.3), 0 1px 3px 1px rgba(60, 64, 67, 0.15);\n",
       "    fill: var(--button-hover-fill-color);\n",
       "  }\n",
       "\n",
       "  .colab-df-quickchart-complete:disabled,\n",
       "  .colab-df-quickchart-complete:disabled:hover {\n",
       "    background-color: var(--disabled-bg-color);\n",
       "    fill: var(--disabled-fill-color);\n",
       "    box-shadow: none;\n",
       "  }\n",
       "\n",
       "  .colab-df-spinner {\n",
       "    border: 2px solid var(--fill-color);\n",
       "    border-color: transparent;\n",
       "    border-bottom-color: var(--fill-color);\n",
       "    animation:\n",
       "      spin 1s steps(1) infinite;\n",
       "  }\n",
       "\n",
       "  @keyframes spin {\n",
       "    0% {\n",
       "      border-color: transparent;\n",
       "      border-bottom-color: var(--fill-color);\n",
       "      border-left-color: var(--fill-color);\n",
       "    }\n",
       "    20% {\n",
       "      border-color: transparent;\n",
       "      border-left-color: var(--fill-color);\n",
       "      border-top-color: var(--fill-color);\n",
       "    }\n",
       "    30% {\n",
       "      border-color: transparent;\n",
       "      border-left-color: var(--fill-color);\n",
       "      border-top-color: var(--fill-color);\n",
       "      border-right-color: var(--fill-color);\n",
       "    }\n",
       "    40% {\n",
       "      border-color: transparent;\n",
       "      border-right-color: var(--fill-color);\n",
       "      border-top-color: var(--fill-color);\n",
       "    }\n",
       "    60% {\n",
       "      border-color: transparent;\n",
       "      border-right-color: var(--fill-color);\n",
       "    }\n",
       "    80% {\n",
       "      border-color: transparent;\n",
       "      border-right-color: var(--fill-color);\n",
       "      border-bottom-color: var(--fill-color);\n",
       "    }\n",
       "    90% {\n",
       "      border-color: transparent;\n",
       "      border-bottom-color: var(--fill-color);\n",
       "    }\n",
       "  }\n",
       "</style>\n",
       "\n",
       "      <script>\n",
       "        async function quickchart(key) {\n",
       "          const quickchartButtonEl =\n",
       "            document.querySelector('#' + key + ' button');\n",
       "          quickchartButtonEl.disabled = true;  // To prevent multiple clicks.\n",
       "          quickchartButtonEl.classList.add('colab-df-spinner');\n",
       "          try {\n",
       "            const charts = await google.colab.kernel.invokeFunction(\n",
       "                'suggestCharts', [key], {});\n",
       "          } catch (error) {\n",
       "            console.error('Error during call to suggestCharts:', error);\n",
       "          }\n",
       "          quickchartButtonEl.classList.remove('colab-df-spinner');\n",
       "          quickchartButtonEl.classList.add('colab-df-quickchart-complete');\n",
       "        }\n",
       "        (() => {\n",
       "          let quickchartButtonEl =\n",
       "            document.querySelector('#df-7a2e8005-5bf9-4905-a029-46c4656060c1 button');\n",
       "          quickchartButtonEl.style.display =\n",
       "            google.colab.kernel.accessAllowed ? 'block' : 'none';\n",
       "        })();\n",
       "      </script>\n",
       "    </div>\n",
       "\n",
       "    </div>\n",
       "  </div>\n"
      ],
      "text/plain": [
       "      id                                            label iso3  \\\n",
       "0   8491                Jordanian Exclusive Economic Zone  JOR   \n",
       "1   8467                Uruguayan Exclusive Economic Zone  URY   \n",
       "2   5683                  Latvian Exclusive Economic Zone  LVA   \n",
       "3  48950  Overlapping claim Kuril Islands: Japan / Russia  JPN   \n",
       "4   8327             South Korean Exclusive Economic Zone  KOR   \n",
       "\n",
       "            dataset  \n",
       "0  public-eez-areas  \n",
       "1  public-eez-areas  \n",
       "2  public-eez-areas  \n",
       "3  public-eez-areas  \n",
       "4  public-eez-areas  "
      ]
     },
     "execution_count": 10,
     "metadata": {},
     "output_type": "execute_result"
    }
   ],
   "source": [
    "eez_regions_df[[\"id\", \"label\", \"iso3\", \"dataset\"]].head()"
   ]
  },
  {
   "cell_type": "markdown",
   "id": "ce7ceffb-8ee3-4791-b279-bb6495b32078",
   "metadata": {
    "id": "ce7ceffb-8ee3-4791-b279-bb6495b32078"
   },
   "source": [
    "## Retrieving Marine Protected Areas (MPAs)"
   ]
  },
  {
   "cell_type": "code",
   "execution_count": 11,
   "id": "71915ac9-7cb4-4a11-aee6-0df2ee6f9cd5",
   "metadata": {
    "id": "71915ac9-7cb4-4a11-aee6-0df2ee6f9cd5"
   },
   "outputs": [],
   "source": [
    "mpa_regions_result = await gfw_client.references.get_mpa_regions()"
   ]
  },
  {
   "cell_type": "markdown",
   "id": "40c11613-9318-4873-8457-2fde3d566b3d",
   "metadata": {
    "id": "40c11613-9318-4873-8457-2fde3d566b3d"
   },
   "source": [
    "### Access the list of MPA region Pydantic models"
   ]
  },
  {
   "cell_type": "code",
   "execution_count": 12,
   "id": "eee11224-fde4-4273-bfa7-da0b2c4bb9a2",
   "metadata": {
    "id": "eee11224-fde4-4273-bfa7-da0b2c4bb9a2"
   },
   "outputs": [],
   "source": [
    "mpa_regions_data = mpa_regions_result.data()"
   ]
  },
  {
   "cell_type": "code",
   "execution_count": 13,
   "id": "845f42d9-1abe-404c-ae2c-8fc07579a612",
   "metadata": {
    "id": "845f42d9-1abe-404c-ae2c-8fc07579a612"
   },
   "outputs": [],
   "source": [
    "mpa_region = mpa_regions_data[-1]"
   ]
  },
  {
   "cell_type": "code",
   "execution_count": 14,
   "id": "c8254eff-97da-4b10-b48d-bb8eea5845d8",
   "metadata": {
    "colab": {
     "base_uri": "https://localhost:8080/"
    },
    "id": "c8254eff-97da-4b10-b48d-bb8eea5845d8",
    "outputId": "508d80b4-3179-4e32-a92a-cd49d91364c1"
   },
   "outputs": [
    {
     "data": {
      "text/plain": [
       "('555790807', 'public-mpa-all')"
      ]
     },
     "execution_count": 14,
     "metadata": {},
     "output_type": "execute_result"
    }
   ],
   "source": [
    "mpa_region.id, mpa_region.dataset"
   ]
  },
  {
   "cell_type": "markdown",
   "id": "aa98cd32-a5e0-45bd-a69a-4ca446e8ea9b",
   "metadata": {
    "id": "aa98cd32-a5e0-45bd-a69a-4ca446e8ea9b"
   },
   "source": [
    "### Access the MPA regions as a DataFrame"
   ]
  },
  {
   "cell_type": "code",
   "execution_count": 15,
   "id": "cb8f7439-5cf8-4ab9-88e1-2a84795adbb2",
   "metadata": {
    "id": "cb8f7439-5cf8-4ab9-88e1-2a84795adbb2"
   },
   "outputs": [],
   "source": [
    "mpa_regions_df = mpa_regions_result.df()"
   ]
  },
  {
   "cell_type": "code",
   "execution_count": 16,
   "id": "0dc3268f-e099-4fe2-821b-f17d579f9d68",
   "metadata": {
    "colab": {
     "base_uri": "https://localhost:8080/",
     "height": 206
    },
    "id": "0dc3268f-e099-4fe2-821b-f17d579f9d68",
    "outputId": "10f1d69f-f59f-4c46-9bb9-352645456240"
   },
   "outputs": [
    {
     "data": {
      "application/vnd.google.colaboratory.intrinsic+json": {
       "summary": "{\n  \"name\": \"mpa_regions_df\",\n  \"rows\": 16491,\n  \"fields\": [\n    {\n      \"column\": \"id\",\n      \"properties\": {\n        \"dtype\": \"string\",\n        \"num_unique_values\": 16491,\n        \"samples\": [\n          \"153966\",\n          \"555790561\",\n          \"555593767\"\n        ],\n        \"semantic_type\": \"\",\n        \"description\": \"\"\n      }\n    },\n    {\n      \"column\": \"label\",\n      \"properties\": {\n        \"dtype\": \"string\",\n        \"num_unique_values\": 16065,\n        \"samples\": [\n          \"Kj\\u00f8rholmane - Naturreservat\",\n          \"Natural Habitat of Formosa Rice Trees on Bijindo Island, Tongyeong - \\ucc9c\\uc5f0\\uae30\\ub150\\ubb3c\",\n          \"Inner Clyde Estuary - Emerald Network\"\n        ],\n        \"semantic_type\": \"\",\n        \"description\": \"\"\n      }\n    },\n    {\n      \"column\": \"name\",\n      \"properties\": {\n        \"dtype\": \"string\",\n        \"num_unique_values\": 14068,\n        \"samples\": [\n          \"2003657 Kuggask\\u00e4r\",\n          \"Cordillera de Coiba\",\n          \"Boca de Cananova\"\n        ],\n        \"semantic_type\": \"\",\n        \"description\": \"\"\n      }\n    },\n    {\n      \"column\": \"dataset\",\n      \"properties\": {\n        \"dtype\": \"category\",\n        \"num_unique_values\": 1,\n        \"samples\": [\n          \"public-mpa-all\"\n        ],\n        \"semantic_type\": \"\",\n        \"description\": \"\"\n      }\n    }\n  ]\n}",
       "type": "dataframe",
       "variable_name": "mpa_regions_df"
      },
      "text/html": [
       "\n",
       "  <div id=\"df-242d0fd9-1a07-4365-bf66-392263423212\" class=\"colab-df-container\">\n",
       "    <div>\n",
       "<style scoped>\n",
       "    .dataframe tbody tr th:only-of-type {\n",
       "        vertical-align: middle;\n",
       "    }\n",
       "\n",
       "    .dataframe tbody tr th {\n",
       "        vertical-align: top;\n",
       "    }\n",
       "\n",
       "    .dataframe thead th {\n",
       "        text-align: right;\n",
       "    }\n",
       "</style>\n",
       "<table border=\"1\" class=\"dataframe\">\n",
       "  <thead>\n",
       "    <tr style=\"text-align: right;\">\n",
       "      <th></th>\n",
       "      <th>id</th>\n",
       "      <th>label</th>\n",
       "      <th>name</th>\n",
       "      <th>dataset</th>\n",
       "    </tr>\n",
       "  </thead>\n",
       "  <tbody>\n",
       "    <tr>\n",
       "      <th>0</th>\n",
       "      <td>1</td>\n",
       "      <td>Diamond Reef and Salt Fish Tail Reef - Marine ...</td>\n",
       "      <td>Diamond Reef and Salt Fish Tail Reef</td>\n",
       "      <td>public-mpa-all</td>\n",
       "    </tr>\n",
       "    <tr>\n",
       "      <th>1</th>\n",
       "      <td>2</td>\n",
       "      <td>Palaster Reef - Marine Reserve</td>\n",
       "      <td>Palaster Reef</td>\n",
       "      <td>public-mpa-all</td>\n",
       "    </tr>\n",
       "    <tr>\n",
       "      <th>2</th>\n",
       "      <td>27</td>\n",
       "      <td>Folkstone - Marine Reserve</td>\n",
       "      <td>Folkstone</td>\n",
       "      <td>public-mpa-all</td>\n",
       "    </tr>\n",
       "    <tr>\n",
       "      <th>3</th>\n",
       "      <td>46</td>\n",
       "      <td>Reserva Biológica Atol Das Rocas - Reserva Bio...</td>\n",
       "      <td>Reserva Biológica Atol Das Rocas</td>\n",
       "      <td>public-mpa-all</td>\n",
       "    </tr>\n",
       "    <tr>\n",
       "      <th>4</th>\n",
       "      <td>57</td>\n",
       "      <td>Parque Nacional Do Cabo Orange - Parque</td>\n",
       "      <td>Parque Nacional Do Cabo Orange</td>\n",
       "      <td>public-mpa-all</td>\n",
       "    </tr>\n",
       "  </tbody>\n",
       "</table>\n",
       "</div>\n",
       "    <div class=\"colab-df-buttons\">\n",
       "\n",
       "  <div class=\"colab-df-container\">\n",
       "    <button class=\"colab-df-convert\" onclick=\"convertToInteractive('df-242d0fd9-1a07-4365-bf66-392263423212')\"\n",
       "            title=\"Convert this dataframe to an interactive table.\"\n",
       "            style=\"display:none;\">\n",
       "\n",
       "  <svg xmlns=\"http://www.w3.org/2000/svg\" height=\"24px\" viewBox=\"0 -960 960 960\">\n",
       "    <path d=\"M120-120v-720h720v720H120Zm60-500h600v-160H180v160Zm220 220h160v-160H400v160Zm0 220h160v-160H400v160ZM180-400h160v-160H180v160Zm440 0h160v-160H620v160ZM180-180h160v-160H180v160Zm440 0h160v-160H620v160Z\"/>\n",
       "  </svg>\n",
       "    </button>\n",
       "\n",
       "  <style>\n",
       "    .colab-df-container {\n",
       "      display:flex;\n",
       "      gap: 12px;\n",
       "    }\n",
       "\n",
       "    .colab-df-convert {\n",
       "      background-color: #E8F0FE;\n",
       "      border: none;\n",
       "      border-radius: 50%;\n",
       "      cursor: pointer;\n",
       "      display: none;\n",
       "      fill: #1967D2;\n",
       "      height: 32px;\n",
       "      padding: 0 0 0 0;\n",
       "      width: 32px;\n",
       "    }\n",
       "\n",
       "    .colab-df-convert:hover {\n",
       "      background-color: #E2EBFA;\n",
       "      box-shadow: 0px 1px 2px rgba(60, 64, 67, 0.3), 0px 1px 3px 1px rgba(60, 64, 67, 0.15);\n",
       "      fill: #174EA6;\n",
       "    }\n",
       "\n",
       "    .colab-df-buttons div {\n",
       "      margin-bottom: 4px;\n",
       "    }\n",
       "\n",
       "    [theme=dark] .colab-df-convert {\n",
       "      background-color: #3B4455;\n",
       "      fill: #D2E3FC;\n",
       "    }\n",
       "\n",
       "    [theme=dark] .colab-df-convert:hover {\n",
       "      background-color: #434B5C;\n",
       "      box-shadow: 0px 1px 3px 1px rgba(0, 0, 0, 0.15);\n",
       "      filter: drop-shadow(0px 1px 2px rgba(0, 0, 0, 0.3));\n",
       "      fill: #FFFFFF;\n",
       "    }\n",
       "  </style>\n",
       "\n",
       "    <script>\n",
       "      const buttonEl =\n",
       "        document.querySelector('#df-242d0fd9-1a07-4365-bf66-392263423212 button.colab-df-convert');\n",
       "      buttonEl.style.display =\n",
       "        google.colab.kernel.accessAllowed ? 'block' : 'none';\n",
       "\n",
       "      async function convertToInteractive(key) {\n",
       "        const element = document.querySelector('#df-242d0fd9-1a07-4365-bf66-392263423212');\n",
       "        const dataTable =\n",
       "          await google.colab.kernel.invokeFunction('convertToInteractive',\n",
       "                                                    [key], {});\n",
       "        if (!dataTable) return;\n",
       "\n",
       "        const docLinkHtml = 'Like what you see? Visit the ' +\n",
       "          '<a target=\"_blank\" href=https://colab.research.google.com/notebooks/data_table.ipynb>data table notebook</a>'\n",
       "          + ' to learn more about interactive tables.';\n",
       "        element.innerHTML = '';\n",
       "        dataTable['output_type'] = 'display_data';\n",
       "        await google.colab.output.renderOutput(dataTable, element);\n",
       "        const docLink = document.createElement('div');\n",
       "        docLink.innerHTML = docLinkHtml;\n",
       "        element.appendChild(docLink);\n",
       "      }\n",
       "    </script>\n",
       "  </div>\n",
       "\n",
       "\n",
       "    <div id=\"df-2d568136-d372-43d2-8338-e58643f7e646\">\n",
       "      <button class=\"colab-df-quickchart\" onclick=\"quickchart('df-2d568136-d372-43d2-8338-e58643f7e646')\"\n",
       "                title=\"Suggest charts\"\n",
       "                style=\"display:none;\">\n",
       "\n",
       "<svg xmlns=\"http://www.w3.org/2000/svg\" height=\"24px\"viewBox=\"0 0 24 24\"\n",
       "     width=\"24px\">\n",
       "    <g>\n",
       "        <path d=\"M19 3H5c-1.1 0-2 .9-2 2v14c0 1.1.9 2 2 2h14c1.1 0 2-.9 2-2V5c0-1.1-.9-2-2-2zM9 17H7v-7h2v7zm4 0h-2V7h2v10zm4 0h-2v-4h2v4z\"/>\n",
       "    </g>\n",
       "</svg>\n",
       "      </button>\n",
       "\n",
       "<style>\n",
       "  .colab-df-quickchart {\n",
       "      --bg-color: #E8F0FE;\n",
       "      --fill-color: #1967D2;\n",
       "      --hover-bg-color: #E2EBFA;\n",
       "      --hover-fill-color: #174EA6;\n",
       "      --disabled-fill-color: #AAA;\n",
       "      --disabled-bg-color: #DDD;\n",
       "  }\n",
       "\n",
       "  [theme=dark] .colab-df-quickchart {\n",
       "      --bg-color: #3B4455;\n",
       "      --fill-color: #D2E3FC;\n",
       "      --hover-bg-color: #434B5C;\n",
       "      --hover-fill-color: #FFFFFF;\n",
       "      --disabled-bg-color: #3B4455;\n",
       "      --disabled-fill-color: #666;\n",
       "  }\n",
       "\n",
       "  .colab-df-quickchart {\n",
       "    background-color: var(--bg-color);\n",
       "    border: none;\n",
       "    border-radius: 50%;\n",
       "    cursor: pointer;\n",
       "    display: none;\n",
       "    fill: var(--fill-color);\n",
       "    height: 32px;\n",
       "    padding: 0;\n",
       "    width: 32px;\n",
       "  }\n",
       "\n",
       "  .colab-df-quickchart:hover {\n",
       "    background-color: var(--hover-bg-color);\n",
       "    box-shadow: 0 1px 2px rgba(60, 64, 67, 0.3), 0 1px 3px 1px rgba(60, 64, 67, 0.15);\n",
       "    fill: var(--button-hover-fill-color);\n",
       "  }\n",
       "\n",
       "  .colab-df-quickchart-complete:disabled,\n",
       "  .colab-df-quickchart-complete:disabled:hover {\n",
       "    background-color: var(--disabled-bg-color);\n",
       "    fill: var(--disabled-fill-color);\n",
       "    box-shadow: none;\n",
       "  }\n",
       "\n",
       "  .colab-df-spinner {\n",
       "    border: 2px solid var(--fill-color);\n",
       "    border-color: transparent;\n",
       "    border-bottom-color: var(--fill-color);\n",
       "    animation:\n",
       "      spin 1s steps(1) infinite;\n",
       "  }\n",
       "\n",
       "  @keyframes spin {\n",
       "    0% {\n",
       "      border-color: transparent;\n",
       "      border-bottom-color: var(--fill-color);\n",
       "      border-left-color: var(--fill-color);\n",
       "    }\n",
       "    20% {\n",
       "      border-color: transparent;\n",
       "      border-left-color: var(--fill-color);\n",
       "      border-top-color: var(--fill-color);\n",
       "    }\n",
       "    30% {\n",
       "      border-color: transparent;\n",
       "      border-left-color: var(--fill-color);\n",
       "      border-top-color: var(--fill-color);\n",
       "      border-right-color: var(--fill-color);\n",
       "    }\n",
       "    40% {\n",
       "      border-color: transparent;\n",
       "      border-right-color: var(--fill-color);\n",
       "      border-top-color: var(--fill-color);\n",
       "    }\n",
       "    60% {\n",
       "      border-color: transparent;\n",
       "      border-right-color: var(--fill-color);\n",
       "    }\n",
       "    80% {\n",
       "      border-color: transparent;\n",
       "      border-right-color: var(--fill-color);\n",
       "      border-bottom-color: var(--fill-color);\n",
       "    }\n",
       "    90% {\n",
       "      border-color: transparent;\n",
       "      border-bottom-color: var(--fill-color);\n",
       "    }\n",
       "  }\n",
       "</style>\n",
       "\n",
       "      <script>\n",
       "        async function quickchart(key) {\n",
       "          const quickchartButtonEl =\n",
       "            document.querySelector('#' + key + ' button');\n",
       "          quickchartButtonEl.disabled = true;  // To prevent multiple clicks.\n",
       "          quickchartButtonEl.classList.add('colab-df-spinner');\n",
       "          try {\n",
       "            const charts = await google.colab.kernel.invokeFunction(\n",
       "                'suggestCharts', [key], {});\n",
       "          } catch (error) {\n",
       "            console.error('Error during call to suggestCharts:', error);\n",
       "          }\n",
       "          quickchartButtonEl.classList.remove('colab-df-spinner');\n",
       "          quickchartButtonEl.classList.add('colab-df-quickchart-complete');\n",
       "        }\n",
       "        (() => {\n",
       "          let quickchartButtonEl =\n",
       "            document.querySelector('#df-2d568136-d372-43d2-8338-e58643f7e646 button');\n",
       "          quickchartButtonEl.style.display =\n",
       "            google.colab.kernel.accessAllowed ? 'block' : 'none';\n",
       "        })();\n",
       "      </script>\n",
       "    </div>\n",
       "\n",
       "    </div>\n",
       "  </div>\n"
      ],
      "text/plain": [
       "   id                                              label  \\\n",
       "0   1  Diamond Reef and Salt Fish Tail Reef - Marine ...   \n",
       "1   2                     Palaster Reef - Marine Reserve   \n",
       "2  27                         Folkstone - Marine Reserve   \n",
       "3  46  Reserva Biológica Atol Das Rocas - Reserva Bio...   \n",
       "4  57            Parque Nacional Do Cabo Orange - Parque   \n",
       "\n",
       "                                   name         dataset  \n",
       "0  Diamond Reef and Salt Fish Tail Reef  public-mpa-all  \n",
       "1                         Palaster Reef  public-mpa-all  \n",
       "2                             Folkstone  public-mpa-all  \n",
       "3      Reserva Biológica Atol Das Rocas  public-mpa-all  \n",
       "4        Parque Nacional Do Cabo Orange  public-mpa-all  "
      ]
     },
     "execution_count": 16,
     "metadata": {},
     "output_type": "execute_result"
    }
   ],
   "source": [
    "mpa_regions_df.head()"
   ]
  },
  {
   "cell_type": "markdown",
   "id": "a4359a04-5e07-4bac-bf46-145461bc9a5c",
   "metadata": {
    "id": "a4359a04-5e07-4bac-bf46-145461bc9a5c"
   },
   "source": [
    "## Retrieving Regional Fisheries Management Organizations (RFMOs)"
   ]
  },
  {
   "cell_type": "code",
   "execution_count": 17,
   "id": "ac6c6784-e839-44ed-8b47-50c9d7f0a68a",
   "metadata": {
    "id": "ac6c6784-e839-44ed-8b47-50c9d7f0a68a"
   },
   "outputs": [],
   "source": [
    "rfmo_regions_result = await gfw_client.references.get_rfmo_regions()"
   ]
  },
  {
   "cell_type": "markdown",
   "id": "12c04c51-ab30-40a7-a1fe-b277990f0426",
   "metadata": {
    "id": "12c04c51-ab30-40a7-a1fe-b277990f0426"
   },
   "source": [
    "### Access the list of RFMO region as Pydantic models"
   ]
  },
  {
   "cell_type": "code",
   "execution_count": 18,
   "id": "377f6c90-275f-4dbb-81d2-d1dd43e65fdd",
   "metadata": {
    "id": "377f6c90-275f-4dbb-81d2-d1dd43e65fdd"
   },
   "outputs": [],
   "source": [
    "rfmo_regions_data = rfmo_regions_result.data()"
   ]
  },
  {
   "cell_type": "code",
   "execution_count": 19,
   "id": "69605d0f-c97f-4e49-a4f5-d55121e9533a",
   "metadata": {
    "id": "69605d0f-c97f-4e49-a4f5-d55121e9533a"
   },
   "outputs": [],
   "source": [
    "rfmo_region = rfmo_regions_data[-1]"
   ]
  },
  {
   "cell_type": "code",
   "execution_count": 20,
   "id": "281fe6ca-f993-4158-a225-930173c52550",
   "metadata": {
    "colab": {
     "base_uri": "https://localhost:8080/"
    },
    "id": "281fe6ca-f993-4158-a225-930173c52550",
    "outputId": "b52bc678-ff7b-42ea-8715-0a62f9e27772"
   },
   "outputs": [
    {
     "data": {
      "text/plain": [
       "('WCPFC', 'public-rfmo')"
      ]
     },
     "execution_count": 20,
     "metadata": {},
     "output_type": "execute_result"
    }
   ],
   "source": [
    "rfmo_region.id, rfmo_region.dataset"
   ]
  },
  {
   "cell_type": "markdown",
   "id": "b54f3fbe-2644-4284-9b6c-ceecefe9f0b0",
   "metadata": {
    "id": "b54f3fbe-2644-4284-9b6c-ceecefe9f0b0"
   },
   "source": [
    "### Access the RFMO regions as a DataFrame"
   ]
  },
  {
   "cell_type": "code",
   "execution_count": 21,
   "id": "cf0c95fd-911d-4c0a-a663-5430a9c3d073",
   "metadata": {
    "id": "cf0c95fd-911d-4c0a-a663-5430a9c3d073"
   },
   "outputs": [],
   "source": [
    "rfmo_regions_df = rfmo_regions_result.df()"
   ]
  },
  {
   "cell_type": "code",
   "execution_count": 22,
   "id": "59d334e4-6b8a-469c-b401-72613b42bd68",
   "metadata": {
    "colab": {
     "base_uri": "https://localhost:8080/",
     "height": 206
    },
    "id": "59d334e4-6b8a-469c-b401-72613b42bd68",
    "outputId": "cddcae15-c66b-4456-e853-00cfca03d7af"
   },
   "outputs": [
    {
     "data": {
      "application/vnd.google.colaboratory.intrinsic+json": {
       "summary": "{\n  \"name\": \"rfmo_regions_df\",\n  \"rows\": 42,\n  \"fields\": [\n    {\n      \"column\": \"id\",\n      \"properties\": {\n        \"dtype\": \"string\",\n        \"num_unique_values\": 42,\n        \"samples\": [\n          \"NPAFC\",\n          \"GFCM\",\n          \"CRFM\"\n        ],\n        \"semantic_type\": \"\",\n        \"description\": \"\"\n      }\n    },\n    {\n      \"column\": \"label\",\n      \"properties\": {\n        \"dtype\": \"string\",\n        \"num_unique_values\": 42,\n        \"samples\": [\n          \"NPAFC\",\n          \"GFCM\",\n          \"CRFM\"\n        ],\n        \"semantic_type\": \"\",\n        \"description\": \"\"\n      }\n    },\n    {\n      \"column\": \"rfb\",\n      \"properties\": {\n        \"dtype\": \"string\",\n        \"num_unique_values\": 35,\n        \"samples\": [\n          \"OSPESCA\",\n          \"GFCM\",\n          \"NEAFC\"\n        ],\n        \"semantic_type\": \"\",\n        \"description\": \"\"\n      }\n    },\n    {\n      \"column\": \"dataset\",\n      \"properties\": {\n        \"dtype\": \"category\",\n        \"num_unique_values\": 1,\n        \"samples\": [\n          \"public-rfmo\"\n        ],\n        \"semantic_type\": \"\",\n        \"description\": \"\"\n      }\n    }\n  ]\n}",
       "type": "dataframe",
       "variable_name": "rfmo_regions_df"
      },
      "text/html": [
       "\n",
       "  <div id=\"df-24e61523-f650-4394-b5f9-76a45e477d06\" class=\"colab-df-container\">\n",
       "    <div>\n",
       "<style scoped>\n",
       "    .dataframe tbody tr th:only-of-type {\n",
       "        vertical-align: middle;\n",
       "    }\n",
       "\n",
       "    .dataframe tbody tr th {\n",
       "        vertical-align: top;\n",
       "    }\n",
       "\n",
       "    .dataframe thead th {\n",
       "        text-align: right;\n",
       "    }\n",
       "</style>\n",
       "<table border=\"1\" class=\"dataframe\">\n",
       "  <thead>\n",
       "    <tr style=\"text-align: right;\">\n",
       "      <th></th>\n",
       "      <th>id</th>\n",
       "      <th>label</th>\n",
       "      <th>rfb</th>\n",
       "      <th>dataset</th>\n",
       "    </tr>\n",
       "  </thead>\n",
       "  <tbody>\n",
       "    <tr>\n",
       "      <th>0</th>\n",
       "      <td>ACAP</td>\n",
       "      <td>ACAP</td>\n",
       "      <td>ACAP</td>\n",
       "      <td>public-rfmo</td>\n",
       "    </tr>\n",
       "    <tr>\n",
       "      <th>1</th>\n",
       "      <td>APFIC</td>\n",
       "      <td>APFIC</td>\n",
       "      <td>APFIC</td>\n",
       "      <td>public-rfmo</td>\n",
       "    </tr>\n",
       "    <tr>\n",
       "      <th>2</th>\n",
       "      <td>BOBP-IGO</td>\n",
       "      <td>BOBP-IGO</td>\n",
       "      <td>BOBP-IGO</td>\n",
       "      <td>public-rfmo</td>\n",
       "    </tr>\n",
       "    <tr>\n",
       "      <th>3</th>\n",
       "      <td>CACFISH</td>\n",
       "      <td>CACFISH</td>\n",
       "      <td>CACFISH</td>\n",
       "      <td>public-rfmo</td>\n",
       "    </tr>\n",
       "    <tr>\n",
       "      <th>4</th>\n",
       "      <td>CCAMLR</td>\n",
       "      <td>CCAMLR</td>\n",
       "      <td>CCAMLR</td>\n",
       "      <td>public-rfmo</td>\n",
       "    </tr>\n",
       "  </tbody>\n",
       "</table>\n",
       "</div>\n",
       "    <div class=\"colab-df-buttons\">\n",
       "\n",
       "  <div class=\"colab-df-container\">\n",
       "    <button class=\"colab-df-convert\" onclick=\"convertToInteractive('df-24e61523-f650-4394-b5f9-76a45e477d06')\"\n",
       "            title=\"Convert this dataframe to an interactive table.\"\n",
       "            style=\"display:none;\">\n",
       "\n",
       "  <svg xmlns=\"http://www.w3.org/2000/svg\" height=\"24px\" viewBox=\"0 -960 960 960\">\n",
       "    <path d=\"M120-120v-720h720v720H120Zm60-500h600v-160H180v160Zm220 220h160v-160H400v160Zm0 220h160v-160H400v160ZM180-400h160v-160H180v160Zm440 0h160v-160H620v160ZM180-180h160v-160H180v160Zm440 0h160v-160H620v160Z\"/>\n",
       "  </svg>\n",
       "    </button>\n",
       "\n",
       "  <style>\n",
       "    .colab-df-container {\n",
       "      display:flex;\n",
       "      gap: 12px;\n",
       "    }\n",
       "\n",
       "    .colab-df-convert {\n",
       "      background-color: #E8F0FE;\n",
       "      border: none;\n",
       "      border-radius: 50%;\n",
       "      cursor: pointer;\n",
       "      display: none;\n",
       "      fill: #1967D2;\n",
       "      height: 32px;\n",
       "      padding: 0 0 0 0;\n",
       "      width: 32px;\n",
       "    }\n",
       "\n",
       "    .colab-df-convert:hover {\n",
       "      background-color: #E2EBFA;\n",
       "      box-shadow: 0px 1px 2px rgba(60, 64, 67, 0.3), 0px 1px 3px 1px rgba(60, 64, 67, 0.15);\n",
       "      fill: #174EA6;\n",
       "    }\n",
       "\n",
       "    .colab-df-buttons div {\n",
       "      margin-bottom: 4px;\n",
       "    }\n",
       "\n",
       "    [theme=dark] .colab-df-convert {\n",
       "      background-color: #3B4455;\n",
       "      fill: #D2E3FC;\n",
       "    }\n",
       "\n",
       "    [theme=dark] .colab-df-convert:hover {\n",
       "      background-color: #434B5C;\n",
       "      box-shadow: 0px 1px 3px 1px rgba(0, 0, 0, 0.15);\n",
       "      filter: drop-shadow(0px 1px 2px rgba(0, 0, 0, 0.3));\n",
       "      fill: #FFFFFF;\n",
       "    }\n",
       "  </style>\n",
       "\n",
       "    <script>\n",
       "      const buttonEl =\n",
       "        document.querySelector('#df-24e61523-f650-4394-b5f9-76a45e477d06 button.colab-df-convert');\n",
       "      buttonEl.style.display =\n",
       "        google.colab.kernel.accessAllowed ? 'block' : 'none';\n",
       "\n",
       "      async function convertToInteractive(key) {\n",
       "        const element = document.querySelector('#df-24e61523-f650-4394-b5f9-76a45e477d06');\n",
       "        const dataTable =\n",
       "          await google.colab.kernel.invokeFunction('convertToInteractive',\n",
       "                                                    [key], {});\n",
       "        if (!dataTable) return;\n",
       "\n",
       "        const docLinkHtml = 'Like what you see? Visit the ' +\n",
       "          '<a target=\"_blank\" href=https://colab.research.google.com/notebooks/data_table.ipynb>data table notebook</a>'\n",
       "          + ' to learn more about interactive tables.';\n",
       "        element.innerHTML = '';\n",
       "        dataTable['output_type'] = 'display_data';\n",
       "        await google.colab.output.renderOutput(dataTable, element);\n",
       "        const docLink = document.createElement('div');\n",
       "        docLink.innerHTML = docLinkHtml;\n",
       "        element.appendChild(docLink);\n",
       "      }\n",
       "    </script>\n",
       "  </div>\n",
       "\n",
       "\n",
       "    <div id=\"df-9576a4d3-88ec-4386-8dd1-fe35be408303\">\n",
       "      <button class=\"colab-df-quickchart\" onclick=\"quickchart('df-9576a4d3-88ec-4386-8dd1-fe35be408303')\"\n",
       "                title=\"Suggest charts\"\n",
       "                style=\"display:none;\">\n",
       "\n",
       "<svg xmlns=\"http://www.w3.org/2000/svg\" height=\"24px\"viewBox=\"0 0 24 24\"\n",
       "     width=\"24px\">\n",
       "    <g>\n",
       "        <path d=\"M19 3H5c-1.1 0-2 .9-2 2v14c0 1.1.9 2 2 2h14c1.1 0 2-.9 2-2V5c0-1.1-.9-2-2-2zM9 17H7v-7h2v7zm4 0h-2V7h2v10zm4 0h-2v-4h2v4z\"/>\n",
       "    </g>\n",
       "</svg>\n",
       "      </button>\n",
       "\n",
       "<style>\n",
       "  .colab-df-quickchart {\n",
       "      --bg-color: #E8F0FE;\n",
       "      --fill-color: #1967D2;\n",
       "      --hover-bg-color: #E2EBFA;\n",
       "      --hover-fill-color: #174EA6;\n",
       "      --disabled-fill-color: #AAA;\n",
       "      --disabled-bg-color: #DDD;\n",
       "  }\n",
       "\n",
       "  [theme=dark] .colab-df-quickchart {\n",
       "      --bg-color: #3B4455;\n",
       "      --fill-color: #D2E3FC;\n",
       "      --hover-bg-color: #434B5C;\n",
       "      --hover-fill-color: #FFFFFF;\n",
       "      --disabled-bg-color: #3B4455;\n",
       "      --disabled-fill-color: #666;\n",
       "  }\n",
       "\n",
       "  .colab-df-quickchart {\n",
       "    background-color: var(--bg-color);\n",
       "    border: none;\n",
       "    border-radius: 50%;\n",
       "    cursor: pointer;\n",
       "    display: none;\n",
       "    fill: var(--fill-color);\n",
       "    height: 32px;\n",
       "    padding: 0;\n",
       "    width: 32px;\n",
       "  }\n",
       "\n",
       "  .colab-df-quickchart:hover {\n",
       "    background-color: var(--hover-bg-color);\n",
       "    box-shadow: 0 1px 2px rgba(60, 64, 67, 0.3), 0 1px 3px 1px rgba(60, 64, 67, 0.15);\n",
       "    fill: var(--button-hover-fill-color);\n",
       "  }\n",
       "\n",
       "  .colab-df-quickchart-complete:disabled,\n",
       "  .colab-df-quickchart-complete:disabled:hover {\n",
       "    background-color: var(--disabled-bg-color);\n",
       "    fill: var(--disabled-fill-color);\n",
       "    box-shadow: none;\n",
       "  }\n",
       "\n",
       "  .colab-df-spinner {\n",
       "    border: 2px solid var(--fill-color);\n",
       "    border-color: transparent;\n",
       "    border-bottom-color: var(--fill-color);\n",
       "    animation:\n",
       "      spin 1s steps(1) infinite;\n",
       "  }\n",
       "\n",
       "  @keyframes spin {\n",
       "    0% {\n",
       "      border-color: transparent;\n",
       "      border-bottom-color: var(--fill-color);\n",
       "      border-left-color: var(--fill-color);\n",
       "    }\n",
       "    20% {\n",
       "      border-color: transparent;\n",
       "      border-left-color: var(--fill-color);\n",
       "      border-top-color: var(--fill-color);\n",
       "    }\n",
       "    30% {\n",
       "      border-color: transparent;\n",
       "      border-left-color: var(--fill-color);\n",
       "      border-top-color: var(--fill-color);\n",
       "      border-right-color: var(--fill-color);\n",
       "    }\n",
       "    40% {\n",
       "      border-color: transparent;\n",
       "      border-right-color: var(--fill-color);\n",
       "      border-top-color: var(--fill-color);\n",
       "    }\n",
       "    60% {\n",
       "      border-color: transparent;\n",
       "      border-right-color: var(--fill-color);\n",
       "    }\n",
       "    80% {\n",
       "      border-color: transparent;\n",
       "      border-right-color: var(--fill-color);\n",
       "      border-bottom-color: var(--fill-color);\n",
       "    }\n",
       "    90% {\n",
       "      border-color: transparent;\n",
       "      border-bottom-color: var(--fill-color);\n",
       "    }\n",
       "  }\n",
       "</style>\n",
       "\n",
       "      <script>\n",
       "        async function quickchart(key) {\n",
       "          const quickchartButtonEl =\n",
       "            document.querySelector('#' + key + ' button');\n",
       "          quickchartButtonEl.disabled = true;  // To prevent multiple clicks.\n",
       "          quickchartButtonEl.classList.add('colab-df-spinner');\n",
       "          try {\n",
       "            const charts = await google.colab.kernel.invokeFunction(\n",
       "                'suggestCharts', [key], {});\n",
       "          } catch (error) {\n",
       "            console.error('Error during call to suggestCharts:', error);\n",
       "          }\n",
       "          quickchartButtonEl.classList.remove('colab-df-spinner');\n",
       "          quickchartButtonEl.classList.add('colab-df-quickchart-complete');\n",
       "        }\n",
       "        (() => {\n",
       "          let quickchartButtonEl =\n",
       "            document.querySelector('#df-9576a4d3-88ec-4386-8dd1-fe35be408303 button');\n",
       "          quickchartButtonEl.style.display =\n",
       "            google.colab.kernel.accessAllowed ? 'block' : 'none';\n",
       "        })();\n",
       "      </script>\n",
       "    </div>\n",
       "\n",
       "    </div>\n",
       "  </div>\n"
      ],
      "text/plain": [
       "         id     label       rfb      dataset\n",
       "0      ACAP      ACAP      ACAP  public-rfmo\n",
       "1     APFIC     APFIC     APFIC  public-rfmo\n",
       "2  BOBP-IGO  BOBP-IGO  BOBP-IGO  public-rfmo\n",
       "3   CACFISH   CACFISH   CACFISH  public-rfmo\n",
       "4    CCAMLR    CCAMLR    CCAMLR  public-rfmo"
      ]
     },
     "execution_count": 22,
     "metadata": {},
     "output_type": "execute_result"
    }
   ],
   "source": [
    "rfmo_regions_df.head()"
   ]
  }
 ],
 "metadata": {
  "colab": {
   "include_colab_link": true,
   "provenance": []
  },
  "kernelspec": {
   "display_name": "Python 3 (ipykernel)",
   "language": "python",
   "name": "python3"
  },
  "language_info": {
   "codemirror_mode": {
    "name": "ipython",
    "version": 3
   },
   "file_extension": ".py",
   "mimetype": "text/x-python",
   "name": "python",
   "nbconvert_exporter": "python",
   "pygments_lexer": "ipython3",
   "version": "3.11.11"
  }
 },
 "nbformat": 4,
 "nbformat_minor": 5
}
