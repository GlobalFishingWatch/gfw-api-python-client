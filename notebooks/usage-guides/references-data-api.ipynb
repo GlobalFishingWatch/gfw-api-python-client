{
 "cells": [
  {
   "cell_type": "markdown",
   "id": "1045e650",
   "metadata": {
    "colab_type": "text",
    "id": "view-in-github"
   },
   "source": [
    "<a href=\"https://colab.research.google.com/github/GlobalFishingWatch/gfw-api-python-client/blob/develop/notebooks/usage-guides/references-data-api.ipynb\" target=\"_parent\"><img src=\"https://colab.research.google.com/assets/colab-badge.svg\" alt=\"Open In Colab\"/></a>"
   ]
  },
  {
   "cell_type": "markdown",
   "id": "a016a41f-0625-4287-85d0-4a6646aa0ace",
   "metadata": {
    "id": "a016a41f-0625-4287-85d0-4a6646aa0ace"
   },
   "source": [
    "# Reference Data API"
   ]
  },
  {
   "cell_type": "markdown",
   "id": "5d8e4401-2090-47a0-b3e1-be4d3ba5cc00",
   "metadata": {
    "id": "5d8e4401-2090-47a0-b3e1-be4d3ba5cc00"
   },
   "source": [
    "This guide provides detailed instructions on how to use the [gfw-api-python-client](https://github.com/GlobalFishingWatch/gfw-api-python-client) to access reference data, specifically geographic regions."
   ]
  },
  {
   "cell_type": "markdown",
   "id": "c777748f-4bf0-4529-8361-46841cf4ea26",
   "metadata": {},
   "source": [
    "See the [Reference Data Caveats](https://globalfishingwatch.org/our-apis/documentation#reference-data) and [Terms of Use](https://globalfishingwatch.org/our-apis/documentation#terms-of-use) pages in the [GFW API documentation](https://globalfishingwatch.org/our-apis/documentation#introduction) for details on GFW data, API licenses, and rate limits."
   ]
  },
  {
   "cell_type": "markdown",
   "id": "a3a1d08f-5c9a-4a7d-a8ad-3f8477b8633f",
   "metadata": {
    "id": "a3a1d08f-5c9a-4a7d-a8ad-3f8477b8633f"
   },
   "source": [
    "## Prerequisites"
   ]
  },
  {
   "cell_type": "markdown",
   "id": "cda8a081-5851-4926-adc4-fe09a82b6221",
   "metadata": {
    "id": "cda8a081-5851-4926-adc4-fe09a82b6221"
   },
   "source": [
    "Before using the `gfw-api-python-client`, you need to obtain an API access token from the [Global Fishing Watch API portal](https://globalfishingwatch.org/our-apis/tokens)"
   ]
  },
  {
   "cell_type": "markdown",
   "id": "1c2c332a-f0ad-4f3a-a1e7-464676118133",
   "metadata": {
    "id": "1c2c332a-f0ad-4f3a-a1e7-464676118133"
   },
   "source": [
    "## Installation"
   ]
  },
  {
   "cell_type": "markdown",
   "id": "0b5ca4e9-9577-4b47-9c40-3ac44c80b3c0",
   "metadata": {
    "id": "0b5ca4e9-9577-4b47-9c40-3ac44c80b3c0"
   },
   "source": [
    "The `gfw-api-python-client` can be easily installed using pip:"
   ]
  },
  {
   "cell_type": "code",
   "execution_count": 1,
   "id": "9649c042-848c-45e3-9e32-91716ee7c35b",
   "metadata": {
    "id": "9649c042-848c-45e3-9e32-91716ee7c35b"
   },
   "outputs": [],
   "source": [
    "# %pip install gfw-api-python-client"
   ]
  },
  {
   "cell_type": "markdown",
   "id": "1a2c04fd-1741-49c5-a5b4-28330338066c",
   "metadata": {
    "id": "1a2c04fd-1741-49c5-a5b4-28330338066c"
   },
   "source": [
    "## Usage"
   ]
  },
  {
   "cell_type": "code",
   "execution_count": 2,
   "id": "2f5cfab3-bc98-43ef-a764-573002012108",
   "metadata": {
    "id": "2f5cfab3-bc98-43ef-a764-573002012108"
   },
   "outputs": [],
   "source": [
    "import os\n",
    "import gfwapiclient as gfw"
   ]
  },
  {
   "cell_type": "code",
   "execution_count": 3,
   "id": "6ddc43fe-5159-4d91-9bd5-38d45d5c0700",
   "metadata": {
    "id": "6ddc43fe-5159-4d91-9bd5-38d45d5c0700"
   },
   "outputs": [],
   "source": [
    "try:\n",
    "    from google.colab import userdata\n",
    "\n",
    "    access_token = userdata.get(\"GFW_API_ACCESS_TOKEN\")\n",
    "except Exception as exc:\n",
    "    access_token = os.environ.get(\"GFW_API_ACCESS_TOKEN\")\n",
    "\n",
    "access_token = access_token or \"<PASTE_YOUR_GFW_API_ACCESS_TOKEN_HERE>\""
   ]
  },
  {
   "cell_type": "code",
   "execution_count": 4,
   "id": "eb023fb5-3458-4ec2-969d-c590e8df2e99",
   "metadata": {
    "id": "eb023fb5-3458-4ec2-969d-c590e8df2e99"
   },
   "outputs": [],
   "source": [
    "gfw_client = gfw.Client(\n",
    "    access_token=access_token,\n",
    ")"
   ]
  },
  {
   "cell_type": "markdown",
   "id": "40e01c84-9a16-4129-9436-1e8fb332f56a",
   "metadata": {
    "id": "40e01c84-9a16-4129-9436-1e8fb332f56a"
   },
   "source": [
    "## Retrieving Exclusive Economic Zones (EEZs)"
   ]
  },
  {
   "cell_type": "code",
   "execution_count": 5,
   "id": "8cb9ba85-12a5-470f-a5f1-cf747004b02f",
   "metadata": {
    "id": "8cb9ba85-12a5-470f-a5f1-cf747004b02f"
   },
   "outputs": [],
   "source": [
    "eez_regions_result = await gfw_client.references.get_eez_regions()"
   ]
  },
  {
   "cell_type": "markdown",
   "id": "abb804a6-d3c9-49e3-8c40-2d5ca5bde7d1",
   "metadata": {
    "id": "abb804a6-d3c9-49e3-8c40-2d5ca5bde7d1"
   },
   "source": [
    "### Access the list of EEZ region as Pydantic models"
   ]
  },
  {
   "cell_type": "code",
   "execution_count": 6,
   "id": "4aec8cfe-02fa-4794-8c34-c203846ad511",
   "metadata": {
    "id": "4aec8cfe-02fa-4794-8c34-c203846ad511"
   },
   "outputs": [],
   "source": [
    "eez_regions_data = eez_regions_result.data()"
   ]
  },
  {
   "cell_type": "code",
   "execution_count": 7,
   "id": "b472b515-ed14-4e44-a3e2-d034b02bfb9d",
   "metadata": {
    "id": "b472b515-ed14-4e44-a3e2-d034b02bfb9d"
   },
   "outputs": [],
   "source": [
    "eez_region = eez_regions_data[-1]"
   ]
  },
  {
   "cell_type": "code",
   "execution_count": 8,
   "id": "9f3561b3-2bae-4a62-8099-7ec3f88409b5",
   "metadata": {
    "colab": {
     "base_uri": "https://localhost:8080/"
    },
    "id": "9f3561b3-2bae-4a62-8099-7ec3f88409b5",
    "outputId": "bf777351-b340-4c2a-f2ae-73fdd1cc7530"
   },
   "outputs": [
    {
     "data": {
      "text/plain": [
       "(48999, 'public-eez-areas', None)"
      ]
     },
     "execution_count": 8,
     "metadata": {},
     "output_type": "execute_result"
    }
   ],
   "source": [
    "eez_region.id, eez_region.dataset, eez_region.iso3"
   ]
  },
  {
   "cell_type": "markdown",
   "id": "7a24cee1-3799-4361-82b0-392b93109313",
   "metadata": {
    "id": "7a24cee1-3799-4361-82b0-392b93109313"
   },
   "source": [
    "### Access the EEZ regions as a DataFrame"
   ]
  },
  {
   "cell_type": "code",
   "execution_count": 9,
   "id": "bf357025-dc46-4b61-aafb-9097aacdacf6",
   "metadata": {
    "id": "bf357025-dc46-4b61-aafb-9097aacdacf6"
   },
   "outputs": [],
   "source": [
    "eez_regions_df = eez_regions_result.df()"
   ]
  },
  {
   "cell_type": "code",
   "execution_count": 10,
   "id": "3d2963b3-6ea1-489c-abdb-aad327ed4875",
   "metadata": {
    "colab": {
     "base_uri": "https://localhost:8080/",
     "height": 206
    },
    "id": "3d2963b3-6ea1-489c-abdb-aad327ed4875",
    "outputId": "2550406b-cda6-4cb1-871e-c6a71c01a3a1"
   },
   "outputs": [
    {
     "data": {
      "text/html": [
       "<div>\n",
       "<style scoped>\n",
       "    .dataframe tbody tr th:only-of-type {\n",
       "        vertical-align: middle;\n",
       "    }\n",
       "\n",
       "    .dataframe tbody tr th {\n",
       "        vertical-align: top;\n",
       "    }\n",
       "\n",
       "    .dataframe thead th {\n",
       "        text-align: right;\n",
       "    }\n",
       "</style>\n",
       "<table border=\"1\" class=\"dataframe\">\n",
       "  <thead>\n",
       "    <tr style=\"text-align: right;\">\n",
       "      <th></th>\n",
       "      <th>id</th>\n",
       "      <th>label</th>\n",
       "      <th>iso3</th>\n",
       "      <th>dataset</th>\n",
       "    </tr>\n",
       "  </thead>\n",
       "  <tbody>\n",
       "    <tr>\n",
       "      <th>0</th>\n",
       "      <td>8491</td>\n",
       "      <td>Jordanian Exclusive Economic Zone</td>\n",
       "      <td>None</td>\n",
       "      <td>public-eez-areas</td>\n",
       "    </tr>\n",
       "    <tr>\n",
       "      <th>1</th>\n",
       "      <td>8467</td>\n",
       "      <td>Uruguayan Exclusive Economic Zone</td>\n",
       "      <td>None</td>\n",
       "      <td>public-eez-areas</td>\n",
       "    </tr>\n",
       "    <tr>\n",
       "      <th>2</th>\n",
       "      <td>5683</td>\n",
       "      <td>Latvian Exclusive Economic Zone</td>\n",
       "      <td>None</td>\n",
       "      <td>public-eez-areas</td>\n",
       "    </tr>\n",
       "    <tr>\n",
       "      <th>3</th>\n",
       "      <td>48950</td>\n",
       "      <td>Overlapping claim Kuril Islands: Japan / Russia</td>\n",
       "      <td>None</td>\n",
       "      <td>public-eez-areas</td>\n",
       "    </tr>\n",
       "    <tr>\n",
       "      <th>4</th>\n",
       "      <td>8327</td>\n",
       "      <td>South Korean Exclusive Economic Zone</td>\n",
       "      <td>None</td>\n",
       "      <td>public-eez-areas</td>\n",
       "    </tr>\n",
       "  </tbody>\n",
       "</table>\n",
       "</div>"
      ],
      "text/plain": [
       "      id                                            label  iso3  \\\n",
       "0   8491                Jordanian Exclusive Economic Zone  None   \n",
       "1   8467                Uruguayan Exclusive Economic Zone  None   \n",
       "2   5683                  Latvian Exclusive Economic Zone  None   \n",
       "3  48950  Overlapping claim Kuril Islands: Japan / Russia  None   \n",
       "4   8327             South Korean Exclusive Economic Zone  None   \n",
       "\n",
       "            dataset  \n",
       "0  public-eez-areas  \n",
       "1  public-eez-areas  \n",
       "2  public-eez-areas  \n",
       "3  public-eez-areas  \n",
       "4  public-eez-areas  "
      ]
     },
     "execution_count": 10,
     "metadata": {},
     "output_type": "execute_result"
    }
   ],
   "source": [
    "eez_regions_df[[\"id\", \"label\", \"iso3\", \"dataset\"]].head()"
   ]
  },
  {
   "cell_type": "markdown",
   "id": "ce7ceffb-8ee3-4791-b279-bb6495b32078",
   "metadata": {
    "id": "ce7ceffb-8ee3-4791-b279-bb6495b32078"
   },
   "source": [
    "## Retrieving Marine Protected Areas (MPAs)"
   ]
  },
  {
   "cell_type": "code",
   "execution_count": 11,
   "id": "71915ac9-7cb4-4a11-aee6-0df2ee6f9cd5",
   "metadata": {
    "id": "71915ac9-7cb4-4a11-aee6-0df2ee6f9cd5"
   },
   "outputs": [],
   "source": [
    "mpa_regions_result = await gfw_client.references.get_mpa_regions()"
   ]
  },
  {
   "cell_type": "markdown",
   "id": "40c11613-9318-4873-8457-2fde3d566b3d",
   "metadata": {
    "id": "40c11613-9318-4873-8457-2fde3d566b3d"
   },
   "source": [
    "### Access the list of MPA region Pydantic models"
   ]
  },
  {
   "cell_type": "code",
   "execution_count": 12,
   "id": "eee11224-fde4-4273-bfa7-da0b2c4bb9a2",
   "metadata": {
    "id": "eee11224-fde4-4273-bfa7-da0b2c4bb9a2"
   },
   "outputs": [],
   "source": [
    "mpa_regions_data = mpa_regions_result.data()"
   ]
  },
  {
   "cell_type": "code",
   "execution_count": 13,
   "id": "845f42d9-1abe-404c-ae2c-8fc07579a612",
   "metadata": {
    "id": "845f42d9-1abe-404c-ae2c-8fc07579a612"
   },
   "outputs": [],
   "source": [
    "mpa_region = mpa_regions_data[-1]"
   ]
  },
  {
   "cell_type": "code",
   "execution_count": 14,
   "id": "c8254eff-97da-4b10-b48d-bb8eea5845d8",
   "metadata": {
    "colab": {
     "base_uri": "https://localhost:8080/"
    },
    "id": "c8254eff-97da-4b10-b48d-bb8eea5845d8",
    "outputId": "508d80b4-3179-4e32-a92a-cd49d91364c1"
   },
   "outputs": [
    {
     "data": {
      "text/plain": [
       "('555790807', 'public-mpa-all')"
      ]
     },
     "execution_count": 14,
     "metadata": {},
     "output_type": "execute_result"
    }
   ],
   "source": [
    "mpa_region.id, mpa_region.dataset"
   ]
  },
  {
   "cell_type": "markdown",
   "id": "aa98cd32-a5e0-45bd-a69a-4ca446e8ea9b",
   "metadata": {
    "id": "aa98cd32-a5e0-45bd-a69a-4ca446e8ea9b"
   },
   "source": [
    "### Access the MPA regions as a DataFrame"
   ]
  },
  {
   "cell_type": "code",
   "execution_count": 15,
   "id": "cb8f7439-5cf8-4ab9-88e1-2a84795adbb2",
   "metadata": {
    "id": "cb8f7439-5cf8-4ab9-88e1-2a84795adbb2"
   },
   "outputs": [],
   "source": [
    "mpa_regions_df = mpa_regions_result.df()"
   ]
  },
  {
   "cell_type": "code",
   "execution_count": 16,
   "id": "0dc3268f-e099-4fe2-821b-f17d579f9d68",
   "metadata": {
    "colab": {
     "base_uri": "https://localhost:8080/",
     "height": 206
    },
    "id": "0dc3268f-e099-4fe2-821b-f17d579f9d68",
    "outputId": "10f1d69f-f59f-4c46-9bb9-352645456240"
   },
   "outputs": [
    {
     "data": {
      "text/html": [
       "<div>\n",
       "<style scoped>\n",
       "    .dataframe tbody tr th:only-of-type {\n",
       "        vertical-align: middle;\n",
       "    }\n",
       "\n",
       "    .dataframe tbody tr th {\n",
       "        vertical-align: top;\n",
       "    }\n",
       "\n",
       "    .dataframe thead th {\n",
       "        text-align: right;\n",
       "    }\n",
       "</style>\n",
       "<table border=\"1\" class=\"dataframe\">\n",
       "  <thead>\n",
       "    <tr style=\"text-align: right;\">\n",
       "      <th></th>\n",
       "      <th>id</th>\n",
       "      <th>label</th>\n",
       "      <th>name</th>\n",
       "      <th>dataset</th>\n",
       "    </tr>\n",
       "  </thead>\n",
       "  <tbody>\n",
       "    <tr>\n",
       "      <th>0</th>\n",
       "      <td>1</td>\n",
       "      <td>Diamond Reef and Salt Fish Tail Reef - Marine ...</td>\n",
       "      <td>None</td>\n",
       "      <td>public-mpa-all</td>\n",
       "    </tr>\n",
       "    <tr>\n",
       "      <th>1</th>\n",
       "      <td>2</td>\n",
       "      <td>Palaster Reef - Marine Reserve</td>\n",
       "      <td>None</td>\n",
       "      <td>public-mpa-all</td>\n",
       "    </tr>\n",
       "    <tr>\n",
       "      <th>2</th>\n",
       "      <td>27</td>\n",
       "      <td>Folkstone - Marine Reserve</td>\n",
       "      <td>None</td>\n",
       "      <td>public-mpa-all</td>\n",
       "    </tr>\n",
       "    <tr>\n",
       "      <th>3</th>\n",
       "      <td>46</td>\n",
       "      <td>Reserva Biológica Atol Das Rocas - Reserva Bio...</td>\n",
       "      <td>None</td>\n",
       "      <td>public-mpa-all</td>\n",
       "    </tr>\n",
       "    <tr>\n",
       "      <th>4</th>\n",
       "      <td>57</td>\n",
       "      <td>Parque Nacional Do Cabo Orange - Parque</td>\n",
       "      <td>None</td>\n",
       "      <td>public-mpa-all</td>\n",
       "    </tr>\n",
       "  </tbody>\n",
       "</table>\n",
       "</div>"
      ],
      "text/plain": [
       "   id                                              label  name         dataset\n",
       "0   1  Diamond Reef and Salt Fish Tail Reef - Marine ...  None  public-mpa-all\n",
       "1   2                     Palaster Reef - Marine Reserve  None  public-mpa-all\n",
       "2  27                         Folkstone - Marine Reserve  None  public-mpa-all\n",
       "3  46  Reserva Biológica Atol Das Rocas - Reserva Bio...  None  public-mpa-all\n",
       "4  57            Parque Nacional Do Cabo Orange - Parque  None  public-mpa-all"
      ]
     },
     "execution_count": 16,
     "metadata": {},
     "output_type": "execute_result"
    }
   ],
   "source": [
    "mpa_regions_df.head()"
   ]
  },
  {
   "cell_type": "markdown",
   "id": "a4359a04-5e07-4bac-bf46-145461bc9a5c",
   "metadata": {
    "id": "a4359a04-5e07-4bac-bf46-145461bc9a5c"
   },
   "source": [
    "## Retrieving Regional Fisheries Management Organizations (RFMOs)"
   ]
  },
  {
   "cell_type": "code",
   "execution_count": 17,
   "id": "ac6c6784-e839-44ed-8b47-50c9d7f0a68a",
   "metadata": {
    "id": "ac6c6784-e839-44ed-8b47-50c9d7f0a68a"
   },
   "outputs": [],
   "source": [
    "rfmo_regions_result = await gfw_client.references.get_rfmo_regions()"
   ]
  },
  {
   "cell_type": "markdown",
   "id": "12c04c51-ab30-40a7-a1fe-b277990f0426",
   "metadata": {
    "id": "12c04c51-ab30-40a7-a1fe-b277990f0426"
   },
   "source": [
    "### Access the list of RFMO region as Pydantic models"
   ]
  },
  {
   "cell_type": "code",
   "execution_count": 18,
   "id": "377f6c90-275f-4dbb-81d2-d1dd43e65fdd",
   "metadata": {
    "id": "377f6c90-275f-4dbb-81d2-d1dd43e65fdd"
   },
   "outputs": [],
   "source": [
    "rfmo_regions_data = rfmo_regions_result.data()"
   ]
  },
  {
   "cell_type": "code",
   "execution_count": 19,
   "id": "69605d0f-c97f-4e49-a4f5-d55121e9533a",
   "metadata": {
    "id": "69605d0f-c97f-4e49-a4f5-d55121e9533a"
   },
   "outputs": [],
   "source": [
    "rfmo_region = rfmo_regions_data[-1]"
   ]
  },
  {
   "cell_type": "code",
   "execution_count": 20,
   "id": "281fe6ca-f993-4158-a225-930173c52550",
   "metadata": {
    "colab": {
     "base_uri": "https://localhost:8080/"
    },
    "id": "281fe6ca-f993-4158-a225-930173c52550",
    "outputId": "b52bc678-ff7b-42ea-8715-0a62f9e27772"
   },
   "outputs": [
    {
     "data": {
      "text/plain": [
       "('BOBP-IGO', 'public-rfmo')"
      ]
     },
     "execution_count": 20,
     "metadata": {},
     "output_type": "execute_result"
    }
   ],
   "source": [
    "rfmo_region.id, rfmo_region.dataset"
   ]
  },
  {
   "cell_type": "markdown",
   "id": "b54f3fbe-2644-4284-9b6c-ceecefe9f0b0",
   "metadata": {
    "id": "b54f3fbe-2644-4284-9b6c-ceecefe9f0b0"
   },
   "source": [
    "### Access the RFMO regions as a DataFrame"
   ]
  },
  {
   "cell_type": "code",
   "execution_count": 21,
   "id": "cf0c95fd-911d-4c0a-a663-5430a9c3d073",
   "metadata": {
    "id": "cf0c95fd-911d-4c0a-a663-5430a9c3d073"
   },
   "outputs": [],
   "source": [
    "rfmo_regions_df = rfmo_regions_result.df()"
   ]
  },
  {
   "cell_type": "code",
   "execution_count": 22,
   "id": "59d334e4-6b8a-469c-b401-72613b42bd68",
   "metadata": {
    "colab": {
     "base_uri": "https://localhost:8080/",
     "height": 206
    },
    "id": "59d334e4-6b8a-469c-b401-72613b42bd68",
    "outputId": "cddcae15-c66b-4456-e853-00cfca03d7af"
   },
   "outputs": [
    {
     "data": {
      "text/html": [
       "<div>\n",
       "<style scoped>\n",
       "    .dataframe tbody tr th:only-of-type {\n",
       "        vertical-align: middle;\n",
       "    }\n",
       "\n",
       "    .dataframe tbody tr th {\n",
       "        vertical-align: top;\n",
       "    }\n",
       "\n",
       "    .dataframe thead th {\n",
       "        text-align: right;\n",
       "    }\n",
       "</style>\n",
       "<table border=\"1\" class=\"dataframe\">\n",
       "  <thead>\n",
       "    <tr style=\"text-align: right;\">\n",
       "      <th></th>\n",
       "      <th>id</th>\n",
       "      <th>label</th>\n",
       "      <th>rfb</th>\n",
       "      <th>dataset</th>\n",
       "      <th>ID</th>\n",
       "    </tr>\n",
       "  </thead>\n",
       "  <tbody>\n",
       "    <tr>\n",
       "      <th>0</th>\n",
       "      <td>LTA</td>\n",
       "      <td>LTA</td>\n",
       "      <td>None</td>\n",
       "      <td>public-rfmo</td>\n",
       "      <td>LTA</td>\n",
       "    </tr>\n",
       "    <tr>\n",
       "      <th>1</th>\n",
       "      <td>SEAFDEC</td>\n",
       "      <td>SEAFDEC</td>\n",
       "      <td>None</td>\n",
       "      <td>public-rfmo</td>\n",
       "      <td>SEAFDEC</td>\n",
       "    </tr>\n",
       "    <tr>\n",
       "      <th>2</th>\n",
       "      <td>IATTC</td>\n",
       "      <td>IATTC</td>\n",
       "      <td>None</td>\n",
       "      <td>public-rfmo</td>\n",
       "      <td>IATTC</td>\n",
       "    </tr>\n",
       "    <tr>\n",
       "      <th>3</th>\n",
       "      <td>APFIC</td>\n",
       "      <td>APFIC</td>\n",
       "      <td>None</td>\n",
       "      <td>public-rfmo</td>\n",
       "      <td>APFIC</td>\n",
       "    </tr>\n",
       "    <tr>\n",
       "      <th>4</th>\n",
       "      <td>IPHC</td>\n",
       "      <td>IPHC</td>\n",
       "      <td>None</td>\n",
       "      <td>public-rfmo</td>\n",
       "      <td>IPHC</td>\n",
       "    </tr>\n",
       "  </tbody>\n",
       "</table>\n",
       "</div>"
      ],
      "text/plain": [
       "        id    label   rfb      dataset       ID\n",
       "0      LTA      LTA  None  public-rfmo      LTA\n",
       "1  SEAFDEC  SEAFDEC  None  public-rfmo  SEAFDEC\n",
       "2    IATTC    IATTC  None  public-rfmo    IATTC\n",
       "3    APFIC    APFIC  None  public-rfmo    APFIC\n",
       "4     IPHC     IPHC  None  public-rfmo     IPHC"
      ]
     },
     "execution_count": 22,
     "metadata": {},
     "output_type": "execute_result"
    }
   ],
   "source": [
    "rfmo_regions_df.head()"
   ]
  }
 ],
 "metadata": {
  "colab": {
   "include_colab_link": true,
   "provenance": []
  },
  "kernelspec": {
   "display_name": "Python 3 (ipykernel)",
   "language": "python",
   "name": "python3"
  },
  "language_info": {
   "codemirror_mode": {
    "name": "ipython",
    "version": 3
   },
   "file_extension": ".py",
   "mimetype": "text/x-python",
   "name": "python",
   "nbconvert_exporter": "python",
   "pygments_lexer": "ipython3",
   "version": "3.11.11"
  }
 },
 "nbformat": 4,
 "nbformat_minor": 5
}
