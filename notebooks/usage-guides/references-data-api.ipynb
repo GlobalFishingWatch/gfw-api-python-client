{
 "cells": [
  {
   "cell_type": "markdown",
   "id": "a016a41f-0625-4287-85d0-4a6646aa0ace",
   "metadata": {},
   "source": [
    "# Reference Data API"
   ]
  },
  {
   "cell_type": "markdown",
   "id": "5d8e4401-2090-47a0-b3e1-be4d3ba5cc00",
   "metadata": {},
   "source": [
    "This guide provides detailed instructions on how to use the [gfw-api-python-client](https://github.com/GlobalFishingWatch/gfw-api-python-client) to access reference data, specifically geographic regions."
   ]
  },
  {
   "cell_type": "markdown",
   "id": "a3a1d08f-5c9a-4a7d-a8ad-3f8477b8633f",
   "metadata": {},
   "source": [
    "## Prerequisites"
   ]
  },
  {
   "cell_type": "markdown",
   "id": "cda8a081-5851-4926-adc4-fe09a82b6221",
   "metadata": {},
   "source": [
    "Before using the `gfw-api-python-client`, you need to obtain an API access token from the [Global Fishing Watch API portal](https://globalfishingwatch.org/our-apis/tokens)"
   ]
  },
  {
   "cell_type": "markdown",
   "id": "1c2c332a-f0ad-4f3a-a1e7-464676118133",
   "metadata": {},
   "source": [
    "## Installation"
   ]
  },
  {
   "cell_type": "markdown",
   "id": "0b5ca4e9-9577-4b47-9c40-3ac44c80b3c0",
   "metadata": {},
   "source": [
    "The `gfw-api-python-client` can be easily installed using pip:"
   ]
  },
  {
   "cell_type": "code",
   "execution_count": 1,
   "id": "9649c042-848c-45e3-9e32-91716ee7c35b",
   "metadata": {},
   "outputs": [],
   "source": [
    "# %pip install gfw-api-python-client"
   ]
  },
  {
   "cell_type": "markdown",
   "id": "1a2c04fd-1741-49c5-a5b4-28330338066c",
   "metadata": {},
   "source": [
    "## Usage"
   ]
  },
  {
   "cell_type": "code",
   "execution_count": 2,
   "id": "2f5cfab3-bc98-43ef-a764-573002012108",
   "metadata": {},
   "outputs": [],
   "source": [
    "import os\n",
    "import gfwapiclient as gfw"
   ]
  },
  {
   "cell_type": "code",
   "execution_count": 3,
   "id": "6ddc43fe-5159-4d91-9bd5-38d45d5c0700",
   "metadata": {},
   "outputs": [],
   "source": [
    "access_token = os.environ.get(\n",
    "    \"GFW_API_ACCESS_TOKEN\",\n",
    "    \"<OR_PASTE_YOUR_GFW_API_ACCESS_TOKEN_HERE>\",\n",
    ")"
   ]
  },
  {
   "cell_type": "code",
   "execution_count": 4,
   "id": "eb023fb5-3458-4ec2-969d-c590e8df2e99",
   "metadata": {},
   "outputs": [],
   "source": [
    "gfw_client = gfw.Client(\n",
    "    access_token=access_token,\n",
    ")"
   ]
  },
  {
   "cell_type": "markdown",
   "id": "40e01c84-9a16-4129-9436-1e8fb332f56a",
   "metadata": {},
   "source": [
    "## Retrieving Exclusive Economic Zones (EEZs)"
   ]
  },
  {
   "cell_type": "code",
   "execution_count": 5,
   "id": "8cb9ba85-12a5-470f-a5f1-cf747004b02f",
   "metadata": {},
   "outputs": [],
   "source": [
    "eez_regions_result = await gfw_client.references.get_eez_regions()"
   ]
  },
  {
   "cell_type": "markdown",
   "id": "abb804a6-d3c9-49e3-8c40-2d5ca5bde7d1",
   "metadata": {},
   "source": [
    "### Access the list of EEZ region as Pydantic models"
   ]
  },
  {
   "cell_type": "code",
   "execution_count": 6,
   "id": "4aec8cfe-02fa-4794-8c34-c203846ad511",
   "metadata": {},
   "outputs": [],
   "source": [
    "eez_regions_data = eez_regions_result.data()"
   ]
  },
  {
   "cell_type": "code",
   "execution_count": 7,
   "id": "b472b515-ed14-4e44-a3e2-d034b02bfb9d",
   "metadata": {},
   "outputs": [],
   "source": [
    "eez_region = eez_regions_data[-1]"
   ]
  },
  {
   "cell_type": "code",
   "execution_count": 8,
   "id": "9f3561b3-2bae-4a62-8099-7ec3f88409b5",
   "metadata": {},
   "outputs": [
    {
     "data": {
      "text/plain": [
       "(26523, 'public-eez-areas', 'TKM')"
      ]
     },
     "execution_count": 8,
     "metadata": {},
     "output_type": "execute_result"
    }
   ],
   "source": [
    "eez_region.id, eez_region.dataset, eez_region.iso3"
   ]
  },
  {
   "cell_type": "markdown",
   "id": "7a24cee1-3799-4361-82b0-392b93109313",
   "metadata": {},
   "source": [
    "### Access the EEZ regions as a DataFrame"
   ]
  },
  {
   "cell_type": "code",
   "execution_count": 9,
   "id": "bf357025-dc46-4b61-aafb-9097aacdacf6",
   "metadata": {},
   "outputs": [],
   "source": [
    "eez_regions_df = eez_regions_result.df()"
   ]
  },
  {
   "cell_type": "code",
   "execution_count": 10,
   "id": "3d2963b3-6ea1-489c-abdb-aad327ed4875",
   "metadata": {},
   "outputs": [
    {
     "data": {
      "text/html": [
       "<div>\n",
       "<style scoped>\n",
       "    .dataframe tbody tr th:only-of-type {\n",
       "        vertical-align: middle;\n",
       "    }\n",
       "\n",
       "    .dataframe tbody tr th {\n",
       "        vertical-align: top;\n",
       "    }\n",
       "\n",
       "    .dataframe thead th {\n",
       "        text-align: right;\n",
       "    }\n",
       "</style>\n",
       "<table border=\"1\" class=\"dataframe\">\n",
       "  <thead>\n",
       "    <tr style=\"text-align: right;\">\n",
       "      <th></th>\n",
       "      <th>id</th>\n",
       "      <th>label</th>\n",
       "      <th>iso3</th>\n",
       "      <th>dataset</th>\n",
       "    </tr>\n",
       "  </thead>\n",
       "  <tbody>\n",
       "    <tr>\n",
       "      <th>0</th>\n",
       "      <td>5675.0</td>\n",
       "      <td>Estonia</td>\n",
       "      <td>EST</td>\n",
       "      <td>public-eez-areas</td>\n",
       "    </tr>\n",
       "    <tr>\n",
       "      <th>1</th>\n",
       "      <td>48944.0</td>\n",
       "      <td>Mayotte</td>\n",
       "      <td>FRA</td>\n",
       "      <td>public-eez-areas</td>\n",
       "    </tr>\n",
       "    <tr>\n",
       "      <th>2</th>\n",
       "      <td>50170.0</td>\n",
       "      <td>Overlapping claim Qatar / Saudi Arabia / Unite...</td>\n",
       "      <td>QAT</td>\n",
       "      <td>public-eez-areas</td>\n",
       "    </tr>\n",
       "    <tr>\n",
       "      <th>3</th>\n",
       "      <td>8475.0</td>\n",
       "      <td>Cameroon</td>\n",
       "      <td>CMR</td>\n",
       "      <td>public-eez-areas</td>\n",
       "    </tr>\n",
       "    <tr>\n",
       "      <th>4</th>\n",
       "      <td>5676.0</td>\n",
       "      <td>Finland</td>\n",
       "      <td>FIN</td>\n",
       "      <td>public-eez-areas</td>\n",
       "    </tr>\n",
       "  </tbody>\n",
       "</table>\n",
       "</div>"
      ],
      "text/plain": [
       "        id                                              label iso3  \\\n",
       "0   5675.0                                            Estonia  EST   \n",
       "1  48944.0                                            Mayotte  FRA   \n",
       "2  50170.0  Overlapping claim Qatar / Saudi Arabia / Unite...  QAT   \n",
       "3   8475.0                                           Cameroon  CMR   \n",
       "4   5676.0                                            Finland  FIN   \n",
       "\n",
       "            dataset  \n",
       "0  public-eez-areas  \n",
       "1  public-eez-areas  \n",
       "2  public-eez-areas  \n",
       "3  public-eez-areas  \n",
       "4  public-eez-areas  "
      ]
     },
     "execution_count": 10,
     "metadata": {},
     "output_type": "execute_result"
    }
   ],
   "source": [
    "eez_regions_df.head()"
   ]
  },
  {
   "cell_type": "markdown",
   "id": "ce7ceffb-8ee3-4791-b279-bb6495b32078",
   "metadata": {},
   "source": [
    "## Retrieving Marine Protected Areas (MPAs)"
   ]
  },
  {
   "cell_type": "code",
   "execution_count": 11,
   "id": "71915ac9-7cb4-4a11-aee6-0df2ee6f9cd5",
   "metadata": {},
   "outputs": [],
   "source": [
    "mpa_regions_result = await gfw_client.references.get_mpa_regions()"
   ]
  },
  {
   "cell_type": "markdown",
   "id": "40c11613-9318-4873-8457-2fde3d566b3d",
   "metadata": {},
   "source": [
    "### Access the list of MPA region Pydantic models"
   ]
  },
  {
   "cell_type": "code",
   "execution_count": 12,
   "id": "eee11224-fde4-4273-bfa7-da0b2c4bb9a2",
   "metadata": {},
   "outputs": [],
   "source": [
    "mpa_regions_data = mpa_regions_result.data()"
   ]
  },
  {
   "cell_type": "code",
   "execution_count": 13,
   "id": "845f42d9-1abe-404c-ae2c-8fc07579a612",
   "metadata": {},
   "outputs": [],
   "source": [
    "mpa_region = mpa_regions_data[-1]"
   ]
  },
  {
   "cell_type": "code",
   "execution_count": 14,
   "id": "c8254eff-97da-4b10-b48d-bb8eea5845d8",
   "metadata": {},
   "outputs": [
    {
     "data": {
      "text/plain": [
       "('555790281', 'public-mpa-all')"
      ]
     },
     "execution_count": 14,
     "metadata": {},
     "output_type": "execute_result"
    }
   ],
   "source": [
    "mpa_region.id, mpa_region.dataset"
   ]
  },
  {
   "cell_type": "markdown",
   "id": "aa98cd32-a5e0-45bd-a69a-4ca446e8ea9b",
   "metadata": {},
   "source": [
    "### Access the MPA regions as a DataFrame"
   ]
  },
  {
   "cell_type": "code",
   "execution_count": 15,
   "id": "cb8f7439-5cf8-4ab9-88e1-2a84795adbb2",
   "metadata": {},
   "outputs": [],
   "source": [
    "mpa_regions_df = mpa_regions_result.df()"
   ]
  },
  {
   "cell_type": "code",
   "execution_count": 16,
   "id": "0dc3268f-e099-4fe2-821b-f17d579f9d68",
   "metadata": {},
   "outputs": [
    {
     "data": {
      "text/html": [
       "<div>\n",
       "<style scoped>\n",
       "    .dataframe tbody tr th:only-of-type {\n",
       "        vertical-align: middle;\n",
       "    }\n",
       "\n",
       "    .dataframe tbody tr th {\n",
       "        vertical-align: top;\n",
       "    }\n",
       "\n",
       "    .dataframe thead th {\n",
       "        text-align: right;\n",
       "    }\n",
       "</style>\n",
       "<table border=\"1\" class=\"dataframe\">\n",
       "  <thead>\n",
       "    <tr style=\"text-align: right;\">\n",
       "      <th></th>\n",
       "      <th>id</th>\n",
       "      <th>label</th>\n",
       "      <th>name</th>\n",
       "      <th>dataset</th>\n",
       "    </tr>\n",
       "  </thead>\n",
       "  <tbody>\n",
       "    <tr>\n",
       "      <th>0</th>\n",
       "      <td>1</td>\n",
       "      <td>Diamond Reef and Salt Fish Tail Reef - Marine ...</td>\n",
       "      <td>Diamond Reef and Salt Fish Tail Reef</td>\n",
       "      <td>public-mpa-all</td>\n",
       "    </tr>\n",
       "    <tr>\n",
       "      <th>1</th>\n",
       "      <td>2</td>\n",
       "      <td>Palaster Reef - Marine Reserve</td>\n",
       "      <td>Palaster Reef</td>\n",
       "      <td>public-mpa-all</td>\n",
       "    </tr>\n",
       "    <tr>\n",
       "      <th>2</th>\n",
       "      <td>27</td>\n",
       "      <td>Folkstone - Marine Reserve</td>\n",
       "      <td>Folkstone</td>\n",
       "      <td>public-mpa-all</td>\n",
       "    </tr>\n",
       "    <tr>\n",
       "      <th>3</th>\n",
       "      <td>46</td>\n",
       "      <td>Reserva Biológica Atol Das Rocas - Reserva Bio...</td>\n",
       "      <td>Reserva Biológica Atol Das Rocas</td>\n",
       "      <td>public-mpa-all</td>\n",
       "    </tr>\n",
       "    <tr>\n",
       "      <th>4</th>\n",
       "      <td>57</td>\n",
       "      <td>Parque Nacional Do Cabo Orange - Parque</td>\n",
       "      <td>Parque Nacional Do Cabo Orange</td>\n",
       "      <td>public-mpa-all</td>\n",
       "    </tr>\n",
       "  </tbody>\n",
       "</table>\n",
       "</div>"
      ],
      "text/plain": [
       "   id                                              label  \\\n",
       "0   1  Diamond Reef and Salt Fish Tail Reef - Marine ...   \n",
       "1   2                     Palaster Reef - Marine Reserve   \n",
       "2  27                         Folkstone - Marine Reserve   \n",
       "3  46  Reserva Biológica Atol Das Rocas - Reserva Bio...   \n",
       "4  57            Parque Nacional Do Cabo Orange - Parque   \n",
       "\n",
       "                                   name         dataset  \n",
       "0  Diamond Reef and Salt Fish Tail Reef  public-mpa-all  \n",
       "1                         Palaster Reef  public-mpa-all  \n",
       "2                             Folkstone  public-mpa-all  \n",
       "3      Reserva Biológica Atol Das Rocas  public-mpa-all  \n",
       "4        Parque Nacional Do Cabo Orange  public-mpa-all  "
      ]
     },
     "execution_count": 16,
     "metadata": {},
     "output_type": "execute_result"
    }
   ],
   "source": [
    "mpa_regions_df.head()"
   ]
  },
  {
   "cell_type": "markdown",
   "id": "a4359a04-5e07-4bac-bf46-145461bc9a5c",
   "metadata": {},
   "source": [
    "## Retrieving Regional Fisheries Management Organizations (RFMOs)"
   ]
  },
  {
   "cell_type": "code",
   "execution_count": 17,
   "id": "ac6c6784-e839-44ed-8b47-50c9d7f0a68a",
   "metadata": {},
   "outputs": [],
   "source": [
    "rfmo_regions_result = await gfw_client.references.get_rfmo_regions()"
   ]
  },
  {
   "cell_type": "markdown",
   "id": "12c04c51-ab30-40a7-a1fe-b277990f0426",
   "metadata": {},
   "source": [
    "### Access the list of RFMO region as Pydantic models"
   ]
  },
  {
   "cell_type": "code",
   "execution_count": 18,
   "id": "377f6c90-275f-4dbb-81d2-d1dd43e65fdd",
   "metadata": {},
   "outputs": [],
   "source": [
    "rfmo_regions_data = rfmo_regions_result.data()"
   ]
  },
  {
   "cell_type": "code",
   "execution_count": 19,
   "id": "69605d0f-c97f-4e49-a4f5-d55121e9533a",
   "metadata": {},
   "outputs": [],
   "source": [
    "rfmo_region = rfmo_regions_data[-1]"
   ]
  },
  {
   "cell_type": "code",
   "execution_count": 20,
   "id": "281fe6ca-f993-4158-a225-930173c52550",
   "metadata": {},
   "outputs": [
    {
     "data": {
      "text/plain": [
       "('WCPFC', 'public-rfmo')"
      ]
     },
     "execution_count": 20,
     "metadata": {},
     "output_type": "execute_result"
    }
   ],
   "source": [
    "rfmo_region.id, rfmo_region.dataset"
   ]
  },
  {
   "cell_type": "markdown",
   "id": "b54f3fbe-2644-4284-9b6c-ceecefe9f0b0",
   "metadata": {},
   "source": [
    "### Access the RFMO regions as a DataFrame"
   ]
  },
  {
   "cell_type": "code",
   "execution_count": 21,
   "id": "cf0c95fd-911d-4c0a-a663-5430a9c3d073",
   "metadata": {},
   "outputs": [],
   "source": [
    "rfmo_regions_df = rfmo_regions_result.df()"
   ]
  },
  {
   "cell_type": "code",
   "execution_count": 22,
   "id": "59d334e4-6b8a-469c-b401-72613b42bd68",
   "metadata": {},
   "outputs": [
    {
     "data": {
      "text/html": [
       "<div>\n",
       "<style scoped>\n",
       "    .dataframe tbody tr th:only-of-type {\n",
       "        vertical-align: middle;\n",
       "    }\n",
       "\n",
       "    .dataframe tbody tr th {\n",
       "        vertical-align: top;\n",
       "    }\n",
       "\n",
       "    .dataframe thead th {\n",
       "        text-align: right;\n",
       "    }\n",
       "</style>\n",
       "<table border=\"1\" class=\"dataframe\">\n",
       "  <thead>\n",
       "    <tr style=\"text-align: right;\">\n",
       "      <th></th>\n",
       "      <th>id</th>\n",
       "      <th>label</th>\n",
       "      <th>rfb</th>\n",
       "      <th>dataset</th>\n",
       "    </tr>\n",
       "  </thead>\n",
       "  <tbody>\n",
       "    <tr>\n",
       "      <th>0</th>\n",
       "      <td>ACAP</td>\n",
       "      <td>ACAP</td>\n",
       "      <td>ACAP</td>\n",
       "      <td>public-rfmo</td>\n",
       "    </tr>\n",
       "    <tr>\n",
       "      <th>1</th>\n",
       "      <td>APFIC</td>\n",
       "      <td>APFIC</td>\n",
       "      <td>APFIC</td>\n",
       "      <td>public-rfmo</td>\n",
       "    </tr>\n",
       "    <tr>\n",
       "      <th>2</th>\n",
       "      <td>BOBP-IGO</td>\n",
       "      <td>BOBP-IGO</td>\n",
       "      <td>BOBP-IGO</td>\n",
       "      <td>public-rfmo</td>\n",
       "    </tr>\n",
       "    <tr>\n",
       "      <th>3</th>\n",
       "      <td>CACFISH</td>\n",
       "      <td>CACFISH</td>\n",
       "      <td>CACFISH</td>\n",
       "      <td>public-rfmo</td>\n",
       "    </tr>\n",
       "    <tr>\n",
       "      <th>4</th>\n",
       "      <td>CCAMLR</td>\n",
       "      <td>CCAMLR</td>\n",
       "      <td>CCAMLR</td>\n",
       "      <td>public-rfmo</td>\n",
       "    </tr>\n",
       "  </tbody>\n",
       "</table>\n",
       "</div>"
      ],
      "text/plain": [
       "         id     label       rfb      dataset\n",
       "0      ACAP      ACAP      ACAP  public-rfmo\n",
       "1     APFIC     APFIC     APFIC  public-rfmo\n",
       "2  BOBP-IGO  BOBP-IGO  BOBP-IGO  public-rfmo\n",
       "3   CACFISH   CACFISH   CACFISH  public-rfmo\n",
       "4    CCAMLR    CCAMLR    CCAMLR  public-rfmo"
      ]
     },
     "execution_count": 22,
     "metadata": {},
     "output_type": "execute_result"
    }
   ],
   "source": [
    "rfmo_regions_df.head()"
   ]
  }
 ],
 "metadata": {
  "kernelspec": {
   "display_name": "Python 3 (ipykernel)",
   "language": "python",
   "name": "python3"
  },
  "language_info": {
   "codemirror_mode": {
    "name": "ipython",
    "version": 3
   },
   "file_extension": ".py",
   "mimetype": "text/x-python",
   "name": "python",
   "nbconvert_exporter": "python",
   "pygments_lexer": "ipython3",
   "version": "3.12.8"
  }
 },
 "nbformat": 4,
 "nbformat_minor": 5
}
