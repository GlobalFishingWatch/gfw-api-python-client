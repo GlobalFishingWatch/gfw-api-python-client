{
 "cells": [
  {
   "cell_type": "markdown",
   "id": "6afd5d12",
   "metadata": {
    "colab_type": "text",
    "id": "view-in-github"
   },
   "source": [
    "<a href=\"https://colab.research.google.com/github/GlobalFishingWatch/gfw-api-python-client/blob/develop/notebooks/getting-started.ipynb\" target=\"_parent\"><img src=\"https://colab.research.google.com/assets/colab-badge.svg\" alt=\"Open In Colab\"/></a>"
   ]
  },
  {
   "cell_type": "markdown",
   "id": "b4349a4b-5a42-4ba4-b925-63a47cc316e7",
   "metadata": {
    "id": "b4349a4b-5a42-4ba4-b925-63a47cc316e7"
   },
   "source": [
    "# Getting Started"
   ]
  },
  {
   "cell_type": "markdown",
   "id": "06dd3f91-019b-4f2f-9497-296d1e3dd49f",
   "metadata": {
    "id": "06dd3f91-019b-4f2f-9497-296d1e3dd49f"
   },
   "source": [
    "This guide introduces you to the basics of using the [gfw-api-python-client](https://github.com/GlobalFishingWatch/gfw-api-python-client)."
   ]
  },
  {
   "cell_type": "markdown",
   "id": "768aa67a-2560-4f49-9df0-d63636881735",
   "metadata": {
    "id": "768aa67a-2560-4f49-9df0-d63636881735"
   },
   "source": [
    "## Prerequisites"
   ]
  },
  {
   "cell_type": "markdown",
   "id": "7523e57e-6439-43cb-ae85-2bf789462453",
   "metadata": {
    "id": "7523e57e-6439-43cb-ae85-2bf789462453"
   },
   "source": [
    "Before using the `gfw-api-python-client`, you need to obtain an API access token from the [Global Fishing Watch API portal](https://globalfishingwatch.org/our-apis/tokens)"
   ]
  },
  {
   "cell_type": "markdown",
   "id": "3dbefc0c-6411-4894-896c-99619dbcde19",
   "metadata": {
    "id": "3dbefc0c-6411-4894-896c-99619dbcde19"
   },
   "source": [
    "## Installation"
   ]
  },
  {
   "cell_type": "markdown",
   "id": "0bc4eda2-c25f-48ca-a61c-3623b48fbd4d",
   "metadata": {
    "id": "0bc4eda2-c25f-48ca-a61c-3623b48fbd4d"
   },
   "source": [
    "The `gfw-api-python-client` can be easily installed using pip:"
   ]
  },
  {
   "cell_type": "code",
   "execution_count": 1,
   "id": "4d478afa-88d3-45ea-ba3d-c777c4f4fc5d",
   "metadata": {
    "id": "4d478afa-88d3-45ea-ba3d-c777c4f4fc5d"
   },
   "outputs": [],
   "source": [
    "# %pip install gfw-api-python-client"
   ]
  },
  {
   "cell_type": "markdown",
   "id": "35896a4c-e242-42a3-a6e0-b5a62aa64674",
   "metadata": {
    "id": "35896a4c-e242-42a3-a6e0-b5a62aa64674"
   },
   "source": [
    "## Usage"
   ]
  },
  {
   "cell_type": "markdown",
   "id": "741ac12c-f34f-4e34-ab15-55f5e783c30c",
   "metadata": {
    "id": "741ac12c-f34f-4e34-ab15-55f5e783c30c"
   },
   "source": [
    "Import and use `gfw-api-python-client` in your Python codes"
   ]
  },
  {
   "cell_type": "code",
   "execution_count": 2,
   "id": "57237e1b-1b00-4ae2-bdbf-4d04904c2d47",
   "metadata": {
    "id": "57237e1b-1b00-4ae2-bdbf-4d04904c2d47"
   },
   "outputs": [],
   "source": [
    "import os\n",
    "import gfwapiclient as gfw"
   ]
  },
  {
   "cell_type": "code",
   "execution_count": 3,
   "id": "e423494e-0a9b-4c52-b3c2-e40e1c492909",
   "metadata": {
    "id": "e423494e-0a9b-4c52-b3c2-e40e1c492909"
   },
   "outputs": [],
   "source": [
    "try:\n",
    "    from google.colab import userdata\n",
    "\n",
    "    access_token = userdata.get(\"GFW_API_ACCESS_TOKEN\")\n",
    "except Exception as exc:\n",
    "    access_token = os.environ.get(\"GFW_API_ACCESS_TOKEN\")\n",
    "\n",
    "access_token = access_token or \"<PASTE_YOUR_GFW_API_ACCESS_TOKEN_HERE>\""
   ]
  },
  {
   "cell_type": "code",
   "execution_count": 4,
   "id": "fdb554a1-f3f3-40f6-933a-eae5b6c18f5e",
   "metadata": {
    "id": "fdb554a1-f3f3-40f6-933a-eae5b6c18f5e"
   },
   "outputs": [],
   "source": [
    "gfw_client = gfw.Client(\n",
    "    access_token=access_token,\n",
    ")"
   ]
  },
  {
   "cell_type": "markdown",
   "id": "dbd4624b-691d-4bc2-a5ca-194ab6b05207",
   "metadata": {
    "id": "dbd4624b-691d-4bc2-a5ca-194ab6b05207"
   },
   "source": [
    "## Making API Requests"
   ]
  },
  {
   "cell_type": "markdown",
   "id": "ccbea54b-5d1f-45de-9a0b-a52bc3a0d099",
   "metadata": {
    "id": "ccbea54b-5d1f-45de-9a0b-a52bc3a0d099"
   },
   "source": [
    "### Searching for a Vessel by MMSI"
   ]
  },
  {
   "cell_type": "code",
   "execution_count": 5,
   "id": "a8553e42-62c2-4164-b699-81a1751bed10",
   "metadata": {
    "id": "a8553e42-62c2-4164-b699-81a1751bed10"
   },
   "outputs": [],
   "source": [
    "vessel_search_result = await gfw_client.vessels.search_vessels(\n",
    "    query=\"368045130\",\n",
    "    datasets=[\"public-global-vessel-identity:latest\"],\n",
    "    includes=[\"MATCH_CRITERIA\", \"OWNERSHIP\", \"AUTHORIZATIONS\"],\n",
    ")"
   ]
  },
  {
   "cell_type": "code",
   "execution_count": 6,
   "id": "44a0cd8d-4ec6-4163-8ecc-90d9a1300641",
   "metadata": {
    "id": "44a0cd8d-4ec6-4163-8ecc-90d9a1300641"
   },
   "outputs": [],
   "source": [
    "vessel_ids = [\n",
    "    self_reported_info.id\n",
    "    for vessel in vessel_search_result.data()\n",
    "    for self_reported_info in vessel.self_reported_info\n",
    "]"
   ]
  },
  {
   "cell_type": "code",
   "execution_count": 7,
   "id": "522a618d-140e-4d36-9e18-b71e81d1c40e",
   "metadata": {
    "colab": {
     "base_uri": "https://localhost:8080/"
    },
    "id": "522a618d-140e-4d36-9e18-b71e81d1c40e",
    "outputId": "ee9a5ca8-f994-4357-f748-d1140bb29f9a"
   },
   "outputs": [
    {
     "data": {
      "text/plain": [
       "['3312b30d6-65b6-1bdb-6a78-3f5eb3977e58',\n",
       " '126221ace-e3b5-f4ed-6150-394809737c55']"
      ]
     },
     "execution_count": 7,
     "metadata": {},
     "output_type": "execute_result"
    }
   ],
   "source": [
    "vessel_ids"
   ]
  },
  {
   "cell_type": "markdown",
   "id": "38d7148a-23dc-4a7b-8aa2-27a79f49bea9",
   "metadata": {
    "id": "38d7148a-23dc-4a7b-8aa2-27a79f49bea9"
   },
   "source": [
    "### Getting Fishing Events for the Searched Vessels"
   ]
  },
  {
   "cell_type": "code",
   "execution_count": 8,
   "id": "b078ce74-f2d1-4ec3-a163-b3961407e497",
   "metadata": {
    "id": "b078ce74-f2d1-4ec3-a163-b3961407e497"
   },
   "outputs": [],
   "source": [
    "events_result = await gfw_client.events.get_all_events(\n",
    "    datasets=[\"public-global-fishing-events:latest\"],\n",
    "    start_date=\"2024-03-01\",\n",
    "    end_date=\"2025-03-31\",\n",
    "    vessels=vessel_ids,\n",
    ")"
   ]
  },
  {
   "cell_type": "code",
   "execution_count": 9,
   "id": "8b1c4289-5896-4590-8d6e-7405bb0037f8",
   "metadata": {
    "id": "8b1c4289-5896-4590-8d6e-7405bb0037f8"
   },
   "outputs": [],
   "source": [
    "events_df = events_result.df()"
   ]
  },
  {
   "cell_type": "code",
   "execution_count": 10,
   "id": "8a1f2985-e849-4e7c-8a7e-77afcba17764",
   "metadata": {
    "colab": {
     "base_uri": "https://localhost:8080/"
    },
    "id": "8a1f2985-e849-4e7c-8a7e-77afcba17764",
    "outputId": "a82c5bc7-284a-48cc-e2df-e587d9c2d7cb"
   },
   "outputs": [
    {
     "name": "stdout",
     "output_type": "stream",
     "text": [
      "<class 'pandas.core.frame.DataFrame'>\n",
      "RangeIndex: 3 entries, 0 to 2\n",
      "Data columns (total 14 columns):\n",
      " #   Column        Non-Null Count  Dtype              \n",
      "---  ------        --------------  -----              \n",
      " 0   start         3 non-null      datetime64[ns, UTC]\n",
      " 1   end           3 non-null      datetime64[ns, UTC]\n",
      " 2   id            3 non-null      object             \n",
      " 3   type          3 non-null      object             \n",
      " 4   position      3 non-null      object             \n",
      " 5   regions       3 non-null      object             \n",
      " 6   bounding_box  3 non-null      object             \n",
      " 7   distances     3 non-null      object             \n",
      " 8   vessel        3 non-null      object             \n",
      " 9   encounter     0 non-null      object             \n",
      " 10  fishing       3 non-null      object             \n",
      " 11  gap           0 non-null      object             \n",
      " 12  loitering     0 non-null      object             \n",
      " 13  port_visit    0 non-null      object             \n",
      "dtypes: datetime64[ns, UTC](2), object(12)\n",
      "memory usage: 468.0+ bytes\n"
     ]
    }
   ],
   "source": [
    "events_df.info()"
   ]
  },
  {
   "cell_type": "code",
   "execution_count": 11,
   "id": "ff424bc9-bb00-4bc6-a8e3-ee01346786c8",
   "metadata": {
    "colab": {
     "base_uri": "https://localhost:8080/",
     "height": 372
    },
    "id": "ff424bc9-bb00-4bc6-a8e3-ee01346786c8",
    "outputId": "1a439861-8a95-42c1-a955-bc15a1316257"
   },
   "outputs": [
    {
     "data": {
      "application/vnd.google.colaboratory.intrinsic+json": {
       "repr_error": "Out of range float values are not JSON compliant: nan",
       "type": "dataframe",
       "variable_name": "events_df"
      },
      "text/html": [
       "\n",
       "  <div id=\"df-780cce64-2ab7-4d9d-bbcc-1a757a1c4ba8\" class=\"colab-df-container\">\n",
       "    <div>\n",
       "<style scoped>\n",
       "    .dataframe tbody tr th:only-of-type {\n",
       "        vertical-align: middle;\n",
       "    }\n",
       "\n",
       "    .dataframe tbody tr th {\n",
       "        vertical-align: top;\n",
       "    }\n",
       "\n",
       "    .dataframe thead th {\n",
       "        text-align: right;\n",
       "    }\n",
       "</style>\n",
       "<table border=\"1\" class=\"dataframe\">\n",
       "  <thead>\n",
       "    <tr style=\"text-align: right;\">\n",
       "      <th></th>\n",
       "      <th>start</th>\n",
       "      <th>end</th>\n",
       "      <th>id</th>\n",
       "      <th>type</th>\n",
       "      <th>position</th>\n",
       "      <th>regions</th>\n",
       "      <th>bounding_box</th>\n",
       "      <th>distances</th>\n",
       "      <th>vessel</th>\n",
       "      <th>encounter</th>\n",
       "      <th>fishing</th>\n",
       "      <th>gap</th>\n",
       "      <th>loitering</th>\n",
       "      <th>port_visit</th>\n",
       "    </tr>\n",
       "  </thead>\n",
       "  <tbody>\n",
       "    <tr>\n",
       "      <th>0</th>\n",
       "      <td>2024-03-02 07:20:58+00:00</td>\n",
       "      <td>2024-03-02 16:31:16+00:00</td>\n",
       "      <td>b45f90c9d26b298d740d981ff3989e9f</td>\n",
       "      <td>fishing</td>\n",
       "      <td>{'lat': 41.4282, 'lon': -69.0376}</td>\n",
       "      <td>{'mpa': [], 'eez': ['8456'], 'rfmo': ['ACAP', ...</td>\n",
       "      <td>[-69.09002, 41.356445, -69.013173, 41.455082]</td>\n",
       "      <td>{'start_distance_from_shore_km': 74.0, 'end_di...</td>\n",
       "      <td>{'id': '3312b30d6-65b6-1bdb-6a78-3f5eb3977e58'...</td>\n",
       "      <td>None</td>\n",
       "      <td>{'total_distance_km': 20.67347342859376, 'aver...</td>\n",
       "      <td>None</td>\n",
       "      <td>None</td>\n",
       "      <td>None</td>\n",
       "    </tr>\n",
       "    <tr>\n",
       "      <th>1</th>\n",
       "      <td>2024-04-06 06:24:38+00:00</td>\n",
       "      <td>2024-04-06 10:44:37+00:00</td>\n",
       "      <td>5a78695b7c9e56e511c40d058dd07e20</td>\n",
       "      <td>fishing</td>\n",
       "      <td>{'lat': 41.2956, 'lon': -69.0377}</td>\n",
       "      <td>{'mpa': [], 'eez': ['8456'], 'rfmo': ['IWC', '...</td>\n",
       "      <td>[-69.116493, 41.278087, -69.014402, 41.368413]</td>\n",
       "      <td>{'start_distance_from_shore_km': 71.0, 'end_di...</td>\n",
       "      <td>{'id': '3312b30d6-65b6-1bdb-6a78-3f5eb3977e58'...</td>\n",
       "      <td>None</td>\n",
       "      <td>{'total_distance_km': 16.614674434708487, 'ave...</td>\n",
       "      <td>None</td>\n",
       "      <td>None</td>\n",
       "      <td>None</td>\n",
       "    </tr>\n",
       "    <tr>\n",
       "      <th>2</th>\n",
       "      <td>2024-04-08 22:29:41+00:00</td>\n",
       "      <td>2024-04-09 01:56:10+00:00</td>\n",
       "      <td>f126f405f67d32f6488dbff9c828ca86</td>\n",
       "      <td>fishing</td>\n",
       "      <td>{'lat': 40.9922, 'lon': -68.2989}</td>\n",
       "      <td>{'mpa': [], 'eez': ['8456'], 'rfmo': ['NAMMCO'...</td>\n",
       "      <td>[-68.444835, 40.96636, -68.237482, 41.062727]</td>\n",
       "      <td>{'start_distance_from_shore_km': 133.0, 'end_d...</td>\n",
       "      <td>{'id': '3312b30d6-65b6-1bdb-6a78-3f5eb3977e58'...</td>\n",
       "      <td>None</td>\n",
       "      <td>{'total_distance_km': 22.543354447253645, 'ave...</td>\n",
       "      <td>None</td>\n",
       "      <td>None</td>\n",
       "      <td>None</td>\n",
       "    </tr>\n",
       "  </tbody>\n",
       "</table>\n",
       "</div>\n",
       "    <div class=\"colab-df-buttons\">\n",
       "\n",
       "  <div class=\"colab-df-container\">\n",
       "    <button class=\"colab-df-convert\" onclick=\"convertToInteractive('df-780cce64-2ab7-4d9d-bbcc-1a757a1c4ba8')\"\n",
       "            title=\"Convert this dataframe to an interactive table.\"\n",
       "            style=\"display:none;\">\n",
       "\n",
       "  <svg xmlns=\"http://www.w3.org/2000/svg\" height=\"24px\" viewBox=\"0 -960 960 960\">\n",
       "    <path d=\"M120-120v-720h720v720H120Zm60-500h600v-160H180v160Zm220 220h160v-160H400v160Zm0 220h160v-160H400v160ZM180-400h160v-160H180v160Zm440 0h160v-160H620v160ZM180-180h160v-160H180v160Zm440 0h160v-160H620v160Z\"/>\n",
       "  </svg>\n",
       "    </button>\n",
       "\n",
       "  <style>\n",
       "    .colab-df-container {\n",
       "      display:flex;\n",
       "      gap: 12px;\n",
       "    }\n",
       "\n",
       "    .colab-df-convert {\n",
       "      background-color: #E8F0FE;\n",
       "      border: none;\n",
       "      border-radius: 50%;\n",
       "      cursor: pointer;\n",
       "      display: none;\n",
       "      fill: #1967D2;\n",
       "      height: 32px;\n",
       "      padding: 0 0 0 0;\n",
       "      width: 32px;\n",
       "    }\n",
       "\n",
       "    .colab-df-convert:hover {\n",
       "      background-color: #E2EBFA;\n",
       "      box-shadow: 0px 1px 2px rgba(60, 64, 67, 0.3), 0px 1px 3px 1px rgba(60, 64, 67, 0.15);\n",
       "      fill: #174EA6;\n",
       "    }\n",
       "\n",
       "    .colab-df-buttons div {\n",
       "      margin-bottom: 4px;\n",
       "    }\n",
       "\n",
       "    [theme=dark] .colab-df-convert {\n",
       "      background-color: #3B4455;\n",
       "      fill: #D2E3FC;\n",
       "    }\n",
       "\n",
       "    [theme=dark] .colab-df-convert:hover {\n",
       "      background-color: #434B5C;\n",
       "      box-shadow: 0px 1px 3px 1px rgba(0, 0, 0, 0.15);\n",
       "      filter: drop-shadow(0px 1px 2px rgba(0, 0, 0, 0.3));\n",
       "      fill: #FFFFFF;\n",
       "    }\n",
       "  </style>\n",
       "\n",
       "    <script>\n",
       "      const buttonEl =\n",
       "        document.querySelector('#df-780cce64-2ab7-4d9d-bbcc-1a757a1c4ba8 button.colab-df-convert');\n",
       "      buttonEl.style.display =\n",
       "        google.colab.kernel.accessAllowed ? 'block' : 'none';\n",
       "\n",
       "      async function convertToInteractive(key) {\n",
       "        const element = document.querySelector('#df-780cce64-2ab7-4d9d-bbcc-1a757a1c4ba8');\n",
       "        const dataTable =\n",
       "          await google.colab.kernel.invokeFunction('convertToInteractive',\n",
       "                                                    [key], {});\n",
       "        if (!dataTable) return;\n",
       "\n",
       "        const docLinkHtml = 'Like what you see? Visit the ' +\n",
       "          '<a target=\"_blank\" href=https://colab.research.google.com/notebooks/data_table.ipynb>data table notebook</a>'\n",
       "          + ' to learn more about interactive tables.';\n",
       "        element.innerHTML = '';\n",
       "        dataTable['output_type'] = 'display_data';\n",
       "        await google.colab.output.renderOutput(dataTable, element);\n",
       "        const docLink = document.createElement('div');\n",
       "        docLink.innerHTML = docLinkHtml;\n",
       "        element.appendChild(docLink);\n",
       "      }\n",
       "    </script>\n",
       "  </div>\n",
       "\n",
       "\n",
       "    <div id=\"df-a7f08774-4daf-4c2e-a0e8-0afb444839d6\">\n",
       "      <button class=\"colab-df-quickchart\" onclick=\"quickchart('df-a7f08774-4daf-4c2e-a0e8-0afb444839d6')\"\n",
       "                title=\"Suggest charts\"\n",
       "                style=\"display:none;\">\n",
       "\n",
       "<svg xmlns=\"http://www.w3.org/2000/svg\" height=\"24px\"viewBox=\"0 0 24 24\"\n",
       "     width=\"24px\">\n",
       "    <g>\n",
       "        <path d=\"M19 3H5c-1.1 0-2 .9-2 2v14c0 1.1.9 2 2 2h14c1.1 0 2-.9 2-2V5c0-1.1-.9-2-2-2zM9 17H7v-7h2v7zm4 0h-2V7h2v10zm4 0h-2v-4h2v4z\"/>\n",
       "    </g>\n",
       "</svg>\n",
       "      </button>\n",
       "\n",
       "<style>\n",
       "  .colab-df-quickchart {\n",
       "      --bg-color: #E8F0FE;\n",
       "      --fill-color: #1967D2;\n",
       "      --hover-bg-color: #E2EBFA;\n",
       "      --hover-fill-color: #174EA6;\n",
       "      --disabled-fill-color: #AAA;\n",
       "      --disabled-bg-color: #DDD;\n",
       "  }\n",
       "\n",
       "  [theme=dark] .colab-df-quickchart {\n",
       "      --bg-color: #3B4455;\n",
       "      --fill-color: #D2E3FC;\n",
       "      --hover-bg-color: #434B5C;\n",
       "      --hover-fill-color: #FFFFFF;\n",
       "      --disabled-bg-color: #3B4455;\n",
       "      --disabled-fill-color: #666;\n",
       "  }\n",
       "\n",
       "  .colab-df-quickchart {\n",
       "    background-color: var(--bg-color);\n",
       "    border: none;\n",
       "    border-radius: 50%;\n",
       "    cursor: pointer;\n",
       "    display: none;\n",
       "    fill: var(--fill-color);\n",
       "    height: 32px;\n",
       "    padding: 0;\n",
       "    width: 32px;\n",
       "  }\n",
       "\n",
       "  .colab-df-quickchart:hover {\n",
       "    background-color: var(--hover-bg-color);\n",
       "    box-shadow: 0 1px 2px rgba(60, 64, 67, 0.3), 0 1px 3px 1px rgba(60, 64, 67, 0.15);\n",
       "    fill: var(--button-hover-fill-color);\n",
       "  }\n",
       "\n",
       "  .colab-df-quickchart-complete:disabled,\n",
       "  .colab-df-quickchart-complete:disabled:hover {\n",
       "    background-color: var(--disabled-bg-color);\n",
       "    fill: var(--disabled-fill-color);\n",
       "    box-shadow: none;\n",
       "  }\n",
       "\n",
       "  .colab-df-spinner {\n",
       "    border: 2px solid var(--fill-color);\n",
       "    border-color: transparent;\n",
       "    border-bottom-color: var(--fill-color);\n",
       "    animation:\n",
       "      spin 1s steps(1) infinite;\n",
       "  }\n",
       "\n",
       "  @keyframes spin {\n",
       "    0% {\n",
       "      border-color: transparent;\n",
       "      border-bottom-color: var(--fill-color);\n",
       "      border-left-color: var(--fill-color);\n",
       "    }\n",
       "    20% {\n",
       "      border-color: transparent;\n",
       "      border-left-color: var(--fill-color);\n",
       "      border-top-color: var(--fill-color);\n",
       "    }\n",
       "    30% {\n",
       "      border-color: transparent;\n",
       "      border-left-color: var(--fill-color);\n",
       "      border-top-color: var(--fill-color);\n",
       "      border-right-color: var(--fill-color);\n",
       "    }\n",
       "    40% {\n",
       "      border-color: transparent;\n",
       "      border-right-color: var(--fill-color);\n",
       "      border-top-color: var(--fill-color);\n",
       "    }\n",
       "    60% {\n",
       "      border-color: transparent;\n",
       "      border-right-color: var(--fill-color);\n",
       "    }\n",
       "    80% {\n",
       "      border-color: transparent;\n",
       "      border-right-color: var(--fill-color);\n",
       "      border-bottom-color: var(--fill-color);\n",
       "    }\n",
       "    90% {\n",
       "      border-color: transparent;\n",
       "      border-bottom-color: var(--fill-color);\n",
       "    }\n",
       "  }\n",
       "</style>\n",
       "\n",
       "      <script>\n",
       "        async function quickchart(key) {\n",
       "          const quickchartButtonEl =\n",
       "            document.querySelector('#' + key + ' button');\n",
       "          quickchartButtonEl.disabled = true;  // To prevent multiple clicks.\n",
       "          quickchartButtonEl.classList.add('colab-df-spinner');\n",
       "          try {\n",
       "            const charts = await google.colab.kernel.invokeFunction(\n",
       "                'suggestCharts', [key], {});\n",
       "          } catch (error) {\n",
       "            console.error('Error during call to suggestCharts:', error);\n",
       "          }\n",
       "          quickchartButtonEl.classList.remove('colab-df-spinner');\n",
       "          quickchartButtonEl.classList.add('colab-df-quickchart-complete');\n",
       "        }\n",
       "        (() => {\n",
       "          let quickchartButtonEl =\n",
       "            document.querySelector('#df-a7f08774-4daf-4c2e-a0e8-0afb444839d6 button');\n",
       "          quickchartButtonEl.style.display =\n",
       "            google.colab.kernel.accessAllowed ? 'block' : 'none';\n",
       "        })();\n",
       "      </script>\n",
       "    </div>\n",
       "\n",
       "    </div>\n",
       "  </div>\n"
      ],
      "text/plain": [
       "                      start                       end  \\\n",
       "0 2024-03-02 07:20:58+00:00 2024-03-02 16:31:16+00:00   \n",
       "1 2024-04-06 06:24:38+00:00 2024-04-06 10:44:37+00:00   \n",
       "2 2024-04-08 22:29:41+00:00 2024-04-09 01:56:10+00:00   \n",
       "\n",
       "                                 id     type  \\\n",
       "0  b45f90c9d26b298d740d981ff3989e9f  fishing   \n",
       "1  5a78695b7c9e56e511c40d058dd07e20  fishing   \n",
       "2  f126f405f67d32f6488dbff9c828ca86  fishing   \n",
       "\n",
       "                            position  \\\n",
       "0  {'lat': 41.4282, 'lon': -69.0376}   \n",
       "1  {'lat': 41.2956, 'lon': -69.0377}   \n",
       "2  {'lat': 40.9922, 'lon': -68.2989}   \n",
       "\n",
       "                                             regions  \\\n",
       "0  {'mpa': [], 'eez': ['8456'], 'rfmo': ['ACAP', ...   \n",
       "1  {'mpa': [], 'eez': ['8456'], 'rfmo': ['IWC', '...   \n",
       "2  {'mpa': [], 'eez': ['8456'], 'rfmo': ['NAMMCO'...   \n",
       "\n",
       "                                     bounding_box  \\\n",
       "0   [-69.09002, 41.356445, -69.013173, 41.455082]   \n",
       "1  [-69.116493, 41.278087, -69.014402, 41.368413]   \n",
       "2   [-68.444835, 40.96636, -68.237482, 41.062727]   \n",
       "\n",
       "                                           distances  \\\n",
       "0  {'start_distance_from_shore_km': 74.0, 'end_di...   \n",
       "1  {'start_distance_from_shore_km': 71.0, 'end_di...   \n",
       "2  {'start_distance_from_shore_km': 133.0, 'end_d...   \n",
       "\n",
       "                                              vessel encounter  \\\n",
       "0  {'id': '3312b30d6-65b6-1bdb-6a78-3f5eb3977e58'...      None   \n",
       "1  {'id': '3312b30d6-65b6-1bdb-6a78-3f5eb3977e58'...      None   \n",
       "2  {'id': '3312b30d6-65b6-1bdb-6a78-3f5eb3977e58'...      None   \n",
       "\n",
       "                                             fishing   gap loitering  \\\n",
       "0  {'total_distance_km': 20.67347342859376, 'aver...  None      None   \n",
       "1  {'total_distance_km': 16.614674434708487, 'ave...  None      None   \n",
       "2  {'total_distance_km': 22.543354447253645, 'ave...  None      None   \n",
       "\n",
       "  port_visit  \n",
       "0       None  \n",
       "1       None  \n",
       "2       None  "
      ]
     },
     "execution_count": 11,
     "metadata": {},
     "output_type": "execute_result"
    }
   ],
   "source": [
    "events_df.head()"
   ]
  }
 ],
 "metadata": {
  "colab": {
   "include_colab_link": true,
   "provenance": []
  },
  "kernelspec": {
   "display_name": "Python 3 (ipykernel)",
   "language": "python",
   "name": "python3"
  },
  "language_info": {
   "codemirror_mode": {
    "name": "ipython",
    "version": 3
   },
   "file_extension": ".py",
   "mimetype": "text/x-python",
   "name": "python",
   "nbconvert_exporter": "python",
   "pygments_lexer": "ipython3",
   "version": "3.11.11"
  }
 },
 "nbformat": 4,
 "nbformat_minor": 5
}
