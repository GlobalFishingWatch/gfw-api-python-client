{
 "cells": [
  {
   "cell_type": "markdown",
   "id": "7718a1e4-d8d9-46fd-b8b2-e2c1e76ab1c8",
   "metadata": {},
   "source": [
    "# [PROTOTYPE] - API Examples for Python Developers"
   ]
  },
  {
   "cell_type": "markdown",
   "id": "dc1eeb2d-860e-4c8c-b21c-fabf865957c3",
   "metadata": {},
   "source": [
    "## Introduction"
   ]
  },
  {
   "cell_type": "markdown",
   "id": "5e768cf1-ab24-40af-9624-4a6f73eea717",
   "metadata": {},
   "source": [
    "Welcome to the [Python package](https://github.com/GlobalFishingWatch/gfw-api-python-client) for accessing data from [Global Fishing Watch APIs](https://globalfishingwatch.org/our-apis/documentation#introduction). The [gfw-api-python-client](https://github.com/GlobalFishingWatch/gfw-api-python-client) is a simple wrapper for the Global Fishing Watch (GFW) APIs. It provides convenient functions to freely pull GFW data.\n",
    "\n",
    "Our APIs provide software instructions that enable automatic connection of our data and products to other systems so users can easily download and integrate our datasets, code, and models to power their own platforms. By providing streamlined access to information on apparent fishing vessel activity, identity and history, we are helping create solutions for a resilient, sustainable ocean.\n",
    "\n",
    "Global Fishing Watch APIs are available for noncommercial use only in accordance with the [CC BY-NC 4.0 license](https://creativecommons.org/licenses/by-nc/4.0/) including complying with the attribution requirements set forth in Section 3 below. To see more details, please visit our [Terms of Use](https://globalfishingwatch.org/our-apis/documentation#terms-of-use). They are used by researchers, governments, technology companies, etc.\n",
    "\n",
    "We combine tracking data from the publicly available automatic identification system (AIS) and integrate that with information acquired through vessel monitoring systems that are operated by governments and made available to us through partnerships that we secure. Both AIS and VMS combine global positioning with a transmitter to regularly broadcast vessel location."
   ]
  },
  {
   "cell_type": "markdown",
   "id": "67f4d9cb-8e8d-4876-a9b1-6f3b0d79e34c",
   "metadata": {},
   "source": [
    "## Import libraries"
   ]
  },
  {
   "cell_type": "code",
   "execution_count": 1,
   "id": "b4945821-81e7-47be-b219-86f5b52abf00",
   "metadata": {},
   "outputs": [],
   "source": [
    "import datetime\n",
    "import os\n",
    "import logging\n",
    "\n",
    "import gfwapiclient as gfw"
   ]
  },
  {
   "cell_type": "markdown",
   "id": "0133952e-3b2e-4294-91d0-b9cdbfa0d373",
   "metadata": {},
   "source": [
    "## Instantiate GFW API client"
   ]
  },
  {
   "cell_type": "code",
   "execution_count": 2,
   "id": "12c3c868-fe35-431b-8dd8-11bebe25c3ae",
   "metadata": {},
   "outputs": [],
   "source": [
    "api_base_url = os.getenv(\"GFW_API_BASE_URL\")\n",
    "api_access_token = os.getenv(\"GFW_API_ACCESS_TOKEN\")\n",
    "\n",
    "client = gfw.Client(\n",
    "    api_base_url=api_base_url,\n",
    "    api_access_token=api_access_token\n",
    ")"
   ]
  },
  {
   "cell_type": "markdown",
   "id": "0d79949c-dd5e-4f5e-b357-2dc8f1b41a1f",
   "metadata": {},
   "source": [
    "## Map Visualization - 4Wings API"
   ]
  },
  {
   "cell_type": "markdown",
   "id": "657669e6-adc4-4d16-8e7a-8f0898a19c0c",
   "metadata": {},
   "source": [
    "[4Wings API (aka Map Visualization)](https://globalfishingwatch.org/our-apis/documentation#map-visualization-4wings-api) allows you to get fast visualisation, navigation and analysis for gridded spatiotemporal datasets. You can:\n",
    "\n",
    "- visualize apparent fishing effort or SAR vessel detections in png or mvt format\n",
    "- generate a report for apparent fishing effort data and for SAR (Synthetic-aperture radar) vessel detections.\n"
   ]
  },
  {
   "cell_type": "markdown",
   "id": "e0aba285-b4de-4df6-bbbd-1977cab9db88",
   "metadata": {},
   "source": [
    "### Import necessary data types"
   ]
  },
  {
   "cell_type": "code",
   "execution_count": 3,
   "id": "6e787ee9-eb55-402c-ae52-0c96e6d921c6",
   "metadata": {},
   "outputs": [],
   "source": [
    "from gfwapiclient.resources.fourwings.report.models.request import (\n",
    "    FourWingsReportDataset,\n",
    "    FourWingsReportGroupBy,\n",
    "    FourWingsReportRegion,\n",
    "    FourWingsReportSpatialResolution,\n",
    "    FourWingsReportTemporalResolution,\n",
    ")"
   ]
  },
  {
   "cell_type": "markdown",
   "id": "8db7069b-3d12-4674-80cd-7bf69937206d",
   "metadata": {},
   "source": [
    "### Create a report of a specified region"
   ]
  },
  {
   "cell_type": "markdown",
   "id": "2ea52797-7a55-4ee7-bca1-f453b7f3a63f",
   "metadata": {},
   "source": [
    "Generate a report for apparent fishing effort data and for SAR (Synthetic-aperture radar) vessel detections."
   ]
  },
  {
   "cell_type": "markdown",
   "id": "144dd9e5-7bbc-4477-877a-de3281ba573b",
   "metadata": {},
   "source": [
    "#### Define request parameters"
   ]
  },
  {
   "cell_type": "code",
   "execution_count": 4,
   "id": "aaf4cac4-c426-4b5b-a0bc-80519de5b87f",
   "metadata": {},
   "outputs": [],
   "source": [
    "spatial_resolution = FourWingsReportSpatialResolution.HIGH\n",
    "group_by = FourWingsReportGroupBy.VESSEL_ID\n",
    "temporal_resolution = FourWingsReportTemporalResolution.DAILY\n",
    "datasets = [\n",
    "    FourWingsReportDataset.FISHING_EFFORT_LATEST,\n",
    "    FourWingsReportDataset.SAR_PRESENCE_LATEST,\n",
    "]\n",
    "filters = None\n",
    "date_range = \"2022-01-01,2022-01-15\"  # TODO: use start_date, end_date\n",
    "spatial_aggregation = None\n",
    "geojson = None\n",
    "region = FourWingsReportRegion(dataset=\"public-eez-areas\", id=\"8371\")"
   ]
  },
  {
   "cell_type": "markdown",
   "id": "033a27c4-505b-4cdd-9ee2-d2f788a29440",
   "metadata": {},
   "source": [
    "#### Generate report"
   ]
  },
  {
   "cell_type": "code",
   "execution_count": 5,
   "id": "37a4546b-1241-4d13-bff7-22b8701c7d01",
   "metadata": {},
   "outputs": [],
   "source": [
    "wings_report = await client.fourwings.aget_report(\n",
    "    spatial_resolution=spatial_resolution,\n",
    "    group_by=group_by,\n",
    "    temporal_resolution=temporal_resolution,\n",
    "    datasets=datasets,\n",
    "    filters=filters,\n",
    "    date_range=date_range,\n",
    "    spatial_aggregation=spatial_aggregation,\n",
    "    geojson=geojson,\n",
    "    region=region,\n",
    ")"
   ]
  },
  {
   "cell_type": "code",
   "execution_count": 6,
   "id": "be957b2b-5a97-4536-9f62-8b06d47a7589",
   "metadata": {},
   "outputs": [
    {
     "data": {
      "text/plain": [
       "<gfwapiclient.resources.fourwings.report.models.response.FourWingsReportResult at 0x107c03860>"
      ]
     },
     "execution_count": 6,
     "metadata": {},
     "output_type": "execute_result"
    }
   ],
   "source": [
    "wings_report"
   ]
  },
  {
   "cell_type": "code",
   "execution_count": 7,
   "id": "eff13c92-a2a1-4f80-afe5-92c165f45285",
   "metadata": {},
   "outputs": [
    {
     "data": {
      "text/plain": [
       "FourWingsReportItem(date='2022-01-05', detections=1, flag='SEN', gear_type='TRAWLERS', hours=None, vessel_ids=None, vessel_id='0e0369b43-36c3-f0a8-adda-370f600ed334', vessel_type='FISHING', entry_timestamp=datetime.datetime(2022, 1, 5, 19, 17, 58, tzinfo=TzInfo(UTC)), exit_timestamp=datetime.datetime(2022, 1, 10, 19, 26, 8, tzinfo=TzInfo(UTC)), first_transmission_date=datetime.datetime(2016, 2, 4, 15, 32, 18, tzinfo=TzInfo(UTC)), last_transmission_date=datetime.datetime(2025, 2, 28, 8, 56, 48, tzinfo=TzInfo(UTC)), imo='', mmsi='663146000', call_sign='6WLM', dataset='public-global-vessel-identity:v3.0', report_dataset='public-global-sar-presence:v3.0', ship_name='F/V AUDREY-', lat=12.45, lon=-17.389999389648438)"
      ]
     },
     "execution_count": 7,
     "metadata": {},
     "output_type": "execute_result"
    }
   ],
   "source": [
    "wings_report.data[-1]"
   ]
  },
  {
   "cell_type": "code",
   "execution_count": 8,
   "id": "bf0b7cf4-4361-4996-87fe-d092c869ed06",
   "metadata": {},
   "outputs": [
    {
     "data": {
      "text/plain": [
       "{'date': '2022-01-05',\n",
       " 'detections': 1,\n",
       " 'flag': 'SEN',\n",
       " 'gear_type': 'TRAWLERS',\n",
       " 'hours': None,\n",
       " 'vessel_ids': None,\n",
       " 'vessel_id': '0e0369b43-36c3-f0a8-adda-370f600ed334',\n",
       " 'vessel_type': 'FISHING',\n",
       " 'entry_timestamp': datetime.datetime(2022, 1, 5, 19, 17, 58, tzinfo=TzInfo(UTC)),\n",
       " 'exit_timestamp': datetime.datetime(2022, 1, 10, 19, 26, 8, tzinfo=TzInfo(UTC)),\n",
       " 'first_transmission_date': datetime.datetime(2016, 2, 4, 15, 32, 18, tzinfo=TzInfo(UTC)),\n",
       " 'last_transmission_date': datetime.datetime(2025, 2, 28, 8, 56, 48, tzinfo=TzInfo(UTC)),\n",
       " 'imo': '',\n",
       " 'mmsi': '663146000',\n",
       " 'call_sign': '6WLM',\n",
       " 'dataset': 'public-global-vessel-identity:v3.0',\n",
       " 'report_dataset': 'public-global-sar-presence:v3.0',\n",
       " 'ship_name': 'F/V AUDREY-',\n",
       " 'lat': 12.45,\n",
       " 'lon': -17.389999389648438}"
      ]
     },
     "execution_count": 8,
     "metadata": {},
     "output_type": "execute_result"
    }
   ],
   "source": [
    "wings_report.data[-1].model_dump()"
   ]
  },
  {
   "cell_type": "markdown",
   "id": "e3e4ad34-aaff-4770-95cc-0a22c59473b6",
   "metadata": {},
   "source": [
    "## Vessels API"
   ]
  },
  {
   "cell_type": "markdown",
   "id": "87f82774-f573-4b5d-aa85-772accdc14f3",
   "metadata": {},
   "source": [
    "[Vessels API](https://globalfishingwatch.org/our-apis/documentation#vessels-api) allows you to search for vessels and get vessel identity details. This API combines Global Fishing Watch (GFW) core AIS identity data with GFW registry database to enable an improved understanding of vessel identity over time.\n",
    "\n",
    "You can:\n",
    "\n",
    "- Search for AIS and across over 40 public international, regional and national vessel registries. Check list of sources in the [reference data section](https://globalfishingwatch.org/our-apis/documentation#vessel-api-registry-codes-data-sources)\n",
    "- Get identity details based on AIS self reported data or public registries. Check more detail about data caveats [here](https://globalfishingwatch.org/our-apis/documentation#data-caveat).\n",
    "  "
   ]
  },
  {
   "cell_type": "markdown",
   "id": "4b72b1d4-63ba-4532-b447-6205419cc799",
   "metadata": {},
   "source": [
    "### Import necessary data types"
   ]
  },
  {
   "cell_type": "code",
   "execution_count": 9,
   "id": "81f8491a-10be-4096-bcc4-559d6a1942c7",
   "metadata": {},
   "outputs": [],
   "source": [
    "from gfwapiclient.resources.vessels.base.enums import VesselDataset"
   ]
  },
  {
   "cell_type": "markdown",
   "id": "d257b265-1655-428c-a5cc-7a8bec6c4bff",
   "metadata": {},
   "source": [
    "### Search vessels"
   ]
  },
  {
   "cell_type": "markdown",
   "id": "da883482-6204-41ff-9737-fd5b2f1cb986",
   "metadata": {},
   "source": [
    "#### Define request parameters"
   ]
  },
  {
   "cell_type": "code",
   "execution_count": 10,
   "id": "ee8161b7-f22d-4902-86fd-4260e05fe9fe",
   "metadata": {},
   "outputs": [],
   "source": [
    "datasets = [VesselDataset.VESSEL_IDENTITY_LATEST]\n",
    "query = \"775998121\"\n",
    "where = 'ssvid=\"775998121\" AND shipname=\"DON TITO\"'"
   ]
  },
  {
   "cell_type": "markdown",
   "id": "b66f2072-6944-4640-ba65-0b0b559c873a",
   "metadata": {},
   "source": [
    "#### Search vessels"
   ]
  },
  {
   "cell_type": "code",
   "execution_count": 11,
   "id": "33fbf4d4-f04f-4ced-8965-bd361f2bef55",
   "metadata": {},
   "outputs": [],
   "source": [
    "vessels = await client.vessels.asearch_vessels(query=query, datasets=datasets)"
   ]
  },
  {
   "cell_type": "code",
   "execution_count": 12,
   "id": "4defc684-ab8f-47e0-832b-58a5da3a95f5",
   "metadata": {},
   "outputs": [
    {
     "data": {
      "text/plain": [
       "<gfwapiclient.resources.vessels.search.models.response.VesselSearchResult at 0x10743fbc0>"
      ]
     },
     "execution_count": 12,
     "metadata": {},
     "output_type": "execute_result"
    }
   ],
   "source": [
    "vessels"
   ]
  },
  {
   "cell_type": "code",
   "execution_count": 13,
   "id": "1425890f-38ba-4f7f-af85-3b71fa489abb",
   "metadata": {},
   "outputs": [
    {
     "data": {
      "text/plain": [
       "[]"
      ]
     },
     "execution_count": 13,
     "metadata": {},
     "output_type": "execute_result"
    }
   ],
   "source": [
    "vessels.data[-1].registry_info"
   ]
  },
  {
   "cell_type": "code",
   "execution_count": 14,
   "id": "8157daf6-1f78-47b6-bc68-48ed465ac27a",
   "metadata": {},
   "outputs": [
    {
     "data": {
      "text/plain": [
       "[CombinedSourceInfo(vessel_id='bae8f325c-cf0a-01fe-6d1a-9a275588d4ff', gear_types=[GearType(name='OTHER', source='COMBINATION_OF_REGISTRY_AND_AIS_INFERRED_NN_INFO', year_from=2021, year_to=2023)], ship_types=[ShipType(name='OTHER', source='COMBINATION_OF_REGISTRY_AND_AIS_INFERRED_NN_INFO', year_from=2021, year_to=2023)])]"
      ]
     },
     "execution_count": 14,
     "metadata": {},
     "output_type": "execute_result"
    }
   ],
   "source": [
    "vessels.data[-1].combined_sources_info"
   ]
  },
  {
   "cell_type": "code",
   "execution_count": 15,
   "id": "2fd2107a-7d80-4a7d-94b5-874ef499a9e8",
   "metadata": {},
   "outputs": [
    {
     "data": {
      "text/plain": [
       "{'dataset': 'public-global-vessel-identity:v3.0',\n",
       " 'registry_info_total_records': 0,\n",
       " 'registry_info': [],\n",
       " 'registry_owners': [],\n",
       " 'registry_public_authorizations': [],\n",
       " 'combined_sources_info': [{'vessel_id': 'bae8f325c-cf0a-01fe-6d1a-9a275588d4ff',\n",
       "   'gear_types': [{'name': 'OTHER',\n",
       "     'source': 'COMBINATION_OF_REGISTRY_AND_AIS_INFERRED_NN_INFO',\n",
       "     'year_from': 2021,\n",
       "     'year_to': 2023}],\n",
       "   'ship_types': [{'name': 'OTHER',\n",
       "     'source': 'COMBINATION_OF_REGISTRY_AND_AIS_INFERRED_NN_INFO',\n",
       "     'year_from': 2021,\n",
       "     'year_to': 2023}]}],\n",
       " 'self_reported_info': [{'id': 'bae8f325c-cf0a-01fe-6d1a-9a275588d4ff',\n",
       "   'ssvid': '775998121',\n",
       "   'ship_name': 'DON TITO',\n",
       "   'n_ship_name': 'DONTITO',\n",
       "   'flag': 'VEN',\n",
       "   'call_sign': None,\n",
       "   'imo': None,\n",
       "   'messages_counter': 54,\n",
       "   'positions_counter': 38,\n",
       "   'source_code': ['AIS'],\n",
       "   'match_fields': 'NO_MATCH',\n",
       "   'transmission_date_from': datetime.datetime(2021, 8, 3, 13, 41, 41, tzinfo=TzInfo(UTC)),\n",
       "   'transmission_date_to': datetime.datetime(2023, 11, 20, 14, 10, 41, tzinfo=TzInfo(UTC))}],\n",
       " 'matchCriteria': [{'reference': 'bae8f325c-cf0a-01fe-6d1a-9a275588d4ff',\n",
       "   'property': 'selfReportedInfo.id',\n",
       "   'source': 'selfReportedInfo',\n",
       "   'matches': [{'property': 'selfReportedInfo.ssvid', 'value': '775998121'}],\n",
       "   'period': {'dateFrom': '2021-08-03T13:41:41Z',\n",
       "    'dateTo': '2023-11-20T14:10:41Z'},\n",
       "   'latestVesselInfo': True}]}"
      ]
     },
     "execution_count": 15,
     "metadata": {},
     "output_type": "execute_result"
    }
   ],
   "source": [
    "vessels.data[-1].model_dump()"
   ]
  },
  {
   "cell_type": "markdown",
   "id": "4d633d3e-2867-4fd7-b5ef-45f97d64b72e",
   "metadata": {},
   "source": [
    "### Get list of vessels filtered by ids"
   ]
  },
  {
   "cell_type": "markdown",
   "id": "00ce2e5d-fd7d-4ba9-8fde-afc4847566f5",
   "metadata": {},
   "source": [
    "#### Define request parameters"
   ]
  },
  {
   "cell_type": "code",
   "execution_count": 16,
   "id": "60053433-d6f3-43fb-a3cd-6e700a33014e",
   "metadata": {},
   "outputs": [],
   "source": [
    "datasets = [VesselDataset.VESSEL_IDENTITY_LATEST]\n",
    "ids = [\"8c7304226-6c71-edbe-0b63-c246734b3c01\"]"
   ]
  },
  {
   "cell_type": "markdown",
   "id": "3d61a807-b103-4d6c-a2a0-1039bc469fd8",
   "metadata": {},
   "source": [
    "#### Get list of vessels by their ids"
   ]
  },
  {
   "cell_type": "code",
   "execution_count": 17,
   "id": "13b8b758-6216-45ec-9212-be68e8e4cfdf",
   "metadata": {},
   "outputs": [],
   "source": [
    "vessels = await client.vessels.aget_vessels(ids=ids, datasets=datasets)"
   ]
  },
  {
   "cell_type": "code",
   "execution_count": 18,
   "id": "50c4b635-1268-47d1-a3b6-74c35e037d5c",
   "metadata": {},
   "outputs": [
    {
     "data": {
      "text/plain": [
       "[RegistryInfo(id='a8d00ce54b37add7f85a35fcce8e7a1b', source_code=['GFW-REVIEW', 'IMO', 'NEAFC', 'TMT_OTHER'], ssvid='273379740', flag='RUS', ship_name='FRIO FORWIN', n_ship_name='FRIOFORWIN', call_sign='UCRZ', imo='9076260', latest_vessel_info=True, transmission_date_from=datetime.datetime(2015, 2, 27, 10, 59, 43, tzinfo=TzInfo(UTC)), transmission_date_to=datetime.datetime(2025, 2, 27, 11, 22, 25, tzinfo=TzInfo(UTC)), gear_types=['SPECIALIZED_REEFER'], length_m=126.8, tonnage_gt=6963.6, vessel_info_reference='186aeab79b33d7f5560894c4ad53a0b1', extra_fields=[ExtraField(registry_source='TMT', iuu_status=None, has_compliance_info=None, images=[], operator=None, builtYear=None, depthM=None)]),\n",
       " RegistryInfo(id='a8d00ce54b37add7f85a35fcce8e7a1b', source_code=['GFW-REVIEW', 'ICCAT', 'IMO', 'ISSF', 'NEAFC', 'RUS', 'TMT_OTHER'], ssvid='210631000', flag='CYP', ship_name='FRIO FORWIN', n_ship_name='FRIOFORWIN', call_sign='5BWC3', imo='9076260', latest_vessel_info=None, transmission_date_from=datetime.datetime(2013, 5, 15, 20, 19, 43, tzinfo=TzInfo(UTC)), transmission_date_to=datetime.datetime(2024, 7, 4, 14, 19, 36, tzinfo=TzInfo(UTC)), gear_types=['SPECIALIZED_REEFER'], length_m=126.8, tonnage_gt=6963.6, vessel_info_reference='e99af472b926d251e41457f6f1f5e9cc', extra_fields=[ExtraField(registry_source='TMT', iuu_status=None, has_compliance_info=None, images=[], operator=None, builtYear=None, depthM=None)])]"
      ]
     },
     "execution_count": 18,
     "metadata": {},
     "output_type": "execute_result"
    }
   ],
   "source": [
    "vessels.data[-1].registry_info"
   ]
  },
  {
   "cell_type": "code",
   "execution_count": 19,
   "id": "4f4132c2-ee76-4782-8243-7b77d2f8b292",
   "metadata": {},
   "outputs": [
    {
     "data": {
      "text/plain": [
       "[CombinedSourceInfo(vessel_id='0edad163f-f53d-9ddb-5bef-f4a46be18559', gear_types=[GearType(name='CARRIER', source='GFW_VESSEL_LIST', year_from=2024, year_to=2025)], ship_types=[ShipType(name='CARRIER', source='GFW_VESSEL_LIST', year_from=2024, year_to=2025)]),\n",
       " CombinedSourceInfo(vessel_id='8c7304226-6c71-edbe-0b63-c246734b3c01', gear_types=[GearType(name='CARRIER', source='GFW_VESSEL_LIST', year_from=2013, year_to=2025)], ship_types=[ShipType(name='CARRIER', source='GFW_VESSEL_LIST', year_from=2013, year_to=2025)]),\n",
       " CombinedSourceInfo(vessel_id='0cb77880e-ee49-2ce4-a849-c0b413b6ec89', gear_types=[GearType(name='CARRIER', source='GFW_VESSEL_LIST', year_from=2012, year_to=2013)], ship_types=[ShipType(name='CARRIER', source='GFW_VESSEL_LIST', year_from=2012, year_to=2013)]),\n",
       " CombinedSourceInfo(vessel_id='da1cd7e1b-b8d0-539c-6581-2b3df8d0a6af', gear_types=[GearType(name='CARRIER', source='GFW_VESSEL_LIST', year_from=2015, year_to=2025)], ship_types=[ShipType(name='CARRIER', source='GFW_VESSEL_LIST', year_from=2015, year_to=2025)]),\n",
       " CombinedSourceInfo(vessel_id='3c81a942b-bf0a-f476-ea72-75c02ef91f78', gear_types=[GearType(name='CARRIER', source='GFW_VESSEL_LIST', year_from=2015, year_to=2016)], ship_types=[ShipType(name='CARRIER', source='GFW_VESSEL_LIST', year_from=2015, year_to=2016)])]"
      ]
     },
     "execution_count": 19,
     "metadata": {},
     "output_type": "execute_result"
    }
   ],
   "source": [
    "vessels.data[-1].combined_sources_info"
   ]
  },
  {
   "cell_type": "code",
   "execution_count": 20,
   "id": "b5733124-f07c-4a25-a092-a820d954cb3e",
   "metadata": {},
   "outputs": [
    {
     "data": {
      "text/plain": [
       "{'dataset': 'public-global-vessel-identity:v3.0',\n",
       " 'registry_info_total_records': 2,\n",
       " 'registry_info': [{'id': 'a8d00ce54b37add7f85a35fcce8e7a1b',\n",
       "   'source_code': ['GFW-REVIEW', 'IMO', 'NEAFC', 'TMT_OTHER'],\n",
       "   'ssvid': '273379740',\n",
       "   'flag': 'RUS',\n",
       "   'ship_name': 'FRIO FORWIN',\n",
       "   'n_ship_name': 'FRIOFORWIN',\n",
       "   'call_sign': 'UCRZ',\n",
       "   'imo': '9076260',\n",
       "   'latest_vessel_info': True,\n",
       "   'transmission_date_from': datetime.datetime(2015, 2, 27, 10, 59, 43, tzinfo=TzInfo(UTC)),\n",
       "   'transmission_date_to': datetime.datetime(2025, 2, 27, 11, 22, 25, tzinfo=TzInfo(UTC)),\n",
       "   'gear_types': ['SPECIALIZED_REEFER'],\n",
       "   'length_m': 126.8,\n",
       "   'tonnage_gt': 6963.6,\n",
       "   'vessel_info_reference': '186aeab79b33d7f5560894c4ad53a0b1',\n",
       "   'extra_fields': [{'registry_source': 'TMT',\n",
       "     'iuu_status': None,\n",
       "     'has_compliance_info': None,\n",
       "     'images': [],\n",
       "     'operator': None,\n",
       "     'builtYear': None,\n",
       "     'depthM': None}]},\n",
       "  {'id': 'a8d00ce54b37add7f85a35fcce8e7a1b',\n",
       "   'source_code': ['GFW-REVIEW',\n",
       "    'ICCAT',\n",
       "    'IMO',\n",
       "    'ISSF',\n",
       "    'NEAFC',\n",
       "    'RUS',\n",
       "    'TMT_OTHER'],\n",
       "   'ssvid': '210631000',\n",
       "   'flag': 'CYP',\n",
       "   'ship_name': 'FRIO FORWIN',\n",
       "   'n_ship_name': 'FRIOFORWIN',\n",
       "   'call_sign': '5BWC3',\n",
       "   'imo': '9076260',\n",
       "   'latest_vessel_info': None,\n",
       "   'transmission_date_from': datetime.datetime(2013, 5, 15, 20, 19, 43, tzinfo=TzInfo(UTC)),\n",
       "   'transmission_date_to': datetime.datetime(2024, 7, 4, 14, 19, 36, tzinfo=TzInfo(UTC)),\n",
       "   'gear_types': ['SPECIALIZED_REEFER'],\n",
       "   'length_m': 126.8,\n",
       "   'tonnage_gt': 6963.6,\n",
       "   'vessel_info_reference': 'e99af472b926d251e41457f6f1f5e9cc',\n",
       "   'extra_fields': [{'registry_source': 'TMT',\n",
       "     'iuu_status': None,\n",
       "     'has_compliance_info': None,\n",
       "     'images': [],\n",
       "     'operator': None,\n",
       "     'builtYear': None,\n",
       "     'depthM': None}]}],\n",
       " 'registry_owners': [],\n",
       " 'registry_public_authorizations': [{'date_from': datetime.datetime(2023, 1, 1, 0, 0, tzinfo=TzInfo(UTC)),\n",
       "   'date_to': datetime.datetime(2024, 12, 31, 0, 0, tzinfo=TzInfo(UTC)),\n",
       "   'ssvid': '210631000',\n",
       "   'source_code': ['ICCAT']},\n",
       "  {'date_from': datetime.datetime(2020, 1, 1, 0, 0, tzinfo=TzInfo(UTC)),\n",
       "   'date_to': datetime.datetime(2024, 12, 1, 0, 0, tzinfo=TzInfo(UTC)),\n",
       "   'ssvid': '210631000',\n",
       "   'source_code': ['NEAFC']},\n",
       "  {'date_from': datetime.datetime(2024, 8, 9, 0, 0, tzinfo=TzInfo(UTC)),\n",
       "   'date_to': datetime.datetime(2025, 2, 1, 0, 0, tzinfo=TzInfo(UTC)),\n",
       "   'ssvid': '273379740',\n",
       "   'source_code': ['NEAFC']}],\n",
       " 'combined_sources_info': [{'vessel_id': '0edad163f-f53d-9ddb-5bef-f4a46be18559',\n",
       "   'gear_types': [{'name': 'CARRIER',\n",
       "     'source': 'GFW_VESSEL_LIST',\n",
       "     'year_from': 2024,\n",
       "     'year_to': 2025}],\n",
       "   'ship_types': [{'name': 'CARRIER',\n",
       "     'source': 'GFW_VESSEL_LIST',\n",
       "     'year_from': 2024,\n",
       "     'year_to': 2025}]},\n",
       "  {'vessel_id': '8c7304226-6c71-edbe-0b63-c246734b3c01',\n",
       "   'gear_types': [{'name': 'CARRIER',\n",
       "     'source': 'GFW_VESSEL_LIST',\n",
       "     'year_from': 2013,\n",
       "     'year_to': 2025}],\n",
       "   'ship_types': [{'name': 'CARRIER',\n",
       "     'source': 'GFW_VESSEL_LIST',\n",
       "     'year_from': 2013,\n",
       "     'year_to': 2025}]},\n",
       "  {'vessel_id': '0cb77880e-ee49-2ce4-a849-c0b413b6ec89',\n",
       "   'gear_types': [{'name': 'CARRIER',\n",
       "     'source': 'GFW_VESSEL_LIST',\n",
       "     'year_from': 2012,\n",
       "     'year_to': 2013}],\n",
       "   'ship_types': [{'name': 'CARRIER',\n",
       "     'source': 'GFW_VESSEL_LIST',\n",
       "     'year_from': 2012,\n",
       "     'year_to': 2013}]},\n",
       "  {'vessel_id': 'da1cd7e1b-b8d0-539c-6581-2b3df8d0a6af',\n",
       "   'gear_types': [{'name': 'CARRIER',\n",
       "     'source': 'GFW_VESSEL_LIST',\n",
       "     'year_from': 2015,\n",
       "     'year_to': 2025}],\n",
       "   'ship_types': [{'name': 'CARRIER',\n",
       "     'source': 'GFW_VESSEL_LIST',\n",
       "     'year_from': 2015,\n",
       "     'year_to': 2025}]},\n",
       "  {'vessel_id': '3c81a942b-bf0a-f476-ea72-75c02ef91f78',\n",
       "   'gear_types': [{'name': 'CARRIER',\n",
       "     'source': 'GFW_VESSEL_LIST',\n",
       "     'year_from': 2015,\n",
       "     'year_to': 2016}],\n",
       "   'ship_types': [{'name': 'CARRIER',\n",
       "     'source': 'GFW_VESSEL_LIST',\n",
       "     'year_from': 2015,\n",
       "     'year_to': 2016}]}],\n",
       " 'self_reported_info': [{'id': 'da1cd7e1b-b8d0-539c-6581-2b3df8d0a6af',\n",
       "   'ssvid': '273379740',\n",
       "   'ship_name': 'FRIO FORWIN',\n",
       "   'n_ship_name': 'FRIOFORWIN',\n",
       "   'flag': 'RUS',\n",
       "   'call_sign': 'UCRZ',\n",
       "   'imo': '9076260',\n",
       "   'messages_counter': 264024,\n",
       "   'positions_counter': 108576,\n",
       "   'source_code': ['AIS'],\n",
       "   'match_fields': 'SEVERAL_FIELDS',\n",
       "   'transmission_date_from': datetime.datetime(2015, 2, 27, 10, 59, 21, tzinfo=TzInfo(UTC)),\n",
       "   'transmission_date_to': datetime.datetime(2025, 3, 6, 23, 49, 28, tzinfo=TzInfo(UTC))},\n",
       "  {'id': '0edad163f-f53d-9ddb-5bef-f4a46be18559',\n",
       "   'ssvid': '511101495',\n",
       "   'ship_name': 'FRIO FORWIN',\n",
       "   'n_ship_name': 'FRIOFORWIN',\n",
       "   'flag': 'PLW',\n",
       "   'call_sign': 'T8A4891',\n",
       "   'imo': '9076260',\n",
       "   'messages_counter': 51874,\n",
       "   'positions_counter': 15380,\n",
       "   'source_code': ['AIS'],\n",
       "   'match_fields': 'SEVERAL_FIELDS',\n",
       "   'transmission_date_from': datetime.datetime(2024, 7, 4, 14, 27, 3, tzinfo=TzInfo(UTC)),\n",
       "   'transmission_date_to': datetime.datetime(2024, 7, 24, 14, 24, 37, tzinfo=TzInfo(UTC))},\n",
       "  {'id': '8c7304226-6c71-edbe-0b63-c246734b3c01',\n",
       "   'ssvid': '210631000',\n",
       "   'ship_name': 'FRIO FORWIN',\n",
       "   'n_ship_name': 'FRIOFORWIN',\n",
       "   'flag': 'CYP',\n",
       "   'call_sign': '5BWC3',\n",
       "   'imo': '9076260',\n",
       "   'messages_counter': 3369802,\n",
       "   'positions_counter': 1337867,\n",
       "   'source_code': ['AIS'],\n",
       "   'match_fields': 'SEVERAL_FIELDS',\n",
       "   'transmission_date_from': datetime.datetime(2013, 5, 15, 20, 18, 31, tzinfo=TzInfo(UTC)),\n",
       "   'transmission_date_to': datetime.datetime(2024, 7, 4, 14, 25, 5, tzinfo=TzInfo(UTC))},\n",
       "  {'id': '3c81a942b-bf0a-f476-ea72-75c02ef91f78',\n",
       "   'ssvid': '341346000',\n",
       "   'ship_name': 'FRIO FORWIN',\n",
       "   'n_ship_name': 'FRIOFORWIN',\n",
       "   'flag': 'KNA',\n",
       "   'call_sign': 'V4JQ3',\n",
       "   'imo': '9076260',\n",
       "   'messages_counter': 51368,\n",
       "   'positions_counter': 14491,\n",
       "   'source_code': ['AIS'],\n",
       "   'match_fields': 'SEVERAL_FIELDS',\n",
       "   'transmission_date_from': datetime.datetime(2015, 10, 30, 9, 27, 12, tzinfo=TzInfo(UTC)),\n",
       "   'transmission_date_to': datetime.datetime(2016, 3, 10, 12, 38, 35, tzinfo=TzInfo(UTC))},\n",
       "  {'id': '0cb77880e-ee49-2ce4-a849-c0b413b6ec89',\n",
       "   'ssvid': '354666000',\n",
       "   'ship_name': 'FRIO AEGEAN',\n",
       "   'n_ship_name': 'FRIOAEGEAN',\n",
       "   'flag': 'PAN',\n",
       "   'call_sign': '3FGY4',\n",
       "   'imo': '9076260',\n",
       "   'messages_counter': 120929,\n",
       "   'positions_counter': 37236,\n",
       "   'source_code': ['AIS'],\n",
       "   'match_fields': 'SEVERAL_FIELDS',\n",
       "   'transmission_date_from': datetime.datetime(2012, 1, 1, 0, 32, 48, tzinfo=TzInfo(UTC)),\n",
       "   'transmission_date_to': datetime.datetime(2013, 5, 15, 20, 25, 5, tzinfo=TzInfo(UTC))}]}"
      ]
     },
     "execution_count": 20,
     "metadata": {},
     "output_type": "execute_result"
    }
   ],
   "source": [
    "vessels.data[-1].model_dump()"
   ]
  },
  {
   "cell_type": "markdown",
   "id": "a1399d74-ba48-4017-9a3e-e8a7e51ba825",
   "metadata": {},
   "source": [
    "### Get vessel by id"
   ]
  },
  {
   "cell_type": "markdown",
   "id": "609a4aec-65b2-46b4-92d4-8b2a47dd2291",
   "metadata": {},
   "source": [
    "#### Define request parameters"
   ]
  },
  {
   "cell_type": "code",
   "execution_count": 21,
   "id": "5d67339a-9f7c-4c69-a990-e87e177298da",
   "metadata": {},
   "outputs": [],
   "source": [
    "dataset = VesselDataset.VESSEL_IDENTITY_LATEST\n",
    "id = \"8c7304226-6c71-edbe-0b63-c246734b3c01\""
   ]
  },
  {
   "cell_type": "markdown",
   "id": "00b15e33-a954-4b1a-9b2e-3eccf635d609",
   "metadata": {},
   "source": [
    "#### Get a vessel by its id"
   ]
  },
  {
   "cell_type": "code",
   "execution_count": 22,
   "id": "d69a7c78-0aa7-4843-9aa0-4466cab4115d",
   "metadata": {},
   "outputs": [],
   "source": [
    "vessel = await client.vessels.aget_vessel(id=id, dataset=dataset)"
   ]
  },
  {
   "cell_type": "code",
   "execution_count": 23,
   "id": "f30512b6-77c8-4a4c-8bd2-716e0882ef71",
   "metadata": {},
   "outputs": [
    {
     "data": {
      "text/plain": [
       "<gfwapiclient.resources.vessels.detail.models.response.VesselDetailResult at 0x107c000e0>"
      ]
     },
     "execution_count": 23,
     "metadata": {},
     "output_type": "execute_result"
    }
   ],
   "source": [
    "vessel"
   ]
  },
  {
   "cell_type": "code",
   "execution_count": 24,
   "id": "634048e0-39c1-480c-88e3-a2516d13f301",
   "metadata": {},
   "outputs": [
    {
     "data": {
      "text/plain": [
       "[RegistryInfo(id='a8d00ce54b37add7f85a35fcce8e7a1b', source_code=['GFW-REVIEW', 'IMO', 'NEAFC', 'TMT_OTHER'], ssvid='273379740', flag='RUS', ship_name='FRIO FORWIN', n_ship_name='FRIOFORWIN', call_sign='UCRZ', imo='9076260', latest_vessel_info=True, transmission_date_from=datetime.datetime(2015, 2, 27, 10, 59, 43, tzinfo=TzInfo(UTC)), transmission_date_to=datetime.datetime(2025, 2, 27, 11, 22, 25, tzinfo=TzInfo(UTC)), gear_types=['SPECIALIZED_REEFER'], length_m=126.8, tonnage_gt=6963.6, vessel_info_reference='186aeab79b33d7f5560894c4ad53a0b1', extra_fields=[ExtraField(registry_source='TMT', iuu_status=None, has_compliance_info=None, images=[], operator=None, builtYear=None, depthM=None)]),\n",
       " RegistryInfo(id='a8d00ce54b37add7f85a35fcce8e7a1b', source_code=['GFW-REVIEW', 'ICCAT', 'IMO', 'ISSF', 'NEAFC', 'RUS', 'TMT_OTHER'], ssvid='210631000', flag='CYP', ship_name='FRIO FORWIN', n_ship_name='FRIOFORWIN', call_sign='5BWC3', imo='9076260', latest_vessel_info=None, transmission_date_from=datetime.datetime(2013, 5, 15, 20, 19, 43, tzinfo=TzInfo(UTC)), transmission_date_to=datetime.datetime(2024, 7, 4, 14, 19, 36, tzinfo=TzInfo(UTC)), gear_types=['SPECIALIZED_REEFER'], length_m=126.8, tonnage_gt=6963.6, vessel_info_reference='e99af472b926d251e41457f6f1f5e9cc', extra_fields=[ExtraField(registry_source='TMT', iuu_status=None, has_compliance_info=None, images=[], operator=None, builtYear=None, depthM=None)])]"
      ]
     },
     "execution_count": 24,
     "metadata": {},
     "output_type": "execute_result"
    }
   ],
   "source": [
    "vessel.data.registry_info"
   ]
  },
  {
   "cell_type": "code",
   "execution_count": 25,
   "id": "79962fd9-924a-4f4b-bad0-d4a7f92de9d6",
   "metadata": {},
   "outputs": [
    {
     "data": {
      "text/plain": [
       "[CombinedSourceInfo(vessel_id='0edad163f-f53d-9ddb-5bef-f4a46be18559', gear_types=[GearType(name='CARRIER', source='GFW_VESSEL_LIST', year_from=2024, year_to=2025)], ship_types=[ShipType(name='CARRIER', source='GFW_VESSEL_LIST', year_from=2024, year_to=2025)]),\n",
       " CombinedSourceInfo(vessel_id='8c7304226-6c71-edbe-0b63-c246734b3c01', gear_types=[GearType(name='CARRIER', source='GFW_VESSEL_LIST', year_from=2013, year_to=2025)], ship_types=[ShipType(name='CARRIER', source='GFW_VESSEL_LIST', year_from=2013, year_to=2025)]),\n",
       " CombinedSourceInfo(vessel_id='0cb77880e-ee49-2ce4-a849-c0b413b6ec89', gear_types=[GearType(name='CARRIER', source='GFW_VESSEL_LIST', year_from=2012, year_to=2013)], ship_types=[ShipType(name='CARRIER', source='GFW_VESSEL_LIST', year_from=2012, year_to=2013)]),\n",
       " CombinedSourceInfo(vessel_id='da1cd7e1b-b8d0-539c-6581-2b3df8d0a6af', gear_types=[GearType(name='CARRIER', source='GFW_VESSEL_LIST', year_from=2015, year_to=2025)], ship_types=[ShipType(name='CARRIER', source='GFW_VESSEL_LIST', year_from=2015, year_to=2025)]),\n",
       " CombinedSourceInfo(vessel_id='3c81a942b-bf0a-f476-ea72-75c02ef91f78', gear_types=[GearType(name='CARRIER', source='GFW_VESSEL_LIST', year_from=2015, year_to=2016)], ship_types=[ShipType(name='CARRIER', source='GFW_VESSEL_LIST', year_from=2015, year_to=2016)])]"
      ]
     },
     "execution_count": 25,
     "metadata": {},
     "output_type": "execute_result"
    }
   ],
   "source": [
    "vessel.data.combined_sources_info"
   ]
  },
  {
   "cell_type": "code",
   "execution_count": 26,
   "id": "b7cf8bdf-8c70-43ec-bf39-9c6a148fd315",
   "metadata": {},
   "outputs": [
    {
     "data": {
      "text/plain": [
       "{'dataset': 'public-global-vessel-identity:v3.0',\n",
       " 'registry_info_total_records': 5,\n",
       " 'registry_info': [{'id': 'a8d00ce54b37add7f85a35fcce8e7a1b',\n",
       "   'source_code': ['GFW-REVIEW', 'IMO', 'NEAFC', 'TMT_OTHER'],\n",
       "   'ssvid': '273379740',\n",
       "   'flag': 'RUS',\n",
       "   'ship_name': 'FRIO FORWIN',\n",
       "   'n_ship_name': 'FRIOFORWIN',\n",
       "   'call_sign': 'UCRZ',\n",
       "   'imo': '9076260',\n",
       "   'latest_vessel_info': True,\n",
       "   'transmission_date_from': datetime.datetime(2015, 2, 27, 10, 59, 43, tzinfo=TzInfo(UTC)),\n",
       "   'transmission_date_to': datetime.datetime(2025, 2, 27, 11, 22, 25, tzinfo=TzInfo(UTC)),\n",
       "   'gear_types': ['SPECIALIZED_REEFER'],\n",
       "   'length_m': 126.8,\n",
       "   'tonnage_gt': 6963.6,\n",
       "   'vessel_info_reference': '186aeab79b33d7f5560894c4ad53a0b1',\n",
       "   'extra_fields': [{'registry_source': 'TMT',\n",
       "     'iuu_status': None,\n",
       "     'has_compliance_info': None,\n",
       "     'images': [],\n",
       "     'operator': None,\n",
       "     'builtYear': None,\n",
       "     'depthM': None}]},\n",
       "  {'id': 'a8d00ce54b37add7f85a35fcce8e7a1b',\n",
       "   'source_code': ['GFW-REVIEW',\n",
       "    'ICCAT',\n",
       "    'IMO',\n",
       "    'ISSF',\n",
       "    'NEAFC',\n",
       "    'RUS',\n",
       "    'TMT_OTHER'],\n",
       "   'ssvid': '210631000',\n",
       "   'flag': 'CYP',\n",
       "   'ship_name': 'FRIO FORWIN',\n",
       "   'n_ship_name': 'FRIOFORWIN',\n",
       "   'call_sign': '5BWC3',\n",
       "   'imo': '9076260',\n",
       "   'latest_vessel_info': None,\n",
       "   'transmission_date_from': datetime.datetime(2013, 5, 15, 20, 19, 43, tzinfo=TzInfo(UTC)),\n",
       "   'transmission_date_to': datetime.datetime(2024, 7, 4, 14, 19, 36, tzinfo=TzInfo(UTC)),\n",
       "   'gear_types': ['SPECIALIZED_REEFER'],\n",
       "   'length_m': 126.8,\n",
       "   'tonnage_gt': 6963.6,\n",
       "   'vessel_info_reference': 'e99af472b926d251e41457f6f1f5e9cc',\n",
       "   'extra_fields': [{'registry_source': 'TMT',\n",
       "     'iuu_status': None,\n",
       "     'has_compliance_info': None,\n",
       "     'images': [],\n",
       "     'operator': None,\n",
       "     'builtYear': None,\n",
       "     'depthM': None}]}],\n",
       " 'registry_owners': [],\n",
       " 'registry_public_authorizations': [{'date_from': datetime.datetime(2023, 1, 1, 0, 0, tzinfo=TzInfo(UTC)),\n",
       "   'date_to': datetime.datetime(2024, 12, 31, 0, 0, tzinfo=TzInfo(UTC)),\n",
       "   'ssvid': '210631000',\n",
       "   'source_code': ['ICCAT']},\n",
       "  {'date_from': datetime.datetime(2020, 1, 1, 0, 0, tzinfo=TzInfo(UTC)),\n",
       "   'date_to': datetime.datetime(2024, 12, 1, 0, 0, tzinfo=TzInfo(UTC)),\n",
       "   'ssvid': '210631000',\n",
       "   'source_code': ['NEAFC']},\n",
       "  {'date_from': datetime.datetime(2024, 8, 9, 0, 0, tzinfo=TzInfo(UTC)),\n",
       "   'date_to': datetime.datetime(2025, 2, 1, 0, 0, tzinfo=TzInfo(UTC)),\n",
       "   'ssvid': '273379740',\n",
       "   'source_code': ['NEAFC']}],\n",
       " 'combined_sources_info': [{'vessel_id': '0edad163f-f53d-9ddb-5bef-f4a46be18559',\n",
       "   'gear_types': [{'name': 'CARRIER',\n",
       "     'source': 'GFW_VESSEL_LIST',\n",
       "     'year_from': 2024,\n",
       "     'year_to': 2025}],\n",
       "   'ship_types': [{'name': 'CARRIER',\n",
       "     'source': 'GFW_VESSEL_LIST',\n",
       "     'year_from': 2024,\n",
       "     'year_to': 2025}]},\n",
       "  {'vessel_id': '8c7304226-6c71-edbe-0b63-c246734b3c01',\n",
       "   'gear_types': [{'name': 'CARRIER',\n",
       "     'source': 'GFW_VESSEL_LIST',\n",
       "     'year_from': 2013,\n",
       "     'year_to': 2025}],\n",
       "   'ship_types': [{'name': 'CARRIER',\n",
       "     'source': 'GFW_VESSEL_LIST',\n",
       "     'year_from': 2013,\n",
       "     'year_to': 2025}]},\n",
       "  {'vessel_id': '0cb77880e-ee49-2ce4-a849-c0b413b6ec89',\n",
       "   'gear_types': [{'name': 'CARRIER',\n",
       "     'source': 'GFW_VESSEL_LIST',\n",
       "     'year_from': 2012,\n",
       "     'year_to': 2013}],\n",
       "   'ship_types': [{'name': 'CARRIER',\n",
       "     'source': 'GFW_VESSEL_LIST',\n",
       "     'year_from': 2012,\n",
       "     'year_to': 2013}]},\n",
       "  {'vessel_id': 'da1cd7e1b-b8d0-539c-6581-2b3df8d0a6af',\n",
       "   'gear_types': [{'name': 'CARRIER',\n",
       "     'source': 'GFW_VESSEL_LIST',\n",
       "     'year_from': 2015,\n",
       "     'year_to': 2025}],\n",
       "   'ship_types': [{'name': 'CARRIER',\n",
       "     'source': 'GFW_VESSEL_LIST',\n",
       "     'year_from': 2015,\n",
       "     'year_to': 2025}]},\n",
       "  {'vessel_id': '3c81a942b-bf0a-f476-ea72-75c02ef91f78',\n",
       "   'gear_types': [{'name': 'CARRIER',\n",
       "     'source': 'GFW_VESSEL_LIST',\n",
       "     'year_from': 2015,\n",
       "     'year_to': 2016}],\n",
       "   'ship_types': [{'name': 'CARRIER',\n",
       "     'source': 'GFW_VESSEL_LIST',\n",
       "     'year_from': 2015,\n",
       "     'year_to': 2016}]}],\n",
       " 'self_reported_info': [{'id': 'da1cd7e1b-b8d0-539c-6581-2b3df8d0a6af',\n",
       "   'ssvid': '273379740',\n",
       "   'ship_name': 'FRIO FORWIN',\n",
       "   'n_ship_name': 'FRIOFORWIN',\n",
       "   'flag': 'RUS',\n",
       "   'call_sign': 'UCRZ',\n",
       "   'imo': '9076260',\n",
       "   'messages_counter': 264024,\n",
       "   'positions_counter': 108576,\n",
       "   'source_code': ['AIS'],\n",
       "   'match_fields': 'SEVERAL_FIELDS',\n",
       "   'transmission_date_from': datetime.datetime(2015, 2, 27, 10, 59, 21, tzinfo=TzInfo(UTC)),\n",
       "   'transmission_date_to': datetime.datetime(2025, 3, 6, 23, 49, 28, tzinfo=TzInfo(UTC))},\n",
       "  {'id': '0edad163f-f53d-9ddb-5bef-f4a46be18559',\n",
       "   'ssvid': '511101495',\n",
       "   'ship_name': 'FRIO FORWIN',\n",
       "   'n_ship_name': 'FRIOFORWIN',\n",
       "   'flag': 'PLW',\n",
       "   'call_sign': 'T8A4891',\n",
       "   'imo': '9076260',\n",
       "   'messages_counter': 51874,\n",
       "   'positions_counter': 15380,\n",
       "   'source_code': ['AIS'],\n",
       "   'match_fields': 'SEVERAL_FIELDS',\n",
       "   'transmission_date_from': datetime.datetime(2024, 7, 4, 14, 27, 3, tzinfo=TzInfo(UTC)),\n",
       "   'transmission_date_to': datetime.datetime(2024, 7, 24, 14, 24, 37, tzinfo=TzInfo(UTC))},\n",
       "  {'id': '8c7304226-6c71-edbe-0b63-c246734b3c01',\n",
       "   'ssvid': '210631000',\n",
       "   'ship_name': 'FRIO FORWIN',\n",
       "   'n_ship_name': 'FRIOFORWIN',\n",
       "   'flag': 'CYP',\n",
       "   'call_sign': '5BWC3',\n",
       "   'imo': '9076260',\n",
       "   'messages_counter': 3369802,\n",
       "   'positions_counter': 1337867,\n",
       "   'source_code': ['AIS'],\n",
       "   'match_fields': 'SEVERAL_FIELDS',\n",
       "   'transmission_date_from': datetime.datetime(2013, 5, 15, 20, 18, 31, tzinfo=TzInfo(UTC)),\n",
       "   'transmission_date_to': datetime.datetime(2024, 7, 4, 14, 25, 5, tzinfo=TzInfo(UTC))},\n",
       "  {'id': '3c81a942b-bf0a-f476-ea72-75c02ef91f78',\n",
       "   'ssvid': '341346000',\n",
       "   'ship_name': 'FRIO FORWIN',\n",
       "   'n_ship_name': 'FRIOFORWIN',\n",
       "   'flag': 'KNA',\n",
       "   'call_sign': 'V4JQ3',\n",
       "   'imo': '9076260',\n",
       "   'messages_counter': 51368,\n",
       "   'positions_counter': 14491,\n",
       "   'source_code': ['AIS'],\n",
       "   'match_fields': 'SEVERAL_FIELDS',\n",
       "   'transmission_date_from': datetime.datetime(2015, 10, 30, 9, 27, 12, tzinfo=TzInfo(UTC)),\n",
       "   'transmission_date_to': datetime.datetime(2016, 3, 10, 12, 38, 35, tzinfo=TzInfo(UTC))},\n",
       "  {'id': '0cb77880e-ee49-2ce4-a849-c0b413b6ec89',\n",
       "   'ssvid': '354666000',\n",
       "   'ship_name': 'FRIO AEGEAN',\n",
       "   'n_ship_name': 'FRIOAEGEAN',\n",
       "   'flag': 'PAN',\n",
       "   'call_sign': '3FGY4',\n",
       "   'imo': '9076260',\n",
       "   'messages_counter': 120929,\n",
       "   'positions_counter': 37236,\n",
       "   'source_code': ['AIS'],\n",
       "   'match_fields': 'SEVERAL_FIELDS',\n",
       "   'transmission_date_from': datetime.datetime(2012, 1, 1, 0, 32, 48, tzinfo=TzInfo(UTC)),\n",
       "   'transmission_date_to': datetime.datetime(2013, 5, 15, 20, 25, 5, tzinfo=TzInfo(UTC))}]}"
      ]
     },
     "execution_count": 26,
     "metadata": {},
     "output_type": "execute_result"
    }
   ],
   "source": [
    "vessel.data.model_dump()"
   ]
  },
  {
   "cell_type": "markdown",
   "id": "081322f5-b9d0-4ef9-99fc-adfede940991",
   "metadata": {},
   "source": [
    "## Events API"
   ]
  },
  {
   "cell_type": "markdown",
   "id": "0015a02c-67a1-43e9-bf12-28bd7de18f64",
   "metadata": {},
   "source": [
    "[Events API](https://globalfishingwatch.org/our-apis/documentation#events-api) allows you to explore different activities of a vessel. You can analyze:\n",
    "\n",
    "- apparent fishing events\n",
    "- encounters between these vessel types: fishing-carrier, fishing-support, fishing-bunker, fishing-fishing, tanker-fishing, carrier-bunker and support-banker.\n",
    "- loitering for all vessel types\n",
    "- port visits for all vessel types\n",
    "- AIS off (aka GAPs) for all vessel types\n",
    "\n",
    "Check more detail about data caveats [here](https://globalfishingwatch.org/our-apis/documentation#data-caveat).\n"
   ]
  },
  {
   "cell_type": "markdown",
   "id": "b9566c19-d2d4-4ace-9cbe-d9b669819926",
   "metadata": {},
   "source": [
    "### Import necessary data types"
   ]
  },
  {
   "cell_type": "code",
   "execution_count": 27,
   "id": "a96b1a4b-6956-47cd-91d8-b9cbd201f046",
   "metadata": {},
   "outputs": [],
   "source": [
    "from gfwapiclient.resources.events.base.enums import EventDataset"
   ]
  },
  {
   "cell_type": "markdown",
   "id": "a68bf4eb-26ee-4f36-9d89-2a98bc252817",
   "metadata": {},
   "source": [
    "### Get All Events"
   ]
  },
  {
   "cell_type": "markdown",
   "id": "ff55290f-eaed-495d-bdc2-17444cd17476",
   "metadata": {},
   "source": [
    "#### Define request parameters"
   ]
  },
  {
   "cell_type": "code",
   "execution_count": 28,
   "id": "6b4c99b3-e60e-4f8b-a03c-486ab89ec567",
   "metadata": {},
   "outputs": [],
   "source": [
    "datasets = [EventDataset.FISHING_EVENTS_LATEST]\n",
    "start_date = datetime.date.fromisoformat(\"2017-01-01\")\n",
    "end_date = datetime.date.fromisoformat(\"2017-01-31\")\n",
    "limit = 1\n",
    "offset = 0"
   ]
  },
  {
   "cell_type": "markdown",
   "id": "5e37966b-7486-411e-a6c6-e3ba749147e3",
   "metadata": {},
   "source": [
    "#### Get all events"
   ]
  },
  {
   "cell_type": "code",
   "execution_count": 29,
   "id": "88a54cf9-c999-4c56-9913-c4b438bfbbef",
   "metadata": {},
   "outputs": [],
   "source": [
    "events = await client.events.aget_events(\n",
    "    datasets=datasets,\n",
    "    start_date=start_date,\n",
    "    end_date=end_date,\n",
    "    limit=limit,\n",
    "    offset=offset,\n",
    ")"
   ]
  },
  {
   "cell_type": "code",
   "execution_count": 30,
   "id": "97b108d1-957b-470b-8470-7887bb504e6a",
   "metadata": {},
   "outputs": [
    {
     "data": {
      "text/plain": [
       "<gfwapiclient.resources.events.list.models.response.EventListResult at 0x1288e9ee0>"
      ]
     },
     "execution_count": 30,
     "metadata": {},
     "output_type": "execute_result"
    }
   ],
   "source": [
    "events"
   ]
  },
  {
   "cell_type": "code",
   "execution_count": 31,
   "id": "d1318432-9037-4e62-8311-f050a953adf4",
   "metadata": {},
   "outputs": [
    {
     "data": {
      "text/plain": [
       "EventListItem(start=datetime.datetime(2016, 12, 17, 20, 57, 49, tzinfo=TzInfo(UTC)), end=datetime.datetime(2017, 1, 4, 17, 27, 1, tzinfo=TzInfo(UTC)), id='3ca9b73aee21fbf278a636709e0f8f03', type='fishing', position=EventPosition(lat=54.9204, lon=-5.5465), regions=EventRegions(mpa=['555624876', '555786438', '555786428', '555557202'], eez=['5696'], rfmo=['ICCAT', 'NASCO', 'ICES', 'NEAFC', 'ACAP', 'IWC', 'NAMMCO'], fao=['27.6', '27', '27.6.a', '27.7.a', '27.7'], major_fao=['27'], eez_12_nm=['5696'], high_seas=[], mpa_no_take_partial=[], mpa_no_take=[]), bounding_box=[-5.3292866667, 54.775575, -5.943021666699991, 55.0624116667], distances=EventDistances(start_distance_from_shore_km=14.0, end_distance_from_shore_km=2.0, start_distance_from_port_km=15.019969999999999, end_distance_from_port_km=7.348033999999999), vessel=EventVessel(id='126570026-6217-2a10-f383-a42f66f78ea7', name='NORTHERN VIKING', ssvid='235063795', flag='GBR', type='fishing', public_authorizations=[EventVesselPublicAuthorization(has_publicly_listed_authorization='false', rfmo='ICCAT')]), encounter=None, fishing=EventFishing(total_distance_km=1442.4600248679237, average_speed_knots=1.8645614012351113, average_duration_hours=None, potential_risk=False, vessel_public_authorization_status='not_matching_relevant_public_authorization'), gap=None, loitering=None, port_visit=None)"
      ]
     },
     "execution_count": 31,
     "metadata": {},
     "output_type": "execute_result"
    }
   ],
   "source": [
    "events.data[-1]"
   ]
  },
  {
   "cell_type": "code",
   "execution_count": 32,
   "id": "4b8fe029-54a0-4006-a393-df0ad67b78c7",
   "metadata": {},
   "outputs": [
    {
     "data": {
      "text/plain": [
       "{'start': datetime.datetime(2016, 12, 17, 20, 57, 49, tzinfo=TzInfo(UTC)),\n",
       " 'end': datetime.datetime(2017, 1, 4, 17, 27, 1, tzinfo=TzInfo(UTC)),\n",
       " 'id': '3ca9b73aee21fbf278a636709e0f8f03',\n",
       " 'type': 'fishing',\n",
       " 'position': {'lat': 54.9204, 'lon': -5.5465},\n",
       " 'regions': {'mpa': ['555624876', '555786438', '555786428', '555557202'],\n",
       "  'eez': ['5696'],\n",
       "  'rfmo': ['ICCAT', 'NASCO', 'ICES', 'NEAFC', 'ACAP', 'IWC', 'NAMMCO'],\n",
       "  'fao': ['27.6', '27', '27.6.a', '27.7.a', '27.7'],\n",
       "  'major_fao': ['27'],\n",
       "  'eez_12_nm': ['5696'],\n",
       "  'high_seas': [],\n",
       "  'mpa_no_take_partial': [],\n",
       "  'mpa_no_take': []},\n",
       " 'bounding_box': [-5.3292866667, 54.775575, -5.943021666699991, 55.0624116667],\n",
       " 'distances': {'start_distance_from_shore_km': 14.0,\n",
       "  'end_distance_from_shore_km': 2.0,\n",
       "  'start_distance_from_port_km': 15.019969999999999,\n",
       "  'end_distance_from_port_km': 7.348033999999999},\n",
       " 'vessel': {'id': '126570026-6217-2a10-f383-a42f66f78ea7',\n",
       "  'name': 'NORTHERN VIKING',\n",
       "  'ssvid': '235063795',\n",
       "  'flag': 'GBR',\n",
       "  'type': 'fishing',\n",
       "  'public_authorizations': [{'has_publicly_listed_authorization': 'false',\n",
       "    'rfmo': 'ICCAT'}]},\n",
       " 'encounter': None,\n",
       " 'fishing': {'total_distance_km': 1442.4600248679237,\n",
       "  'average_speed_knots': 1.8645614012351113,\n",
       "  'average_duration_hours': None,\n",
       "  'potential_risk': False,\n",
       "  'vessel_public_authorization_status': 'not_matching_relevant_public_authorization'},\n",
       " 'gap': None,\n",
       " 'loitering': None,\n",
       " 'port_visit': None}"
      ]
     },
     "execution_count": 32,
     "metadata": {},
     "output_type": "execute_result"
    }
   ],
   "source": [
    "events.data[-1].model_dump()"
   ]
  },
  {
   "cell_type": "markdown",
   "id": "b993da08-a19d-4298-b514-3535b03c4242",
   "metadata": {},
   "source": [
    "### Get one by Event ID"
   ]
  },
  {
   "cell_type": "markdown",
   "id": "118f6137-a092-46b3-82b6-25b50ab76e60",
   "metadata": {},
   "source": [
    "#### Define request parameters"
   ]
  },
  {
   "cell_type": "code",
   "execution_count": 33,
   "id": "5675fce2-c95d-46ad-8ef3-7371cbf5b5a3",
   "metadata": {},
   "outputs": [],
   "source": [
    "id = \"3ca9b73aee21fbf278a636709e0f8f03\"\n",
    "dataset = EventDataset.FISHING_EVENTS_LATEST"
   ]
  },
  {
   "cell_type": "markdown",
   "id": "07167e31-9d6e-4634-b726-fedbe3e8f359",
   "metadata": {},
   "source": [
    "#### Get event by ID"
   ]
  },
  {
   "cell_type": "code",
   "execution_count": 34,
   "id": "3b9356fb-1708-4e15-9132-b9399775d3bf",
   "metadata": {},
   "outputs": [],
   "source": [
    "event = await client.events.aget_event(id=id, dataset=dataset)"
   ]
  },
  {
   "cell_type": "code",
   "execution_count": 35,
   "id": "ea059364-7666-45cc-931b-19dc7af1e091",
   "metadata": {},
   "outputs": [
    {
     "data": {
      "text/plain": [
       "<gfwapiclient.resources.events.detail.models.response.EventDetailResult at 0x1288eb2c0>"
      ]
     },
     "execution_count": 35,
     "metadata": {},
     "output_type": "execute_result"
    }
   ],
   "source": [
    "event"
   ]
  },
  {
   "cell_type": "code",
   "execution_count": 36,
   "id": "7af51620-7e31-456a-b5aa-4ae3647bda2d",
   "metadata": {},
   "outputs": [
    {
     "data": {
      "text/plain": [
       "'3ca9b73aee21fbf278a636709e0f8f03'"
      ]
     },
     "execution_count": 36,
     "metadata": {},
     "output_type": "execute_result"
    }
   ],
   "source": [
    "event.data.id"
   ]
  },
  {
   "cell_type": "code",
   "execution_count": 37,
   "id": "067202fd-0428-4fd1-b0f0-07affa72a0e2",
   "metadata": {},
   "outputs": [
    {
     "data": {
      "text/plain": [
       "EventDistances(start_distance_from_shore_km=14.0, end_distance_from_shore_km=2.0, start_distance_from_port_km=15.019969999999999, end_distance_from_port_km=7.348033999999999)"
      ]
     },
     "execution_count": 37,
     "metadata": {},
     "output_type": "execute_result"
    }
   ],
   "source": [
    "event.data.distances"
   ]
  },
  {
   "cell_type": "code",
   "execution_count": 38,
   "id": "d7a7deb8-ec8e-4c8c-8958-4759b66dd2d5",
   "metadata": {},
   "outputs": [
    {
     "data": {
      "text/plain": [
       "{'start': datetime.datetime(2016, 12, 17, 20, 57, 49, tzinfo=TzInfo(UTC)),\n",
       " 'end': datetime.datetime(2017, 1, 4, 17, 27, 1, tzinfo=TzInfo(UTC)),\n",
       " 'id': '3ca9b73aee21fbf278a636709e0f8f03',\n",
       " 'type': 'fishing',\n",
       " 'position': {'lat': 54.9204, 'lon': -5.5465},\n",
       " 'regions': {'mpa': ['555624876', '555786438', '555786428', '555557202'],\n",
       "  'eez': ['5696'],\n",
       "  'rfmo': ['ICCAT', 'NASCO', 'ICES', 'NEAFC', 'ACAP', 'IWC', 'NAMMCO'],\n",
       "  'fao': ['27.6', '27', '27.6.a', '27.7.a', '27.7'],\n",
       "  'major_fao': ['27'],\n",
       "  'eez_12_nm': ['5696'],\n",
       "  'high_seas': [],\n",
       "  'mpa_no_take_partial': [],\n",
       "  'mpa_no_take': []},\n",
       " 'bounding_box': [-5.3292866667, 54.775575, -5.943021666699991, 55.0624116667],\n",
       " 'distances': {'start_distance_from_shore_km': 14.0,\n",
       "  'end_distance_from_shore_km': 2.0,\n",
       "  'start_distance_from_port_km': 15.019969999999999,\n",
       "  'end_distance_from_port_km': 7.348033999999999},\n",
       " 'vessel': {'id': '126570026-6217-2a10-f383-a42f66f78ea7',\n",
       "  'name': 'NORTHERN VIKING',\n",
       "  'ssvid': '235063795',\n",
       "  'flag': 'GBR',\n",
       "  'type': 'fishing',\n",
       "  'public_authorizations': [{'has_publicly_listed_authorization': 'false',\n",
       "    'rfmo': 'ICCAT'}]},\n",
       " 'encounter': None,\n",
       " 'fishing': {'total_distance_km': 1442.4600248679237,\n",
       "  'average_speed_knots': 1.8645614012351113,\n",
       "  'average_duration_hours': None,\n",
       "  'potential_risk': False,\n",
       "  'vessel_public_authorization_status': 'not_matching_relevant_public_authorization'},\n",
       " 'gap': None,\n",
       " 'loitering': None,\n",
       " 'port_visit': None}"
      ]
     },
     "execution_count": 38,
     "metadata": {},
     "output_type": "execute_result"
    }
   ],
   "source": [
    "event.data.model_dump()"
   ]
  },
  {
   "cell_type": "markdown",
   "id": "41f1ff63-0e5b-44b2-b685-77dec7aa7cc4",
   "metadata": {},
   "source": [
    "### Statistics on events"
   ]
  },
  {
   "cell_type": "markdown",
   "id": "8b3fcbdb-8765-4d26-8bcc-34321be55a20",
   "metadata": {},
   "source": [
    "Get events statistics worldwide or for a specific region."
   ]
  },
  {
   "cell_type": "markdown",
   "id": "859aaefa-3ede-4173-b897-998f19ef0834",
   "metadata": {},
   "source": [
    "#### Define request parameters"
   ]
  },
  {
   "cell_type": "code",
   "execution_count": 39,
   "id": "20b6d76f-d9cd-4980-9966-6c546747b04c",
   "metadata": {},
   "outputs": [],
   "source": [
    "datasets = [EventDataset.FISHING_EVENTS_LATEST]\n",
    "start_date = datetime.date.fromisoformat(\"2018-01-01\")\n",
    "end_date = datetime.date.fromisoformat(\"2023-01-31\")"
   ]
  },
  {
   "cell_type": "markdown",
   "id": "8263dae3-32c2-4d9a-8b18-ee2b57fa88b6",
   "metadata": {},
   "source": [
    "#### Get event statistics"
   ]
  },
  {
   "cell_type": "code",
   "execution_count": 40,
   "id": "dd4a5e73-e377-4ef5-b822-5c68790dd732",
   "metadata": {},
   "outputs": [],
   "source": [
    "event_stats = await client.events.aget_event_stats(\n",
    "    datasets=datasets,\n",
    "    start_date=start_date,\n",
    "    end_date=end_date,\n",
    ")"
   ]
  },
  {
   "cell_type": "code",
   "execution_count": 41,
   "id": "7b554022-02a7-4a77-a2b4-194396bb2f36",
   "metadata": {},
   "outputs": [
    {
     "data": {
      "text/plain": [
       "<gfwapiclient.resources.events.stats.models.response.EventStatsResult at 0x107e7d2b0>"
      ]
     },
     "execution_count": 41,
     "metadata": {},
     "output_type": "execute_result"
    }
   ],
   "source": [
    "event_stats"
   ]
  },
  {
   "cell_type": "code",
   "execution_count": 42,
   "id": "3541d2ad-62fa-466d-b0f2-0d01c841be22",
   "metadata": {},
   "outputs": [
    {
     "data": {
      "text/plain": [
       "(27628441, 228, 290857)"
      ]
     },
     "execution_count": 42,
     "metadata": {},
     "output_type": "execute_result"
    }
   ],
   "source": [
    "event_stats.data.num_events, event_stats.data.num_flags, event_stats.data.num_vessels"
   ]
  },
  {
   "cell_type": "code",
   "execution_count": 43,
   "id": "2faf9aee-c212-4899-9edc-f06ede59dba9",
   "metadata": {},
   "outputs": [
    {
     "data": {
      "text/plain": [
       "[EventStatsTimeSeries(date=datetime.datetime(2018, 1, 1, 0, 0, tzinfo=TzInfo(UTC)), value=4462237),\n",
       " EventStatsTimeSeries(date=datetime.datetime(2019, 1, 1, 0, 0, tzinfo=TzInfo(UTC)), value=4791179),\n",
       " EventStatsTimeSeries(date=datetime.datetime(2020, 1, 1, 0, 0, tzinfo=TzInfo(UTC)), value=4883901),\n",
       " EventStatsTimeSeries(date=datetime.datetime(2021, 1, 1, 0, 0, tzinfo=TzInfo(UTC)), value=5267339),\n",
       " EventStatsTimeSeries(date=datetime.datetime(2022, 1, 1, 0, 0, tzinfo=TzInfo(UTC)), value=7615881),\n",
       " EventStatsTimeSeries(date=datetime.datetime(2023, 1, 1, 0, 0, tzinfo=TzInfo(UTC)), value=605760)]"
      ]
     },
     "execution_count": 43,
     "metadata": {},
     "output_type": "execute_result"
    }
   ],
   "source": [
    "event_stats.data.timeseries"
   ]
  },
  {
   "cell_type": "code",
   "execution_count": 44,
   "id": "f887720d-635a-4592-90a0-74d00cf70c4b",
   "metadata": {},
   "outputs": [
    {
     "data": {
      "text/plain": [
       "{'num_events': 27628441,\n",
       " 'num_flags': 228,\n",
       " 'num_vessels': 290857,\n",
       " 'flags': ['',\n",
       "  'ARM',\n",
       "  'VIR',\n",
       "  'TCA',\n",
       "  'SAU',\n",
       "  'URY',\n",
       "  'SOM',\n",
       "  'JOR',\n",
       "  'KAZ',\n",
       "  'BGD',\n",
       "  'TGO',\n",
       "  'DMA',\n",
       "  'IDN',\n",
       "  'KHM',\n",
       "  'SYC',\n",
       "  'VEN',\n",
       "  'AIA',\n",
       "  'ESP',\n",
       "  'BTN',\n",
       "  'MLT',\n",
       "  'TWN',\n",
       "  'CYP',\n",
       "  'FRO',\n",
       "  'ROU',\n",
       "  'HTI',\n",
       "  'CUB',\n",
       "  'BLR',\n",
       "  'MYS',\n",
       "  'GRD',\n",
       "  'BDI',\n",
       "  'TUV',\n",
       "  'ABW',\n",
       "  'MNP',\n",
       "  'MWI',\n",
       "  'BRA',\n",
       "  'HUN',\n",
       "  'GRL',\n",
       "  'KOR',\n",
       "  'ZAF',\n",
       "  'AFG',\n",
       "  'PNG',\n",
       "  'BEN',\n",
       "  'LBN',\n",
       "  'PHL',\n",
       "  'RUS',\n",
       "  'BFA',\n",
       "  'NIU',\n",
       "  'SSD',\n",
       "  'TZA',\n",
       "  'DJI',\n",
       "  'MDG',\n",
       "  'TJK',\n",
       "  'THA',\n",
       "  'GBR',\n",
       "  'AUT',\n",
       "  'DNK',\n",
       "  'USA',\n",
       "  'NOR',\n",
       "  'VCT',\n",
       "  'CAN',\n",
       "  'SWZ',\n",
       "  'AZE',\n",
       "  'PYF',\n",
       "  'KGZ',\n",
       "  'SRB',\n",
       "  'QAT',\n",
       "  'FJI',\n",
       "  'CCK',\n",
       "  'IRN',\n",
       "  'NIC',\n",
       "  'KWT',\n",
       "  'IRQ',\n",
       "  'CIV',\n",
       "  'ISL',\n",
       "  'MTQ',\n",
       "  'PRK',\n",
       "  'TUN',\n",
       "  'PRI',\n",
       "  'BGR',\n",
       "  'MNE',\n",
       "  'SDN',\n",
       "  'LSO',\n",
       "  'SMR',\n",
       "  'TUR',\n",
       "  'TKM',\n",
       "  'PRT',\n",
       "  'NLD',\n",
       "  'NPL',\n",
       "  'GHA',\n",
       "  'GTM',\n",
       "  'DZA',\n",
       "  'MUS',\n",
       "  'BHR',\n",
       "  'CAF',\n",
       "  'EST',\n",
       "  'BHS',\n",
       "  'BOL',\n",
       "  'YEM',\n",
       "  'KIR',\n",
       "  'COL',\n",
       "  'GEO',\n",
       "  'CPV',\n",
       "  'DOM',\n",
       "  'NCL',\n",
       "  'PRY',\n",
       "  'MDV',\n",
       "  'LBR',\n",
       "  'FRA',\n",
       "  'SLB',\n",
       "  'COK',\n",
       "  'ETH',\n",
       "  'OMN',\n",
       "  'MNG',\n",
       "  'LIE',\n",
       "  'GIB',\n",
       "  'PLW',\n",
       "  'VNM',\n",
       "  'KNA',\n",
       "  'BIH',\n",
       "  'BWA',\n",
       "  'SEN',\n",
       "  'FLK',\n",
       "  'SUR',\n",
       "  'BEL',\n",
       "  'HKG',\n",
       "  'LTU',\n",
       "  'LBY',\n",
       "  'ZWE',\n",
       "  'MLI',\n",
       "  'WSM',\n",
       "  'SPM',\n",
       "  'KEN',\n",
       "  'BLZ',\n",
       "  'MHL',\n",
       "  'ARG',\n",
       "  'JAM',\n",
       "  'CYM',\n",
       "  'GMB',\n",
       "  'RWA',\n",
       "  'LKA',\n",
       "  'CMR',\n",
       "  'ECU',\n",
       "  'MSR',\n",
       "  'VAT',\n",
       "  'GNQ',\n",
       "  'MAC',\n",
       "  'GIN',\n",
       "  'EGY',\n",
       "  'PAN',\n",
       "  'LUX',\n",
       "  'MOZ',\n",
       "  'POL',\n",
       "  'GAB',\n",
       "  'IRL',\n",
       "  'MRT',\n",
       "  'DEU',\n",
       "  'SWE',\n",
       "  'ISR',\n",
       "  'SLE',\n",
       "  'ATF',\n",
       "  'WLF',\n",
       "  'JPN',\n",
       "  'NGA',\n",
       "  'GLP',\n",
       "  'HRV',\n",
       "  'LCA',\n",
       "  'NER',\n",
       "  'LVA',\n",
       "  'AGO',\n",
       "  'ERI',\n",
       "  'ATG',\n",
       "  'NAM',\n",
       "  'CHE',\n",
       "  'REU',\n",
       "  'BES',\n",
       "  'SGP',\n",
       "  'CRI',\n",
       "  'TTO',\n",
       "  'UKR',\n",
       "  'GUY',\n",
       "  'ASM',\n",
       "  'GUF',\n",
       "  'UGA',\n",
       "  'MMR',\n",
       "  'COD',\n",
       "  'BRN',\n",
       "  'PAK',\n",
       "  'ARE',\n",
       "  'BMU',\n",
       "  'ITA',\n",
       "  'CZE',\n",
       "  'MAR',\n",
       "  'LAO',\n",
       "  'ALB',\n",
       "  'VUT',\n",
       "  'COG',\n",
       "  'MCO',\n",
       "  'HND',\n",
       "  'SVN',\n",
       "  'NZL',\n",
       "  'BRB',\n",
       "  'GRC',\n",
       "  'VGB',\n",
       "  'SYR',\n",
       "  'PCN',\n",
       "  'FSM',\n",
       "  'PER',\n",
       "  'CXR',\n",
       "  'ZMB',\n",
       "  'SVK',\n",
       "  'AND',\n",
       "  'COM',\n",
       "  'CHN',\n",
       "  'MDA',\n",
       "  'AUS',\n",
       "  'FIN',\n",
       "  'SLV',\n",
       "  'MKD',\n",
       "  'CHL',\n",
       "  'MEX',\n",
       "  'TON',\n",
       "  'STP',\n",
       "  'NRU',\n",
       "  'SHN',\n",
       "  'UZB',\n",
       "  'GNB',\n",
       "  'IND',\n",
       "  'PSE'],\n",
       " 'timeseries': [{'date': datetime.datetime(2018, 1, 1, 0, 0, tzinfo=TzInfo(UTC)),\n",
       "   'value': 4462237},\n",
       "  {'date': datetime.datetime(2019, 1, 1, 0, 0, tzinfo=TzInfo(UTC)),\n",
       "   'value': 4791179},\n",
       "  {'date': datetime.datetime(2020, 1, 1, 0, 0, tzinfo=TzInfo(UTC)),\n",
       "   'value': 4883901},\n",
       "  {'date': datetime.datetime(2021, 1, 1, 0, 0, tzinfo=TzInfo(UTC)),\n",
       "   'value': 5267339},\n",
       "  {'date': datetime.datetime(2022, 1, 1, 0, 0, tzinfo=TzInfo(UTC)),\n",
       "   'value': 7615881},\n",
       "  {'date': datetime.datetime(2023, 1, 1, 0, 0, tzinfo=TzInfo(UTC)),\n",
       "   'value': 605760}]}"
      ]
     },
     "execution_count": 44,
     "metadata": {},
     "output_type": "execute_result"
    }
   ],
   "source": [
    "event_stats.data.model_dump()"
   ]
  },
  {
   "cell_type": "markdown",
   "id": "229901e1-53ad-440a-a3c0-58506756a875",
   "metadata": {},
   "source": [
    "## Insights API"
   ]
  },
  {
   "cell_type": "markdown",
   "id": "5f573c15-0404-420a-bc24-11d4cc87f967",
   "metadata": {},
   "source": [
    "The [Insights API](https://globalfishingwatch.org/our-apis/documentation#insights-api) is a set of indicators or `vessel insights` that bring together important information on a vessel's known activity (based on AIS), vessel identity information and public authorizations. The objective of the insights is to support risk-based decision-making, operational planning, and other due diligence activities by making it easier for a user to identify vessel characteristics that can indicate an increased potential or opportunity for a vessel to engage in IUU (Illegal, Unreported, or Unregulated) fishing.\n"
   ]
  },
  {
   "cell_type": "markdown",
   "id": "fa89dba2-ea1b-4df8-90b8-b93cef9c0233",
   "metadata": {},
   "source": [
    "### Insights by vessels"
   ]
  },
  {
   "cell_type": "markdown",
   "id": "f4b0ca41-a43a-497c-b977-3dbd9691debf",
   "metadata": {},
   "source": [
    "This endpoint allow to get vessel insights for one or several vessels"
   ]
  },
  {
   "cell_type": "markdown",
   "id": "bd531c7d-5d33-47ae-9409-fa0fc8091aab",
   "metadata": {},
   "source": [
    "#### Import necessary data types"
   ]
  },
  {
   "cell_type": "code",
   "execution_count": 45,
   "id": "b7f57309-2fc8-4485-b940-d99f56b9493b",
   "metadata": {},
   "outputs": [],
   "source": [
    "from gfwapiclient.resources.insights.models.request import (\n",
    "    VesselInsightIdBody,\n",
    "    VesselInsightInclude,\n",
    ")"
   ]
  },
  {
   "cell_type": "markdown",
   "id": "7d8c45ae-d55f-4f53-ae99-65240d8d5d07",
   "metadata": {},
   "source": [
    "#### Define request parameters"
   ]
  },
  {
   "cell_type": "code",
   "execution_count": 46,
   "id": "13cb0dd6-f75c-428a-a491-69019e230374",
   "metadata": {},
   "outputs": [],
   "source": [
    "start_date = datetime.date.fromisoformat(\"2020-01-01\")\n",
    "end_date = datetime.date.fromisoformat(\"2025-03-03\")\n",
    "\n",
    "vessels = [\n",
    "    VesselInsightIdBody(\n",
    "        dataset_id=\"public-global-vessel-identity:latest\",\n",
    "        vessel_id=\"2d26aa452-2d4f-4cae-2ec4-377f85e88dcb\",\n",
    "    ),\n",
    "]"
   ]
  },
  {
   "cell_type": "markdown",
   "id": "73f84969-6dca-4cb3-aeac-7d8d330b442d",
   "metadata": {},
   "source": [
    "#### Get any apparent fishing insights of vessels"
   ]
  },
  {
   "cell_type": "code",
   "execution_count": 47,
   "id": "f206a36c-f49d-4318-b0bb-8b6b21f58731",
   "metadata": {},
   "outputs": [],
   "source": [
    "includes = [\n",
    "    VesselInsightInclude.FISHING,\n",
    "]"
   ]
  },
  {
   "cell_type": "code",
   "execution_count": 48,
   "id": "649d7f90-e1b9-485d-8f4f-b459ce573d46",
   "metadata": {},
   "outputs": [],
   "source": [
    "fishing_insights = await client.insights.aget_vessel_insights(\n",
    "    includes=includes,\n",
    "    start_date=start_date,\n",
    "    end_date=end_date,\n",
    "    vessels=vessels,\n",
    ")"
   ]
  },
  {
   "cell_type": "code",
   "execution_count": 49,
   "id": "72224434-f8ab-411f-b1b5-09a421ce4e60",
   "metadata": {},
   "outputs": [
    {
     "data": {
      "text/plain": [
       "<gfwapiclient.resources.insights.models.response.VesselInsightResult at 0x1288ea9f0>"
      ]
     },
     "execution_count": 49,
     "metadata": {},
     "output_type": "execute_result"
    }
   ],
   "source": [
    "fishing_insights"
   ]
  },
  {
   "cell_type": "code",
   "execution_count": 50,
   "id": "76fab5b1-d243-4ab7-8baf-f5c0dce8e631",
   "metadata": {},
   "outputs": [
    {
     "data": {
      "text/plain": [
       "{'period': {'start_date': datetime.date(2020, 1, 1),\n",
       "  'end_date': datetime.date(2025, 3, 3)},\n",
       " 'vessel_ids_without_identity': None,\n",
       " 'gap': None,\n",
       " 'coverage': None,\n",
       " 'apparent_fishing': {'datasets': ['public-global-fishing-events:v3.0'],\n",
       "  'historical_counters': None,\n",
       "  'period_selected_counters': {'events': 0,\n",
       "   'events_gap_off': None,\n",
       "   'events_in_rfmo_without_known_authorization': 0,\n",
       "   'events_in_no_take_mpas': 0},\n",
       "  'events_in_rfmo_without_known_authorization': [],\n",
       "  'events_in_no_take_mpas': []},\n",
       " 'vessel_identity': None}"
      ]
     },
     "execution_count": 50,
     "metadata": {},
     "output_type": "execute_result"
    }
   ],
   "source": [
    "fishing_insights.data.model_dump()"
   ]
  },
  {
   "cell_type": "markdown",
   "id": "461850e6-10a1-4dc5-bad8-1a2737df6491",
   "metadata": {},
   "source": [
    "#### Get being present on an RFMO IUU vessel list insights of vessels"
   ]
  },
  {
   "cell_type": "code",
   "execution_count": 51,
   "id": "8b86df3a-3b77-4c1b-af52-e676a8fa73e2",
   "metadata": {},
   "outputs": [],
   "source": [
    "includes = [\n",
    "    VesselInsightInclude.VESSEL_IDENTITY_IUU_VESSEL_LIST,\n",
    "]"
   ]
  },
  {
   "cell_type": "code",
   "execution_count": 52,
   "id": "19d4bfe2-8578-4ce2-bac0-5b27f8b21891",
   "metadata": {},
   "outputs": [],
   "source": [
    "iuu_insights = await client.insights.aget_vessel_insights(\n",
    "    includes=includes,\n",
    "    start_date=start_date,\n",
    "    end_date=end_date,\n",
    "    vessels=vessels,\n",
    ")"
   ]
  },
  {
   "cell_type": "code",
   "execution_count": 53,
   "id": "c9ec285a-d1c9-4d9a-a3d4-e7095b410e8f",
   "metadata": {},
   "outputs": [
    {
     "data": {
      "text/plain": [
       "<gfwapiclient.resources.insights.models.response.VesselInsightResult at 0x1288ebfb0>"
      ]
     },
     "execution_count": 53,
     "metadata": {},
     "output_type": "execute_result"
    }
   ],
   "source": [
    "iuu_insights"
   ]
  },
  {
   "cell_type": "code",
   "execution_count": 54,
   "id": "ad9bd852-959d-4ab1-aa09-32d4195c9b76",
   "metadata": {},
   "outputs": [
    {
     "data": {
      "text/plain": [
       "{'period': {'start_date': datetime.date(2020, 1, 1),\n",
       "  'end_date': datetime.date(2025, 3, 3)},\n",
       " 'vessel_ids_without_identity': None,\n",
       " 'gap': None,\n",
       " 'coverage': None,\n",
       " 'apparent_fishing': None,\n",
       " 'vessel_identity': {'datasets': ['public-global-vessel-identity:v3.0'],\n",
       "  'iuu_vessel_list': {'values_in_the_period': [],\n",
       "   'total_times_listed': 0,\n",
       "   'total_times_listed_in_the_period': 0}}}"
      ]
     },
     "execution_count": 54,
     "metadata": {},
     "output_type": "execute_result"
    }
   ],
   "source": [
    "iuu_insights.data.model_dump()"
   ]
  },
  {
   "cell_type": "markdown",
   "id": "3d43b28b-4521-45bd-a63a-3d152062ff63",
   "metadata": {},
   "source": [
    "#### Get AIS off insights of vessels"
   ]
  },
  {
   "cell_type": "code",
   "execution_count": 55,
   "id": "ee45cba7-26e1-4753-8701-4228bfdd1a5c",
   "metadata": {},
   "outputs": [],
   "source": [
    "includes = [\n",
    "    VesselInsightInclude.GAP,\n",
    "]"
   ]
  },
  {
   "cell_type": "code",
   "execution_count": 56,
   "id": "0265012a-9650-44ef-bda9-4b84417b14c0",
   "metadata": {},
   "outputs": [],
   "source": [
    "gap_insights = await client.insights.aget_vessel_insights(\n",
    "    includes=includes,\n",
    "    start_date=start_date,\n",
    "    end_date=end_date,\n",
    "    vessels=vessels,\n",
    ")"
   ]
  },
  {
   "cell_type": "code",
   "execution_count": 57,
   "id": "0669e946-5e20-4ba2-b06a-2f936858b42e",
   "metadata": {},
   "outputs": [
    {
     "data": {
      "text/plain": [
       "<gfwapiclient.resources.insights.models.response.VesselInsightResult at 0x10743f710>"
      ]
     },
     "execution_count": 57,
     "metadata": {},
     "output_type": "execute_result"
    }
   ],
   "source": [
    "gap_insights"
   ]
  },
  {
   "cell_type": "code",
   "execution_count": 58,
   "id": "8ea3a5b3-c30b-40ee-bbd7-8949b2f1839e",
   "metadata": {},
   "outputs": [
    {
     "data": {
      "text/plain": [
       "{'period': {'start_date': datetime.date(2020, 1, 1),\n",
       "  'end_date': datetime.date(2025, 3, 3)},\n",
       " 'vessel_ids_without_identity': None,\n",
       " 'gap': {'datasets': ['public-global-gaps-events:v3.0'],\n",
       "  'historical_counters': None,\n",
       "  'period_selected_counters': {'events': 0,\n",
       "   'events_gap_off': 0,\n",
       "   'events_in_rfmo_without_known_authorization': None,\n",
       "   'events_in_no_take_mpas': None},\n",
       "  'ais_off': []},\n",
       " 'coverage': None,\n",
       " 'apparent_fishing': None,\n",
       " 'vessel_identity': None}"
      ]
     },
     "execution_count": 58,
     "metadata": {},
     "output_type": "execute_result"
    }
   ],
   "source": [
    "gap_insights.data.model_dump()"
   ]
  },
  {
   "cell_type": "markdown",
   "id": "55edd11d-4f99-401f-bf72-66522a1f81cb",
   "metadata": {},
   "source": [
    "#### Get AIS coverage metric insights of vessels"
   ]
  },
  {
   "cell_type": "code",
   "execution_count": 59,
   "id": "65569aab-016d-48e7-8cce-f4d0a41a1f28",
   "metadata": {},
   "outputs": [],
   "source": [
    "includes = [\n",
    "    VesselInsightInclude.COVERAGE,\n",
    "]"
   ]
  },
  {
   "cell_type": "code",
   "execution_count": 60,
   "id": "8d484720-45a9-4151-b698-17355dffa3e4",
   "metadata": {},
   "outputs": [],
   "source": [
    "coverage_insights = await client.insights.aget_vessel_insights(\n",
    "    includes=includes,\n",
    "    start_date=start_date,\n",
    "    end_date=end_date,\n",
    "    vessels=vessels,\n",
    ")"
   ]
  },
  {
   "cell_type": "code",
   "execution_count": 61,
   "id": "afb5ab86-8889-40f1-b5eb-88c34118bec1",
   "metadata": {},
   "outputs": [
    {
     "data": {
      "text/plain": [
       "<gfwapiclient.resources.insights.models.response.VesselInsightResult at 0x107e75880>"
      ]
     },
     "execution_count": 61,
     "metadata": {},
     "output_type": "execute_result"
    }
   ],
   "source": [
    "coverage_insights"
   ]
  },
  {
   "cell_type": "code",
   "execution_count": 62,
   "id": "3b509d22-48b9-4364-9ae2-64b6dcdd18a1",
   "metadata": {},
   "outputs": [
    {
     "data": {
      "text/plain": [
       "{'period': {'start_date': datetime.date(2020, 1, 1),\n",
       "  'end_date': datetime.date(2025, 3, 3)},\n",
       " 'vessel_ids_without_identity': None,\n",
       " 'gap': None,\n",
       " 'coverage': {'blocks': 4599,\n",
       "  'blocks_with_positions': 4044,\n",
       "  'percentage': 87.93215916503587},\n",
       " 'apparent_fishing': None,\n",
       " 'vessel_identity': None}"
      ]
     },
     "execution_count": 62,
     "metadata": {},
     "output_type": "execute_result"
    }
   ],
   "source": [
    "coverage_insights.data.model_dump()"
   ]
  },
  {
   "cell_type": "markdown",
   "id": "66c29155-9a00-4d5a-ab81-2115656f5e42",
   "metadata": {},
   "source": [
    "#### Get all insights of vessels"
   ]
  },
  {
   "cell_type": "code",
   "execution_count": 63,
   "id": "9cf3921a-5b38-4d4f-97aa-e45bcfe7b280",
   "metadata": {},
   "outputs": [],
   "source": [
    "includes = [\n",
    "    VesselInsightInclude.GAP,\n",
    "    VesselInsightInclude.COVERAGE,\n",
    "    VesselInsightInclude.FISHING,\n",
    "    VesselInsightInclude.VESSEL_IDENTITY_IUU_VESSEL_LIST,\n",
    "]"
   ]
  },
  {
   "cell_type": "code",
   "execution_count": 64,
   "id": "7d863b6f-eece-4f99-8396-53f6d9d0bd45",
   "metadata": {},
   "outputs": [],
   "source": [
    "all_insights = await client.insights.aget_vessel_insights(\n",
    "    includes=includes,\n",
    "    start_date=start_date,\n",
    "    end_date=end_date,\n",
    "    vessels=vessels,\n",
    ")"
   ]
  },
  {
   "cell_type": "code",
   "execution_count": 65,
   "id": "7dab9ac7-12d3-4b2f-8c98-85e7962fc45d",
   "metadata": {},
   "outputs": [
    {
     "data": {
      "text/plain": [
       "<gfwapiclient.resources.insights.models.response.VesselInsightResult at 0x1288eaf30>"
      ]
     },
     "execution_count": 65,
     "metadata": {},
     "output_type": "execute_result"
    }
   ],
   "source": [
    "all_insights"
   ]
  },
  {
   "cell_type": "code",
   "execution_count": 66,
   "id": "bdec40d9-0d5b-4757-b466-f9323cfbea51",
   "metadata": {},
   "outputs": [
    {
     "data": {
      "text/plain": [
       "{'period': {'start_date': datetime.date(2020, 1, 1),\n",
       "  'end_date': datetime.date(2025, 3, 3)},\n",
       " 'vessel_ids_without_identity': None,\n",
       " 'gap': {'datasets': ['public-global-gaps-events:v3.0'],\n",
       "  'historical_counters': None,\n",
       "  'period_selected_counters': {'events': 0,\n",
       "   'events_gap_off': 0,\n",
       "   'events_in_rfmo_without_known_authorization': None,\n",
       "   'events_in_no_take_mpas': None},\n",
       "  'ais_off': []},\n",
       " 'coverage': {'blocks': 4599,\n",
       "  'blocks_with_positions': 4044,\n",
       "  'percentage': 87.93215916503587},\n",
       " 'apparent_fishing': {'datasets': ['public-global-fishing-events:v3.0'],\n",
       "  'historical_counters': None,\n",
       "  'period_selected_counters': {'events': 0,\n",
       "   'events_gap_off': None,\n",
       "   'events_in_rfmo_without_known_authorization': 0,\n",
       "   'events_in_no_take_mpas': 0},\n",
       "  'events_in_rfmo_without_known_authorization': [],\n",
       "  'events_in_no_take_mpas': []},\n",
       " 'vessel_identity': {'datasets': ['public-global-vessel-identity:v3.0'],\n",
       "  'iuu_vessel_list': {'values_in_the_period': [],\n",
       "   'total_times_listed': 0,\n",
       "   'total_times_listed_in_the_period': 0}}}"
      ]
     },
     "execution_count": 66,
     "metadata": {},
     "output_type": "execute_result"
    }
   ],
   "source": [
    "all_insights.data.model_dump()"
   ]
  },
  {
   "cell_type": "markdown",
   "id": "8652c4c4-7081-4f8f-a93d-09432b9fd5ab",
   "metadata": {},
   "source": [
    "## Reference Data API"
   ]
  },
  {
   "cell_type": "markdown",
   "id": "bf8ee3c0-688d-424f-9983-0ce58b68986e",
   "metadata": {},
   "source": [
    "### Regions"
   ]
  },
  {
   "cell_type": "markdown",
   "id": "54fe04a0-94b5-418d-b0ce-e4e2c26cd972",
   "metadata": {},
   "source": [
    "The `Events API` and `4Wings API - Report` uses regions ids. In order to get the details of those regions, call the endpoints described below."
   ]
  },
  {
   "cell_type": "markdown",
   "id": "995fb251-6875-4bed-8f21-233e178958f1",
   "metadata": {},
   "source": [
    "#### Get list of Exclusive economic zones (EEZs)"
   ]
  },
  {
   "cell_type": "code",
   "execution_count": 67,
   "id": "6135c7cb-f7b3-4795-a3bf-8038a08547a5",
   "metadata": {},
   "outputs": [],
   "source": [
    "eez_regions = await client.references.aget_eez_regions()"
   ]
  },
  {
   "cell_type": "code",
   "execution_count": 68,
   "id": "eef98e6a-672a-4fba-b64b-2804961a7872",
   "metadata": {},
   "outputs": [
    {
     "data": {
      "text/plain": [
       "<gfwapiclient.resources.references.regions.models.EEZRegionResult at 0x10622c470>"
      ]
     },
     "execution_count": 68,
     "metadata": {},
     "output_type": "execute_result"
    }
   ],
   "source": [
    "eez_regions"
   ]
  },
  {
   "cell_type": "code",
   "execution_count": 69,
   "id": "3ed19b46-0aa7-4f04-9d4f-6349d68284ea",
   "metadata": {},
   "outputs": [
    {
     "data": {
      "text/plain": [
       "EEZRegionItem(id=26523, label='Turkmenistan', iso3='TKM', dataset='public-eez-areas')"
      ]
     },
     "execution_count": 69,
     "metadata": {},
     "output_type": "execute_result"
    }
   ],
   "source": [
    "eez_regions.data[-1]"
   ]
  },
  {
   "cell_type": "markdown",
   "id": "5b50762c-4927-4a20-baf4-84a346258c12",
   "metadata": {},
   "source": [
    "#### Get list of Marine protected areas (MPAs)"
   ]
  },
  {
   "cell_type": "code",
   "execution_count": 70,
   "id": "3ee2b745-cbcd-427d-8e62-b5333bd880d7",
   "metadata": {},
   "outputs": [],
   "source": [
    "mpa_regions = await client.references.aget_mpa_regions()"
   ]
  },
  {
   "cell_type": "code",
   "execution_count": 71,
   "id": "e85eeab9-a40b-4748-9ac5-23c7b2a787a5",
   "metadata": {},
   "outputs": [
    {
     "data": {
      "text/plain": [
       "<gfwapiclient.resources.references.regions.models.MPARegionResult at 0x107b3ba40>"
      ]
     },
     "execution_count": 71,
     "metadata": {},
     "output_type": "execute_result"
    }
   ],
   "source": [
    "mpa_regions"
   ]
  },
  {
   "cell_type": "code",
   "execution_count": 72,
   "id": "14445a9f-227f-4e70-b727-280e3f1aa019",
   "metadata": {},
   "outputs": [
    {
     "data": {
      "text/plain": [
       "MPARegionItem(id='555790281', label='Iles Barren - Aire protegee', name='Iles Barren', dataset='public-mpa-all')"
      ]
     },
     "execution_count": 72,
     "metadata": {},
     "output_type": "execute_result"
    }
   ],
   "source": [
    "mpa_regions.data[-1]"
   ]
  },
  {
   "cell_type": "markdown",
   "id": "71bc0d11-deb2-4379-b199-5701677a1d8d",
   "metadata": {},
   "source": [
    "#### Get list of Regional fisheries management organization (RFMO)"
   ]
  },
  {
   "cell_type": "code",
   "execution_count": 73,
   "id": "5296213e-4e78-474f-b2aa-48cfabe9f5a2",
   "metadata": {},
   "outputs": [],
   "source": [
    "rfmo_regions = await client.references.aget_rfmo_regions()"
   ]
  },
  {
   "cell_type": "code",
   "execution_count": 74,
   "id": "65f398d5-d766-4e23-ae3e-36d1108ac57c",
   "metadata": {},
   "outputs": [
    {
     "data": {
      "text/plain": [
       "<gfwapiclient.resources.references.regions.models.RFMORegionResult at 0x107e78ef0>"
      ]
     },
     "execution_count": 74,
     "metadata": {},
     "output_type": "execute_result"
    }
   ],
   "source": [
    "rfmo_regions"
   ]
  },
  {
   "cell_type": "code",
   "execution_count": 75,
   "id": "b397baa6-072f-44b9-ae6f-30c071442b22",
   "metadata": {},
   "outputs": [
    {
     "data": {
      "text/plain": [
       "RFMORegionItem(id='WCPFC', label='WCPFC', rfb=None, dataset='public-rfmo')"
      ]
     },
     "execution_count": 75,
     "metadata": {},
     "output_type": "execute_result"
    }
   ],
   "source": [
    "rfmo_regions.data[-1]"
   ]
  }
 ],
 "metadata": {
  "kernelspec": {
   "display_name": "Python 3 (ipykernel)",
   "language": "python",
   "name": "python3"
  },
  "language_info": {
   "codemirror_mode": {
    "name": "ipython",
    "version": 3
   },
   "file_extension": ".py",
   "mimetype": "text/x-python",
   "name": "python",
   "nbconvert_exporter": "python",
   "pygments_lexer": "ipython3",
   "version": "3.12.8"
  }
 },
 "nbformat": 4,
 "nbformat_minor": 5
}
